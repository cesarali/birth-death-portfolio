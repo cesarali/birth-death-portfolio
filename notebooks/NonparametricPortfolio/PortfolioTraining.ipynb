{
 "cells": [
  {
   "cell_type": "code",
   "execution_count": 11,
   "id": "ab6555cf",
   "metadata": {},
   "outputs": [],
   "source": [
    "import os\n",
    "import torch\n",
    "import numpy as np\n",
    "\n",
    "from matplotlib import pyplot as plt\n",
    "\n",
    "from deep_fields.models.crypto.portfolio import NonparametricStochasticPortfolio\n",
    "from deep_fields.data.crypto.dataloaders import CryptoDataLoader,PortfolioDataLoader\n",
    "from deep_fields.models.crypto.portfolio_objectives import excess_return\n",
    "\n",
    "from deep_fields import data_path"
   ]
  },
  {
   "cell_type": "code",
   "execution_count": 12,
   "id": "f8ec1014",
   "metadata": {},
   "outputs": [],
   "source": [
    "#================================================\n",
    "# DATA\n",
    "#================================================\n",
    "steps_ahead = 14\n",
    "\n",
    "date_string = \"2021-06-14\"\n",
    "crypto_folder = os.path.join(data_path, \"raw\", \"crypto\")\n",
    "data_folder = os.path.join(crypto_folder, date_string)\n",
    "\n",
    "kwargs = {\"path_to_data\":data_folder,\n",
    "          \"batch_size\": 10,\n",
    "          \"steps_ahead\":steps_ahead,\n",
    "          \"date_string\": date_string,\n",
    "          \"clean\":\"interpol\",\n",
    "          \"span\":\"full\"}\n",
    "\n",
    "data_loader = CryptoDataLoader('cpu', **kwargs)\n",
    "data_batch = next(data_loader.train.__iter__())"
   ]
  },
  {
   "cell_type": "code",
   "execution_count": 13,
   "id": "39f3dcb9",
   "metadata": {},
   "outputs": [
    {
     "name": "stdout",
     "output_type": "stream",
     "text": [
      "New Model Set For Inference\n",
      "Loading Model No Inference\n"
     ]
    }
   ],
   "source": [
    "#==============================================\n",
    "# nonparametric portfolio model\n",
    "model_param = NonparametricStochasticPortfolio.get_parameters()\n",
    "portfolio = NonparametricStochasticPortfolio(**model_param,data_loader=data_loader)"
   ]
  },
  {
   "cell_type": "code",
   "execution_count": 14,
   "id": "9d0ac1be",
   "metadata": {},
   "outputs": [],
   "source": [
    "policy, unfolded_series = portfolio(data_batch)"
   ]
  },
  {
   "cell_type": "code",
   "execution_count": 16,
   "id": "6f1cceff",
   "metadata": {},
   "outputs": [
    {
     "data": {
      "text/plain": [
       "torch.Size([10, 2345])"
      ]
     },
     "execution_count": 16,
     "metadata": {},
     "output_type": "execute_result"
    }
   ],
   "source": [
    "policy.shape"
   ]
  },
  {
   "cell_type": "code",
   "execution_count": 17,
   "id": "98f449d5",
   "metadata": {},
   "outputs": [
    {
     "data": {
      "text/plain": [
       "torch.Size([10, 2345])"
      ]
     },
     "execution_count": 17,
     "metadata": {},
     "output_type": "execute_result"
    }
   ],
   "source": [
    "prices_below.shape"
   ]
  },
  {
   "cell_type": "code",
   "execution_count": 18,
   "id": "532b1342",
   "metadata": {},
   "outputs": [
    {
     "data": {
      "text/plain": [
       "torch.Size([10, 2345])"
      ]
     },
     "execution_count": 18,
     "metadata": {},
     "output_type": "execute_result"
    }
   ],
   "source": [
    "prices_ahead.shape"
   ]
  }
 ],
 "metadata": {
  "kernelspec": {
   "display_name": "Python 3 (ipykernel)",
   "language": "python",
   "name": "python3"
  },
  "language_info": {
   "codemirror_mode": {
    "name": "ipython",
    "version": 3
   },
   "file_extension": ".py",
   "mimetype": "text/x-python",
   "name": "python",
   "nbconvert_exporter": "python",
   "pygments_lexer": "ipython3",
   "version": "3.8.12"
  }
 },
 "nbformat": 4,
 "nbformat_minor": 5
}

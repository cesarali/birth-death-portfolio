{
 "cells": [
  {
   "cell_type": "code",
   "execution_count": 11,
   "id": "ee79f8c7",
   "metadata": {},
   "outputs": [],
   "source": [
    "import os\n",
    "import torch\n",
    "import pandas as pd\n",
    "from matplotlib import pyplot as plt\n",
    "\n",
    "from deep_fields import data_path\n",
    "from deep_fields.data.crypto.dataloaders import CryptoDataLoader\n",
    "from deep_fields.models.crypto.portfolio import NonparametricStochasticPortfolio\n",
    "\n",
    "\n",
    "from torch.distributions import Normal, MultivariateNormal\n",
    "from gpytorch.kernels import RBFKernel, ScaleKernel\n",
    "from gpytorch import kernels \n",
    "from deep_fields.models.gaussian_processes.gaussian_processes import multivariate_normal, white_noise_kernel\n",
    "\n",
    "%matplotlib inline"
   ]
  },
  {
   "cell_type": "code",
   "execution_count": 2,
   "id": "5c6f2fdc",
   "metadata": {},
   "outputs": [
    {
     "name": "stdout",
     "output_type": "stream",
     "text": [
      "New Model Set For Inference\n",
      "Loading Model No Inference\n",
      "Current Coin 1 ethereum\n",
      "Current Coin 2 tether\n",
      "Current Coin 3 binancecoin\n",
      "Current Coin 4 cardano\n",
      "Current Coin 5 dogecoin\n",
      "Current Coin 6 ripple\n",
      "Current Coin 7 polkadot\n",
      "Current Coin 8 usd-coin\n",
      "Current Coin 9 uniswap\n"
     ]
    }
   ],
   "source": [
    "# data loader\n",
    "crypto_folder = os.path.join(data_path, \"raw\", \"crypto\")\n",
    "data_folder = os.path.join(crypto_folder, \"2021-06-02\")\n",
    "kwargs = {\"path_to_data\": data_folder,\n",
    "          \"batch_size\": 29,\n",
    "          \"span\": \"month\"}\n",
    "data_loader = CryptoDataLoader('cpu', **kwargs)\n",
    "\n",
    "# portfolio model\n",
    "model_param = NonparametricStochasticPortfolio.get_parameters()\n",
    "portfolio = NonparametricStochasticPortfolio(**model_param)\n",
    "portfolio.initialize_inference(data_loader)"
   ]
  },
  {
   "cell_type": "code",
   "execution_count": 3,
   "id": "c3e348cc",
   "metadata": {},
   "outputs": [],
   "source": [
    "ignore_steps = 10\n",
    "prices = data_loader.price_df.values\n",
    "prices = torch.Tensor(prices)\n",
    "prices = prices.permute(1,0)\n",
    "prices = prices[:,ignore_steps:]\n",
    "prices_diferences = prices[:,1:] - prices[:,:-1]\n",
    "prices_returns = (prices[:,1:] - prices[:,:-1])/(prices[:,:-1]+1e-9)"
   ]
  },
  {
   "cell_type": "code",
   "execution_count": 4,
   "id": "89ae65bc",
   "metadata": {},
   "outputs": [
    {
     "data": {
      "text/plain": [
       "tensor([[ 0.0032,  0.0124, -0.0017,  ..., -0.0060,  0.0072, -0.0015],\n",
       "        [-0.0037,  0.0109, -0.0018,  ..., -0.0037,  0.0166, -0.0038],\n",
       "        [ 0.0043,  0.0046, -0.0020,  ...,  0.0007,  0.0013, -0.0029],\n",
       "        ...,\n",
       "        [-0.0368,  0.0254,  0.0066,  ..., -0.0050,  0.0120,  0.0329],\n",
       "        [ 0.0110,  0.0010, -0.0002,  ..., -0.0012,  0.0043, -0.0027],\n",
       "        [-0.0169,  0.0391,  0.0201,  ..., -0.0094,  0.0122, -0.0180]])"
      ]
     },
     "execution_count": 4,
     "metadata": {},
     "output_type": "execute_result"
    }
   ],
   "source": [
    "prices_returns"
   ]
  },
  {
   "cell_type": "code",
   "execution_count": 20,
   "id": "a9d24ef0",
   "metadata": {},
   "outputs": [],
   "source": [
    "covariates_dimension = 1\n",
    "number_of_points = 10\n",
    "gp_mean_distribution = Normal(torch.zeros((number_of_points,covariates_dimension)),\n",
    "                              torch.ones((number_of_points,covariates_dimension)))"
   ]
  },
  {
   "cell_type": "code",
   "execution_count": 13,
   "id": "0e52aadb",
   "metadata": {},
   "outputs": [],
   "source": [
    "kernel_parameters = {\"kernel_sigma\":0.1,\"kernel_lenght_scales\":[1.]*covariates_dimension}\n",
    "\n",
    "kernel = ScaleKernel(RBFKernel(ard_num_dims=covariates_dimension, requires_grad=True),\n",
    "                     requires_grad=True) + white_noise_kernel()\n",
    "\n",
    "kernel_hypers = {\"raw_outputscale\": torch.tensor(kernel_parameters.get(\"kernel_sigma\")),\n",
    "                 \"base_kernel.raw_lengthscale\": torch.tensor(kernel_parameters.get(\"kernel_lenght_scales\"))}\n",
    "\n",
    "kernel.kernels[0].initialize(**kernel_hypers)\n",
    "kernel_eval = lambda locations: kernel(locations, locations).evaluate().float()"
   ]
  },
  {
   "cell_type": "code",
   "execution_count": 16,
   "id": "37da5f28",
   "metadata": {},
   "outputs": [],
   "source": [
    "points = gp_mean_distribution.sample()"
   ]
  },
  {
   "cell_type": "code",
   "execution_count": 17,
   "id": "826b81ce",
   "metadata": {},
   "outputs": [
    {
     "data": {
      "text/plain": [
       "tensor([ 1.0547,  0.8492,  1.7503,  0.4494,  0.4876, -0.7815, -2.7371, -0.2598,\n",
       "        -0.2135, -0.3919])"
      ]
     },
     "execution_count": 17,
     "metadata": {},
     "output_type": "execute_result"
    }
   ],
   "source": [
    "points"
   ]
  },
  {
   "cell_type": "code",
   "execution_count": 19,
   "id": "a7e3298a",
   "metadata": {},
   "outputs": [
    {
     "data": {
      "text/plain": [
       "torch.Size([10, 10])"
      ]
     },
     "execution_count": 19,
     "metadata": {},
     "output_type": "execute_result"
    }
   ],
   "source": [
    "kernel_eval(points).shape"
   ]
  },
  {
   "cell_type": "code",
   "execution_count": 31,
   "id": "8c0961b2",
   "metadata": {},
   "outputs": [],
   "source": [
    "boundaries = torch.tensor([1, 3, 5, 7, 9])\n",
    "\n",
    "v = torch.tensor([3.2, 6.1, 9.5])\n"
   ]
  },
  {
   "cell_type": "code",
   "execution_count": 32,
   "id": "1c5424c2",
   "metadata": {},
   "outputs": [
    {
     "data": {
      "text/plain": [
       "tensor([2, 3, 5])"
      ]
     },
     "execution_count": 32,
     "metadata": {},
     "output_type": "execute_result"
    }
   ],
   "source": [
    "torch.bucketize(v, boundaries)"
   ]
  },
  {
   "cell_type": "code",
   "execution_count": 33,
   "id": "2ace6a1c",
   "metadata": {},
   "outputs": [
    {
     "data": {
      "text/plain": [
       "tensor([4.6751e+04, 1.4811e+03, 9.9831e-01, 2.2094e+02, 1.0536e+00, 4.8587e-02,\n",
       "        4.6086e-01, 3.3912e+01, 9.9389e-01, 2.6839e+01])"
      ]
     },
     "execution_count": 33,
     "metadata": {},
     "output_type": "execute_result"
    }
   ],
   "source": [
    "prices[:,0]"
   ]
  }
 ],
 "metadata": {
  "kernelspec": {
   "display_name": "Python 3",
   "language": "python",
   "name": "python3"
  },
  "language_info": {
   "codemirror_mode": {
    "name": "ipython",
    "version": 3
   },
   "file_extension": ".py",
   "mimetype": "text/x-python",
   "name": "python",
   "nbconvert_exporter": "python",
   "pygments_lexer": "ipython3",
   "version": "3.8.10"
  }
 },
 "nbformat": 4,
 "nbformat_minor": 5
}

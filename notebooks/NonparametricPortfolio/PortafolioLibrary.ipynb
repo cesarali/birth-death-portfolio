{
 "cells": [
  {
   "cell_type": "code",
   "execution_count": 34,
   "metadata": {},
   "outputs": [],
   "source": [
    "import os\n",
    "import json\n",
    "import pandas as pd\n",
    "import numpy as np\n",
    "\n",
    "import torch\n",
    "from pycoingecko import CoinGeckoAPI\n",
    "from deep_fields import models_path, data_path\n",
    "\n",
    "from pypfopt.efficient_frontier import EfficientFrontier\n",
    "from pypfopt import risk_models\n",
    "from pypfopt import expected_returns\n",
    "\n",
    "import os\n",
    "import torch\n",
    "import pymongo\n",
    "import numpy as np\n",
    "import pandas as pd\n",
    "from matplotlib import pyplot as plt\n",
    "\n",
    "from deep_fields import data_path\n",
    "from deep_fields.data.crypto.create_dataset_files import create_merged_dataframe\n",
    "\n",
    "client = pymongo.MongoClient()\n",
    "db = client[\"crypto\"]"
   ]
  },
  {
   "cell_type": "code",
   "execution_count": 37,
   "metadata": {},
   "outputs": [
    {
     "name": "stdout",
     "output_type": "stream",
     "text": [
      "Current Coin 1 ethereum\n",
      "Current Coin 2 tether\n",
      "Current Coin 3 binancecoin\n",
      "Current Coin 4 cardano\n",
      "Current Coin 5 dogecoin\n",
      "Current Coin 6 ripple\n",
      "Current Coin 7 polkadot\n",
      "Current Coin 8 usd-coin\n",
      "Current Coin 9 uniswap\n"
     ]
    }
   ],
   "source": [
    "collection = db['birth_2021-06-02']\n",
    "crypto_folder = os.path.join(data_path, \"raw\", \"crypto\")\n",
    "data_folder = os.path.join(crypto_folder, \"2021-06-02\")\n",
    "collection.create_index([('survival_time',-1)])\n",
    "\n",
    "top_coins_name = []\n",
    "for a in collection.find().sort([(\"last_marketcap\",-1)]).limit(10):\n",
    "    top_coins_name.append(a[\"id\"])\n",
    "\n",
    "data_merged,coins_data = create_merged_dataframe(data_folder,\n",
    "                                             collection,\n",
    "                                             break_point=20,\n",
    "                                             all_coins_ids=top_coins_name,\n",
    "                                             span=\"month\")\n",
    "data_merged = data_merged.fillna(0.)\n",
    "columns_ids = [coin_data[\"id\"] for coin_data in coins_data]\n",
    "price_df = data_merged[:-1][\"price\"]\n",
    "price_df.columns = columns_ids"
   ]
  },
  {
   "cell_type": "code",
   "execution_count": 38,
   "metadata": {},
   "outputs": [],
   "source": [
    "mu = expected_returns.mean_historical_return(price_df)\n",
    "S = risk_models.sample_cov(price_df)"
   ]
  },
  {
   "cell_type": "code",
   "execution_count": 39,
   "metadata": {},
   "outputs": [
    {
     "data": {
      "text/plain": [
       "bitcoin       NaN\n",
       "ethereum      NaN\n",
       "tether        NaN\n",
       "binancecoin   NaN\n",
       "cardano       NaN\n",
       "dogecoin      NaN\n",
       "ripple        NaN\n",
       "polkadot      NaN\n",
       "usd-coin      NaN\n",
       "uniswap       NaN\n",
       "dtype: float64"
      ]
     },
     "execution_count": 39,
     "metadata": {},
     "output_type": "execute_result"
    }
   ],
   "source": [
    "mu"
   ]
  },
  {
   "cell_type": "code",
   "execution_count": null,
   "metadata": {},
   "outputs": [],
   "source": []
  },
  {
   "cell_type": "code",
   "execution_count": null,
   "metadata": {},
   "outputs": [],
   "source": []
  }
 ],
 "metadata": {
  "kernelspec": {
   "display_name": "Python 3 (ipykernel)",
   "language": "python",
   "name": "python3"
  },
  "language_info": {
   "codemirror_mode": {
    "name": "ipython",
    "version": 3
   },
   "file_extension": ".py",
   "mimetype": "text/x-python",
   "name": "python",
   "nbconvert_exporter": "python",
   "pygments_lexer": "ipython3",
   "version": "3.8.12"
  }
 },
 "nbformat": 4,
 "nbformat_minor": 4
}

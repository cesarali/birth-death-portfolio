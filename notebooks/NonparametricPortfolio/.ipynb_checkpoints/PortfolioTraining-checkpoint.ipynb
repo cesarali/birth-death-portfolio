{
 "cells": [
  {
   "cell_type": "code",
   "execution_count": 4,
   "id": "ba83daee",
   "metadata": {},
   "outputs": [],
   "source": [
    "import os\n",
    "import torch\n",
    "import numpy as np\n",
    "\n",
    "from matplotlib import pyplot as plt\n",
    "\n",
    "from deep_fields.models.crypto.portfolio import NonparametricStochasticPortfolio\n",
    "from deep_fields.data.crypto.dataloaders import CryptoDataLoader,PortfolioDataLoader\n",
    "\n",
    "\n",
    "from deep_fields import data_path"
   ]
  },
  {
   "cell_type": "code",
   "execution_count": 5,
   "id": "67c0cc22",
   "metadata": {},
   "outputs": [],
   "source": [
    "#================================================\n",
    "# DATA\n",
    "#================================================\n",
    "steps_ahead = 14\n",
    "\n",
    "date_string = \"2021-06-14\"\n",
    "crypto_folder = os.path.join(data_path, \"raw\", \"crypto\")\n",
    "data_folder = os.path.join(crypto_folder, date_string)\n",
    "\n",
    "kwargs = {\"path_to_data\":data_folder,\n",
    "          \"batch_size\": 10,\n",
    "          \"steps_ahead\":steps_ahead,\n",
    "          \"date_string\": date_string,\n",
    "          \"clean\":\"interpol\",\n",
    "          \"span\":\"full\"}\n",
    "\n",
    "data_loader = CryptoDataLoader('cpu', **kwargs)\n",
    "data_batch = next(data_loader.train.__iter__())"
   ]
  },
  {
   "cell_type": "code",
   "execution_count": 6,
   "id": "72bf0fdd",
   "metadata": {},
   "outputs": [
    {
     "name": "stdout",
     "output_type": "stream",
     "text": [
      "New Model Set For Inference\n",
      "Loading Model No Inference\n"
     ]
    }
   ],
   "source": [
    "#==============================================\n",
    "# nonparametric portfolio model\n",
    "model_param = NonparametricStochasticPortfolio.get_parameters()\n",
    "portfolio = NonparametricStochasticPortfolio(**model_param,data_loader=data_loader)"
   ]
  },
  {
   "cell_type": "code",
   "execution_count": 10,
   "id": "3982b9e8",
   "metadata": {},
   "outputs": [],
   "source": [
    "series = data_batch.pmv\n",
    "batch_size = series.shape[0]\n",
    "sequence_lenght = series.shape[1]\n",
    "dimension = series.shape[2]\n",
    "\n",
    "sequence_lenght_ = sequence_lenght - steps_ahead + 1\n",
    "pmv = data_batch.pmv[:, :-(steps_ahead - 1), :]\n",
    "pmv = pmv.permute(0, 2, 1)"
   ]
  },
  {
   "cell_type": "code",
   "execution_count": 14,
   "id": "96d12d31",
   "metadata": {},
   "outputs": [],
   "source": [
    "portfolio_series = pmv.reshape(batch_size*dimension,-1).unsqueeze(0)"
   ]
  },
  {
   "cell_type": "code",
   "execution_count": 17,
   "id": "14e36a61",
   "metadata": {},
   "outputs": [],
   "source": [
    "hidden_state = portfolio.TCN(portfolio_series).permute(0,2,1)"
   ]
  },
  {
   "cell_type": "code",
   "execution_count": null,
   "id": "2c0027d9",
   "metadata": {},
   "outputs": [],
   "source": []
  }
 ],
 "metadata": {
  "kernelspec": {
   "display_name": "Python 3",
   "language": "python",
   "name": "python3"
  },
  "language_info": {
   "codemirror_mode": {
    "name": "ipython",
    "version": 3
   },
   "file_extension": ".py",
   "mimetype": "text/x-python",
   "name": "python",
   "nbconvert_exporter": "python",
   "pygments_lexer": "ipython3",
   "version": "3.8.10"
  }
 },
 "nbformat": 4,
 "nbformat_minor": 5
}

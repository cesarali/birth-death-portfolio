{
 "cells": [
  {
   "cell_type": "code",
   "execution_count": 1,
   "id": "ad57d32c",
   "metadata": {},
   "outputs": [],
   "source": [
    "import os\n",
    "import fire\n",
    "import matplotlib.pyplot as plt\n",
    "import torch\n",
    "import torch.optim.swa_utils as swa_utils\n",
    "try:\n",
    "    import torchcde\n",
    "except ImportError as e:\n",
    "    raise ImportError(\"`torchcde` is not installed: go to https://github.com/patrick-kidger/torchcde.\") from e\n",
    "import torchsde\n",
    "import tqdm\n",
    "import numpy as np\n",
    "\n",
    "from deep_fields import data_path\n",
    "from deep_fields.data.simulations.sdes import get_data\n",
    "from deep_fields.models.crypto.predictors import CryptoSeq2Seq, CryptoSeq2NeuralSDE\n",
    "from deep_fields.data.crypto.dataloaders import CryptoDataLoader\n",
    "from deep_fields.models.sdes.neural_sde import Generator, Discriminator\n",
    "from deep_fields.models.utils.utils_ts import unfold_steps_ahead\n",
    "device = torch.device(\"cpu\")"
   ]
  },
  {
   "cell_type": "markdown",
   "id": "594a1da8",
   "metadata": {},
   "source": [
    "# Encoder Part"
   ]
  },
  {
   "cell_type": "code",
   "execution_count": 2,
   "id": "cbac3834",
   "metadata": {},
   "outputs": [
    {
     "name": "stdout",
     "output_type": "stream",
     "text": [
      "Current Coin 1 ethereum\n",
      "Current Coin 2 tether\n",
      "Current Coin 3 binancecoin\n",
      "Current Coin 4 cardano\n",
      "Current Coin 5 dogecoin\n",
      "Current Coin 6 ripple\n",
      "Current Coin 7 usd-coin\n",
      "Current Coin 8 polkadot\n",
      "Current Coin 9 uniswap\n"
     ]
    }
   ],
   "source": [
    "crypto_folder = os.path.join(data_path, \"raw\", \"crypto\")\n",
    "data_folder = os.path.join(crypto_folder, \"2021-06-14\")\n",
    "kwargs = {\"path_to_data\":data_folder,\n",
    "          \"batch_size\": 29}\n",
    "data_loader = CryptoDataLoader('cpu', **kwargs)\n",
    "data_batch = next(data_loader.train.__iter__())\n",
    "data_loader.set_portfolio_assets(date=\"2021-06-14\",span=\"full\",predictor=None,top=10)"
   ]
  },
  {
   "cell_type": "code",
   "execution_count": 16,
   "id": "5f797014",
   "metadata": {
    "collapsed": true
   },
   "outputs": [
    {
     "data": {
      "text/plain": [
       "tensor([[[3.1399e+02, 4.2940e+09, 4.6999e+07],\n",
       "         [3.1445e+02, 4.3014e+09, 3.8856e+07],\n",
       "         [2.8657e+02, 3.9214e+09, 1.1878e+08],\n",
       "         ...,\n",
       "         [3.7289e+04, 6.9853e+11, 3.6358e+10],\n",
       "         [3.5666e+04, 6.6815e+11, 3.5710e+10],\n",
       "         [3.9148e+04, 7.3340e+11, 3.8186e+10]],\n",
       "\n",
       "        [[       nan,        nan,        nan],\n",
       "         [       nan,        nan,        nan],\n",
       "         [       nan,        nan,        nan],\n",
       "         ...,\n",
       "         [2.3566e+03, 2.7275e+11, 2.6752e+10],\n",
       "         [2.3800e+03, 2.7822e+11, 2.8236e+10],\n",
       "         [2.5178e+03, 2.9277e+11, 2.9382e+10]],\n",
       "\n",
       "        [[       nan,        nan,        nan],\n",
       "         [       nan,        nan,        nan],\n",
       "         [       nan,        nan,        nan],\n",
       "         ...,\n",
       "         [1.0007e+00, 6.2813e+10, 6.6515e+10],\n",
       "         [1.0043e+00, 6.3042e+10, 6.9549e+10],\n",
       "         [9.9943e-01, 6.2738e+10, 6.6540e+10]],\n",
       "\n",
       "        ...,\n",
       "\n",
       "        [[       nan,        nan,        nan],\n",
       "         [       nan,        nan,        nan],\n",
       "         [       nan,        nan,        nan],\n",
       "         ...,\n",
       "         [1.0004e+00, 2.3486e+10, 2.5966e+09],\n",
       "         [1.0000e+00, 2.3644e+10, 2.4675e+09],\n",
       "         [1.0068e+00, 2.3763e+10, 2.6220e+09]],\n",
       "\n",
       "        [[       nan,        nan,        nan],\n",
       "         [       nan,        nan,        nan],\n",
       "         [       nan,        nan,        nan],\n",
       "         ...,\n",
       "         [2.1057e+01, 2.1109e+10, 9.8177e+08],\n",
       "         [2.0847e+01, 2.1002e+10, 9.6214e+08],\n",
       "         [2.2089e+01, 2.2043e+10, 8.0253e+08]],\n",
       "\n",
       "        [[       nan,        nan,        nan],\n",
       "         [       nan,        nan,        nan],\n",
       "         [       nan,        nan,        nan],\n",
       "         ...,\n",
       "         [2.1838e+01, 1.1344e+10, 3.4510e+08],\n",
       "         [2.1379e+01, 1.1166e+10, 3.4671e+08],\n",
       "         [2.3388e+01, 1.2050e+10, 3.7655e+08]]])"
      ]
     },
     "execution_count": 16,
     "metadata": {},
     "output_type": "execute_result"
    }
   ],
   "source": [
    "data_loader.portfolio_pmv"
   ]
  },
  {
   "cell_type": "markdown",
   "id": "48f8e46b",
   "metadata": {},
   "source": [
    "# Neural SDE Decoder"
   ]
  },
  {
   "cell_type": "code",
   "execution_count": 3,
   "id": "6ac6e4b6",
   "metadata": {},
   "outputs": [
    {
     "name": "stdout",
     "output_type": "stream",
     "text": [
      "New Model Set For Inference\n",
      "(<class 'AttributeError'>, AttributeError(\"'NoneType' object has no attribute 'train'\"), <traceback object at 0x0000028BE84D8300>)\n",
      "Optimizer Not Created In Abstract Initialize Inference\n"
     ]
    }
   ],
   "source": [
    "model_param = CryptoSeq2NeuralSDE.get_parameters()\n",
    "inference_param = CryptoSeq2NeuralSDE.get_inference_parameters()\n",
    "\n",
    "cs2n = CryptoSeq2NeuralSDE(**model_param)\n",
    "cs2n.initialize_inference(data_loader, parameters=None, **inference_param)"
   ]
  },
  {
   "cell_type": "code",
   "execution_count": 11,
   "id": "987c43ff",
   "metadata": {},
   "outputs": [],
   "source": [
    "encoder_forward,generated_samples = cs2n.generate(data_batch,train=False)\n",
    "generated_samples_ = generated_samples.reshape(cs2n.batch_size,cs2n.sequence_lenght_,cs2n.steps_ahead,cs2n.dimension+1)"
   ]
  },
  {
   "cell_type": "code",
   "execution_count": 15,
   "id": "85cb8b0c",
   "metadata": {},
   "outputs": [
    {
     "data": {
      "text/plain": [
       "torch.Size([29, 2358, 3])"
      ]
     },
     "execution_count": 15,
     "metadata": {},
     "output_type": "execute_result"
    }
   ],
   "source": [
    "data_batch.pmv.shape"
   ]
  },
  {
   "cell_type": "code",
   "execution_count": 12,
   "id": "39ffacfe",
   "metadata": {},
   "outputs": [
    {
     "data": {
      "text/plain": [
       "torch.Size([29, 2355, 4, 4])"
      ]
     },
     "execution_count": 12,
     "metadata": {},
     "output_type": "execute_result"
    }
   ],
   "source": [
    "generated_samples_.shape"
   ]
  },
  {
   "cell_type": "code",
   "execution_count": 6,
   "id": "d639e9a2",
   "metadata": {},
   "outputs": [],
   "source": [
    "data_loader\n",
    "start=0\n",
    "end=None\n",
    "steps_ahead=1\n",
    "monte_carlo_values=None\n",
    "train=True"
   ]
  },
  {
   "cell_type": "code",
   "execution_count": 5,
   "id": "06aa9948",
   "metadata": {},
   "outputs": [
    {
     "data": {
      "text/plain": [
       "torch.Size([68295, 4, 4])"
      ]
     },
     "execution_count": 5,
     "metadata": {},
     "output_type": "execute_result"
    }
   ],
   "source": [
    "generated_samples.shape"
   ]
  },
  {
   "cell_type": "code",
   "execution_count": 8,
   "id": "ddad689d",
   "metadata": {},
   "outputs": [
    {
     "ename": "NameError",
     "evalue": "name 'portfolio_pmv' is not defined",
     "output_type": "error",
     "traceback": [
      "\u001b[1;31m---------------------------------------------------------------------------\u001b[0m",
      "\u001b[1;31mNameError\u001b[0m                                 Traceback (most recent call last)",
      "\u001b[1;32m<ipython-input-8-a92cc4d1219f>\u001b[0m in \u001b[0;36m<module>\u001b[1;34m\u001b[0m\n\u001b[1;32m----> 1\u001b[1;33m \u001b[0mportfolio_pmv\u001b[0m\u001b[1;33m[\u001b[0m\u001b[0mportfolio_pmv\u001b[0m \u001b[1;33m!=\u001b[0m \u001b[0mportfolio_pmv\u001b[0m\u001b[1;33m]\u001b[0m \u001b[1;33m=\u001b[0m \u001b[1;36m0.\u001b[0m\u001b[1;33m\u001b[0m\u001b[1;33m\u001b[0m\u001b[0m\n\u001b[0m",
      "\u001b[1;31mNameError\u001b[0m: name 'portfolio_pmv' is not defined"
     ]
    }
   ],
   "source": [
    "if not train:\n",
    "    if end is None:\n",
    "        # in reference policies the returns are taken as reference\n",
    "        portfolio_pmv = data_loader.portfolio_pmv[:,start:-1,:].clone()\n",
    "    else:\n",
    "        # in reference policies the returns are taken as reference\n",
    "        portfolio_pmv = data_loader.portfolio_pmv[:,start:end,:].clone()\n",
    "\n",
    "    portfolio_mask = portfolio_pmv != portfolio_pmv\n",
    "else:\n",
    "    portfolio_pmv = self.portfolio_pmv\n",
    "    portfolio_mask = self.portfolio_mask\n",
    "\n",
    "portfolio_pmv[portfolio_pmv != portfolio_pmv] = 0."
   ]
  },
  {
   "cell_type": "code",
   "execution_count": null,
   "id": "5f85a8b3",
   "metadata": {},
   "outputs": [],
   "source": [
    "\n",
    "\n",
    "\n",
    "\n",
    "max_ = torch.max(portfolio_pmv, dim=1)\n",
    "max_ = max_.values[:, None, :]\n",
    "portfolio_pmv = portfolio_pmv / (max_) #include nans when the price is 0\n",
    "grid_index = torch.bucketize(portfolio_pmv, self.grid_boundaries)\n",
    "grid_dim_index = self.dimension ** np.arange(0, self.dimension, 1)\n",
    "grid_index = grid_index * grid_dim_index[None, None, :]\n",
    "grid_index = grid_index.sum(axis=-1)\n",
    "policy = torch.tensor(log_f[grid_index])\n",
    "policy = torch.softmax(policy, axis=0)\n",
    "policy[portfolio_mask[:,:,0]] = np.nan\n",
    "\n",
    "if steps_ahead > 1:\n",
    "    policy = policy[:, :-(steps_ahead - 1)]\n"
   ]
  },
  {
   "cell_type": "code",
   "execution_count": null,
   "id": "9082e48e",
   "metadata": {},
   "outputs": [],
   "source": [
    "da"
   ]
  }
 ],
 "metadata": {
  "kernelspec": {
   "display_name": "Python 3",
   "language": "python",
   "name": "python3"
  },
  "language_info": {
   "codemirror_mode": {
    "name": "ipython",
    "version": 3
   },
   "file_extension": ".py",
   "mimetype": "text/x-python",
   "name": "python",
   "nbconvert_exporter": "python",
   "pygments_lexer": "ipython3",
   "version": "3.8.10"
  }
 },
 "nbformat": 4,
 "nbformat_minor": 5
}

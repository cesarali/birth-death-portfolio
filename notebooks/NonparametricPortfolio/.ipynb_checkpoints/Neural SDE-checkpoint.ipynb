{
 "cells": [
  {
   "cell_type": "code",
   "execution_count": 1,
   "id": "ad57d32c",
   "metadata": {},
   "outputs": [],
   "source": [
    "import os\n",
    "import fire\n",
    "import matplotlib.pyplot as plt\n",
    "import torch\n",
    "import torch.optim.swa_utils as swa_utils\n",
    "try:\n",
    "    import torchcde\n",
    "except ImportError as e:\n",
    "    raise ImportError(\"`torchcde` is not installed: go to https://github.com/patrick-kidger/torchcde.\") from e\n",
    "import torchsde\n",
    "import tqdm\n",
    "import numpy as np\n",
    "\n",
    "from deep_fields import data_path\n",
    "from deep_fields.data.simulations.sdes import get_data\n",
    "from deep_fields.models.crypto.predictors import CryptoSeq2Seq, CryptoSeq2NeuralSDE\n",
    "from deep_fields.data.crypto.dataloaders import CryptoDataLoader\n",
    "from deep_fields.models.sdes.neural_sde import Generator, Discriminator\n",
    "from deep_fields.models.utils.utils_ts import unfold_steps_ahead\n",
    "device = torch.device(\"cpu\")"
   ]
  },
  {
   "cell_type": "markdown",
   "id": "594a1da8",
   "metadata": {},
   "source": [
    "# Encoder Part"
   ]
  },
  {
   "cell_type": "code",
   "execution_count": 2,
   "id": "cbac3834",
   "metadata": {},
   "outputs": [],
   "source": [
    "crypto_folder = os.path.join(data_path, \"raw\", \"crypto\")\n",
    "data_folder = os.path.join(crypto_folder, \"2021-06-14\")\n",
    "kwargs = {\"path_to_data\":data_folder,\n",
    "          \"batch_size\": 29}\n",
    "data_loader = CryptoDataLoader('cpu', **kwargs)\n",
    "data_batch = next(data_loader.train.__iter__())"
   ]
  },
  {
   "cell_type": "markdown",
   "id": "48f8e46b",
   "metadata": {},
   "source": [
    "# Neural SDE Decoder"
   ]
  },
  {
   "cell_type": "code",
   "execution_count": 3,
   "id": "6ac6e4b6",
   "metadata": {},
   "outputs": [
    {
     "name": "stdout",
     "output_type": "stream",
     "text": [
      "New Model Set For Inference\n",
      "(<class 'AttributeError'>, AttributeError(\"'NoneType' object has no attribute 'train'\"), <traceback object at 0x000002EC8CEFE3C0>)\n",
      "Optimizer Not Created In Abstract Initialize Inference\n"
     ]
    }
   ],
   "source": [
    "model_param = CryptoSeq2NeuralSDE.get_parameters()\n",
    "inference_param = CryptoSeq2NeuralSDE.get_inference_parameters()\n",
    "\n",
    "cs2n = CryptoSeq2NeuralSDE(**model_param)\n",
    "cs2n.initialize_inference(data_loader, parameters=None, **inference_param)"
   ]
  },
  {
   "cell_type": "code",
   "execution_count": 4,
   "id": "987c43ff",
   "metadata": {},
   "outputs": [],
   "source": [
    "encoder_forward,generated_samples = cs2n.generate(data_batch)"
   ]
  },
  {
   "cell_type": "code",
   "execution_count": 5,
   "id": "06aa9948",
   "metadata": {},
   "outputs": [
    {
     "data": {
      "text/plain": [
       "torch.Size([68295, 4, 4])"
      ]
     },
     "execution_count": 5,
     "metadata": {},
     "output_type": "execute_result"
    }
   ],
   "source": [
    "generated_samples.shape"
   ]
  },
  {
   "cell_type": "code",
   "execution_count": null,
   "id": "5f85a8b3",
   "metadata": {},
   "outputs": [],
   "source": []
  },
  {
   "cell_type": "code",
   "execution_count": null,
   "id": "9082e48e",
   "metadata": {},
   "outputs": [],
   "source": []
  }
 ],
 "metadata": {
  "kernelspec": {
   "display_name": "Python 3 (ipykernel)",
   "language": "python",
   "name": "python3"
  },
  "language_info": {
   "codemirror_mode": {
    "name": "ipython",
    "version": 3
   },
   "file_extension": ".py",
   "mimetype": "text/x-python",
   "name": "python",
   "nbconvert_exporter": "python",
   "pygments_lexer": "ipython3",
   "version": "3.8.12"
  }
 },
 "nbformat": 4,
 "nbformat_minor": 5
}

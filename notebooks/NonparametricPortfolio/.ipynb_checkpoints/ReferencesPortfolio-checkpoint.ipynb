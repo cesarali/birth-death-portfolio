{
 "cells": [
  {
   "cell_type": "code",
   "execution_count": 2,
   "id": "03127a2c",
   "metadata": {},
   "outputs": [],
   "source": [
    "import os\n",
    "import torch\n",
    "from matplotlib import pyplot as plt\n",
    "\n",
    "from deep_fields import data_path, models_path\n",
    "from deep_fields.data.crypto.dataloaders import CryptoDataLoader\n",
    "from deep_fields.models.crypto.reference_portfolios import *\n",
    "\n",
    "\n",
    "crypto_plots_dir = os.path.join(models_path,\"crypto_plots\")\n",
    "if not os.path.isdir(crypto_plots_dir):\n",
    "    os.makedirs(crypto_plots_dir)\n",
    "    \n",
    "%matplotlib inline"
   ]
  },
  {
   "cell_type": "code",
   "execution_count": 3,
   "id": "b8a8ff78",
   "metadata": {},
   "outputs": [
    {
     "ename": "TypeError",
     "evalue": "join() argument must be str, bytes, or os.PathLike object, not 'NoneType'",
     "output_type": "error",
     "traceback": [
      "\u001b[1;31m---------------------------------------------------------------------------\u001b[0m",
      "\u001b[1;31mTypeError\u001b[0m                                 Traceback (most recent call last)",
      "\u001b[1;32m<ipython-input-3-1578c08b40b5>\u001b[0m in \u001b[0;36m<module>\u001b[1;34m\u001b[0m\n\u001b[0;32m      7\u001b[0m \u001b[1;33m\u001b[0m\u001b[0m\n\u001b[0;32m      8\u001b[0m \u001b[0mdata_loader\u001b[0m \u001b[1;33m=\u001b[0m \u001b[0mCryptoDataLoader\u001b[0m\u001b[1;33m(\u001b[0m\u001b[1;34m'cpu'\u001b[0m\u001b[1;33m,\u001b[0m \u001b[1;33m**\u001b[0m\u001b[0mkwargs\u001b[0m\u001b[1;33m)\u001b[0m\u001b[1;33m\u001b[0m\u001b[1;33m\u001b[0m\u001b[0m\n\u001b[1;32m----> 9\u001b[1;33m \u001b[0mdata_loader\u001b[0m\u001b[1;33m.\u001b[0m\u001b[0mset_portfolio_assets\u001b[0m\u001b[1;33m(\u001b[0m\u001b[1;32mNone\u001b[0m\u001b[1;33m,\u001b[0m \u001b[1;36m30\u001b[0m\u001b[1;33m)\u001b[0m\u001b[1;33m\u001b[0m\u001b[1;33m\u001b[0m\u001b[0m\n\u001b[0m",
      "\u001b[1;32mc:\\users\\cesar\\desktop\\projects\\general\\deep_random_fields\\src\\deep_fields\\data\\crypto\\dataloaders.py\u001b[0m in \u001b[0;36mset_portfolio_assets\u001b[1;34m(self, date, span, predictor, top, date0, datef, max_size)\u001b[0m\n\u001b[0;32m    141\u001b[0m                 \u001b[0mcollection\u001b[0m \u001b[1;33m=\u001b[0m \u001b[0mdb\u001b[0m\u001b[1;33m[\u001b[0m\u001b[1;34m'birth_{0}'\u001b[0m\u001b[1;33m.\u001b[0m\u001b[0mformat\u001b[0m\u001b[1;33m(\u001b[0m\u001b[0mdate\u001b[0m\u001b[1;33m)\u001b[0m\u001b[1;33m]\u001b[0m\u001b[1;33m\u001b[0m\u001b[1;33m\u001b[0m\u001b[0m\n\u001b[0;32m    142\u001b[0m                 \u001b[0mcrypto_folder\u001b[0m \u001b[1;33m=\u001b[0m \u001b[0mos\u001b[0m\u001b[1;33m.\u001b[0m\u001b[0mpath\u001b[0m\u001b[1;33m.\u001b[0m\u001b[0mjoin\u001b[0m\u001b[1;33m(\u001b[0m\u001b[0mdata_path\u001b[0m\u001b[1;33m,\u001b[0m \u001b[1;34m\"raw\"\u001b[0m\u001b[1;33m,\u001b[0m \u001b[1;34m\"crypto\"\u001b[0m\u001b[1;33m)\u001b[0m\u001b[1;33m\u001b[0m\u001b[1;33m\u001b[0m\u001b[0m\n\u001b[1;32m--> 143\u001b[1;33m                 \u001b[0mdata_folder\u001b[0m \u001b[1;33m=\u001b[0m \u001b[0mos\u001b[0m\u001b[1;33m.\u001b[0m\u001b[0mpath\u001b[0m\u001b[1;33m.\u001b[0m\u001b[0mjoin\u001b[0m\u001b[1;33m(\u001b[0m\u001b[0mcrypto_folder\u001b[0m\u001b[1;33m,\u001b[0m \u001b[0mdate\u001b[0m\u001b[1;33m)\u001b[0m\u001b[1;33m\u001b[0m\u001b[1;33m\u001b[0m\u001b[0m\n\u001b[0m\u001b[0;32m    144\u001b[0m \u001b[1;33m\u001b[0m\u001b[0m\n\u001b[0;32m    145\u001b[0m                 \u001b[1;32mif\u001b[0m \u001b[0mdate0\u001b[0m \u001b[1;32mis\u001b[0m \u001b[1;32mNone\u001b[0m\u001b[1;33m:\u001b[0m\u001b[1;33m\u001b[0m\u001b[1;33m\u001b[0m\u001b[0m\n",
      "\u001b[1;32mc:\\users\\cesar\\anaconda3\\envs\\deep_fields\\lib\\ntpath.py\u001b[0m in \u001b[0;36mjoin\u001b[1;34m(path, *paths)\u001b[0m\n\u001b[0;32m    115\u001b[0m         \u001b[1;32mreturn\u001b[0m \u001b[0mresult_drive\u001b[0m \u001b[1;33m+\u001b[0m \u001b[0mresult_path\u001b[0m\u001b[1;33m\u001b[0m\u001b[1;33m\u001b[0m\u001b[0m\n\u001b[0;32m    116\u001b[0m     \u001b[1;32mexcept\u001b[0m \u001b[1;33m(\u001b[0m\u001b[0mTypeError\u001b[0m\u001b[1;33m,\u001b[0m \u001b[0mAttributeError\u001b[0m\u001b[1;33m,\u001b[0m \u001b[0mBytesWarning\u001b[0m\u001b[1;33m)\u001b[0m\u001b[1;33m:\u001b[0m\u001b[1;33m\u001b[0m\u001b[1;33m\u001b[0m\u001b[0m\n\u001b[1;32m--> 117\u001b[1;33m         \u001b[0mgenericpath\u001b[0m\u001b[1;33m.\u001b[0m\u001b[0m_check_arg_types\u001b[0m\u001b[1;33m(\u001b[0m\u001b[1;34m'join'\u001b[0m\u001b[1;33m,\u001b[0m \u001b[0mpath\u001b[0m\u001b[1;33m,\u001b[0m \u001b[1;33m*\u001b[0m\u001b[0mpaths\u001b[0m\u001b[1;33m)\u001b[0m\u001b[1;33m\u001b[0m\u001b[1;33m\u001b[0m\u001b[0m\n\u001b[0m\u001b[0;32m    118\u001b[0m         \u001b[1;32mraise\u001b[0m\u001b[1;33m\u001b[0m\u001b[1;33m\u001b[0m\u001b[0m\n\u001b[0;32m    119\u001b[0m \u001b[1;33m\u001b[0m\u001b[0m\n",
      "\u001b[1;32mc:\\users\\cesar\\anaconda3\\envs\\deep_fields\\lib\\genericpath.py\u001b[0m in \u001b[0;36m_check_arg_types\u001b[1;34m(funcname, *args)\u001b[0m\n\u001b[0;32m    150\u001b[0m             \u001b[0mhasbytes\u001b[0m \u001b[1;33m=\u001b[0m \u001b[1;32mTrue\u001b[0m\u001b[1;33m\u001b[0m\u001b[1;33m\u001b[0m\u001b[0m\n\u001b[0;32m    151\u001b[0m         \u001b[1;32melse\u001b[0m\u001b[1;33m:\u001b[0m\u001b[1;33m\u001b[0m\u001b[1;33m\u001b[0m\u001b[0m\n\u001b[1;32m--> 152\u001b[1;33m             raise TypeError(f'{funcname}() argument must be str, bytes, or '\n\u001b[0m\u001b[0;32m    153\u001b[0m                             f'os.PathLike object, not {s.__class__.__name__!r}') from None\n\u001b[0;32m    154\u001b[0m     \u001b[1;32mif\u001b[0m \u001b[0mhasstr\u001b[0m \u001b[1;32mand\u001b[0m \u001b[0mhasbytes\u001b[0m\u001b[1;33m:\u001b[0m\u001b[1;33m\u001b[0m\u001b[1;33m\u001b[0m\u001b[0m\n",
      "\u001b[1;31mTypeError\u001b[0m: join() argument must be str, bytes, or os.PathLike object, not 'NoneType'"
     ]
    }
   ],
   "source": [
    "crypto_folder = os.path.join(data_path, \"raw\", \"crypto\")\n",
    "data_folder = os.path.join(crypto_folder, \"2021-06-02\")\n",
    "kwargs = {\"path_to_data\": data_folder,\n",
    "          \"batch_size\": 29,\n",
    "          \"steps_ahead\": 10,\n",
    "          \"span\": \"month\"}\n",
    "\n",
    "data_loader = CryptoDataLoader('cpu', **kwargs)\n",
    "data_loader.set_portfolio_assets(None, 30)"
   ]
  },
  {
   "cell_type": "code",
   "execution_count": 3,
   "id": "f7b131d2",
   "metadata": {},
   "outputs": [
    {
     "data": {
      "image/png": "[encoded data removed]",
      "text/plain": [
       "<Figure size 432x288 with 1 Axes>"
      ]
     },
     "metadata": {
      "needs_background": "light"
     },
     "output_type": "display_data"
    }
   ],
   "source": [
    "portfolio_pmv = data_loader.portfolio_pmv\n",
    "bitcoin = portfolio_pmv[0,:,0]/torch.max(portfolio_pmv[0,:,0][portfolio_pmv[0,:,0] == portfolio_pmv[0,:,0]])\n",
    "ether = portfolio_pmv[1,:,0]/torch.max(portfolio_pmv[1,:,0][portfolio_pmv[1,:,0] == portfolio_pmv[1,:,0]])\n",
    "stuff = plt.plot(bitcoin)\n",
    "stuff = plt.plot(ether)"
   ]
  },
  {
   "cell_type": "markdown",
   "id": "432e1883",
   "metadata": {},
   "source": [
    "# Equally Weighted Portfolio"
   ]
  },
  {
   "cell_type": "code",
   "execution_count": 4,
   "id": "1b822608",
   "metadata": {},
   "outputs": [
    {
     "name": "stdout",
     "output_type": "stream",
     "text": [
      "tensor(1.9478)\n",
      "tensor(1.)\n",
      "tensor(1.9478)\n"
     ]
    }
   ],
   "source": [
    "start = 0\n",
    "end = 1000\n",
    "policy = equally_weighted_portfolio(data_loader, start, end)\n",
    "print(excess_return_daily(policy,data_loader,start,end))\n",
    "\n",
    "policy = market_portfolio(data_loader, start, end)\n",
    "print(excess_return_daily(policy, data_loader, start, end))\n",
    "\n",
    "policy = diversity_weighted_portfolio(data_loader,0.,start,end)\n",
    "print(excess_return_daily(policy, data_loader, start, end))"
   ]
  },
  {
   "cell_type": "code",
   "execution_count": 33,
   "id": "34d2ff39",
   "metadata": {},
   "outputs": [
    {
     "data": {
      "text/plain": [
       "torch.Size([30, 2159, 3, 4])"
      ]
     },
     "execution_count": 33,
     "metadata": {},
     "output_type": "execute_result"
    }
   ],
   "source": [
    "steps_ahead = 3\n",
    "portfolio_pmv = data_loader.portfolio_pmv\n",
    "unfolded_portfolio_pmv = portfolio_pmv.unfold(dimension=1, \n",
    "                                              size=steps_ahead+1, \n",
    "                                              step=1).contiguous()\n",
    "unfolded_portfolio_pmv.shape"
   ]
  },
  {
   "cell_type": "code",
   "execution_count": 39,
   "id": "b99c4575",
   "metadata": {},
   "outputs": [],
   "source": [
    "prices = portfolio_pmv[:,:-steps_ahead,0]\n",
    "unfolded_prices = unfolded_portfolio_pmv[:,:,0,:]\n",
    "prices_ahead = unfolded_prices[:,:,-1]\n",
    "returns_ahead = (prices_ahead - prices)/prices"
   ]
  },
  {
   "cell_type": "code",
   "execution_count": 42,
   "id": "d63374cf",
   "metadata": {},
   "outputs": [
    {
     "data": {
      "text/plain": [
       "torch.Size([30, 2159])"
      ]
     },
     "execution_count": 42,
     "metadata": {},
     "output_type": "execute_result"
    }
   ],
   "source": [
    "returns_ahead.shape"
   ]
  },
  {
   "cell_type": "code",
   "execution_count": 47,
   "id": "90ca26d9",
   "metadata": {},
   "outputs": [
    {
     "name": "stderr",
     "output_type": "stream",
     "text": [
      "<ipython-input-47-d4a3de3be61c>:1: UserWarning: torch.range is deprecated and will be removed in a future release because its behavior is inconsistent with Python's range builtin. Instead, use torch.arange, which produces values in [start, end).\n",
      "  returns_ahead[:,torch.range(0,2159,10).long()]\n"
     ]
    },
    {
     "data": {
      "text/plain": [
       "tensor([[        nan, -2.5552e-02,  1.2559e-02,  ..., -1.7112e-02,\n",
       "          2.5034e-03,  5.3552e-03],\n",
       "        [        nan, -3.5437e-02,  9.5157e-03,  ..., -2.2291e-02,\n",
       "          9.1837e-04,  4.3673e-03],\n",
       "        [        nan,  3.8436e-03,  2.1107e-03,  ...,  5.3876e-04,\n",
       "          3.6388e-04,  4.5777e-03],\n",
       "        ...,\n",
       "        [        nan, -4.9812e-02,  1.4300e-02,  ..., -2.1345e-02,\n",
       "          1.4831e-02,  1.0553e-03],\n",
       "        [ 3.8457e-03, -5.4896e-02,  1.9486e-02,  ..., -2.6771e-02,\n",
       "          4.4141e-03,  1.0604e-02],\n",
       "        [        nan, -2.0060e-01,  1.3430e-04,  ..., -3.0299e-02,\n",
       "          1.5276e-02,  1.1117e-03]])"
      ]
     },
     "execution_count": 47,
     "metadata": {},
     "output_type": "execute_result"
    }
   ],
   "source": [
    "returns_ahead[:,torch.range(0,2159,10).long()]"
   ]
  },
  {
   "cell_type": "code",
   "execution_count": 29,
   "id": "40aa57da",
   "metadata": {},
   "outputs": [
    {
     "data": {
      "text/plain": [
       "tensor([       nan,        nan, 49824.2773, 49850.6016, 48479.3477, 47658.2617,\n",
       "        48471.1211, 48350.6758, 48193.4492, 48498.5039])"
      ]
     },
     "execution_count": 29,
     "metadata": {},
     "output_type": "execute_result"
    }
   ],
   "source": [
    "bitcoin[:10]"
   ]
  },
  {
   "cell_type": "code",
   "execution_count": 31,
   "id": "151da7b5",
   "metadata": {},
   "outputs": [
    {
     "data": {
      "text/plain": [
       "tensor([49824.2773, 49850.6016, 48479.3477])"
      ]
     },
     "execution_count": 31,
     "metadata": {},
     "output_type": "execute_result"
    }
   ],
   "source": [
    "unfolded_bitcoin[2,:]"
   ]
  },
  {
   "cell_type": "code",
   "execution_count": null,
   "id": "d9f54ba3",
   "metadata": {},
   "outputs": [],
   "source": []
  }
 ],
 "metadata": {
  "kernelspec": {
   "display_name": "Python 3",
   "language": "python",
   "name": "python3"
  },
  "language_info": {
   "codemirror_mode": {
    "name": "ipython",
    "version": 3
   },
   "file_extension": ".py",
   "mimetype": "text/x-python",
   "name": "python",
   "nbconvert_exporter": "python",
   "pygments_lexer": "ipython3",
   "version": "3.8.10"
  }
 },
 "nbformat": 4,
 "nbformat_minor": 5
}

{
 "cells": [
  {
   "cell_type": "code",
   "execution_count": 5,
   "id": "7f33c2a1",
   "metadata": {},
   "outputs": [],
   "source": [
    "import os\n",
    "import sys\n",
    "import torch\n",
    "import numpy as np\n",
    "import pandas as pd\n",
    "from matplotlib import pyplot as plt\n",
    "\n",
    "from deep_fields.data.crypto.create_dataset_files import read_and_fix\n",
    "from deep_fields.models.crypto.portfolio_selection import ml_estimates_black_scholes_from_predictors\n",
    "from deep_fields.models.crypto.portfolio_selection import equally_weighted_portfolio,excess_return\n",
    "\n",
    "from deep_fields.models.crypto.predictors import CryptoSeq2Seq\n",
    "from deep_fields.data.crypto.dataloaders import CryptoDataLoader,PortfolioDataLoader\n",
    "from deep_fields import data_path"
   ]
  },
  {
   "cell_type": "code",
   "execution_count": 6,
   "id": "67d521ba",
   "metadata": {},
   "outputs": [],
   "source": [
    "#===================================================\n",
    "# SELECT DATALOADER\n",
    "#===================================================\n",
    "date_string = \"2021-06-14\"\n",
    "crypto_folder = os.path.join(data_path, \"raw\", \"crypto\")\n",
    "data_folder = os.path.join(crypto_folder, date_string)\n",
    "\n",
    "kwargs = {\"path_to_data\":data_folder,\n",
    "          \"batch_size\": 29,\n",
    "          \"steps_ahead\":14,\n",
    "          \"date_string\": date_string,\n",
    "          \"clean\":\"interpol\",\n",
    "          \"span\":\"full\"}\n",
    "\n",
    "crypto_data_loader = CryptoDataLoader('cpu', **kwargs)\n",
    "data_loader = PortfolioDataLoader('cpu', **kwargs)\n",
    "train_data_batch = next(data_loader.train.__iter__())"
   ]
  },
  {
   "cell_type": "code",
   "execution_count": 7,
   "id": "a35ea7a4",
   "metadata": {},
   "outputs": [
    {
     "name": "stdout",
     "output_type": "stream",
     "text": [
      "Loading Model No Inference\n",
      "torch.Size([29, 2345, 13, 3])\n",
      "torch.Size([29, 2345, 14, 3])\n"
     ]
    }
   ],
   "source": [
    "#===================================================\n",
    "# SELECT PREDICTOR\n",
    "#===================================================\n",
    "model_dir=\"C:/Users/cesar/Desktop/Projects/General/deep_random_fields/results/crypto_seq2seq/1637576663/\"\n",
    "cs2s = CryptoSeq2Seq(model_dir=model_dir)\n",
    "output, unfolded_series = cs2s(train_data_batch)\n",
    "print(output.shape)\n",
    "print(unfolded_series.shape)"
   ]
  },
  {
   "cell_type": "code",
   "execution_count": 53,
   "id": "3ace014d",
   "metadata": {
    "scrolled": true
   },
   "outputs": [
    {
     "name": "stdout",
     "output_type": "stream",
     "text": [
      "0 out of 146\n"
     ]
    }
   ],
   "source": [
    "start_ = 10\n",
    "end_ = 1\n",
    "returns_stats = []\n",
    "ids_ = []\n",
    "for j,train_data_batch in enumerate(data_loader.train):\n",
    "    print(\"{0} out of {1}\".format(j,data_loader.n_train_batches))\n",
    "    output_prediction, unfolded_series_prediction = cs2s(train_data_batch,use_case=\"prediction\")\n",
    "    output_train, unfolded_series_train = cs2s(train_data_batch,use_case=\"train\")\n",
    "    ids_.extend(train_data_batch.ids.detach().tolist())\n",
    "    break"
   ]
  },
  {
   "cell_type": "code",
   "execution_count": 54,
   "id": "1e8c658f",
   "metadata": {},
   "outputs": [
    {
     "data": {
      "text/plain": [
       "torch.Size([29, 2358, 14, 3])"
      ]
     },
     "execution_count": 54,
     "metadata": {},
     "output_type": "execute_result"
    }
   ],
   "source": [
    "output_prediction.shape"
   ]
  },
  {
   "cell_type": "code",
   "execution_count": 55,
   "id": "3b2d28ea",
   "metadata": {},
   "outputs": [
    {
     "data": {
      "text/plain": [
       "torch.Size([29, 2358, 3])"
      ]
     },
     "execution_count": 55,
     "metadata": {},
     "output_type": "execute_result"
    }
   ],
   "source": [
    "unfolded_series_prediction.shape"
   ]
  },
  {
   "cell_type": "code",
   "execution_count": 56,
   "id": "f86beac0",
   "metadata": {},
   "outputs": [
    {
     "data": {
      "text/plain": [
       "torch.Size([29, 2345, 13, 3])"
      ]
     },
     "execution_count": 56,
     "metadata": {},
     "output_type": "execute_result"
    }
   ],
   "source": [
    "output_train.shape"
   ]
  },
  {
   "cell_type": "code",
   "execution_count": 57,
   "id": "0a208664",
   "metadata": {},
   "outputs": [
    {
     "data": {
      "text/plain": [
       "torch.Size([29, 2345, 14, 3])"
      ]
     },
     "execution_count": 57,
     "metadata": {},
     "output_type": "execute_result"
    }
   ],
   "source": [
    "unfolded_series_train.shape"
   ]
  },
  {
   "cell_type": "code",
   "execution_count": 58,
   "id": "a1b013ee",
   "metadata": {},
   "outputs": [],
   "source": [
    "start=0\n",
    "end=None\n",
    "market_type=\"price\"\n",
    "if market_type == \"price\":\n",
    "    series_index = 0\n",
    "elif market_type == \"market_cap\":\n",
    "    series_index = 1\n",
    "    policy = series/series.sum(axis=0)\n",
    "elif market_type == \"volume\":\n",
    "    series_index = 2\n",
    "\n",
    "\n",
    "series = unfolded_series_train[:,:,0,series_index]\n",
    "\n",
    "prices_below = unfolded_series_train[:,:,0,0]\n",
    "prices_ahead_prediction = output_train[:,:,-1,0]\n",
    "prices_ahead_real =  unfolded_series_train[:,:,-1,0]"
   ]
  },
  {
   "cell_type": "code",
   "execution_count": 59,
   "id": "14b282ca",
   "metadata": {},
   "outputs": [],
   "source": [
    "policy_market = series/series.sum(axis=0)\n",
    "policy_ew = equally_weighted_portfolio(prices_below,prices_ahead_prediction)\n",
    "\n",
    "er_prediction_ew = excess_return(policy_ew,prices_ahead_prediction,prices_below)\n",
    "er_real_ew = excess_return(policy_ew,prices_ahead_real,prices_below)\n",
    "\n",
    "er_prediction_market = excess_return(policy_market,prices_ahead_prediction,prices_below)\n",
    "er_real_market = excess_return(policy_market,prices_ahead_real,prices_below)"
   ]
  },
  {
   "cell_type": "code",
   "execution_count": 63,
   "id": "cac9ec99",
   "metadata": {},
   "outputs": [
    {
     "data": {
      "text/plain": [
       "3.6666666666666665"
      ]
     },
     "execution_count": 63,
     "metadata": {},
     "output_type": "execute_result"
    }
   ],
   "source": [
    "Av Max\n",
    "21260.89124858951\n",
    "Av Mean\n",
    "10.343017970862453\n",
    "Av Std\n",
    "442.6104146800425"
   ]
  },
  {
   "cell_type": "code",
   "execution_count": null,
   "id": "e8fb1354",
   "metadata": {},
   "outputs": [],
   "source": [
    "Av Max\n",
    "195.05968057292782\n",
    "Av Mean\n",
    "1.3536878975286877\n",
    "Av Mean Prediction\n",
    "117.00699510680487\n",
    "Av Std\n",
    "7.4134656475116945"
   ]
  },
  {
   "cell_type": "code",
   "execution_count": 61,
   "id": "f99cbbd1",
   "metadata": {},
   "outputs": [
    {
     "data": {
      "text/plain": [
       "tensor(39.1154, grad_fn=<MeanBackward0>)"
      ]
     },
     "execution_count": 61,
     "metadata": {},
     "output_type": "execute_result"
    }
   ],
   "source": [
    "er_prediction_market.mean()"
   ]
  },
  {
   "cell_type": "code",
   "execution_count": 50,
   "id": "b2386750",
   "metadata": {},
   "outputs": [
    {
     "data": {
      "text/plain": [
       "<matplotlib.legend.Legend at 0x1f8aaa82dc0>"
      ]
     },
     "execution_count": 50,
     "metadata": {},
     "output_type": "execute_result"
    },
    {
     "data": {
      "image/png": "[encoded data removed]",
      "text/plain": [
       "<Figure size 432x288 with 1 Axes>"
      ]
     },
     "metadata": {
      "needs_background": "light"
     },
     "output_type": "display_data"
    }
   ],
   "source": [
    "stuff = plt.hist(er_real_market.detach().numpy(),alpha=0.45,log=True,label=\"real\")\n",
    "stuff = plt.hist(er_prediction_market.detach().numpy(),alpha=0.45,log=True,label=\"prediction\")\n",
    "plt.legend(loc=\"best\")"
   ]
  },
  {
   "cell_type": "code",
   "execution_count": null,
   "id": "982ab585",
   "metadata": {},
   "outputs": [],
   "source": [
    "def market_portfolio(data_loader,start=0,end=None,market_type=\"price\",steps_ahead=1):\n",
    "    portfolio_pmv = data_loader.portfolio_pmv\n",
    "    if market_type == \"price\":\n",
    "        series = portfolio_pmv[:, start:end, 0][:,:-1]\n",
    "        policy = series/series.sum(axis=0)\n",
    "    elif market_type == \"market_cap\":\n",
    "        series = portfolio_pmv[:, start:end, 1][:,:-1]\n",
    "        policy = series/series.sum(axis=0)\n",
    "    elif market_type == \"volume\":\n",
    "        series = portfolio_pmv[:, start:end, 2][:,:-1]\n",
    "        policy = series/series.sum(axis=0)\n",
    "    if steps_ahead > 1:\n",
    "        policy = policy[:,:-(steps_ahead-1)]\n",
    "    return policy"
   ]
  }
 ],
 "metadata": {
  "kernelspec": {
   "display_name": "Python 3",
   "language": "python",
   "name": "python3"
  },
  "language_info": {
   "codemirror_mode": {
    "name": "ipython",
    "version": 3
   },
   "file_extension": ".py",
   "mimetype": "text/x-python",
   "name": "python",
   "nbconvert_exporter": "python",
   "pygments_lexer": "ipython3",
   "version": "3.8.10"
  }
 },
 "nbformat": 4,
 "nbformat_minor": 5
}

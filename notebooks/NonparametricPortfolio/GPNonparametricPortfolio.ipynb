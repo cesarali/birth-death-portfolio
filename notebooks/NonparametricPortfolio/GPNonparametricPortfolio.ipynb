{
 "cells": [
  {
   "cell_type": "code",
   "execution_count": 1,
   "id": "ee79f8c7",
   "metadata": {},
   "outputs": [
    {
     "ename": "NameError",
     "evalue": "name 'models_path' is not defined",
     "output_type": "error",
     "traceback": [
      "\u001b[1;31m---------------------------------------------------------------------------\u001b[0m",
      "\u001b[1;31mNameError\u001b[0m                                 Traceback (most recent call last)",
      "\u001b[1;32m<ipython-input-1-4a4cbcaebe40>\u001b[0m in \u001b[0;36m<module>\u001b[1;34m\u001b[0m\n\u001b[0;32m     20\u001b[0m \u001b[1;32mfrom\u001b[0m \u001b[0mdeep_fields\u001b[0m\u001b[1;33m.\u001b[0m\u001b[0mmodels\u001b[0m\u001b[1;33m.\u001b[0m\u001b[0mgaussian_processes\u001b[0m\u001b[1;33m.\u001b[0m\u001b[0mgaussian_processes\u001b[0m \u001b[1;32mimport\u001b[0m \u001b[0mMV_Normal\u001b[0m\u001b[1;33m\u001b[0m\u001b[1;33m\u001b[0m\u001b[0m\n\u001b[0;32m     21\u001b[0m \u001b[1;33m\u001b[0m\u001b[0m\n\u001b[1;32m---> 22\u001b[1;33m \u001b[0mcrypto_plots_dir\u001b[0m \u001b[1;33m=\u001b[0m \u001b[0mos\u001b[0m\u001b[1;33m.\u001b[0m\u001b[0mpath\u001b[0m\u001b[1;33m.\u001b[0m\u001b[0mjoin\u001b[0m\u001b[1;33m(\u001b[0m\u001b[0mmodels_path\u001b[0m\u001b[1;33m,\u001b[0m\u001b[1;34m\"crypto_plots\"\u001b[0m\u001b[1;33m)\u001b[0m\u001b[1;33m\u001b[0m\u001b[1;33m\u001b[0m\u001b[0m\n\u001b[0m\u001b[0;32m     23\u001b[0m \u001b[1;32mif\u001b[0m \u001b[1;32mnot\u001b[0m \u001b[0mos\u001b[0m\u001b[1;33m.\u001b[0m\u001b[0mpath\u001b[0m\u001b[1;33m.\u001b[0m\u001b[0misdir\u001b[0m\u001b[1;33m(\u001b[0m\u001b[0mcrypto_plots_dir\u001b[0m\u001b[1;33m)\u001b[0m\u001b[1;33m:\u001b[0m\u001b[1;33m\u001b[0m\u001b[1;33m\u001b[0m\u001b[0m\n\u001b[0;32m     24\u001b[0m     \u001b[0mos\u001b[0m\u001b[1;33m.\u001b[0m\u001b[0mmakedirs\u001b[0m\u001b[1;33m(\u001b[0m\u001b[0mcrypto_plots_dir\u001b[0m\u001b[1;33m)\u001b[0m\u001b[1;33m\u001b[0m\u001b[1;33m\u001b[0m\u001b[0m\n",
      "\u001b[1;31mNameError\u001b[0m: name 'models_path' is not defined"
     ]
    }
   ],
   "source": [
    "import os\n",
    "import torch\n",
    "import numpy as np\n",
    "import pandas as pd\n",
    "\n",
    "from pprint import pprint\n",
    "from numpy.linalg import svd\n",
    "from matplotlib import pyplot as plt\n",
    "\n",
    "from deep_fields import data_path\n",
    "from torch.distributions import Normal\n",
    "from deep_fields.data.crypto.dataloaders import CryptoDataLoader\n",
    "from deep_fields.models.crypto.portfolio import NonparametricStochasticPortfolio, GaussianProcessPortfolio\n",
    "from deep_fields.models.crypto.reference_portfolios import excess_return_daily, market_portfolio\n",
    "\n",
    "from torch.distributions import Normal, MultivariateNormal\n",
    "from gpytorch.kernels import RBFKernel, ScaleKernel\n",
    "from gpytorch import kernels \n",
    "from deep_fields.models.gaussian_processes.gaussian_processes import multivariate_normal, white_noise_kernel\n",
    "from deep_fields.models.gaussian_processes.gaussian_processes import MV_Normal\n",
    "\n",
    "crypto_plots_dir = os.path.join(models_path,\"crypto_plots\")\n",
    "if not os.path.isdir(crypto_plots_dir):\n",
    "    os.makedirs(crypto_plots_dir)\n",
    "    \n",
    "%matplotlib inline"
   ]
  },
  {
   "cell_type": "code",
   "execution_count": 2,
   "id": "5c6f2fdc",
   "metadata": {},
   "outputs": [],
   "source": [
    "# data loader\n",
    "crypto_folder = os.path.join(data_path, \"raw\", \"crypto\")\n",
    "data_folder = os.path.join(crypto_folder, \"2021-06-02\")\n",
    "kwargs = {\"path_to_data\": data_folder,\n",
    "          \"batch_size\": 29,\n",
    "          \"span\": \"month\"}\n",
    "data_loader = CryptoDataLoader('cpu', **kwargs)"
   ]
  },
  {
   "cell_type": "markdown",
   "id": "32d9000e",
   "metadata": {},
   "source": [
    "# Gaussian Processes"
   ]
  },
  {
   "cell_type": "code",
   "execution_count": 4,
   "id": "4bb74a34",
   "metadata": {},
   "outputs": [
    {
     "name": "stdout",
     "output_type": "stream",
     "text": [
      "New Model Set For Inference\n",
      "Loading Model No Inference\n",
      "Current Coin 1 ethereum\n",
      "Current Coin 2 tether\n",
      "Current Coin 3 binancecoin\n",
      "Current Coin 4 cardano\n",
      "Current Coin 5 dogecoin\n",
      "Current Coin 6 ripple\n",
      "Current Coin 7 polkadot\n",
      "Current Coin 8 usd-coin\n",
      "Current Coin 9 uniswap\n",
      "tensor(1.8982, dtype=torch.float64)\n"
     ]
    }
   ],
   "source": [
    "start = 0\n",
    "end = None\n",
    "steps_ahead = 1\n",
    "\n",
    "model_param = GaussianProcessPortfolio.get_parameters()\n",
    "inference_param = GaussianProcessPortfolio.get_inference_parameters()\n",
    "\n",
    "portfolio = GaussianProcessPortfolio(**model_param)\n",
    "monte_carlo_values = portfolio.initialize_inference(data_loader,None,**inference_param)\n",
    "policy = portfolio.portfolio(data_loader,start,end,steps_ahead,monte_carlo_values)\n",
    "print(excess_return_daily(policy, data_loader, start, end,steps_ahead))\n",
    "\n",
    "# reference portfolio\n",
    "policy = market_portfolio(data_loader, start, end,\"market_cap\",steps_ahead)\n",
    "ER = excess_return_daily(policy, data_loader, start, end,steps_ahead).item()"
   ]
  },
  {
   "cell_type": "code",
   "execution_count": 11,
   "id": "07ad2556",
   "metadata": {},
   "outputs": [],
   "source": []
  },
  {
   "cell_type": "code",
   "execution_count": null,
   "id": "242f6f73",
   "metadata": {},
   "outputs": [],
   "source": [
    "Normal()"
   ]
  }
 ],
 "metadata": {
  "kernelspec": {
   "display_name": "Python 3",
   "language": "python",
   "name": "python3"
  },
  "language_info": {
   "codemirror_mode": {
    "name": "ipython",
    "version": 3
   },
   "file_extension": ".py",
   "mimetype": "text/x-python",
   "name": "python",
   "nbconvert_exporter": "python",
   "pygments_lexer": "ipython3",
   "version": "3.8.10"
  }
 },
 "nbformat": 4,
 "nbformat_minor": 5
}

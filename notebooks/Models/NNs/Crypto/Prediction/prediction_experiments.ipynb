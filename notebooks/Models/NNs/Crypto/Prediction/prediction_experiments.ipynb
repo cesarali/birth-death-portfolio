{
 "cells": [
  {
   "cell_type": "code",
   "execution_count": 4,
   "metadata": {},
   "outputs": [],
   "source": [
    "import os\n",
    "import sys\n",
    "import torch\n",
    "from pathlib import Path\n",
    "import yaml\n",
    "\n",
    "from bdp.models.crypto.prediction.prediction_experiment import PredictionExperiment\n",
    "\n",
    "from bdp.data.crypto.coingecko.timeseries_postprocessing import (\n",
    "    TimeSeriesTorchForTraining\n",
    ")\n",
    "\n",
    "\n",
    "from bdp import config_path\n",
    "from bdp.models.crypto.prediction.prediction_experiment import PredictionExperiment"
   ]
  },
  {
   "cell_type": "code",
   "execution_count": 5,
   "metadata": {},
   "outputs": [
    {
     "name": "stdout",
     "output_type": "stream",
     "text": [
      "NaN found in prediction_summary\n"
     ]
    }
   ],
   "source": [
    "config_file = config_path / \"crypto\" / \"prediction\" / \"basic_summary_prediction_config.yaml\"\n",
    "prediction_experiment = PredictionExperiment(config_path=config_file)"
   ]
  },
  {
   "cell_type": "code",
   "execution_count": 6,
   "metadata": {},
   "outputs": [],
   "source": [
    "databatch = next(prediction_experiment.dataloader.train().__iter__())"
   ]
  },
  {
   "cell_type": "code",
   "execution_count": 9,
   "metadata": {},
   "outputs": [
    {
     "data": {
      "text/plain": [
       "{0: 'indexes',\n",
       " 1: 'covariates',\n",
       " 2: 'past_added_sequences',\n",
       " 3: 'lengths_past',\n",
       " 4: 'prediction_summary'}"
      ]
     },
     "execution_count": 9,
     "metadata": {},
     "output_type": "execute_result"
    }
   ],
   "source": [
    "prediction_experiment.dataloader.batch_values_str"
   ]
  },
  {
   "cell_type": "code",
   "execution_count": 8,
   "metadata": {},
   "outputs": [
    {
     "data": {
      "text/plain": [
       "SummaryPredictionModel(\n",
       "  (past_encoder): LSTMModel(\n",
       "    (lstm): LSTM(4, 20, num_layers=2, batch_first=True)\n",
       "    (linear): Linear(in_features=20, out_features=20, bias=True)\n",
       "  )\n",
       "  (prediction_head): MLPRegressionHead(\n",
       "    (layers): ModuleList(\n",
       "      (0): Linear(in_features=20, out_features=50, bias=True)\n",
       "      (1): Linear(in_features=50, out_features=50, bias=True)\n",
       "    )\n",
       "    (output_layer): Linear(in_features=50, out_features=1, bias=True)\n",
       "  )\n",
       ")"
      ]
     },
     "execution_count": 8,
     "metadata": {},
     "output_type": "execute_result"
    }
   ],
   "source": [
    "prediction_experiment.prediction_model"
   ]
  }
 ],
 "metadata": {
  "kernelspec": {
   "display_name": "neural_spectral_sde",
   "language": "python",
   "name": "python3"
  },
  "language_info": {
   "codemirror_mode": {
    "name": "ipython",
    "version": 3
   },
   "file_extension": ".py",
   "mimetype": "text/x-python",
   "name": "python",
   "nbconvert_exporter": "python",
   "pygments_lexer": "ipython3",
   "version": "3.10.9"
  }
 },
 "nbformat": 4,
 "nbformat_minor": 2
}

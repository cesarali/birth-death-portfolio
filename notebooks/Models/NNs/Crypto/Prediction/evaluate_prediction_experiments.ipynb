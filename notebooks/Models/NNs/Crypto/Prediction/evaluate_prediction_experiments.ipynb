{
 "cells": [
  {
   "cell_type": "code",
   "execution_count": 2,
   "metadata": {},
   "outputs": [],
   "source": [
    "import os\n",
    "import sys\n",
    "import yaml\n",
    "import torch\n",
    "from pathlib import Path\n",
    "\n",
    "from bdp.models.crypto.prediction.prediction_experiment import SummaryPredictionExperiment\n",
    "from bdp.models.crypto.prediction.prediction_models import SummaryPredictionModel\n",
    "\n",
    "from bdp.data.crypto.coingecko.dataloaders import (\n",
    "    TimeSeriesTorchForTraining\n",
    ")\n",
    "\n",
    "from bdp.models.crypto.prediction.trainers import PredictionTrainer\n",
    "from bdp.models.utils.experiment_files_classes import ExperimentFiles"
   ]
  },
  {
   "cell_type": "code",
   "execution_count": 7,
   "metadata": {},
   "outputs": [],
   "source": [
    "from bdp import config_path\n",
    "from bdp.models.crypto.prediction.prediction_experiment import SummaryPredictionExperiment\n",
    "\n",
    "experiment_dir = r\"C:\\Users\\cesar\\Desktop\\Projects\\BirthDeathPortafolioChoice\\Codes\\birth-death-portfolio\\results\\SummaryPrediction\\Basic\\1710931925\"\n",
    "experiment_dir = r\"C:\\Users\\cesar\\Desktop\\Projects\\BirthDeathPortafolioChoice\\Codes\\birth-death-portfolio\\results\\SummaryPrediction\\Basic\\1710958468\"\n",
    "experiment_files = ExperimentFiles(experiment_dir=experiment_dir)"
   ]
  },
  {
   "cell_type": "code",
   "execution_count": 9,
   "metadata": {},
   "outputs": [
    {
     "data": {
      "text/plain": [
       "{'model': SummaryPredictionModel(\n",
       "   (past_encoder): LSTMModel(\n",
       "     (lstm): LSTM(4, 10, batch_first=True)\n",
       "     (linear): Linear(in_features=10, out_features=25, bias=True)\n",
       "   )\n",
       "   (prediction_head): MLPRegressionHead(\n",
       "     (layers): ModuleList(\n",
       "       (0): Linear(in_features=25, out_features=200, bias=True)\n",
       "     )\n",
       "     (output_layer): Linear(in_features=200, out_features=27, bias=True)\n",
       "   )\n",
       " ),\n",
       " 'best_loss': 229.10968017578125,\n",
       " 'training_loss': 353.4135437011719,\n",
       " 'test_loss': 228.72564697265625}"
      ]
     },
     "execution_count": 9,
     "metadata": {},
     "output_type": "execute_result"
    }
   ],
   "source": [
    "experiment_files.load_results()"
   ]
  },
  {
   "cell_type": "code",
   "execution_count": null,
   "metadata": {},
   "outputs": [],
   "source": [
    "SummaryPredictionExperiment(experiment_dir)\n",
    "config_file = config_path / \"crypto\" / \"prediction\" / \"basic_summary_prediction_config.yaml\"\n",
    "prediction_experiment = SummaryPredictionExperiment(config_path=config_file)\n",
    "trainer = PredictionTrainer(prediction_experiment.config)\n",
    "trainer.train(prediction_experiment)"
   ]
  },
  {
   "cell_type": "code",
   "execution_count": null,
   "metadata": {},
   "outputs": [],
   "source": []
  }
 ],
 "metadata": {
  "kernelspec": {
   "display_name": "neural_spectral_sde",
   "language": "python",
   "name": "python3"
  },
  "language_info": {
   "codemirror_mode": {
    "name": "ipython",
    "version": 3
   },
   "file_extension": ".py",
   "mimetype": "text/x-python",
   "name": "python",
   "nbconvert_exporter": "python",
   "pygments_lexer": "ipython3",
   "version": "3.10.9"
  }
 },
 "nbformat": 4,
 "nbformat_minor": 2
}

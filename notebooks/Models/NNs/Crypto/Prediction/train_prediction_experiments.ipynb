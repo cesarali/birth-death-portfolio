{
 "cells": [
  {
   "cell_type": "code",
   "execution_count": 1,
   "metadata": {},
   "outputs": [],
   "source": [
    "import os\n",
    "import sys\n",
    "import torch\n",
    "from pathlib import Path\n",
    "import yaml\n",
    "\n",
    "from bdp.models.crypto.prediction.prediction_experiment import  SummaryPredictionExperiment\n",
    "\n",
    "\n",
    "from bdp.data.crypto.coingecko.dataloaders import (\n",
    "    TimeSeriesTorchForTraining\n",
    ")\n",
    "\n",
    "from bdp.data.crypto.coingecko.dataloaders import (\n",
    "    TimeSeriesTorchForTraining,\n",
    "    read_data\n",
    ")\n",
    "\n",
    "from bdp.utils.config_file_operations import dynamic_load_config_from_yaml\n",
    "from bdp.data.crypto.coingecko.dataloaders import read_data\n",
    "\n",
    "from bdp.models.crypto.prediction.trainers import PredictionTrainer\n",
    "\n",
    "from bdp import config_path"
   ]
  },
  {
   "cell_type": "code",
   "execution_count": 2,
   "metadata": {},
   "outputs": [
    {
     "data": {
      "text/plain": [
       "'C:\\\\Users\\\\cesar\\\\Desktop\\\\Projects\\\\BirthDeathPortafolioChoice\\\\Codes\\\\birth-death-portfolio\\\\data\\\\raw\\\\uniswap\\\\2024-03-19\\\\'"
      ]
     },
     "execution_count": 2,
     "metadata": {},
     "output_type": "execute_result"
    }
   ],
   "source": [
    "config_file = config_path / \"crypto\" / \"prediction\" / \"basic_summary_prediction_config.yaml\"\n",
    "summary_config = dynamic_load_config_from_yaml(config_file)\n",
    "summary_config.DataLoaderParameters.data_dir"
   ]
  },
  {
   "cell_type": "code",
   "execution_count": 3,
   "metadata": {},
   "outputs": [
    {
     "name": "stdout",
     "output_type": "stream",
     "text": [
      "NaN found in prediction_summary\n"
     ]
    }
   ],
   "source": [
    "prediction_experiment = SummaryPredictionExperiment(config_path=config_file)\n",
    "trainer = PredictionTrainer(prediction_experiment.config)"
   ]
  },
  {
   "cell_type": "code",
   "execution_count": 4,
   "metadata": {},
   "outputs": [],
   "source": [
    "databatch = next(prediction_experiment.dataloader.train().__iter__())"
   ]
  },
  {
   "cell_type": "code",
   "execution_count": 5,
   "metadata": {},
   "outputs": [],
   "source": [
    "x,y = trainer.preprocess_data(databatch)\n",
    "output = prediction_experiment.prediction_model(x)"
   ]
  },
  {
   "cell_type": "code",
   "execution_count": 9,
   "metadata": {},
   "outputs": [
    {
     "data": {
      "text/plain": [
       "tensor(0)"
      ]
     },
     "execution_count": 9,
     "metadata": {},
     "output_type": "execute_result"
    }
   ],
   "source": [
    "torch.isnan(output).sum()"
   ]
  },
  {
   "cell_type": "code",
   "execution_count": 35,
   "metadata": {},
   "outputs": [
    {
     "data": {
      "text/plain": [
       "torch.Size([97485, 4])"
      ]
     },
     "execution_count": 35,
     "metadata": {},
     "output_type": "execute_result"
    }
   ],
   "source": [
    "x.data.shape"
   ]
  },
  {
   "cell_type": "code",
   "execution_count": 28,
   "metadata": {},
   "outputs": [
    {
     "data": {
      "text/plain": [
       "torch.Size([64, 27])"
      ]
     },
     "execution_count": 28,
     "metadata": {},
     "output_type": "execute_result"
    }
   ],
   "source": [
    "y.shape"
   ]
  },
  {
   "cell_type": "code",
   "execution_count": 6,
   "metadata": {},
   "outputs": [
    {
     "data": {
      "text/plain": [
       "{0: 'indexes',\n",
       " 1: 'covariates',\n",
       " 2: 'past_added_sequences',\n",
       " 3: 'lengths_past',\n",
       " 4: 'prediction_summary'}"
      ]
     },
     "execution_count": 6,
     "metadata": {},
     "output_type": "execute_result"
    }
   ],
   "source": [
    "prediction_experiment.dataloader.batch_values_str"
   ]
  },
  {
   "cell_type": "code",
   "execution_count": 40,
   "metadata": {},
   "outputs": [],
   "source": [
    "past_added_sequences = databatch[2]\n",
    "prediction_summary = databatch[4]"
   ]
  },
  {
   "cell_type": "code",
   "execution_count": 44,
   "metadata": {},
   "outputs": [
    {
     "data": {
      "text/plain": [
       "tensor(25469)"
      ]
     },
     "execution_count": 44,
     "metadata": {},
     "output_type": "execute_result"
    }
   ],
   "source": [
    "torch.isnan(past_added_sequences).sum()"
   ]
  },
  {
   "cell_type": "code",
   "execution_count": 46,
   "metadata": {},
   "outputs": [
    {
     "data": {
      "text/plain": [
       "tensor(466307)"
      ]
     },
     "execution_count": 46,
     "metadata": {},
     "output_type": "execute_result"
    }
   ],
   "source": [
    "(~torch.isnan(past_added_sequences)).sum()"
   ]
  },
  {
   "cell_type": "code",
   "execution_count": 42,
   "metadata": {},
   "outputs": [
    {
     "data": {
      "text/plain": [
       "torch.Size([64, 1921, 4])"
      ]
     },
     "execution_count": 42,
     "metadata": {},
     "output_type": "execute_result"
    }
   ],
   "source": [
    "past_added_sequences.shape"
   ]
  },
  {
   "cell_type": "code",
   "execution_count": null,
   "metadata": {},
   "outputs": [],
   "source": [
    "input_where_nan = torch.isnan(torch_data.past_padded_sequences)\n",
    "input_where_inf = torch.isinf(torch_data.past_padded_sequences)\n",
    "input_where_number = torch.logical_and(~input_where_nan , ~input_where_inf)"
   ]
  },
  {
   "cell_type": "code",
   "execution_count": null,
   "metadata": {},
   "outputs": [],
   "source": []
  }
 ],
 "metadata": {
  "kernelspec": {
   "display_name": "neural_spectral_sde",
   "language": "python",
   "name": "python3"
  },
  "language_info": {
   "codemirror_mode": {
    "name": "ipython",
    "version": 3
   },
   "file_extension": ".py",
   "mimetype": "text/x-python",
   "name": "python",
   "nbconvert_exporter": "python",
   "pygments_lexer": "ipython3",
   "version": "3.10.9"
  }
 },
 "nbformat": 4,
 "nbformat_minor": 2
}

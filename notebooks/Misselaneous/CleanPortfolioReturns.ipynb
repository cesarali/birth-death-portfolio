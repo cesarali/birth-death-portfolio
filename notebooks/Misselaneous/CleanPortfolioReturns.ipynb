{
 "cells": [
  {
   "cell_type": "code",
   "execution_count": 1,
   "id": "266dc364",
   "metadata": {},
   "outputs": [],
   "source": [
    "import os\n",
    "import torch\n",
    "import pymongo\n",
    "\n",
    "from matplotlib import pyplot as plt\n",
    "\n",
    "from deep_fields import data_path, models_path\n",
    "from deep_fields.data.crypto.create_dataset_files import create_merged_dataframe\n",
    "\n",
    "crypto_plots_dir = os.path.join(models_path,\"crypto_plots\")\n",
    "if not os.path.isdir(crypto_plots_dir):\n",
    "    os.makedirs(crypto_plots_dir)\n",
    "    \n",
    "%matplotlib inline"
   ]
  },
  {
   "cell_type": "code",
   "execution_count": 11,
   "id": "808cd193",
   "metadata": {},
   "outputs": [],
   "source": [
    "top = 10 \n",
    "\n",
    "client = pymongo.MongoClient()\n",
    "db = client[\"crypto\"]\n",
    "collection = db['birth_2021-06-14']"
   ]
  },
  {
   "cell_type": "code",
   "execution_count": 12,
   "id": "8bc0361b",
   "metadata": {},
   "outputs": [
    {
     "name": "stderr",
     "output_type": "stream",
     "text": [
      "<ipython-input-12-8ff4d2505e25>:1: DeprecationWarning: collection_names is deprecated. Use list_collection_names instead.\n",
      "  db.collection_names()\n"
     ]
    },
    {
     "data": {
      "text/plain": [
       "['birth_birth_2021-06-14',\n",
       " 'birth_2021-06-08',\n",
       " 'birth_2021-06-21',\n",
       " 'birth_2021-06-20',\n",
       " 'birth_2021-06-02',\n",
       " 'birth_2021-05-10',\n",
       " 'birth_2021-06-14',\n",
       " 'birth_2021-06-16',\n",
       " 'birth_2021-06-17',\n",
       " 'birth_2021-06-19',\n",
       " 'birth_2021-06-18']"
      ]
     },
     "execution_count": 12,
     "metadata": {},
     "output_type": "execute_result"
    }
   ],
   "source": [
    "db.collection_names()"
   ]
  },
  {
   "cell_type": "code",
   "execution_count": 13,
   "id": "7f2c3b3f",
   "metadata": {},
   "outputs": [
    {
     "data": {
      "text/plain": [
       "{'_id': ObjectId('60c70bb436e800e259e9e4e3'),\n",
       " 'id': 'dash',\n",
       " 'symbol': 'dash',\n",
       " 'name': 'Dash',\n",
       " 'last_price': 172.80977215238104,\n",
       " 'last_volume': 644727244.0595541,\n",
       " 'last_marketcap': 1759220878.8437428,\n",
       " 'survival_time': 2356,\n",
       " 'last_date': datetime.datetime(2021, 6, 14, 2, 0),\n",
       " 'birth_date': datetime.datetime(2015, 1, 1, 0, 0)}"
      ]
     },
     "execution_count": 13,
     "metadata": {},
     "output_type": "execute_result"
    }
   ],
   "source": [
    "db['birth_2021-06-14'].find_one()"
   ]
  },
  {
   "cell_type": "code",
   "execution_count": 15,
   "id": "803b19b7",
   "metadata": {},
   "outputs": [
    {
     "name": "stdout",
     "output_type": "stream",
     "text": [
      "2015-01-01 00:00:00\n",
      "2015-08-07 00:00:00\n",
      "2015-02-25 00:00:00\n",
      "2017-09-16 00:00:00\n",
      "2017-10-18 00:00:00\n",
      "2015-01-01 00:00:00\n",
      "2015-01-01 00:00:00\n",
      "2018-10-05 00:00:00\n",
      "2020-08-19 00:00:00\n",
      "2020-09-17 00:00:00\n",
      "Current Coin 1 ethereum\n",
      "Current Coin 2 tether\n",
      "Current Coin 3 binancecoin\n",
      "Current Coin 4 cardano\n",
      "Current Coin 5 dogecoin\n",
      "Current Coin 6 ripple\n",
      "Current Coin 7 usd-coin\n",
      "Current Coin 8 polkadot\n",
      "Current Coin 9 uniswap\n"
     ]
    }
   ],
   "source": [
    "crypto_folder = os.path.join(data_path, \"raw\", \"crypto\")\n",
    "data_folder = os.path.join(crypto_folder, \"2021-06-14\")\n",
    "top_coins_name = []\n",
    "for a in collection.find().sort([(\"last_marketcap\", -1)]).limit(top):\n",
    "    top_coins_name.append(a[\"id\"])\n",
    "    print(a[\"birth_date\"])\n",
    "    \n",
    "data_merged, coins_data = create_merged_dataframe(data_folder,\n",
    "                                                  collection,\n",
    "                                                  break_point=20,\n",
    "                                                  all_coins_ids=top_coins_name,\n",
    "                                                  span=\"full\")\n",
    "#data_merged = data_merged.fillna(0.)\n",
    "columns_ids = [coin_data[\"id\"] for coin_data in coins_data]\n",
    "\n",
    "price_df = data_merged[:-1][\"price\"]\n",
    "price_df.columns = columns_ids"
   ]
  },
  {
   "cell_type": "code",
   "execution_count": 6,
   "id": "73412db8",
   "metadata": {},
   "outputs": [],
   "source": [
    "#data_merged.columns"
   ]
  },
  {
   "cell_type": "code",
   "execution_count": 7,
   "id": "5ee658fc",
   "metadata": {},
   "outputs": [],
   "source": [
    "price = torch.Tensor(data_merged[\"price\"].values).T\n",
    "market_cap = torch.Tensor(data_merged[\"market_cap\"].values).T\n",
    "volume =  torch.Tensor(data_merged[\"volume\"].values).T\n",
    "\n",
    "\n",
    "pmv_mask = (price == price)*(market_cap == market_cap)*(volume == volume)\n",
    "returns = (price[:, 1:] - price[:, :-1]) / (price[:, :-1])\n",
    "returns_mask = (returns == returns)\n",
    "\n",
    "pmv = torch.cat([price.unsqueeze(-1),market_cap.unsqueeze(-1),volume.unsqueeze(-1)],dim=-1)"
   ]
  },
  {
   "cell_type": "code",
   "execution_count": 8,
   "id": "d7f5f938",
   "metadata": {},
   "outputs": [
    {
     "data": {
      "text/plain": [
       "[<matplotlib.lines.Line2D at 0x19928306be0>]"
      ]
     },
     "execution_count": 8,
     "metadata": {},
     "output_type": "execute_result"
    },
    {
     "data": {
      "image/png": "[encoded data removed]",
      "text/plain": [
       "<Figure size 432x288 with 1 Axes>"
      ]
     },
     "metadata": {
      "needs_background": "light"
     },
     "output_type": "display_data"
    }
   ],
   "source": [
    "plt.plot(returns[0,:].detach().numpy())"
   ]
  },
  {
   "cell_type": "code",
   "execution_count": 9,
   "id": "052796c0",
   "metadata": {},
   "outputs": [
    {
     "data": {
      "image/png": "[encoded data removed]",
      "text/plain": [
       "<Figure size 432x288 with 1 Axes>"
      ]
     },
     "metadata": {
      "needs_background": "light"
     },
     "output_type": "display_data"
    }
   ],
   "source": [
    "returns_ = returns[torch.where(returns == returns)].detach().numpy()\n",
    "stuff = plt.hist(returns_,bins=100,range=[-0.05,0.05])"
   ]
  },
  {
   "cell_type": "code",
   "execution_count": null,
   "id": "366fed96",
   "metadata": {},
   "outputs": [],
   "source": []
  }
 ],
 "metadata": {
  "kernelspec": {
   "display_name": "Python 3",
   "language": "python",
   "name": "python3"
  },
  "language_info": {
   "codemirror_mode": {
    "name": "ipython",
    "version": 3
   },
   "file_extension": ".py",
   "mimetype": "text/x-python",
   "name": "python",
   "nbconvert_exporter": "python",
   "pygments_lexer": "ipython3",
   "version": "3.8.10"
  }
 },
 "nbformat": 4,
 "nbformat_minor": 5
}

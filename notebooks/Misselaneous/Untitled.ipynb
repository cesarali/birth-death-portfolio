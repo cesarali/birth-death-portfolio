{
 "cells": [
  {
   "cell_type": "code",
   "execution_count": 1,
   "id": "355b6271",
   "metadata": {},
   "outputs": [],
   "source": [
    "import os\n",
    "import pymongo\n",
    "import pandas as pd\n",
    "import json\n",
    "\n",
    "from deep_fields import data_path\n",
    "\n",
    "client = pymongo.MongoClient()"
   ]
  },
  {
   "cell_type": "code",
   "execution_count": 2,
   "id": "208a8385",
   "metadata": {},
   "outputs": [],
   "source": [
    "db = client['crypto']"
   ]
  },
  {
   "cell_type": "code",
   "execution_count": 5,
   "id": "f0c196b3",
   "metadata": {},
   "outputs": [
    {
     "name": "stderr",
     "output_type": "stream",
     "text": [
      "<ipython-input-5-8ff4d2505e25>:1: DeprecationWarning: collection_names is deprecated. Use list_collection_names instead.\n",
      "  db.collection_names()\n"
     ]
    },
    {
     "data": {
      "text/plain": [
       "['birth_2021-10-24',\n",
       " 'birth_birth_2021-06-14',\n",
       " 'birth_2021-06-08',\n",
       " 'birth_2021-06-21',\n",
       " 'birth_2021-06-20',\n",
       " 'birth_2021-06-02',\n",
       " 'birth_2021-05-10',\n",
       " 'birth_2021-06-14',\n",
       " 'birth_2021-06-16',\n",
       " 'birth_2021-06-17',\n",
       " 'birth_2021-06-19',\n",
       " 'birth_2021-10-25',\n",
       " 'birth_2021-06-18']"
      ]
     },
     "execution_count": 5,
     "metadata": {},
     "output_type": "execute_result"
    }
   ],
   "source": [
    "db.collection_names()"
   ]
  },
  {
   "cell_type": "code",
   "execution_count": 12,
   "id": "2b9a0d5a",
   "metadata": {},
   "outputs": [],
   "source": [
    "col = db['birth_2021-06-14']"
   ]
  },
  {
   "cell_type": "code",
   "execution_count": 13,
   "id": "c5b44113",
   "metadata": {},
   "outputs": [
    {
     "name": "stderr",
     "output_type": "stream",
     "text": [
      "<ipython-input-13-8cafbcc58b78>:1: DeprecationWarning: count is deprecated. Use estimated_document_count or count_documents instead. Please note that $where must be replaced by $expr, $near must be replaced by $geoWithin with $center, and $nearSphere must be replaced by $geoWithin with $centerSphere\n",
      "  col.count({})\n"
     ]
    },
    {
     "data": {
      "text/plain": [
       "7834"
      ]
     },
     "execution_count": 13,
     "metadata": {},
     "output_type": "execute_result"
    }
   ],
   "source": [
    "col.count({})"
   ]
  },
  {
   "cell_type": "code",
   "execution_count": 6,
   "id": "a1283167",
   "metadata": {},
   "outputs": [],
   "source": [
    "data_dir = os.path.join(data_path,'raw','crypto','2021-05-10')"
   ]
  },
  {
   "cell_type": "code",
   "execution_count": 41,
   "id": "f436afce",
   "metadata": {},
   "outputs": [
    {
     "data": {
      "text/plain": [
       "['ai-predicting-ecosystem_full.csv',\n",
       " 'ecosystem_datetime.csv',\n",
       " 'ecosystem_test.npy',\n",
       " 'ecosystem_train.npy',\n",
       " 'ecosystem_val.npy',\n",
       " 'education-ecosystem_full.csv',\n",
       " 'globalvillage-ecosystem_full.csv',\n",
       " 'index_ecosystem_test.npy',\n",
       " 'index_ecosystem_train.npy',\n",
       " 'index_ecosystem_val.npy',\n",
       " 'medooza-ecosystem_full.csv',\n",
       " 'ormeus-ecosystem_full.csv',\n",
       " 'reosc-ecosystem_full.csv',\n",
       " 'yearn-finance-ecosystem_full.csv']"
      ]
     },
     "execution_count": 41,
     "metadata": {},
     "output_type": "execute_result"
    }
   ],
   "source": [
    "[a for a in os.listdir(crypto_path) if \"ecosystem_\" in a]"
   ]
  },
  {
   "cell_type": "code",
   "execution_count": 37,
   "id": "d485b30a",
   "metadata": {},
   "outputs": [],
   "source": [
    "meta_data = json.load(open(os.path.join(data_dir, 'meta_ecosystem.json'), \"r\"))"
   ]
  },
  {
   "cell_type": "code",
   "execution_count": 35,
   "id": "860483e9",
   "metadata": {},
   "outputs": [
    {
     "name": "stderr",
     "output_type": "stream",
     "text": [
      "<ipython-input-35-2754e7f5e750>:1: DeprecationWarning: database_names is deprecated. Use list_database_names instead.\n",
      "  client.database_names()\n"
     ]
    }
   ],
   "source": [
    "client.database_names()\n",
    "db = client['crypto']"
   ]
  },
  {
   "cell_type": "code",
   "execution_count": 36,
   "id": "65a4682b",
   "metadata": {},
   "outputs": [],
   "source": [
    "col = db['birth_2021-05-10']"
   ]
  },
  {
   "cell_type": "code",
   "execution_count": 38,
   "id": "383f31c6",
   "metadata": {},
   "outputs": [
    {
     "data": {
      "text/plain": [
       "<pymongo.results.InsertManyResult at 0x20296488200>"
      ]
     },
     "execution_count": 38,
     "metadata": {},
     "output_type": "execute_result"
    }
   ],
   "source": [
    "col.insert_many(meta_data)"
   ]
  },
  {
   "cell_type": "code",
   "execution_count": 39,
   "id": "278cccd4",
   "metadata": {},
   "outputs": [
    {
     "data": {
      "text/plain": [
       "{'_id': ObjectId('60c708a60e6ef17137587afe'),\n",
       " 'id': 'basis-gold',\n",
       " 'symbol': 'bsg',\n",
       " 'name': 'Basis Gold',\n",
       " 'last_price': 120.19308924301751,\n",
       " 'last_volume': 231.90355882811434,\n",
       " 'last_marketcap': 0.0,\n",
       " 'survival_time': 36,\n",
       " 'last_date': '2021-04-29 02:00:00',\n",
       " 'birth_date': '2021-01-14 00:00:00',\n",
       " 'index': 0}"
      ]
     },
     "execution_count": 39,
     "metadata": {},
     "output_type": "execute_result"
    }
   ],
   "source": []
  }
 ],
 "metadata": {
  "kernelspec": {
   "display_name": "Python 3",
   "language": "python",
   "name": "python3"
  },
  "language_info": {
   "codemirror_mode": {
    "name": "ipython",
    "version": 3
   },
   "file_extension": ".py",
   "mimetype": "text/x-python",
   "name": "python",
   "nbconvert_exporter": "python",
   "pygments_lexer": "ipython3",
   "version": "3.8.10"
  }
 },
 "nbformat": 4,
 "nbformat_minor": 5
}

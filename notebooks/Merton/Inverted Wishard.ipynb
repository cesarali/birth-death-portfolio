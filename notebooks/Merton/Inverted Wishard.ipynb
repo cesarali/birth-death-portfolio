{
 "cells": [
  {
   "cell_type": "code",
   "execution_count": 1,
   "id": "bf37742f",
   "metadata": {},
   "outputs": [],
   "source": [
    "import numpy as np\n",
    "from scipy.stats import invwishart, bernoulli\n",
    "from scipy.stats import multivariate_normal\n",
    "import torch\n",
    "from torch.distributions import MultivariateNormal\n",
    "from torch import matmul as m\n",
    "\n",
    "import os\n",
    "os.environ[\"KMP_DUPLICATE_LIB_OK\"]=\"TRUE\"\n",
    "\n",
    "p = 4\n",
    "number_of_arrivals = 100\n",
    "number_of_steps = 1000\n",
    "\n",
    "#=================================\n",
    "# JUMPS ARRIVALS\n",
    "#=================================\n",
    "jumps_per_months = 3\n",
    "jumps_per_day = jumps_per_months/30.\n",
    "lambda_arrivals = jumps_per_day\n",
    "J_t = bernoulli(lambda_arrivals).rvs(number_of_steps)\n",
    "\n",
    "#=================================\n",
    "# JUMPS DISTRIBUTIONS\n",
    "#=================================\n",
    "nu = p + 1.\n",
    "Psi = np.random.rand(p, p)\n",
    "Psi = np.dot(Psi, Psi.transpose())\n",
    "\n",
    "a_J = np.ones(p)*10.\n",
    "b_J = 1.\n",
    "\n",
    "lambda_ = 1/b_J\n",
    "mu_0 = a_J\n",
    "\n",
    "IW = invwishart(nu,Psi)\n",
    "Sigma_J = IW.rvs()\n",
    "mu_J = multivariate_normal(a_J,b_J*Sigma_J).rvs()\n",
    "H_t = multivariate_normal(mu_J,Sigma_J).rvs(number_of_steps)\n",
    "\n",
    "#=================================\n",
    "# DIFFUSION DISTRIBUTIONS\n",
    "#=================================\n",
    "Sigma = np.random.rand(p,p)\n",
    "Sigma = np.dot(Sigma,Sigma.T)\n",
    "mu = np.ones(p)*0.01\n",
    "\n",
    "#=================================\n",
    "# SAMPLE\n",
    "#=================================\n",
    "\n",
    "m_t = J_t[:,None]*H_t + mu[None,:]\n",
    "Y_t = MultivariateNormal(torch.Tensor(m_t),torch.Tensor(Sigma)[None,:]).sample().numpy()"
   ]
  },
  {
   "cell_type": "markdown",
   "id": "71c3772e",
   "metadata": {},
   "source": [
    "# J_t Posterior"
   ]
  },
  {
   "cell_type": "markdown",
   "id": "0ce54874",
   "metadata": {},
   "source": [
    "\\begin{equation}\n",
    "\\lambda \\exp{-\\frac{1}{2}[(Y_t - \\mu -H_t)^T\\Sigma^{-1}(Y_t - \\mu - H_T)]}\n",
    "\\end{equation}"
   ]
  },
  {
   "cell_type": "code",
   "execution_count": 2,
   "id": "b6aaf4e4",
   "metadata": {},
   "outputs": [],
   "source": [
    "Sigma = torch.Tensor(Sigma)\n",
    "Sigma_inv = torch.inverse(Sigma)"
   ]
  },
  {
   "cell_type": "code",
   "execution_count": 3,
   "id": "984aa84e",
   "metadata": {},
   "outputs": [],
   "source": [
    "jm_1 = torch.Tensor(Y_t - mu[None,:] -  H_t).unsqueeze(1)\n",
    "pb_1 = -0.5*torch.matmul(torch.matmul(jm_1,Sigma_inv[None,:]),jm_1.permute(0,2,1)).squeeze()\n",
    "pb_1 = torch.exp(pb_1)\n",
    "pb_1 = lambda_arrivals*pb_1.numpy()\n",
    "\n",
    "jm_0 = torch.Tensor(Y_t - mu[None,:]).unsqueeze(1)\n",
    "pb_0 = -0.5*torch.matmul(torch.matmul(jm_0,Sigma_inv[None,:]),jm_0.permute(0,2,1)).squeeze()\n",
    "pb_0 = torch.exp(pb_0)\n",
    "pb_0 = (1.-lambda_arrivals)*pb_0.numpy()"
   ]
  },
  {
   "cell_type": "code",
   "execution_count": 4,
   "id": "b879df27",
   "metadata": {},
   "outputs": [
    {
     "data": {
      "text/plain": [
       "torch.Size([1000, 1, 4])"
      ]
     },
     "execution_count": 4,
     "metadata": {},
     "output_type": "execute_result"
    }
   ],
   "source": [
    "jm_0.shape"
   ]
  },
  {
   "cell_type": "code",
   "execution_count": 5,
   "id": "2b28cc45",
   "metadata": {},
   "outputs": [],
   "source": [
    "p = pb_1/(pb_0 + pb_1)"
   ]
  },
  {
   "cell_type": "code",
   "execution_count": 6,
   "id": "6126d2b8",
   "metadata": {},
   "outputs": [],
   "source": [
    "j_posterior = bernoulli(p)"
   ]
  },
  {
   "cell_type": "code",
   "execution_count": 7,
   "id": "a7482553",
   "metadata": {},
   "outputs": [
    {
     "data": {
      "text/plain": [
       "102.0"
      ]
     },
     "execution_count": 7,
     "metadata": {},
     "output_type": "execute_result"
    }
   ],
   "source": [
    "number_of_arrivals = []\n",
    "for i in range(100):\n",
    "    number_of_arrivals.append(j_posterior.rvs().sum())\n",
    "np.array(number_of_arrivals).mean()"
   ]
  },
  {
   "cell_type": "code",
   "execution_count": 8,
   "id": "3b895b05",
   "metadata": {},
   "outputs": [
    {
     "data": {
      "text/plain": [
       "102"
      ]
     },
     "execution_count": 8,
     "metadata": {},
     "output_type": "execute_result"
    }
   ],
   "source": [
    "J_t.sum()"
   ]
  },
  {
   "cell_type": "markdown",
   "id": "ee9b3542",
   "metadata": {},
   "source": [
    "# $\\mu_J$, $\\Sigma_J$ Posteriors"
   ]
  },
  {
   "cell_type": "markdown",
   "id": "194ee34a",
   "metadata": {},
   "source": [
    "Jump Size $H_t$, Jump Arrival $J_t$ \n",
    "\n",
    "\\begin{equation}\n",
    "\\Theta = (\\mu,\\Sigma,\\lambda,\\mu_J,\\Sigma_J)\n",
    "\\end{equation}\n",
    "\n",
    "\\begin{equation}\n",
    " P(Y_t|J_t,H_t,\\Theta) \\propto \n",
    " |\\Sigma|^{-1/2}\\exp\\left\\{-\\frac{1}{2}(Y_t - \\mu -H_t J_t)^T\\Sigma^{-1}(Y_t-\\mu-H_t J_t)\\right\\}\n",
    "\\end{equation}\n",
    "\n",
    "\\begin{equation}\n",
    "    P(H_t|\\Theta) \\propto \\exp{{-\\frac{1}{2}(H_t-\\mu_J)^T \\Sigma_J^{-1} (H_t - \\mu_J)}}\n",
    "\\end{equation}\n",
    "\n",
    "\\begin{equation}\n",
    "    P(H_t|Y_t,J_t,\\Theta) \\propto \\exp{{-\\frac{1}{2}(H_t - m_t)^T V^{-1}_t (H_t - m_t)}}\n",
    "\\end{equation}\n",
    "\n",
    "\\begin{equation}\n",
    "V_t = (J_t\\Sigma^{-1} + \\Sigma_J)^{-1}\n",
    "\\end{equation}\n",
    "\n",
    "\\begin{equation}\n",
    "m_t = \\Sigma_J^{-1}(J_t\\Sigma(Y_t-\\mu)+\\Sigma^{-1}_J\\mu_Z)\n",
    "\\end{equation}"
   ]
  },
  {
   "cell_type": "code",
   "execution_count": 9,
   "id": "ca7fb6bc",
   "metadata": {},
   "outputs": [],
   "source": [
    "y_av = H_t.mean(axis=0)"
   ]
  },
  {
   "cell_type": "code",
   "execution_count": 10,
   "id": "12a43803",
   "metadata": {},
   "outputs": [],
   "source": [
    "n = H_t.shape[0]\n",
    "mu_n = (lambda_*mu_0+n*y_av)/(lambda_+n)\n",
    "lambda_n = lambda_ + n\n",
    "nu_n = nu + n\n",
    "\n",
    "s_0 = torch.Tensor(y_av - mu_0).unsqueeze(1)\n",
    "S_0 = torch.matmul(s_0,s_0.T).numpy()\n",
    "\n",
    "s = torch.Tensor(H_t - y_av).unsqueeze(-1)\n",
    "S = torch.matmul(s,s.permute(0,2,1)).sum(axis=0).numpy()\n",
    "\n",
    "Psi_n = Psi + S + ((lambda_*n)/(lambda_+n))*S_0"
   ]
  },
  {
   "cell_type": "code",
   "execution_count": 11,
   "id": "f1ca5913",
   "metadata": {},
   "outputs": [],
   "source": [
    "NMC = 1000\n",
    "#for mc_index in range():\n",
    "Sigma = invwishart(nu_n,Psi_n).rvs()\n",
    "mu = multivariate_normal(mu_n,Sigma/lambda_n).rvs()"
   ]
  },
  {
   "cell_type": "code",
   "execution_count": 12,
   "id": "0c34ffb0",
   "metadata": {},
   "outputs": [
    {
     "data": {
      "text/plain": [
       "array([9.29702858, 8.4367421 , 9.23530559, 8.82459373])"
      ]
     },
     "execution_count": 12,
     "metadata": {},
     "output_type": "execute_result"
    }
   ],
   "source": [
    "mu_J"
   ]
  },
  {
   "cell_type": "code",
   "execution_count": 13,
   "id": "a8b3f9da",
   "metadata": {},
   "outputs": [
    {
     "data": {
      "text/plain": [
       "array([9.27232058, 8.41797975, 9.23548781, 8.80035538])"
      ]
     },
     "execution_count": 13,
     "metadata": {},
     "output_type": "execute_result"
    }
   ],
   "source": [
    "mu"
   ]
  },
  {
   "cell_type": "code",
   "execution_count": 14,
   "id": "7f8aaf9e",
   "metadata": {},
   "outputs": [
    {
     "data": {
      "text/plain": [
       "array([[0.46766362, 0.45753379, 0.11386269, 0.49773454],\n",
       "       [0.45753379, 2.29086115, 1.45103042, 1.19376788],\n",
       "       [0.11386269, 1.45103042, 1.01945872, 0.64517574],\n",
       "       [0.49773454, 1.19376788, 0.64517574, 0.84154823]])"
      ]
     },
     "execution_count": 14,
     "metadata": {},
     "output_type": "execute_result"
    }
   ],
   "source": [
    "Sigma"
   ]
  },
  {
   "cell_type": "code",
   "execution_count": 15,
   "id": "52569365",
   "metadata": {},
   "outputs": [
    {
     "data": {
      "text/plain": [
       "array([[0.49029687, 0.46062948, 0.11284662, 0.51514141],\n",
       "       [0.46062948, 2.15463335, 1.3638229 , 1.13863476],\n",
       "       [0.11284662, 1.3638229 , 0.96248812, 0.60656273],\n",
       "       [0.51514141, 1.13863476, 0.60656273, 0.83442059]])"
      ]
     },
     "execution_count": 15,
     "metadata": {},
     "output_type": "execute_result"
    }
   ],
   "source": [
    "Sigma_J"
   ]
  },
  {
   "cell_type": "markdown",
   "id": "377c5820",
   "metadata": {},
   "source": [
    "# H_t Posteriors (Jumps size)"
   ]
  },
  {
   "cell_type": "code",
   "execution_count": 16,
   "id": "6f0c660e",
   "metadata": {},
   "outputs": [
    {
     "data": {
      "text/plain": [
       "array([[0.46766362, 0.45753379, 0.11386269, 0.49773454],\n",
       "       [0.45753379, 2.29086115, 1.45103042, 1.19376788],\n",
       "       [0.11386269, 1.45103042, 1.01945872, 0.64517574],\n",
       "       [0.49773454, 1.19376788, 0.64517574, 0.84154823]])"
      ]
     },
     "execution_count": 16,
     "metadata": {},
     "output_type": "execute_result"
    }
   ],
   "source": [
    "Sigma"
   ]
  },
  {
   "cell_type": "code",
   "execution_count": 17,
   "id": "acdc0c07",
   "metadata": {},
   "outputs": [],
   "source": [
    "Y_t = torch.Tensor(Y_t)\n",
    "mu = torch.Tensor(mu)\n",
    "J_t = torch.Tensor(J_t)\n",
    "mu_J = torch.Tensor(mu_J)"
   ]
  },
  {
   "cell_type": "code",
   "execution_count": 18,
   "id": "e131cd82",
   "metadata": {},
   "outputs": [],
   "source": [
    "Sigma_inverse = torch.inverse(torch.Tensor(Sigma))\n",
    "Sigma_J_inverse = torch.inverse(torch.Tensor(Sigma_J))\n",
    "Join_Covariance = torch.inverse(Sigma_inverse + Sigma_J_inverse)"
   ]
  },
  {
   "cell_type": "code",
   "execution_count": 19,
   "id": "25c03382",
   "metadata": {},
   "outputs": [],
   "source": [
    "jumps_size_posterior_covariance = torch.zeros(H_t.shape[0], H_t.shape[1], H_t.shape[1])"
   ]
  },
  {
   "cell_type": "code",
   "execution_count": 20,
   "id": "4f80fc4c",
   "metadata": {},
   "outputs": [],
   "source": [
    "#J_t = torch.Tensor(J_t).long()"
   ]
  },
  {
   "cell_type": "code",
   "execution_count": 53,
   "id": "7a096bfb",
   "metadata": {},
   "outputs": [],
   "source": [
    "jumps_size_posterior_covariance[torch.where(J_t == 1)[0]] = Join_Covariance[None,:, :]\n",
    "\n",
    "jumps_size_posterior_covariance[torch.where(J_t == 0.)[0]] = torch.Tensor(Sigma_J)[None, :, :]"
   ]
  },
  {
   "cell_type": "code",
   "execution_count": 85,
   "id": "daf8c2bb",
   "metadata": {},
   "outputs": [],
   "source": [
    "jumps_size_posterior_mean = torch.matmul(Sigma_inverse[None, :, :],\n",
    "                                        (Y_t - mu[None, :]).unsqueeze(-1))"
   ]
  },
  {
   "cell_type": "code",
   "execution_count": 86,
   "id": "c4acabb3",
   "metadata": {},
   "outputs": [],
   "source": [
    "jumps_size_posterior_mean = J_t[:, None, None] * jumps_size_posterior_mean"
   ]
  },
  {
   "cell_type": "code",
   "execution_count": 93,
   "id": "0c9875a6",
   "metadata": {},
   "outputs": [
    {
     "data": {
      "text/plain": [
       "torch.Size([1000, 4, 1])"
      ]
     },
     "execution_count": 93,
     "metadata": {},
     "output_type": "execute_result"
    }
   ],
   "source": [
    "jumps_size_posterior_mean.shape"
   ]
  },
  {
   "cell_type": "code",
   "execution_count": 56,
   "id": "730e8b50",
   "metadata": {},
   "outputs": [],
   "source": [
    "jumps_size_posterior_mean_b = m(Sigma_J_inverse,mu_J)"
   ]
  },
  {
   "cell_type": "code",
   "execution_count": 57,
   "id": "7560fd22",
   "metadata": {},
   "outputs": [],
   "source": [
    "jumps_size_posterior_mean = jumps_size_posterior_mean + jumps_size_posterior_mean_b[None,:,None]"
   ]
  },
  {
   "cell_type": "code",
   "execution_count": 58,
   "id": "d3f87732",
   "metadata": {},
   "outputs": [],
   "source": [
    "jumps_size_posterior_mean = m(jumps_size_posterior_covariance,jumps_size_posterior_mean).squeeze()"
   ]
  },
  {
   "cell_type": "code",
   "execution_count": 59,
   "id": "b63fa189",
   "metadata": {},
   "outputs": [],
   "source": [
    "jumps_size_posterior = MultivariateNormal(jumps_size_posterior_mean, jumps_size_posterior_covariance)"
   ]
  },
  {
   "cell_type": "code",
   "execution_count": 60,
   "id": "5a1038a2",
   "metadata": {},
   "outputs": [
    {
     "data": {
      "text/plain": [
       "torch.Size([1000, 4, 4])"
      ]
     },
     "execution_count": 60,
     "metadata": {},
     "output_type": "execute_result"
    }
   ],
   "source": [
    "jumps_size_posterior_covariance.shape"
   ]
  },
  {
   "cell_type": "code",
   "execution_count": 75,
   "id": "b69dfbce",
   "metadata": {},
   "outputs": [],
   "source": [
    "jumps_sample = []\n",
    "for i in range(900):\n",
    "    jumps_sample.append(jumps_size_posterior.sample().unsqueeze(1))\n",
    "jumps_sample = torch.cat(jumps_sample,axis=1)"
   ]
  },
  {
   "cell_type": "code",
   "execution_count": 94,
   "id": "c51621eb",
   "metadata": {},
   "outputs": [
    {
     "data": {
      "text/plain": [
       "tensor([9.2969, 8.4379, 9.2359, 8.8245])"
      ]
     },
     "execution_count": 94,
     "metadata": {},
     "output_type": "execute_result"
    }
   ],
   "source": [
    "jumps_sample[torch.where(J_t == 0)].mean(axis=0).mean(axis=0)"
   ]
  },
  {
   "cell_type": "code",
   "execution_count": 1,
   "id": "dcdfceab",
   "metadata": {},
   "outputs": [],
   "source": [
    "#jumps_sample[torch.where(J_t == 1)]"
   ]
  },
  {
   "cell_type": "code",
   "execution_count": 73,
   "id": "193ad46f",
   "metadata": {},
   "outputs": [
    {
     "data": {
      "text/plain": [
       "tensor([8.7234, 7.8069, 8.6688, 8.2435])"
      ]
     },
     "execution_count": 73,
     "metadata": {},
     "output_type": "execute_result"
    }
   ],
   "source": [
    "#jumps_sample.mean(axis=0).mean(axis=0)"
   ]
  },
  {
   "cell_type": "code",
   "execution_count": 82,
   "id": "4969fcce",
   "metadata": {},
   "outputs": [
    {
     "data": {
      "text/plain": [
       "array([9.30067562, 8.43106008, 9.22647296, 8.81899345])"
      ]
     },
     "execution_count": 82,
     "metadata": {},
     "output_type": "execute_result"
    }
   ],
   "source": [
    "H_t[torch.where(J_t == 0)].mean(axis=0)"
   ]
  },
  {
   "cell_type": "code",
   "execution_count": 83,
   "id": "f69729b8",
   "metadata": {},
   "outputs": [
    {
     "data": {
      "text/plain": [
       "array([9.23438509, 8.3157414 , 9.19214852, 8.76781663])"
      ]
     },
     "execution_count": 83,
     "metadata": {},
     "output_type": "execute_result"
    }
   ],
   "source": [
    "H_t[torch.where(J_t == 1)].mean(axis=0)"
   ]
  },
  {
   "cell_type": "code",
   "execution_count": 71,
   "id": "04303eeb",
   "metadata": {},
   "outputs": [
    {
     "data": {
      "text/plain": [
       "tensor([9.2970, 8.4367, 9.2353, 8.8246])"
      ]
     },
     "execution_count": 71,
     "metadata": {},
     "output_type": "execute_result"
    }
   ],
   "source": [
    "mu_J"
   ]
  },
  {
   "cell_type": "code",
   "execution_count": null,
   "id": "750122d3",
   "metadata": {},
   "outputs": [],
   "source": []
  }
 ],
 "metadata": {
  "kernelspec": {
   "display_name": "Python 3",
   "language": "python",
   "name": "python3"
  },
  "language_info": {
   "codemirror_mode": {
    "name": "ipython",
    "version": 3
   },
   "file_extension": ".py",
   "mimetype": "text/x-python",
   "name": "python",
   "nbconvert_exporter": "python",
   "pygments_lexer": "ipython3",
   "version": "3.8.12"
  }
 },
 "nbformat": 4,
 "nbformat_minor": 5
}

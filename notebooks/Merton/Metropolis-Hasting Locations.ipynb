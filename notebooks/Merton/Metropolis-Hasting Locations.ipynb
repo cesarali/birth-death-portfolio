{
 "cells": [
  {
   "cell_type": "code",
   "execution_count": 1,
   "id": "ab918a6d",
   "metadata": {},
   "outputs": [],
   "source": [
    "import torch\n",
    "import numpy as np\n",
    "import pandas as pd\n",
    "from pprint import pprint\n",
    "from matplotlib import pyplot as plt\n",
    "\n",
    "from gpytorch.kernels import RBFKernel, ScaleKernel\n",
    "from torch.distributions import Normal, MultivariateNormal\n",
    "from deep_fields.models.gaussian_processes.gaussian_processes import multivariate_normal, white_noise_kernel\n",
    "\n",
    "from torch import distributions as D\n",
    "from torch.distributions import MixtureSameFamily\n",
    "\n",
    "from deep_fields.models.random_fields.poisson_covariance import PoissonCovariance\n",
    "\n",
    "%matplotlib inline"
   ]
  },
  {
   "cell_type": "markdown",
   "id": "a5d4bf6f",
   "metadata": {},
   "source": [
    "\\begin{equation}\n",
    "    P(Z,\\phi|\\mathcal{D}) = \\prod^N_{i=1}\\frac{P(f_i|0,\\Sigma(Z,\\phi))P(Z)P(\\phi)}{\\mathcal{Z}}\n",
    "\\end{equation}\n",
    "\n",
    "\\begin{equation}\n",
    "\\Sigma_{i,j}(Z) = k_\\phi(z_i,z_j)\n",
    "\\end{equation}\n",
    "\n",
    "\\begin{equation}\n",
    "Z \\sim \\mathcal{N}(0,\\sigma_z^2\\mathcal{I})\n",
    "\\end{equation}"
   ]
  },
  {
   "cell_type": "code",
   "execution_count": 3,
   "id": "e8badb60",
   "metadata": {
    "collapsed": true
   },
   "outputs": [
    {
     "name": "stdout",
     "output_type": "stream",
     "text": [
      "New Model Set For Inference\n",
      "(<class 'AttributeError'>, AttributeError(\"'NoneType' object has no attribute 'get'\"), <traceback object at 0x000001FD0D957C80>)\n",
      "{'nmc': 1000,\n",
      " 'train_lenght': False,\n",
      " 'train_locations': True,\n",
      " 'train_sigma': False}\n",
      "New Model Set For Inference\n",
      "Data Loader has No Parameters\n",
      "#      ---------------- \n",
      "#      Start of MCMC    \n",
      "#      ---------------- \n"
     ]
    },
    {
     "name": "stderr",
     "output_type": "stream",
     "text": [
      "  0%|▏                                                                                | 3/1000 [00:00<00:42, 23.32it/s]"
     ]
    },
    {
     "name": "stdout",
     "output_type": "stream",
     "text": [
      "Monte Carlo 0\n",
      "Monte Carlo 1\n",
      "Monte Carlo 2\n",
      "Monte Carlo 3\n"
     ]
    },
    {
     "name": "stderr",
     "output_type": "stream",
     "text": [
      "\r",
      "  1%|▍                                                                                | 6/1000 [00:00<00:55, 17.99it/s]"
     ]
    },
    {
     "name": "stdout",
     "output_type": "stream",
     "text": [
      "Monte Carlo 4\n",
      "Monte Carlo 5\n",
      "Monte Carlo 6\n",
      "Monte Carlo 7\n"
     ]
    },
    {
     "name": "stderr",
     "output_type": "stream",
     "text": [
      "  1%|▊                                                                               | 10/1000 [00:00<00:53, 18.63it/s]"
     ]
    },
    {
     "name": "stdout",
     "output_type": "stream",
     "text": [
      "Monte Carlo 8\n",
      "Monte Carlo 9\n",
      "Monte Carlo 10\n",
      "Monte Carlo 11\n"
     ]
    },
    {
     "name": "stderr",
     "output_type": "stream",
     "text": [
      "  2%|█▏                                                                              | 15/1000 [00:00<00:53, 18.54it/s]"
     ]
    },
    {
     "name": "stdout",
     "output_type": "stream",
     "text": [
      "Monte Carlo 12\n",
      "Monte Carlo 13\n",
      "Monte Carlo 14\n",
      "Monte Carlo 15\n"
     ]
    },
    {
     "name": "stderr",
     "output_type": "stream",
     "text": [
      "  2%|█▌                                                                              | 19/1000 [00:01<00:57, 17.04it/s]"
     ]
    },
    {
     "name": "stdout",
     "output_type": "stream",
     "text": [
      "Monte Carlo 16\n",
      "Monte Carlo 17\n",
      "Monte Carlo 18\n",
      "Monte Carlo 19\n"
     ]
    },
    {
     "name": "stderr",
     "output_type": "stream",
     "text": [
      "  2%|█▊                                                                              | 23/1000 [00:01<00:56, 17.22it/s]"
     ]
    },
    {
     "name": "stdout",
     "output_type": "stream",
     "text": [
      "Monte Carlo 20\n",
      "Monte Carlo 21\n",
      "Monte Carlo 22\n",
      "Monte Carlo 23\n"
     ]
    },
    {
     "name": "stderr",
     "output_type": "stream",
     "text": [
      "\r",
      "  2%|██                                                                              | 25/1000 [00:01<00:57, 17.07it/s]"
     ]
    },
    {
     "name": "stdout",
     "output_type": "stream",
     "text": [
      "Monte Carlo 24\n",
      "Monte Carlo 25\n",
      "Monte Carlo 26\n"
     ]
    },
    {
     "name": "stderr",
     "output_type": "stream",
     "text": [
      "  3%|██▎                                                                             | 29/1000 [00:01<00:59, 16.20it/s]"
     ]
    },
    {
     "name": "stdout",
     "output_type": "stream",
     "text": [
      "Monte Carlo 27\n",
      "Monte Carlo 28\n",
      "Monte Carlo 29\n",
      "Monte Carlo 30\n"
     ]
    },
    {
     "name": "stderr",
     "output_type": "stream",
     "text": [
      "  3%|██▋                                                                             | 33/1000 [00:01<00:55, 17.28it/s]"
     ]
    },
    {
     "name": "stdout",
     "output_type": "stream",
     "text": [
      "Monte Carlo 31\n",
      "Monte Carlo 32\n",
      "Monte Carlo 33\n",
      "Monte Carlo 34\n"
     ]
    },
    {
     "name": "stderr",
     "output_type": "stream",
     "text": [
      "  4%|██▉                                                                             | 37/1000 [00:02<01:00, 15.81it/s]"
     ]
    },
    {
     "name": "stdout",
     "output_type": "stream",
     "text": [
      "Monte Carlo 35\n",
      "Monte Carlo 36\n",
      "Monte Carlo 37\n",
      "Monte Carlo 38\n"
     ]
    },
    {
     "name": "stderr",
     "output_type": "stream",
     "text": [
      "  4%|███▎                                                                            | 42/1000 [00:02<00:56, 16.90it/s]"
     ]
    },
    {
     "name": "stdout",
     "output_type": "stream",
     "text": [
      "Monte Carlo 39\n",
      "Monte Carlo 40\n",
      "Monte Carlo 41\n",
      "Monte Carlo 42\n"
     ]
    },
    {
     "name": "stderr",
     "output_type": "stream",
     "text": [
      "\r",
      "  4%|███▌                                                                            | 44/1000 [00:02<00:57, 16.61it/s]"
     ]
    },
    {
     "name": "stdout",
     "output_type": "stream",
     "text": [
      "Monte Carlo 43\n",
      "Monte Carlo 44\n",
      "Monte Carlo 45\n"
     ]
    },
    {
     "name": "stderr",
     "output_type": "stream",
     "text": [
      "  5%|███▉                                                                            | 49/1000 [00:02<00:54, 17.40it/s]"
     ]
    },
    {
     "name": "stdout",
     "output_type": "stream",
     "text": [
      "Monte Carlo 46\n",
      "Monte Carlo 47\n",
      "Monte Carlo 48\n",
      "Monte Carlo 49\n",
      "Monte Carlo 50\n"
     ]
    },
    {
     "name": "stderr",
     "output_type": "stream",
     "text": [
      "  5%|████▎                                                                           | 54/1000 [00:03<00:52, 18.06it/s]"
     ]
    },
    {
     "name": "stdout",
     "output_type": "stream",
     "text": [
      "Monte Carlo 51\n",
      "Monte Carlo 52\n",
      "Monte Carlo 53\n",
      "Monte Carlo 54\n"
     ]
    },
    {
     "name": "stderr",
     "output_type": "stream",
     "text": [
      "  6%|████▋                                                                           | 58/1000 [00:03<00:59, 15.96it/s]"
     ]
    },
    {
     "name": "stdout",
     "output_type": "stream",
     "text": [
      "Monte Carlo 55\n",
      "Monte Carlo 56\n",
      "Monte Carlo 57\n"
     ]
    },
    {
     "name": "stderr",
     "output_type": "stream",
     "text": [
      "\r",
      "  6%|████▊                                                                           | 60/1000 [00:03<00:58, 16.16it/s]"
     ]
    },
    {
     "name": "stdout",
     "output_type": "stream",
     "text": [
      "Monte Carlo 58\n",
      "Monte Carlo 59\n",
      "Monte Carlo 60\n",
      "Monte Carlo 61\n"
     ]
    },
    {
     "name": "stderr",
     "output_type": "stream",
     "text": [
      "  6%|█████                                                                           | 64/1000 [00:03<01:00, 15.54it/s]"
     ]
    },
    {
     "name": "stdout",
     "output_type": "stream",
     "text": [
      "Monte Carlo 62\n",
      "Monte Carlo 63\n",
      "Monte Carlo 64\n"
     ]
    },
    {
     "name": "stderr",
     "output_type": "stream",
     "text": [
      "  7%|█████▍                                                                          | 68/1000 [00:04<00:56, 16.41it/s]"
     ]
    },
    {
     "name": "stdout",
     "output_type": "stream",
     "text": [
      "Monte Carlo 65\n",
      "Monte Carlo 66\n",
      "Monte Carlo 67\n",
      "Monte Carlo 68\n"
     ]
    },
    {
     "name": "stderr",
     "output_type": "stream",
     "text": [
      "  7%|█████▊                                                                          | 72/1000 [00:04<00:57, 16.27it/s]"
     ]
    },
    {
     "name": "stdout",
     "output_type": "stream",
     "text": [
      "Monte Carlo 69\n",
      "Monte Carlo 70\n",
      "Monte Carlo 71\n",
      "Monte Carlo 72\n"
     ]
    },
    {
     "name": "stderr",
     "output_type": "stream",
     "text": [
      "\r",
      "  7%|█████▉                                                                          | 74/1000 [00:04<00:55, 16.60it/s]"
     ]
    },
    {
     "name": "stdout",
     "output_type": "stream",
     "text": [
      "Monte Carlo 73\n",
      "Monte Carlo 74\n",
      "Monte Carlo 75\n"
     ]
    },
    {
     "name": "stderr",
     "output_type": "stream",
     "text": [
      "  8%|██████▏                                                                         | 78/1000 [00:04<00:58, 15.77it/s]"
     ]
    },
    {
     "name": "stdout",
     "output_type": "stream",
     "text": [
      "Monte Carlo 76\n",
      "Monte Carlo 77\n",
      "Monte Carlo 78\n",
      "Monte Carlo 79\n"
     ]
    },
    {
     "name": "stderr",
     "output_type": "stream",
     "text": [
      "  8%|██████▌                                                                         | 82/1000 [00:04<01:02, 14.80it/s]"
     ]
    },
    {
     "name": "stdout",
     "output_type": "stream",
     "text": [
      "Monte Carlo 80\n",
      "Monte Carlo 81\n",
      "Monte Carlo 82\n"
     ]
    },
    {
     "name": "stderr",
     "output_type": "stream",
     "text": [
      "  9%|██████▉                                                                         | 86/1000 [00:05<00:59, 15.33it/s]"
     ]
    },
    {
     "name": "stdout",
     "output_type": "stream",
     "text": [
      "Monte Carlo 83\n",
      "Monte Carlo 84\n",
      "Monte Carlo 85\n",
      "Monte Carlo 86\n"
     ]
    },
    {
     "name": "stderr",
     "output_type": "stream",
     "text": [
      "\r",
      "  9%|███████                                                                         | 88/1000 [00:05<00:59, 15.29it/s]"
     ]
    },
    {
     "name": "stdout",
     "output_type": "stream",
     "text": [
      "Monte Carlo 87\n",
      "Monte Carlo 88\n",
      "Monte Carlo 89\n"
     ]
    },
    {
     "name": "stderr",
     "output_type": "stream",
     "text": [
      "  9%|███████▎                                                                        | 92/1000 [00:05<01:08, 13.25it/s]"
     ]
    },
    {
     "name": "stdout",
     "output_type": "stream",
     "text": [
      "Monte Carlo 90\n",
      "Monte Carlo 91\n"
     ]
    },
    {
     "name": "stderr",
     "output_type": "stream",
     "text": [
      "\r",
      "  9%|███████▌                                                                        | 94/1000 [00:05<01:07, 13.37it/s]"
     ]
    },
    {
     "name": "stdout",
     "output_type": "stream",
     "text": [
      "Monte Carlo 92\n",
      "Monte Carlo 93\n",
      "Monte Carlo 94\n"
     ]
    },
    {
     "name": "stderr",
     "output_type": "stream",
     "text": [
      "\r",
      " 10%|███████▋                                                                        | 96/1000 [00:05<01:07, 13.42it/s]"
     ]
    },
    {
     "name": "stdout",
     "output_type": "stream",
     "text": [
      "Monte Carlo 95\n",
      "Monte Carlo 96\n",
      "Monte Carlo 97\n"
     ]
    },
    {
     "name": "stderr",
     "output_type": "stream",
     "text": [
      " 10%|███████▉                                                                       | 100/1000 [00:06<01:02, 14.33it/s]"
     ]
    },
    {
     "name": "stdout",
     "output_type": "stream",
     "text": [
      "Monte Carlo 98\n",
      "Monte Carlo 99\n",
      "Monte Carlo 100\n"
     ]
    },
    {
     "name": "stderr",
     "output_type": "stream",
     "text": [
      "\r",
      " 10%|████████                                                                       | 102/1000 [00:06<01:01, 14.71it/s]"
     ]
    },
    {
     "name": "stdout",
     "output_type": "stream",
     "text": [
      "Monte Carlo 101\n",
      "Monte Carlo 102\n",
      "Monte Carlo 103\n",
      "Monte Carlo 104\n"
     ]
    },
    {
     "name": "stderr",
     "output_type": "stream",
     "text": [
      " 11%|████████▍                                                                      | 107/1000 [00:06<00:57, 15.55it/s]"
     ]
    },
    {
     "name": "stdout",
     "output_type": "stream",
     "text": [
      "Monte Carlo 105\n",
      "Monte Carlo 106\n",
      "Monte Carlo 107\n",
      "Monte Carlo 108"
     ]
    },
    {
     "name": "stderr",
     "output_type": "stream",
     "text": [
      "\r",
      " 11%|████████▌                                                                      | 109/1000 [00:06<01:03, 14.08it/s]"
     ]
    },
    {
     "name": "stdout",
     "output_type": "stream",
     "text": [
      "\n",
      "Monte Carlo 109\n",
      "Monte Carlo 110\n"
     ]
    },
    {
     "name": "stderr",
     "output_type": "stream",
     "text": [
      " 11%|████████▉                                                                      | 113/1000 [00:07<01:05, 13.57it/s]"
     ]
    },
    {
     "name": "stdout",
     "output_type": "stream",
     "text": [
      "Monte Carlo 111\n",
      "Monte Carlo 112\n",
      "Monte Carlo 113\n"
     ]
    },
    {
     "name": "stderr",
     "output_type": "stream",
     "text": [
      " 12%|█████████▏                                                                     | 117/1000 [00:07<00:59, 14.95it/s]"
     ]
    },
    {
     "name": "stdout",
     "output_type": "stream",
     "text": [
      "Monte Carlo 114\n",
      "Monte Carlo 115\n",
      "Monte Carlo 116\n",
      "Monte Carlo 117\n"
     ]
    },
    {
     "name": "stderr",
     "output_type": "stream",
     "text": [
      " 12%|█████████▌                                                                     | 121/1000 [00:07<00:54, 16.16it/s]"
     ]
    },
    {
     "name": "stdout",
     "output_type": "stream",
     "text": [
      "Monte Carlo 118\n",
      "Monte Carlo 119\n",
      "Monte Carlo 120\n",
      "Monte Carlo 121\n"
     ]
    },
    {
     "name": "stderr",
     "output_type": "stream",
     "text": [
      "\r",
      " 12%|█████████▋                                                                     | 123/1000 [00:07<01:07, 12.96it/s]"
     ]
    },
    {
     "name": "stdout",
     "output_type": "stream",
     "text": [
      "Monte Carlo 122\n",
      "Monte Carlo 123\n",
      "Monte Carlo 124\n"
     ]
    },
    {
     "name": "stderr",
     "output_type": "stream",
     "text": [
      " 13%|██████████                                                                     | 127/1000 [00:08<01:27, 10.01it/s]"
     ]
    },
    {
     "name": "stdout",
     "output_type": "stream",
     "text": [
      "Monte Carlo 125\n",
      "Monte Carlo 126\n",
      "Monte Carlo 127\n"
     ]
    },
    {
     "name": "stderr",
     "output_type": "stream",
     "text": [
      "\r",
      " 13%|██████████▏                                                                    | 129/1000 [00:08<01:20, 10.79it/s]"
     ]
    },
    {
     "name": "stdout",
     "output_type": "stream",
     "text": [
      "Monte Carlo 128\n",
      "Monte Carlo 129\n",
      "Monte Carlo 130\n"
     ]
    },
    {
     "name": "stderr",
     "output_type": "stream",
     "text": [
      " 13%|██████████▌                                                                    | 133/1000 [00:08<01:09, 12.48it/s]"
     ]
    },
    {
     "name": "stdout",
     "output_type": "stream",
     "text": [
      "Monte Carlo 131\n",
      "Monte Carlo 132\n",
      "Monte Carlo 133\n"
     ]
    },
    {
     "name": "stderr",
     "output_type": "stream",
     "text": [
      " 14%|██████████▊                                                                    | 137/1000 [00:09<01:02, 13.83it/s]"
     ]
    },
    {
     "name": "stdout",
     "output_type": "stream",
     "text": [
      "Monte Carlo 134\n",
      "Monte Carlo 135\n",
      "Monte Carlo 136\n",
      "Monte Carlo 137\n"
     ]
    },
    {
     "name": "stderr",
     "output_type": "stream",
     "text": [
      " 14%|███████████▏                                                                   | 141/1000 [00:09<00:57, 15.01it/s]"
     ]
    },
    {
     "name": "stdout",
     "output_type": "stream",
     "text": [
      "Monte Carlo 138\n",
      "Monte Carlo 139\n",
      "Monte Carlo 140\n"
     ]
    },
    {
     "name": "stderr",
     "output_type": "stream",
     "text": [
      "\r",
      " 14%|███████████▎                                                                   | 143/1000 [00:09<00:55, 15.48it/s]"
     ]
    },
    {
     "name": "stdout",
     "output_type": "stream",
     "text": [
      "Monte Carlo 141\n",
      "Monte Carlo 142\n",
      "Monte Carlo 143\n",
      "Monte Carlo 144\n"
     ]
    },
    {
     "name": "stderr",
     "output_type": "stream",
     "text": [
      " 15%|███████████▋                                                                   | 148/1000 [00:09<00:54, 15.73it/s]"
     ]
    },
    {
     "name": "stdout",
     "output_type": "stream",
     "text": [
      "Monte Carlo 145\n",
      "Monte Carlo 146\n",
      "Monte Carlo 147\n"
     ]
    },
    {
     "name": "stderr",
     "output_type": "stream",
     "text": [
      "\r",
      " 15%|███████████▊                                                                   | 150/1000 [00:09<00:55, 15.45it/s]"
     ]
    },
    {
     "name": "stdout",
     "output_type": "stream",
     "text": [
      "Monte Carlo 148\n",
      "Monte Carlo 149\n",
      "Monte Carlo 150\n",
      "Monte Carlo 151"
     ]
    },
    {
     "name": "stderr",
     "output_type": "stream",
     "text": [
      "\r",
      " 15%|████████████                                                                   | 152/1000 [00:09<00:56, 14.93it/s]"
     ]
    },
    {
     "name": "stdout",
     "output_type": "stream",
     "text": [
      "\n",
      "Monte Carlo 152\n",
      "Monte Carlo 153\n"
     ]
    },
    {
     "name": "stderr",
     "output_type": "stream",
     "text": [
      " 16%|████████████▎                                                                  | 156/1000 [00:10<00:58, 14.35it/s]"
     ]
    },
    {
     "name": "stdout",
     "output_type": "stream",
     "text": [
      "Monte Carlo 154\n",
      "Monte Carlo 155\n",
      "Monte Carlo 156\n"
     ]
    },
    {
     "name": "stderr",
     "output_type": "stream",
     "text": [
      " 16%|████████████▋                                                                  | 160/1000 [00:10<00:55, 15.19it/s]"
     ]
    },
    {
     "name": "stdout",
     "output_type": "stream",
     "text": [
      "Monte Carlo 157\n",
      "Monte Carlo 158\n",
      "Monte Carlo 159\n",
      "Monte Carlo 160\n"
     ]
    },
    {
     "name": "stderr",
     "output_type": "stream",
     "text": [
      "\r",
      " 16%|████████████▊                                                                  | 162/1000 [00:10<00:53, 15.72it/s]"
     ]
    },
    {
     "name": "stdout",
     "output_type": "stream",
     "text": [
      "Monte Carlo 161\n",
      "Monte Carlo 162\n",
      "Monte Carlo 163\n"
     ]
    },
    {
     "name": "stderr",
     "output_type": "stream",
     "text": [
      " 17%|█████████████                                                                  | 166/1000 [00:10<00:50, 16.47it/s]"
     ]
    },
    {
     "name": "stdout",
     "output_type": "stream",
     "text": [
      "Monte Carlo 164\n",
      "Monte Carlo 165\n",
      "Monte Carlo 166\n",
      "Monte Carlo 167\n"
     ]
    },
    {
     "name": "stderr",
     "output_type": "stream",
     "text": [
      " 17%|█████████████▍                                                                 | 170/1000 [00:11<00:49, 16.91it/s]"
     ]
    },
    {
     "name": "stdout",
     "output_type": "stream",
     "text": [
      "Monte Carlo 168\n",
      "Monte Carlo 169\n",
      "Monte Carlo 170\n",
      "Monte Carlo 171\n"
     ]
    },
    {
     "name": "stderr",
     "output_type": "stream",
     "text": [
      "\r",
      " 17%|█████████████▋                                                                 | 173/1000 [00:11<00:47, 17.44it/s]"
     ]
    },
    {
     "name": "stdout",
     "output_type": "stream",
     "text": [
      "Monte Carlo 172\n",
      "Monte Carlo 173\n",
      "Monte Carlo 174\n"
     ]
    },
    {
     "name": "stderr",
     "output_type": "stream",
     "text": [
      " 18%|██████████████▏                                                                | 179/1000 [00:11<00:45, 17.92it/s]"
     ]
    },
    {
     "name": "stdout",
     "output_type": "stream",
     "text": [
      "Monte Carlo 175\n",
      "Monte Carlo 176\n",
      "Monte Carlo 177\n",
      "Monte Carlo 178\n"
     ]
    },
    {
     "name": "stderr",
     "output_type": "stream",
     "text": [
      "\r",
      " 18%|██████████████▍                                                                | 182/1000 [00:11<00:47, 17.06it/s]"
     ]
    },
    {
     "name": "stdout",
     "output_type": "stream",
     "text": [
      "Monte Carlo 179\n",
      "Monte Carlo 180\n",
      "Monte Carlo 181\n"
     ]
    },
    {
     "name": "stderr",
     "output_type": "stream",
     "text": [
      "\r",
      " 18%|██████████████▌                                                                | 184/1000 [00:11<00:51, 15.73it/s]"
     ]
    },
    {
     "name": "stdout",
     "output_type": "stream",
     "text": [
      "Monte Carlo 182\n",
      "Monte Carlo 183\n",
      "Monte Carlo 184\n"
     ]
    },
    {
     "name": "stderr",
     "output_type": "stream",
     "text": [
      "\r",
      " 19%|██████████████▋                                                                | 186/1000 [00:12<00:50, 16.23it/s]"
     ]
    },
    {
     "name": "stdout",
     "output_type": "stream",
     "text": [
      "Monte Carlo 185\n",
      "Monte Carlo 186\n",
      "Monte Carlo 187\n"
     ]
    },
    {
     "name": "stderr",
     "output_type": "stream",
     "text": [
      " 19%|███████████████                                                                | 190/1000 [00:12<00:52, 15.55it/s]"
     ]
    },
    {
     "name": "stdout",
     "output_type": "stream",
     "text": [
      "Monte Carlo 188\n",
      "Monte Carlo 189\n",
      "Monte Carlo 190\n",
      "Monte Carlo 191\n"
     ]
    },
    {
     "name": "stderr",
     "output_type": "stream",
     "text": [
      " 19%|███████████████▎                                                               | 194/1000 [00:12<00:52, 15.25it/s]"
     ]
    },
    {
     "name": "stdout",
     "output_type": "stream",
     "text": [
      "Monte Carlo 192\n",
      "Monte Carlo 193\n",
      "Monte Carlo 194\n",
      "Monte Carlo 195\n"
     ]
    },
    {
     "name": "stderr",
     "output_type": "stream",
     "text": [
      " 20%|███████████████▋                                                               | 198/1000 [00:12<00:50, 15.99it/s]"
     ]
    },
    {
     "name": "stdout",
     "output_type": "stream",
     "text": [
      "Monte Carlo 196\n",
      "Monte Carlo 197\n",
      "Monte Carlo 198\n",
      "Monte Carlo 199\n"
     ]
    },
    {
     "name": "stderr",
     "output_type": "stream",
     "text": [
      " 20%|████████████████                                                               | 203/1000 [00:13<00:45, 17.46it/s]"
     ]
    },
    {
     "name": "stdout",
     "output_type": "stream",
     "text": [
      "Monte Carlo 200\n",
      "Monte Carlo 201\n",
      "Monte Carlo 202\n",
      "Monte Carlo 203\n"
     ]
    },
    {
     "name": "stderr",
     "output_type": "stream",
     "text": [
      "\r",
      " 20%|████████████████▏                                                              | 205/1000 [00:13<00:49, 16.09it/s]"
     ]
    },
    {
     "name": "stdout",
     "output_type": "stream",
     "text": [
      "Monte Carlo 204\n",
      "Monte Carlo 205\n",
      "Monte Carlo 206\n"
     ]
    },
    {
     "name": "stderr",
     "output_type": "stream",
     "text": [
      " 21%|████████████████▌                                                              | 209/1000 [00:13<00:48, 16.47it/s]"
     ]
    },
    {
     "name": "stdout",
     "output_type": "stream",
     "text": [
      "Monte Carlo 207\n",
      "Monte Carlo 208\n",
      "Monte Carlo 209\n",
      "Monte Carlo 210\n"
     ]
    },
    {
     "name": "stderr",
     "output_type": "stream",
     "text": [
      " 21%|████████████████▊                                                              | 213/1000 [00:13<00:50, 15.61it/s]"
     ]
    },
    {
     "name": "stdout",
     "output_type": "stream",
     "text": [
      "Monte Carlo 211\n",
      "Monte Carlo 212\n",
      "Monte Carlo 213\n",
      "Monte Carlo 214\n"
     ]
    },
    {
     "name": "stderr",
     "output_type": "stream",
     "text": [
      " 22%|█████████████████▏                                                             | 217/1000 [00:14<00:49, 15.75it/s]"
     ]
    },
    {
     "name": "stdout",
     "output_type": "stream",
     "text": [
      "Monte Carlo 215\n",
      "Monte Carlo 216\n",
      "Monte Carlo 217\n",
      "Monte Carlo 218"
     ]
    },
    {
     "name": "stderr",
     "output_type": "stream",
     "text": [
      " 22%|█████████████████▍                                                             | 221/1000 [00:14<00:48, 16.08it/s]"
     ]
    },
    {
     "name": "stdout",
     "output_type": "stream",
     "text": [
      "\n",
      "Monte Carlo 219\n",
      "Monte Carlo 220\n",
      "Monte Carlo 221\n"
     ]
    },
    {
     "name": "stderr",
     "output_type": "stream",
     "text": [
      "\r",
      " 22%|█████████████████▌                                                             | 223/1000 [00:14<00:50, 15.27it/s]"
     ]
    },
    {
     "name": "stdout",
     "output_type": "stream",
     "text": [
      "Monte Carlo 222\n",
      "Monte Carlo 223\n",
      "Monte Carlo 224\n"
     ]
    },
    {
     "name": "stderr",
     "output_type": "stream",
     "text": [
      " 23%|█████████████████▉                                                             | 227/1000 [00:14<00:49, 15.69it/s]"
     ]
    },
    {
     "name": "stdout",
     "output_type": "stream",
     "text": [
      "Monte Carlo 225\n",
      "Monte Carlo 226\n",
      "Monte Carlo 227\n",
      "Monte Carlo 228"
     ]
    },
    {
     "name": "stderr",
     "output_type": "stream",
     "text": [
      "\r",
      " 23%|██████████████████                                                             | 229/1000 [00:14<00:54, 14.10it/s]"
     ]
    },
    {
     "name": "stdout",
     "output_type": "stream",
     "text": [
      "\n",
      "Monte Carlo 229\n",
      "Monte Carlo 230\n"
     ]
    },
    {
     "name": "stderr",
     "output_type": "stream",
     "text": [
      " 23%|██████████████████▍                                                            | 233/1000 [00:15<00:50, 15.30it/s]"
     ]
    },
    {
     "name": "stdout",
     "output_type": "stream",
     "text": [
      "Monte Carlo 231\n",
      "Monte Carlo 232\n",
      "Monte Carlo 233\n",
      "Monte Carlo 234\n"
     ]
    },
    {
     "name": "stderr",
     "output_type": "stream",
     "text": [
      " 24%|██████████████████▋                                                            | 237/1000 [00:15<00:56, 13.39it/s]"
     ]
    },
    {
     "name": "stdout",
     "output_type": "stream",
     "text": [
      "Monte Carlo 235\n",
      "Monte Carlo 236\n",
      "Monte Carlo 237\n"
     ]
    },
    {
     "name": "stderr",
     "output_type": "stream",
     "text": [
      " 24%|███████████████████                                                            | 241/1000 [00:15<00:50, 15.10it/s]"
     ]
    },
    {
     "name": "stdout",
     "output_type": "stream",
     "text": [
      "Monte Carlo 238\n",
      "Monte Carlo 239\n",
      "Monte Carlo 240\n",
      "Monte Carlo 241\n"
     ]
    },
    {
     "name": "stderr",
     "output_type": "stream",
     "text": [
      "\r",
      " 24%|███████████████████▏                                                           | 243/1000 [00:15<00:46, 16.11it/s]"
     ]
    },
    {
     "name": "stdout",
     "output_type": "stream",
     "text": [
      "Monte Carlo 242\n",
      "Monte Carlo 243\n",
      "Monte Carlo 244\n",
      "Monte Carlo 245\n"
     ]
    },
    {
     "name": "stderr",
     "output_type": "stream",
     "text": [
      " 25%|███████████████████▌                                                           | 248/1000 [00:16<00:43, 17.45it/s]"
     ]
    },
    {
     "name": "stdout",
     "output_type": "stream",
     "text": [
      "Monte Carlo 246\n",
      "Monte Carlo 247\n",
      "Monte Carlo 248\n",
      "Monte Carlo 249\n"
     ]
    },
    {
     "name": "stderr",
     "output_type": "stream",
     "text": [
      " 25%|███████████████████▉                                                           | 252/1000 [00:16<00:44, 16.91it/s]"
     ]
    },
    {
     "name": "stdout",
     "output_type": "stream",
     "text": [
      "Monte Carlo 250\n",
      "Monte Carlo 251\n",
      "Monte Carlo 252\n",
      "Monte Carlo 253\n"
     ]
    },
    {
     "name": "stderr",
     "output_type": "stream",
     "text": [
      " 26%|████████████████████▏                                                          | 256/1000 [00:16<00:45, 16.46it/s]"
     ]
    },
    {
     "name": "stdout",
     "output_type": "stream",
     "text": [
      "Monte Carlo 254\n",
      "Monte Carlo 255\n",
      "Monte Carlo 256\n",
      "Monte Carlo 257\n"
     ]
    },
    {
     "name": "stderr",
     "output_type": "stream",
     "text": [
      " 26%|████████████████████▌                                                          | 260/1000 [00:16<00:44, 16.72it/s]"
     ]
    },
    {
     "name": "stdout",
     "output_type": "stream",
     "text": [
      "Monte Carlo 258\n",
      "Monte Carlo 259\n",
      "Monte Carlo 260\n",
      "Monte Carlo 261\n"
     ]
    },
    {
     "name": "stderr",
     "output_type": "stream",
     "text": [
      " 26%|████████████████████▊                                                          | 264/1000 [00:17<00:50, 14.61it/s]"
     ]
    },
    {
     "name": "stdout",
     "output_type": "stream",
     "text": [
      "Monte Carlo 262\n",
      "Monte Carlo 263\n",
      "Monte Carlo 264\n"
     ]
    },
    {
     "name": "stderr",
     "output_type": "stream",
     "text": [
      " 27%|█████████████████████▏                                                         | 268/1000 [00:17<00:48, 15.20it/s]"
     ]
    },
    {
     "name": "stdout",
     "output_type": "stream",
     "text": [
      "Monte Carlo 265\n",
      "Monte Carlo 266\n",
      "Monte Carlo 267\n"
     ]
    },
    {
     "name": "stderr",
     "output_type": "stream",
     "text": [
      "\r",
      " 27%|█████████████████████▎                                                         | 270/1000 [00:17<00:45, 15.96it/s]"
     ]
    },
    {
     "name": "stdout",
     "output_type": "stream",
     "text": [
      "Monte Carlo 268\n",
      "Monte Carlo 269\n",
      "Monte Carlo 270\n",
      "Monte Carlo 271\n",
      "Monte Carlo 272\n"
     ]
    },
    {
     "name": "stderr",
     "output_type": "stream",
     "text": [
      " 28%|█████████████████████▋                                                         | 275/1000 [00:17<00:42, 16.94it/s]"
     ]
    },
    {
     "name": "stdout",
     "output_type": "stream",
     "text": [
      "Monte Carlo 273\n",
      "Monte Carlo 274\n",
      "Monte Carlo 275\n",
      "Monte Carlo 276\n"
     ]
    },
    {
     "name": "stderr",
     "output_type": "stream",
     "text": [
      " 28%|██████████████████████                                                         | 279/1000 [00:17<00:45, 15.70it/s]"
     ]
    },
    {
     "name": "stdout",
     "output_type": "stream",
     "text": [
      "Monte Carlo 277\n",
      "Monte Carlo 278\n",
      "Monte Carlo 279\n"
     ]
    },
    {
     "name": "stderr",
     "output_type": "stream",
     "text": [
      "\r",
      " 28%|██████████████████████▏                                                        | 281/1000 [00:18<00:45, 15.65it/s]"
     ]
    },
    {
     "name": "stdout",
     "output_type": "stream",
     "text": [
      "Monte Carlo 280\n",
      "Monte Carlo 281\n",
      "Monte Carlo 282\n",
      "Monte Carlo 283\n"
     ]
    },
    {
     "name": "stderr",
     "output_type": "stream",
     "text": [
      " 29%|██████████████████████▌                                                        | 286/1000 [00:18<00:43, 16.37it/s]"
     ]
    },
    {
     "name": "stdout",
     "output_type": "stream",
     "text": [
      "Monte Carlo 284\n",
      "Monte Carlo 285\n",
      "Monte Carlo 286\n"
     ]
    },
    {
     "name": "stderr",
     "output_type": "stream",
     "text": [
      " 29%|██████████████████████▉                                                        | 291/1000 [00:18<00:40, 17.62it/s]"
     ]
    },
    {
     "name": "stdout",
     "output_type": "stream",
     "text": [
      "Monte Carlo 287\n",
      "Monte Carlo 288\n",
      "Monte Carlo 289\n",
      "Monte Carlo 290\n"
     ]
    },
    {
     "name": "stderr",
     "output_type": "stream",
     "text": [
      "\r",
      " 29%|███████████████████████▏                                                       | 293/1000 [00:18<00:40, 17.41it/s]"
     ]
    },
    {
     "name": "stdout",
     "output_type": "stream",
     "text": [
      "Monte Carlo 291\n",
      "Monte Carlo 292\n",
      "Monte Carlo 293\n",
      "Monte Carlo 294\n"
     ]
    },
    {
     "name": "stderr",
     "output_type": "stream",
     "text": [
      " 30%|███████████████████████▍                                                       | 297/1000 [00:19<00:42, 16.52it/s]"
     ]
    },
    {
     "name": "stdout",
     "output_type": "stream",
     "text": [
      "Monte Carlo 295\n",
      "Monte Carlo 296\n",
      "Monte Carlo 297\n",
      "Monte Carlo 298\n"
     ]
    },
    {
     "name": "stderr",
     "output_type": "stream",
     "text": [
      " 30%|███████████████████████▊                                                       | 301/1000 [00:19<00:47, 14.72it/s]"
     ]
    },
    {
     "name": "stdout",
     "output_type": "stream",
     "text": [
      "Monte Carlo 299\n",
      "Monte Carlo 300\n",
      "Monte Carlo 301\n"
     ]
    },
    {
     "name": "stderr",
     "output_type": "stream",
     "text": [
      " 30%|████████████████████████                                                       | 305/1000 [00:19<00:48, 14.44it/s]"
     ]
    },
    {
     "name": "stdout",
     "output_type": "stream",
     "text": [
      "Monte Carlo 302\n",
      "Monte Carlo 303\n",
      "Monte Carlo 304\n"
     ]
    },
    {
     "name": "stderr",
     "output_type": "stream",
     "text": [
      "\r",
      " 31%|████████████████████████▎                                                      | 307/1000 [00:19<00:45, 15.11it/s]"
     ]
    },
    {
     "name": "stdout",
     "output_type": "stream",
     "text": [
      "Monte Carlo 305\n",
      "Monte Carlo 306\n",
      "Monte Carlo 307\n",
      "Monte Carlo 308\n"
     ]
    },
    {
     "name": "stderr",
     "output_type": "stream",
     "text": [
      " 31%|████████████████████████▋                                                      | 312/1000 [00:19<00:38, 18.07it/s]"
     ]
    },
    {
     "name": "stdout",
     "output_type": "stream",
     "text": [
      "Monte Carlo 309\n",
      "Monte Carlo 310\n",
      "Monte Carlo 311\n",
      "Monte Carlo 312\n"
     ]
    },
    {
     "name": "stderr",
     "output_type": "stream",
     "text": [
      "\r",
      " 31%|████████████████████████▊                                                      | 314/1000 [00:20<00:41, 16.36it/s]"
     ]
    },
    {
     "name": "stdout",
     "output_type": "stream",
     "text": [
      "Monte Carlo 313\n",
      "Monte Carlo 314\n",
      "Monte Carlo 315\n"
     ]
    },
    {
     "name": "stderr",
     "output_type": "stream",
     "text": [
      " 32%|█████████████████████████▎                                                     | 320/1000 [00:20<00:39, 17.11it/s]"
     ]
    },
    {
     "name": "stdout",
     "output_type": "stream",
     "text": [
      "Monte Carlo 316\n",
      "Monte Carlo 317\n",
      "Monte Carlo 318\n",
      "Monte Carlo 319\n"
     ]
    },
    {
     "name": "stderr",
     "output_type": "stream",
     "text": [
      "\r",
      " 32%|█████████████████████████▍                                                     | 322/1000 [00:20<00:42, 16.11it/s]"
     ]
    },
    {
     "name": "stdout",
     "output_type": "stream",
     "text": [
      "Monte Carlo 320\n",
      "Monte Carlo 321\n",
      "Monte Carlo 322\n"
     ]
    },
    {
     "name": "stderr",
     "output_type": "stream",
     "text": [
      " 33%|█████████████████████████▊                                                     | 326/1000 [00:20<00:45, 14.89it/s]"
     ]
    },
    {
     "name": "stdout",
     "output_type": "stream",
     "text": [
      "Monte Carlo 323\n",
      "Monte Carlo 324\n",
      "Monte Carlo 325\n"
     ]
    },
    {
     "name": "stderr",
     "output_type": "stream",
     "text": [
      "\r",
      " 33%|█████████████████████████▉                                                     | 329/1000 [00:21<00:38, 17.24it/s]"
     ]
    },
    {
     "name": "stdout",
     "output_type": "stream",
     "text": [
      "Monte Carlo 326\n",
      "Monte Carlo 327\n",
      "Monte Carlo 328\n",
      "Monte Carlo 329\n",
      "Monte Carlo 330"
     ]
    },
    {
     "name": "stderr",
     "output_type": "stream",
     "text": [
      " 33%|██████████████████████████▎                                                    | 333/1000 [00:21<00:38, 17.30it/s]"
     ]
    },
    {
     "name": "stdout",
     "output_type": "stream",
     "text": [
      "\n",
      "Monte Carlo 331\n",
      "Monte Carlo 332\n",
      "Monte Carlo 333\n"
     ]
    },
    {
     "name": "stderr",
     "output_type": "stream",
     "text": [
      "\r",
      " 34%|██████████████████████████▍                                                    | 335/1000 [00:21<00:40, 16.26it/s]"
     ]
    },
    {
     "name": "stdout",
     "output_type": "stream",
     "text": [
      "Monte Carlo 334\n",
      "Monte Carlo 335\n",
      "Monte Carlo 336\n",
      "Monte Carlo 337\n"
     ]
    },
    {
     "name": "stderr",
     "output_type": "stream",
     "text": [
      " 34%|██████████████████████████▊                                                    | 340/1000 [00:21<00:35, 18.43it/s]"
     ]
    },
    {
     "name": "stdout",
     "output_type": "stream",
     "text": [
      "Monte Carlo 338\n",
      "Monte Carlo 339\n",
      "Monte Carlo 340\n",
      "Monte Carlo 341\n"
     ]
    },
    {
     "name": "stderr",
     "output_type": "stream",
     "text": [
      " 34%|███████████████████████████▏                                                   | 344/1000 [00:21<00:38, 17.09it/s]"
     ]
    },
    {
     "name": "stdout",
     "output_type": "stream",
     "text": [
      "Monte Carlo 342\n",
      "Monte Carlo 343\n",
      "Monte Carlo 344\n",
      "Monte Carlo 345"
     ]
    },
    {
     "name": "stderr",
     "output_type": "stream",
     "text": [
      " 35%|███████████████████████████▍                                                   | 348/1000 [00:22<00:39, 16.69it/s]"
     ]
    },
    {
     "name": "stdout",
     "output_type": "stream",
     "text": [
      "\n",
      "Monte Carlo 346\n",
      "Monte Carlo 347\n"
     ]
    },
    {
     "name": "stderr",
     "output_type": "stream",
     "text": [
      "\r",
      " 35%|███████████████████████████▋                                                   | 350/1000 [00:22<00:40, 16.22it/s]"
     ]
    },
    {
     "name": "stdout",
     "output_type": "stream",
     "text": [
      "Monte Carlo 348\n",
      "Monte Carlo 349\n",
      "Monte Carlo 350\n",
      "Monte Carlo 351\n"
     ]
    },
    {
     "name": "stderr",
     "output_type": "stream",
     "text": [
      " 35%|███████████████████████████▉                                                   | 354/1000 [00:22<00:40, 15.87it/s]"
     ]
    },
    {
     "name": "stdout",
     "output_type": "stream",
     "text": [
      "Monte Carlo 352\n",
      "Monte Carlo 353\n",
      "Monte Carlo 354\n",
      "Monte Carlo 355\n"
     ]
    },
    {
     "name": "stderr",
     "output_type": "stream",
     "text": [
      " 36%|████████████████████████████▎                                                  | 359/1000 [00:22<00:37, 17.20it/s]"
     ]
    },
    {
     "name": "stdout",
     "output_type": "stream",
     "text": [
      "Monte Carlo 356\n",
      "Monte Carlo 357\n",
      "Monte Carlo 358\n",
      "Monte Carlo 359\n",
      "Monte Carlo 360\n"
     ]
    },
    {
     "name": "stderr",
     "output_type": "stream",
     "text": [
      " 36%|████████████████████████████▊                                                  | 364/1000 [00:23<00:35, 18.01it/s]"
     ]
    },
    {
     "name": "stdout",
     "output_type": "stream",
     "text": [
      "Monte Carlo 361\n",
      "Monte Carlo 362\n",
      "Monte Carlo 363\n",
      "Monte Carlo 364\n"
     ]
    },
    {
     "name": "stderr",
     "output_type": "stream",
     "text": [
      " 37%|█████████████████████████████                                                  | 368/1000 [00:23<00:37, 17.06it/s]"
     ]
    },
    {
     "name": "stdout",
     "output_type": "stream",
     "text": [
      "Monte Carlo 365\n",
      "Monte Carlo 366\n",
      "Monte Carlo 367\n",
      "Monte Carlo 368\n"
     ]
    },
    {
     "name": "stderr",
     "output_type": "stream",
     "text": [
      "\r",
      " 37%|█████████████████████████████▎                                                 | 371/1000 [00:23<00:36, 17.33it/s]"
     ]
    },
    {
     "name": "stdout",
     "output_type": "stream",
     "text": [
      "Monte Carlo 369\n",
      "Monte Carlo 370\n",
      "Monte Carlo 371\n",
      "Monte Carlo 372\n"
     ]
    },
    {
     "name": "stderr",
     "output_type": "stream",
     "text": [
      " 38%|█████████████████████████████▋                                                 | 376/1000 [00:23<00:35, 17.49it/s]"
     ]
    },
    {
     "name": "stdout",
     "output_type": "stream",
     "text": [
      "Monte Carlo 373\n",
      "Monte Carlo 374\n",
      "Monte Carlo 375\n"
     ]
    },
    {
     "name": "stderr",
     "output_type": "stream",
     "text": [
      "\r",
      " 38%|█████████████████████████████▊                                                 | 378/1000 [00:23<00:37, 16.75it/s]"
     ]
    },
    {
     "name": "stdout",
     "output_type": "stream",
     "text": [
      "Monte Carlo 376\n",
      "Monte Carlo 377\n",
      "Monte Carlo 378\n",
      "Monte Carlo 379\n"
     ]
    },
    {
     "name": "stderr",
     "output_type": "stream",
     "text": [
      " 38%|██████████████████████████████▏                                                | 382/1000 [00:24<00:40, 15.37it/s]"
     ]
    },
    {
     "name": "stdout",
     "output_type": "stream",
     "text": [
      "Monte Carlo 380\n",
      "Monte Carlo 381\n",
      "Monte Carlo 382\n"
     ]
    },
    {
     "name": "stderr",
     "output_type": "stream",
     "text": [
      "\r",
      " 38%|██████████████████████████████▎                                                | 384/1000 [00:24<00:39, 15.56it/s]"
     ]
    },
    {
     "name": "stdout",
     "output_type": "stream",
     "text": [
      "Monte Carlo 383\n",
      "Monte Carlo 384\n",
      "Monte Carlo 385\n",
      "Monte Carlo 386\n"
     ]
    },
    {
     "name": "stderr",
     "output_type": "stream",
     "text": [
      " 39%|██████████████████████████████▋                                                | 389/1000 [00:24<00:38, 15.68it/s]"
     ]
    },
    {
     "name": "stdout",
     "output_type": "stream",
     "text": [
      "Monte Carlo 387\n",
      "Monte Carlo 388\n",
      "Monte Carlo 389\n"
     ]
    },
    {
     "name": "stderr",
     "output_type": "stream",
     "text": [
      "\r",
      " 39%|██████████████████████████████▉                                                | 391/1000 [00:24<00:41, 14.81it/s]"
     ]
    },
    {
     "name": "stdout",
     "output_type": "stream",
     "text": [
      "Monte Carlo 390\n",
      "Monte Carlo 391\n",
      "Monte Carlo 392\n"
     ]
    },
    {
     "name": "stderr",
     "output_type": "stream",
     "text": [
      " 40%|███████████████████████████████▏                                               | 395/1000 [00:25<00:45, 13.42it/s]"
     ]
    },
    {
     "name": "stdout",
     "output_type": "stream",
     "text": [
      "Monte Carlo 393\n",
      "Monte Carlo 394\n"
     ]
    },
    {
     "name": "stderr",
     "output_type": "stream",
     "text": [
      "\r",
      " 40%|███████████████████████████████▎                                               | 397/1000 [00:25<00:45, 13.27it/s]"
     ]
    },
    {
     "name": "stdout",
     "output_type": "stream",
     "text": [
      "Monte Carlo 395\n",
      "Monte Carlo 396\n",
      "Monte Carlo 397\n"
     ]
    },
    {
     "name": "stderr",
     "output_type": "stream",
     "text": [
      " 40%|███████████████████████████████▋                                               | 401/1000 [00:25<00:41, 14.43it/s]"
     ]
    },
    {
     "name": "stdout",
     "output_type": "stream",
     "text": [
      "Monte Carlo 398\n",
      "Monte Carlo 399\n",
      "Monte Carlo 400\n",
      "Monte Carlo 401\n"
     ]
    },
    {
     "name": "stderr",
     "output_type": "stream",
     "text": [
      "\r",
      " 40%|███████████████████████████████▊                                               | 403/1000 [00:25<00:40, 14.74it/s]"
     ]
    },
    {
     "name": "stdout",
     "output_type": "stream",
     "text": [
      "Monte Carlo 402\n",
      "Monte Carlo 403\n",
      "Monte Carlo 404\n"
     ]
    },
    {
     "name": "stderr",
     "output_type": "stream",
     "text": [
      " 41%|████████████████████████████████▏                                              | 407/1000 [00:25<00:38, 15.51it/s]"
     ]
    },
    {
     "name": "stdout",
     "output_type": "stream",
     "text": [
      "Monte Carlo 405\n",
      "Monte Carlo 406\n",
      "Monte Carlo 407\n",
      "Monte Carlo 408\n"
     ]
    },
    {
     "name": "stderr",
     "output_type": "stream",
     "text": [
      " 41%|████████████████████████████████▍                                              | 411/1000 [00:26<00:38, 15.30it/s]"
     ]
    },
    {
     "name": "stdout",
     "output_type": "stream",
     "text": [
      "Monte Carlo 409\n",
      "Monte Carlo 410\n",
      "Monte Carlo 411\n",
      "Monte Carlo 412"
     ]
    },
    {
     "name": "stderr",
     "output_type": "stream",
     "text": [
      "\r",
      " 41%|████████████████████████████████▋                                              | 413/1000 [00:26<00:38, 15.23it/s]"
     ]
    },
    {
     "name": "stdout",
     "output_type": "stream",
     "text": [
      "\n",
      "Monte Carlo 413\n",
      "Monte Carlo 414\n"
     ]
    },
    {
     "name": "stderr",
     "output_type": "stream",
     "text": [
      " 42%|████████████████████████████████▉                                              | 417/1000 [00:26<00:37, 15.43it/s]"
     ]
    },
    {
     "name": "stdout",
     "output_type": "stream",
     "text": [
      "Monte Carlo 415\n",
      "Monte Carlo 416\n",
      "Monte Carlo 417\n",
      "Monte Carlo 418"
     ]
    },
    {
     "name": "stderr",
     "output_type": "stream",
     "text": [
      " 42%|█████████████████████████████████▎                                             | 421/1000 [00:26<00:34, 16.68it/s]"
     ]
    },
    {
     "name": "stdout",
     "output_type": "stream",
     "text": [
      "\n",
      "Monte Carlo 419\n",
      "Monte Carlo 420\n",
      "Monte Carlo 421\n"
     ]
    },
    {
     "name": "stderr",
     "output_type": "stream",
     "text": [
      "\r",
      " 42%|█████████████████████████████████▍                                             | 423/1000 [00:26<00:36, 15.64it/s]"
     ]
    },
    {
     "name": "stdout",
     "output_type": "stream",
     "text": [
      "Monte Carlo 422\n",
      "Monte Carlo 423\n",
      "Monte Carlo 424\n"
     ]
    },
    {
     "name": "stderr",
     "output_type": "stream",
     "text": [
      " 43%|█████████████████████████████████▋                                             | 427/1000 [00:27<00:36, 15.72it/s]"
     ]
    },
    {
     "name": "stdout",
     "output_type": "stream",
     "text": [
      "Monte Carlo 425\n",
      "Monte Carlo 426\n",
      "Monte Carlo 427\n",
      "Monte Carlo 428\n"
     ]
    },
    {
     "name": "stderr",
     "output_type": "stream",
     "text": [
      " 43%|██████████████████████████████████                                             | 431/1000 [00:27<00:37, 15.33it/s]"
     ]
    },
    {
     "name": "stdout",
     "output_type": "stream",
     "text": [
      "Monte Carlo 429\n",
      "Monte Carlo 430\n",
      "Monte Carlo 431\n",
      "Monte Carlo 432"
     ]
    },
    {
     "name": "stderr",
     "output_type": "stream",
     "text": [
      "\r",
      " 43%|██████████████████████████████████▏                                            | 433/1000 [00:27<00:36, 15.57it/s]"
     ]
    },
    {
     "name": "stdout",
     "output_type": "stream",
     "text": [
      "\n",
      "Monte Carlo 433\n",
      "Monte Carlo 434\n"
     ]
    },
    {
     "name": "stderr",
     "output_type": "stream",
     "text": [
      " 44%|██████████████████████████████████▋                                            | 439/1000 [00:27<00:34, 16.48it/s]"
     ]
    },
    {
     "name": "stdout",
     "output_type": "stream",
     "text": [
      "Monte Carlo 435\n",
      "Monte Carlo 436\n",
      "Monte Carlo 437\n",
      "Monte Carlo 438\n"
     ]
    },
    {
     "name": "stderr",
     "output_type": "stream",
     "text": [
      "\r",
      " 44%|██████████████████████████████████▊                                            | 441/1000 [00:28<00:36, 15.23it/s]"
     ]
    },
    {
     "name": "stdout",
     "output_type": "stream",
     "text": [
      "Monte Carlo 439\n",
      "Monte Carlo 440\n",
      "Monte Carlo 441\n"
     ]
    },
    {
     "name": "stderr",
     "output_type": "stream",
     "text": [
      "\r",
      " 44%|██████████████████████████████████▉                                            | 443/1000 [00:28<00:35, 15.72it/s]"
     ]
    },
    {
     "name": "stdout",
     "output_type": "stream",
     "text": [
      "Monte Carlo 442\n",
      "Monte Carlo 443\n",
      "Monte Carlo 444\n"
     ]
    },
    {
     "name": "stderr",
     "output_type": "stream",
     "text": [
      " 45%|███████████████████████████████████▎                                           | 447/1000 [00:28<00:36, 15.00it/s]"
     ]
    },
    {
     "name": "stdout",
     "output_type": "stream",
     "text": [
      "Monte Carlo 445\n",
      "Monte Carlo 446\n",
      "Monte Carlo 447\n",
      "Monte Carlo 448\n"
     ]
    },
    {
     "name": "stderr",
     "output_type": "stream",
     "text": [
      " 45%|███████████████████████████████████▋                                           | 451/1000 [00:28<00:35, 15.37it/s]"
     ]
    },
    {
     "name": "stdout",
     "output_type": "stream",
     "text": [
      "Monte Carlo 449\n",
      "Monte Carlo 450\n",
      "Monte Carlo 451\n",
      "Monte Carlo 452"
     ]
    },
    {
     "name": "stderr",
     "output_type": "stream",
     "text": [
      " 46%|███████████████████████████████████▉                                           | 455/1000 [00:28<00:34, 15.86it/s]"
     ]
    },
    {
     "name": "stdout",
     "output_type": "stream",
     "text": [
      "\n",
      "Monte Carlo 453\n",
      "Monte Carlo 454\n"
     ]
    },
    {
     "name": "stderr",
     "output_type": "stream",
     "text": [
      "\r",
      " 46%|████████████████████████████████████                                           | 457/1000 [00:29<00:36, 14.85it/s]"
     ]
    },
    {
     "name": "stdout",
     "output_type": "stream",
     "text": [
      "Monte Carlo 455\n",
      "Monte Carlo 456\n",
      "Monte Carlo 457\n"
     ]
    },
    {
     "name": "stderr",
     "output_type": "stream",
     "text": [
      " 46%|████████████████████████████████████▍                                          | 461/1000 [00:29<00:37, 14.47it/s]"
     ]
    },
    {
     "name": "stdout",
     "output_type": "stream",
     "text": [
      "Monte Carlo 458\n",
      "Monte Carlo 459\n",
      "Monte Carlo 460\n"
     ]
    },
    {
     "name": "stderr",
     "output_type": "stream",
     "text": [
      "\r",
      " 46%|████████████████████████████████████▌                                          | 463/1000 [00:29<00:38, 13.92it/s]"
     ]
    },
    {
     "name": "stdout",
     "output_type": "stream",
     "text": [
      "Monte Carlo 461\n",
      "Monte Carlo 462\n",
      "Monte Carlo 463\n"
     ]
    },
    {
     "name": "stderr",
     "output_type": "stream",
     "text": [
      "\r",
      " 46%|████████████████████████████████████▋                                          | 465/1000 [00:29<00:40, 13.36it/s]"
     ]
    },
    {
     "name": "stdout",
     "output_type": "stream",
     "text": [
      "Monte Carlo 464\n",
      "Monte Carlo 465\n",
      "Monte Carlo 466"
     ]
    },
    {
     "name": "stderr",
     "output_type": "stream",
     "text": [
      " 47%|█████████████████████████████████████                                          | 469/1000 [00:29<00:36, 14.42it/s]"
     ]
    },
    {
     "name": "stdout",
     "output_type": "stream",
     "text": [
      "\n",
      "Monte Carlo 467\n",
      "Monte Carlo 468\n",
      "Monte Carlo 469\n"
     ]
    },
    {
     "name": "stderr",
     "output_type": "stream",
     "text": [
      " 47%|█████████████████████████████████████▎                                         | 473/1000 [00:30<00:36, 14.45it/s]"
     ]
    },
    {
     "name": "stdout",
     "output_type": "stream",
     "text": [
      "Monte Carlo 470\n",
      "Monte Carlo 471\n",
      "Monte Carlo 472\n"
     ]
    },
    {
     "name": "stderr",
     "output_type": "stream",
     "text": [
      "\r",
      " 48%|█████████████████████████████████████▌                                         | 475/1000 [00:30<00:33, 15.52it/s]"
     ]
    },
    {
     "name": "stdout",
     "output_type": "stream",
     "text": [
      "Monte Carlo 473\n",
      "Monte Carlo 474\n",
      "Monte Carlo 475\n",
      "Monte Carlo 476\n"
     ]
    },
    {
     "name": "stderr",
     "output_type": "stream",
     "text": [
      " 48%|█████████████████████████████████████▊                                         | 479/1000 [00:30<00:32, 15.96it/s]"
     ]
    },
    {
     "name": "stdout",
     "output_type": "stream",
     "text": [
      "Monte Carlo 477\n",
      "Monte Carlo 478\n",
      "Monte Carlo 479\n",
      "Monte Carlo 480"
     ]
    },
    {
     "name": "stderr",
     "output_type": "stream",
     "text": [
      "\r",
      " 48%|█████████████████████████████████████▉                                         | 481/1000 [00:30<00:31, 16.41it/s]"
     ]
    },
    {
     "name": "stdout",
     "output_type": "stream",
     "text": [
      "\n",
      "Monte Carlo 481\n",
      "Monte Carlo 482\n",
      "Monte Carlo 483\n"
     ]
    },
    {
     "name": "stderr",
     "output_type": "stream",
     "text": [
      " 49%|██████████████████████████████████████▍                                        | 486/1000 [00:30<00:29, 17.65it/s]"
     ]
    },
    {
     "name": "stdout",
     "output_type": "stream",
     "text": [
      "Monte Carlo 484\n",
      "Monte Carlo 485\n",
      "Monte Carlo 486\n",
      "Monte Carlo 487\n"
     ]
    },
    {
     "name": "stderr",
     "output_type": "stream",
     "text": [
      " 49%|██████████████████████████████████████▋                                        | 490/1000 [00:31<00:30, 16.67it/s]"
     ]
    },
    {
     "name": "stdout",
     "output_type": "stream",
     "text": [
      "Monte Carlo 488\n",
      "Monte Carlo 489\n",
      "Monte Carlo 490\n",
      "Monte Carlo 491"
     ]
    },
    {
     "name": "stderr",
     "output_type": "stream",
     "text": [
      " 49%|███████████████████████████████████████                                        | 494/1000 [00:31<00:32, 15.50it/s]"
     ]
    },
    {
     "name": "stdout",
     "output_type": "stream",
     "text": [
      "\n",
      "Monte Carlo 492\n",
      "Monte Carlo 493\n"
     ]
    },
    {
     "name": "stderr",
     "output_type": "stream",
     "text": [
      "\r",
      " 50%|███████████████████████████████████████▏                                       | 496/1000 [00:31<00:32, 15.55it/s]"
     ]
    },
    {
     "name": "stdout",
     "output_type": "stream",
     "text": [
      "Monte Carlo 494\n",
      "Monte Carlo 495\n",
      "Monte Carlo 496\n"
     ]
    },
    {
     "name": "stderr",
     "output_type": "stream",
     "text": [
      " 50%|███████████████████████████████████████▌                                       | 500/1000 [00:31<00:32, 15.30it/s]"
     ]
    },
    {
     "name": "stdout",
     "output_type": "stream",
     "text": [
      "Monte Carlo 497\n",
      "Monte Carlo 498\n",
      "Monte Carlo 499\n",
      "Monte Carlo 500\n"
     ]
    },
    {
     "name": "stderr",
     "output_type": "stream",
     "text": [
      "\r",
      " 50%|███████████████████████████████████████▋                                       | 502/1000 [00:32<00:31, 15.92it/s]"
     ]
    },
    {
     "name": "stdout",
     "output_type": "stream",
     "text": [
      "Monte Carlo 501\n",
      "Monte Carlo 502\n",
      "Monte Carlo 503\n"
     ]
    },
    {
     "name": "stderr",
     "output_type": "stream",
     "text": [
      " 51%|███████████████████████████████████████▉                                       | 506/1000 [00:32<00:34, 14.42it/s]"
     ]
    },
    {
     "name": "stdout",
     "output_type": "stream",
     "text": [
      "Monte Carlo 504\n",
      "Monte Carlo 505\n",
      "Monte Carlo 506\n"
     ]
    },
    {
     "name": "stderr",
     "output_type": "stream",
     "text": [
      "\r",
      " 51%|████████████████████████████████████████▏                                      | 508/1000 [00:32<00:33, 14.81it/s]"
     ]
    },
    {
     "name": "stdout",
     "output_type": "stream",
     "text": [
      "Monte Carlo 507\n",
      "Monte Carlo 508\n",
      "Monte Carlo 509\n"
     ]
    },
    {
     "name": "stderr",
     "output_type": "stream",
     "text": [
      " 51%|████████████████████████████████████████▍                                      | 512/1000 [00:32<00:30, 16.09it/s]"
     ]
    },
    {
     "name": "stdout",
     "output_type": "stream",
     "text": [
      "Monte Carlo 510\n",
      "Monte Carlo 511\n",
      "Monte Carlo 512\n"
     ]
    },
    {
     "name": "stderr",
     "output_type": "stream",
     "text": [
      " 52%|████████████████████████████████████████▊                                      | 516/1000 [00:32<00:31, 15.48it/s]"
     ]
    },
    {
     "name": "stdout",
     "output_type": "stream",
     "text": [
      "Monte Carlo 513\n",
      "Monte Carlo 514\n",
      "Monte Carlo 515\n"
     ]
    },
    {
     "name": "stderr",
     "output_type": "stream",
     "text": [
      "\r",
      " 52%|████████████████████████████████████████▉                                      | 518/1000 [00:33<00:30, 15.68it/s]"
     ]
    },
    {
     "name": "stdout",
     "output_type": "stream",
     "text": [
      "Monte Carlo 516\n",
      "Monte Carlo 517\n",
      "Monte Carlo 518\n"
     ]
    },
    {
     "name": "stderr",
     "output_type": "stream",
     "text": [
      "\r",
      " 52%|█████████████████████████████████████████                                      | 520/1000 [00:33<00:31, 15.21it/s]"
     ]
    },
    {
     "name": "stdout",
     "output_type": "stream",
     "text": [
      "Monte Carlo 519\n",
      "Monte Carlo 520\n",
      "Monte Carlo 521\n"
     ]
    },
    {
     "name": "stderr",
     "output_type": "stream",
     "text": [
      " 52%|█████████████████████████████████████████▍                                     | 524/1000 [00:33<00:31, 15.22it/s]"
     ]
    },
    {
     "name": "stdout",
     "output_type": "stream",
     "text": [
      "Monte Carlo 522\n",
      "Monte Carlo 523\n",
      "Monte Carlo 524\n",
      "Monte Carlo 525\n"
     ]
    },
    {
     "name": "stderr",
     "output_type": "stream",
     "text": [
      " 53%|█████████████████████████████████████████▊                                     | 529/1000 [00:33<00:27, 16.83it/s]"
     ]
    },
    {
     "name": "stdout",
     "output_type": "stream",
     "text": [
      "Monte Carlo 526\n",
      "Monte Carlo 527\n",
      "Monte Carlo 528\n",
      "Monte Carlo 529\n"
     ]
    },
    {
     "name": "stderr",
     "output_type": "stream",
     "text": [
      "\r",
      " 53%|█████████████████████████████████████████▉                                     | 531/1000 [00:33<00:28, 16.24it/s]"
     ]
    },
    {
     "name": "stdout",
     "output_type": "stream",
     "text": [
      "Monte Carlo 530\n",
      "Monte Carlo 531\n",
      "Monte Carlo 532\n"
     ]
    },
    {
     "name": "stderr",
     "output_type": "stream",
     "text": [
      " 54%|██████████████████████████████████████████▎                                    | 535/1000 [00:34<00:28, 16.20it/s]"
     ]
    },
    {
     "name": "stdout",
     "output_type": "stream",
     "text": [
      "Monte Carlo 533\n",
      "Monte Carlo 534\n",
      "Monte Carlo 535\n",
      "Monte Carlo 536"
     ]
    },
    {
     "name": "stderr",
     "output_type": "stream",
     "text": [
      " 54%|██████████████████████████████████████████▌                                    | 539/1000 [00:34<00:27, 17.00it/s]"
     ]
    },
    {
     "name": "stdout",
     "output_type": "stream",
     "text": [
      "\n",
      "Monte Carlo 537\n",
      "Monte Carlo 538\n",
      "Monte Carlo 539\n",
      "Monte Carlo 540"
     ]
    },
    {
     "name": "stderr",
     "output_type": "stream",
     "text": [
      " 54%|██████████████████████████████████████████▉                                    | 543/1000 [00:34<00:26, 17.51it/s]"
     ]
    },
    {
     "name": "stdout",
     "output_type": "stream",
     "text": [
      "\n",
      "Monte Carlo 541\n",
      "Monte Carlo 542\n",
      "Monte Carlo 543\n"
     ]
    },
    {
     "name": "stderr",
     "output_type": "stream",
     "text": [
      " 55%|███████████████████████████████████████████▏                                   | 547/1000 [00:34<00:27, 16.39it/s]"
     ]
    },
    {
     "name": "stdout",
     "output_type": "stream",
     "text": [
      "Monte Carlo 544\n",
      "Monte Carlo 545\n",
      "Monte Carlo 546\n"
     ]
    },
    {
     "name": "stderr",
     "output_type": "stream",
     "text": [
      "\r",
      " 55%|███████████████████████████████████████████▎                                   | 549/1000 [00:34<00:27, 16.32it/s]"
     ]
    },
    {
     "name": "stdout",
     "output_type": "stream",
     "text": [
      "Monte Carlo 547\n",
      "Monte Carlo 548\n",
      "Monte Carlo 549\n",
      "Monte Carlo 550\n"
     ]
    },
    {
     "name": "stderr",
     "output_type": "stream",
     "text": [
      " 55%|███████████████████████████████████████████▋                                   | 553/1000 [00:35<00:26, 16.72it/s]"
     ]
    },
    {
     "name": "stdout",
     "output_type": "stream",
     "text": [
      "Monte Carlo 551\n",
      "Monte Carlo 552\n",
      "Monte Carlo 553\n",
      "Monte Carlo 554\n"
     ]
    },
    {
     "name": "stderr",
     "output_type": "stream",
     "text": [
      " 56%|████████████████████████████████████████████                                   | 557/1000 [00:35<00:28, 15.48it/s]"
     ]
    },
    {
     "name": "stdout",
     "output_type": "stream",
     "text": [
      "Monte Carlo 555\n",
      "Monte Carlo 556\n",
      "Monte Carlo 557\n"
     ]
    },
    {
     "name": "stderr",
     "output_type": "stream",
     "text": [
      " 56%|████████████████████████████████████████████▎                                  | 561/1000 [00:35<00:28, 15.56it/s]"
     ]
    },
    {
     "name": "stdout",
     "output_type": "stream",
     "text": [
      "Monte Carlo 558\n",
      "Monte Carlo 559\n",
      "Monte Carlo 560\n"
     ]
    },
    {
     "name": "stderr",
     "output_type": "stream",
     "text": [
      "\r",
      " 56%|████████████████████████████████████████████▍                                  | 563/1000 [00:35<00:27, 16.00it/s]"
     ]
    },
    {
     "name": "stdout",
     "output_type": "stream",
     "text": [
      "Monte Carlo 561\n",
      "Monte Carlo 562\n",
      "Monte Carlo 563\n",
      "Monte Carlo 564\n"
     ]
    },
    {
     "name": "stderr",
     "output_type": "stream",
     "text": [
      " 57%|████████████████████████████████████████████▊                                  | 567/1000 [00:36<00:27, 15.87it/s]"
     ]
    },
    {
     "name": "stdout",
     "output_type": "stream",
     "text": [
      "Monte Carlo 565\n",
      "Monte Carlo 566\n",
      "Monte Carlo 567\n",
      "Monte Carlo 568"
     ]
    },
    {
     "name": "stderr",
     "output_type": "stream",
     "text": [
      "\r",
      " 57%|████████████████████████████████████████████▉                                  | 569/1000 [00:36<00:27, 15.73it/s]"
     ]
    },
    {
     "name": "stdout",
     "output_type": "stream",
     "text": [
      "\n",
      "Monte Carlo 569\n",
      "Monte Carlo 570\n"
     ]
    },
    {
     "name": "stderr",
     "output_type": "stream",
     "text": [
      " 57%|█████████████████████████████████████████████▎                                 | 573/1000 [00:36<00:25, 16.97it/s]"
     ]
    },
    {
     "name": "stdout",
     "output_type": "stream",
     "text": [
      "Monte Carlo 571\n",
      "Monte Carlo 572\n",
      "Monte Carlo 573\n",
      "Monte Carlo 574\n"
     ]
    },
    {
     "name": "stderr",
     "output_type": "stream",
     "text": [
      " 58%|█████████████████████████████████████████████▌                                 | 577/1000 [00:36<00:26, 15.90it/s]"
     ]
    },
    {
     "name": "stdout",
     "output_type": "stream",
     "text": [
      "Monte Carlo 575\n",
      "Monte Carlo 576\n",
      "Monte Carlo 577\n",
      "Monte Carlo 578"
     ]
    },
    {
     "name": "stderr",
     "output_type": "stream",
     "text": [
      " 58%|█████████████████████████████████████████████▉                                 | 581/1000 [00:36<00:24, 17.16it/s]"
     ]
    },
    {
     "name": "stdout",
     "output_type": "stream",
     "text": [
      "\n",
      "Monte Carlo 579\n",
      "Monte Carlo 580\n",
      "Monte Carlo 581\n",
      "Monte Carlo 582"
     ]
    },
    {
     "name": "stderr",
     "output_type": "stream",
     "text": [
      " 58%|██████████████████████████████████████████████▏                                | 585/1000 [00:37<00:24, 16.98it/s]"
     ]
    },
    {
     "name": "stdout",
     "output_type": "stream",
     "text": [
      "\n",
      "Monte Carlo 583\n",
      "Monte Carlo 584\n"
     ]
    },
    {
     "name": "stderr",
     "output_type": "stream",
     "text": [
      "\r",
      " 59%|██████████████████████████████████████████████▎                                | 587/1000 [00:37<00:23, 17.66it/s]"
     ]
    },
    {
     "name": "stdout",
     "output_type": "stream",
     "text": [
      "Monte Carlo 585\n",
      "Monte Carlo 586\n",
      "Monte Carlo 587\n",
      "Monte Carlo 588\n"
     ]
    },
    {
     "name": "stderr",
     "output_type": "stream",
     "text": [
      " 59%|██████████████████████████████████████████████▋                                | 591/1000 [00:37<00:23, 17.48it/s]"
     ]
    },
    {
     "name": "stdout",
     "output_type": "stream",
     "text": [
      "Monte Carlo 589\n",
      "Monte Carlo 590\n",
      "Monte Carlo 591\n",
      "Monte Carlo 592\n"
     ]
    },
    {
     "name": "stderr",
     "output_type": "stream",
     "text": [
      " 60%|███████████████████████████████████████████████                                | 595/1000 [00:37<00:24, 16.42it/s]"
     ]
    },
    {
     "name": "stdout",
     "output_type": "stream",
     "text": [
      "Monte Carlo 593\n",
      "Monte Carlo 594\n",
      "Monte Carlo 595\n",
      "Monte Carlo 596\n"
     ]
    },
    {
     "name": "stderr",
     "output_type": "stream",
     "text": [
      " 60%|███████████████████████████████████████████████▎                               | 599/1000 [00:38<00:26, 15.03it/s]"
     ]
    },
    {
     "name": "stdout",
     "output_type": "stream",
     "text": [
      "Monte Carlo 597\n",
      "Monte Carlo 598\n",
      "Monte Carlo 599\n"
     ]
    },
    {
     "name": "stderr",
     "output_type": "stream",
     "text": [
      "\r",
      " 60%|███████████████████████████████████████████████▍                               | 601/1000 [00:38<00:26, 15.18it/s]"
     ]
    },
    {
     "name": "stdout",
     "output_type": "stream",
     "text": [
      "Monte Carlo 600\n",
      "Monte Carlo 601\n",
      "Monte Carlo 602\n"
     ]
    },
    {
     "name": "stderr",
     "output_type": "stream",
     "text": [
      " 60%|███████████████████████████████████████████████▊                               | 605/1000 [00:38<00:27, 14.48it/s]"
     ]
    },
    {
     "name": "stdout",
     "output_type": "stream",
     "text": [
      "Monte Carlo 603\n",
      "Monte Carlo 604\n",
      "Monte Carlo 605\n",
      "Monte Carlo 606"
     ]
    },
    {
     "name": "stderr",
     "output_type": "stream",
     "text": [
      "\r",
      " 61%|███████████████████████████████████████████████▉                               | 607/1000 [00:38<00:25, 15.40it/s]"
     ]
    },
    {
     "name": "stdout",
     "output_type": "stream",
     "text": [
      "\n",
      "Monte Carlo 607\n",
      "Monte Carlo 608\n"
     ]
    },
    {
     "name": "stderr",
     "output_type": "stream",
     "text": [
      " 61%|████████████████████████████████████████████████▎                              | 611/1000 [00:38<00:26, 14.77it/s]"
     ]
    },
    {
     "name": "stdout",
     "output_type": "stream",
     "text": [
      "Monte Carlo 609\n",
      "Monte Carlo 610\n",
      "Monte Carlo 611\n",
      "Monte Carlo 612\n"
     ]
    },
    {
     "name": "stderr",
     "output_type": "stream",
     "text": [
      " 62%|████████████████████████████████████████████████▋                              | 616/1000 [00:39<00:22, 17.09it/s]"
     ]
    },
    {
     "name": "stdout",
     "output_type": "stream",
     "text": [
      "Monte Carlo 613\n",
      "Monte Carlo 614\n",
      "Monte Carlo 615\n",
      "Monte Carlo 616\n"
     ]
    },
    {
     "name": "stderr",
     "output_type": "stream",
     "text": [
      " 62%|████████████████████████████████████████████████▉                              | 620/1000 [00:39<00:23, 16.45it/s]"
     ]
    },
    {
     "name": "stdout",
     "output_type": "stream",
     "text": [
      "Monte Carlo 617\n",
      "Monte Carlo 618\n",
      "Monte Carlo 619\n"
     ]
    },
    {
     "name": "stderr",
     "output_type": "stream",
     "text": [
      "\r",
      " 62%|█████████████████████████████████████████████████▏                             | 622/1000 [00:39<00:22, 17.13it/s]"
     ]
    },
    {
     "name": "stdout",
     "output_type": "stream",
     "text": [
      "Monte Carlo 620\n",
      "Monte Carlo 621\n",
      "Monte Carlo 622\n",
      "Monte Carlo 623"
     ]
    },
    {
     "name": "stderr",
     "output_type": "stream",
     "text": [
      "\r",
      " 62%|█████████████████████████████████████████████████▎                             | 624/1000 [00:39<00:24, 15.25it/s]"
     ]
    },
    {
     "name": "stdout",
     "output_type": "stream",
     "text": [
      "\n",
      "Monte Carlo 624\n",
      "Monte Carlo 625\n"
     ]
    },
    {
     "name": "stderr",
     "output_type": "stream",
     "text": [
      " 63%|█████████████████████████████████████████████████▌                             | 628/1000 [00:39<00:22, 16.36it/s]"
     ]
    },
    {
     "name": "stdout",
     "output_type": "stream",
     "text": [
      "Monte Carlo 626\n",
      "Monte Carlo 627\n",
      "Monte Carlo 628\n",
      "Monte Carlo 629\n"
     ]
    },
    {
     "name": "stderr",
     "output_type": "stream",
     "text": [
      " 63%|█████████████████████████████████████████████████▉                             | 632/1000 [00:40<00:22, 16.27it/s]"
     ]
    },
    {
     "name": "stdout",
     "output_type": "stream",
     "text": [
      "Monte Carlo 630\n",
      "Monte Carlo 631\n",
      "Monte Carlo 632\n",
      "Monte Carlo 633"
     ]
    },
    {
     "name": "stderr",
     "output_type": "stream",
     "text": [
      "\r",
      " 63%|██████████████████████████████████████████████████                             | 634/1000 [00:40<00:23, 15.86it/s]"
     ]
    },
    {
     "name": "stdout",
     "output_type": "stream",
     "text": [
      "\n",
      "Monte Carlo 634\n",
      "Monte Carlo 635\n"
     ]
    },
    {
     "name": "stderr",
     "output_type": "stream",
     "text": [
      " 64%|██████████████████████████████████████████████████▍                            | 638/1000 [00:40<00:21, 16.68it/s]"
     ]
    },
    {
     "name": "stdout",
     "output_type": "stream",
     "text": [
      "Monte Carlo 636\n",
      "Monte Carlo 637\n",
      "Monte Carlo 638\n",
      "Monte Carlo 639"
     ]
    },
    {
     "name": "stderr",
     "output_type": "stream",
     "text": [
      "\r",
      " 64%|██████████████████████████████████████████████████▌                            | 640/1000 [00:40<00:24, 14.94it/s]"
     ]
    },
    {
     "name": "stdout",
     "output_type": "stream",
     "text": [
      "\n",
      "Monte Carlo 640\n",
      "Monte Carlo 641\n"
     ]
    },
    {
     "name": "stderr",
     "output_type": "stream",
     "text": [
      " 64%|██████████████████████████████████████████████████▉                            | 644/1000 [00:40<00:23, 15.09it/s]"
     ]
    },
    {
     "name": "stdout",
     "output_type": "stream",
     "text": [
      "Monte Carlo 642\n",
      "Monte Carlo 643\n",
      "Monte Carlo 644\n",
      "Monte Carlo 645\n"
     ]
    },
    {
     "name": "stderr",
     "output_type": "stream",
     "text": [
      " 65%|███████████████████████████████████████████████████▏                           | 648/1000 [00:41<00:23, 14.76it/s]"
     ]
    },
    {
     "name": "stdout",
     "output_type": "stream",
     "text": [
      "Monte Carlo 646\n",
      "Monte Carlo 647\n",
      "Monte Carlo 648\n"
     ]
    },
    {
     "name": "stderr",
     "output_type": "stream",
     "text": [
      "\r",
      " 65%|███████████████████████████████████████████████████▎                           | 650/1000 [00:41<00:26, 13.42it/s]"
     ]
    },
    {
     "name": "stdout",
     "output_type": "stream",
     "text": [
      "Monte Carlo 649\n",
      "Monte Carlo 650\n",
      "Monte Carlo 651\n"
     ]
    },
    {
     "name": "stderr",
     "output_type": "stream",
     "text": [
      " 65%|███████████████████████████████████████████████████▋                           | 654/1000 [00:41<00:23, 14.85it/s]"
     ]
    },
    {
     "name": "stdout",
     "output_type": "stream",
     "text": [
      "Monte Carlo 652\n",
      "Monte Carlo 653\n",
      "Monte Carlo 654\n",
      "Monte Carlo 655\n"
     ]
    },
    {
     "name": "stderr",
     "output_type": "stream",
     "text": [
      " 66%|███████████████████████████████████████████████████▉                           | 658/1000 [00:41<00:22, 15.25it/s]"
     ]
    },
    {
     "name": "stdout",
     "output_type": "stream",
     "text": [
      "Monte Carlo 656\n",
      "Monte Carlo 657\n",
      "Monte Carlo 658\n"
     ]
    },
    {
     "name": "stderr",
     "output_type": "stream",
     "text": [
      " 66%|████████████████████████████████████████████████████▎                          | 662/1000 [00:42<00:23, 14.50it/s]"
     ]
    },
    {
     "name": "stdout",
     "output_type": "stream",
     "text": [
      "Monte Carlo 659\n",
      "Monte Carlo 660\n",
      "Monte Carlo 661\n"
     ]
    },
    {
     "name": "stderr",
     "output_type": "stream",
     "text": [
      "\r",
      " 66%|████████████████████████████████████████████████████▌                          | 665/1000 [00:42<00:20, 16.43it/s]"
     ]
    },
    {
     "name": "stdout",
     "output_type": "stream",
     "text": [
      "Monte Carlo 662\n",
      "Monte Carlo 663\n",
      "Monte Carlo 664\n",
      "Monte Carlo 665\n"
     ]
    },
    {
     "name": "stderr",
     "output_type": "stream",
     "text": [
      " 67%|████████████████████████████████████████████████████▊                          | 669/1000 [00:42<00:21, 15.62it/s]"
     ]
    },
    {
     "name": "stdout",
     "output_type": "stream",
     "text": [
      "Monte Carlo 666\n",
      "Monte Carlo 667\n",
      "Monte Carlo 668\n"
     ]
    },
    {
     "name": "stderr",
     "output_type": "stream",
     "text": [
      "\r",
      " 67%|█████████████████████████████████████████████████████                          | 671/1000 [00:42<00:20, 16.29it/s]"
     ]
    },
    {
     "name": "stdout",
     "output_type": "stream",
     "text": [
      "Monte Carlo 669\n",
      "Monte Carlo 670\n",
      "Monte Carlo 671\n",
      "Monte Carlo 672\n"
     ]
    },
    {
     "name": "stderr",
     "output_type": "stream",
     "text": [
      " 68%|█████████████████████████████████████████████████████▎                         | 675/1000 [00:42<00:20, 15.66it/s]"
     ]
    },
    {
     "name": "stdout",
     "output_type": "stream",
     "text": [
      "Monte Carlo 673\n",
      "Monte Carlo 674\n",
      "Monte Carlo 675\n",
      "Monte Carlo 676\n"
     ]
    },
    {
     "name": "stderr",
     "output_type": "stream",
     "text": [
      " 68%|█████████████████████████████████████████████████████▋                         | 679/1000 [00:43<00:18, 16.95it/s]"
     ]
    },
    {
     "name": "stdout",
     "output_type": "stream",
     "text": [
      "Monte Carlo 677\n",
      "Monte Carlo 678\n",
      "Monte Carlo 679\n",
      "Monte Carlo 680\n"
     ]
    },
    {
     "name": "stderr",
     "output_type": "stream",
     "text": [
      " 68%|█████████████████████████████████████████████████████▉                         | 683/1000 [00:43<00:20, 15.68it/s]"
     ]
    },
    {
     "name": "stdout",
     "output_type": "stream",
     "text": [
      "Monte Carlo 681\n",
      "Monte Carlo 682\n",
      "Monte Carlo 683\n",
      "Monte Carlo 684"
     ]
    },
    {
     "name": "stderr",
     "output_type": "stream",
     "text": [
      "\r",
      " 68%|██████████████████████████████████████████████████████                         | 685/1000 [00:43<00:21, 14.74it/s]"
     ]
    },
    {
     "name": "stdout",
     "output_type": "stream",
     "text": [
      "\n",
      "Monte Carlo 685\n",
      "Monte Carlo 686\n"
     ]
    },
    {
     "name": "stderr",
     "output_type": "stream",
     "text": [
      " 69%|██████████████████████████████████████████████████████▍                        | 689/1000 [00:43<00:22, 13.91it/s]"
     ]
    },
    {
     "name": "stdout",
     "output_type": "stream",
     "text": [
      "Monte Carlo 687\n",
      "Monte Carlo 688\n",
      "Monte Carlo 689\n"
     ]
    },
    {
     "name": "stderr",
     "output_type": "stream",
     "text": [
      " 69%|██████████████████████████████████████████████████████▋                        | 693/1000 [00:44<00:22, 13.93it/s]"
     ]
    },
    {
     "name": "stdout",
     "output_type": "stream",
     "text": [
      "Monte Carlo 690\n",
      "Monte Carlo 691\n",
      "Monte Carlo 692\n"
     ]
    },
    {
     "name": "stderr",
     "output_type": "stream",
     "text": [
      "\r",
      " 70%|██████████████████████████████████████████████████████▉                        | 695/1000 [00:44<00:22, 13.76it/s]"
     ]
    },
    {
     "name": "stdout",
     "output_type": "stream",
     "text": [
      "Monte Carlo 693\n",
      "Monte Carlo 694\n",
      "Monte Carlo 695\n",
      "Monte Carlo 696\n"
     ]
    },
    {
     "name": "stderr",
     "output_type": "stream",
     "text": [
      " 70%|███████████████████████████████████████████████████████▏                       | 699/1000 [00:44<00:22, 13.67it/s]"
     ]
    },
    {
     "name": "stdout",
     "output_type": "stream",
     "text": [
      "Monte Carlo 697\n",
      "Monte Carlo 698\n",
      "Monte Carlo 699\n"
     ]
    },
    {
     "name": "stderr",
     "output_type": "stream",
     "text": [
      " 70%|███████████████████████████████████████████████████████▌                       | 703/1000 [00:44<00:19, 14.96it/s]"
     ]
    },
    {
     "name": "stdout",
     "output_type": "stream",
     "text": [
      "Monte Carlo 700\n",
      "Monte Carlo 701\n",
      "Monte Carlo 702\n",
      "Monte Carlo 703\n"
     ]
    },
    {
     "name": "stderr",
     "output_type": "stream",
     "text": [
      "\r",
      " 70%|███████████████████████████████████████████████████████▋                       | 705/1000 [00:45<00:20, 14.42it/s]"
     ]
    },
    {
     "name": "stdout",
     "output_type": "stream",
     "text": [
      "Monte Carlo 704\n",
      "Monte Carlo 705\n",
      "Monte Carlo 706\n"
     ]
    },
    {
     "name": "stderr",
     "output_type": "stream",
     "text": [
      " 71%|████████████████████████████████████████████████████████                       | 709/1000 [00:45<00:19, 14.81it/s]"
     ]
    },
    {
     "name": "stdout",
     "output_type": "stream",
     "text": [
      "Monte Carlo 707\n",
      "Monte Carlo 708\n",
      "Monte Carlo 709\n",
      "Monte Carlo 710\n"
     ]
    },
    {
     "name": "stderr",
     "output_type": "stream",
     "text": [
      " 71%|████████████████████████████████████████████████████████▎                      | 713/1000 [00:45<00:20, 14.06it/s]"
     ]
    },
    {
     "name": "stdout",
     "output_type": "stream",
     "text": [
      "Monte Carlo 711\n",
      "Monte Carlo 712\n",
      "Monte Carlo 713\n"
     ]
    },
    {
     "name": "stderr",
     "output_type": "stream",
     "text": [
      "\r",
      " 72%|████████████████████████████████████████████████████████▍                      | 715/1000 [00:45<00:20, 13.93it/s]"
     ]
    },
    {
     "name": "stdout",
     "output_type": "stream",
     "text": [
      "Monte Carlo 714\n",
      "Monte Carlo 715\n",
      "Monte Carlo 716\n"
     ]
    },
    {
     "name": "stderr",
     "output_type": "stream",
     "text": [
      " 72%|████████████████████████████████████████████████████████▊                      | 719/1000 [00:46<00:18, 14.96it/s]"
     ]
    },
    {
     "name": "stdout",
     "output_type": "stream",
     "text": [
      "Monte Carlo 717\n",
      "Monte Carlo 718\n",
      "Monte Carlo 719\n",
      "Monte Carlo 720\n"
     ]
    },
    {
     "name": "stderr",
     "output_type": "stream",
     "text": [
      " 72%|█████████████████████████████████████████████████████████                      | 723/1000 [00:46<00:17, 15.74it/s]"
     ]
    },
    {
     "name": "stdout",
     "output_type": "stream",
     "text": [
      "Monte Carlo 721\n",
      "Monte Carlo 722\n",
      "Monte Carlo 723\n",
      "Monte Carlo 724\n"
     ]
    },
    {
     "name": "stderr",
     "output_type": "stream",
     "text": [
      " 73%|█████████████████████████████████████████████████████████▍                     | 727/1000 [00:46<00:18, 14.89it/s]"
     ]
    },
    {
     "name": "stdout",
     "output_type": "stream",
     "text": [
      "Monte Carlo 725\n",
      "Monte Carlo 726\n",
      "Monte Carlo 727\n",
      "Monte Carlo 728\n"
     ]
    },
    {
     "name": "stderr",
     "output_type": "stream",
     "text": [
      " 73%|█████████████████████████████████████████████████████████▉                     | 733/1000 [00:46<00:15, 16.93it/s]"
     ]
    },
    {
     "name": "stdout",
     "output_type": "stream",
     "text": [
      "Monte Carlo 729\n",
      "Monte Carlo 730\n",
      "Monte Carlo 731\n",
      "Monte Carlo 732\n"
     ]
    },
    {
     "name": "stderr",
     "output_type": "stream",
     "text": [
      "\r",
      " 74%|██████████████████████████████████████████████████████████                     | 735/1000 [00:47<00:16, 16.13it/s]"
     ]
    },
    {
     "name": "stdout",
     "output_type": "stream",
     "text": [
      "Monte Carlo 733\n",
      "Monte Carlo 734\n",
      "Monte Carlo 735\n",
      "Monte Carlo 736"
     ]
    },
    {
     "name": "stderr",
     "output_type": "stream",
     "text": [
      "\r",
      " 74%|██████████████████████████████████████████████████████████▎                    | 738/1000 [00:47<00:14, 17.59it/s]"
     ]
    },
    {
     "name": "stdout",
     "output_type": "stream",
     "text": [
      "\n",
      "Monte Carlo 737\n",
      "Monte Carlo 738\n",
      "Monte Carlo 739\n"
     ]
    },
    {
     "name": "stderr",
     "output_type": "stream",
     "text": [
      " 74%|██████████████████████████████████████████████████████████▌                    | 742/1000 [00:47<00:15, 16.24it/s]"
     ]
    },
    {
     "name": "stdout",
     "output_type": "stream",
     "text": [
      "Monte Carlo 740\n",
      "Monte Carlo 741\n",
      "Monte Carlo 742\n",
      "Monte Carlo 743\n"
     ]
    },
    {
     "name": "stderr",
     "output_type": "stream",
     "text": [
      " 75%|███████████████████████████████████████████████████████████                    | 747/1000 [00:47<00:14, 17.24it/s]"
     ]
    },
    {
     "name": "stdout",
     "output_type": "stream",
     "text": [
      "Monte Carlo 744\n",
      "Monte Carlo 745\n",
      "Monte Carlo 746\n",
      "Monte Carlo 747\n"
     ]
    },
    {
     "name": "stderr",
     "output_type": "stream",
     "text": [
      "\r",
      " 75%|███████████████████████████████████████████████████████████▏                   | 749/1000 [00:47<00:14, 16.90it/s]"
     ]
    },
    {
     "name": "stdout",
     "output_type": "stream",
     "text": [
      "Monte Carlo 748\n",
      "Monte Carlo 749\n",
      "Monte Carlo 750\n"
     ]
    },
    {
     "name": "stderr",
     "output_type": "stream",
     "text": [
      " 75%|███████████████████████████████████████████████████████████▍                   | 753/1000 [00:48<00:16, 15.35it/s]"
     ]
    },
    {
     "name": "stdout",
     "output_type": "stream",
     "text": [
      "Monte Carlo 751\n",
      "Monte Carlo 752\n",
      "Monte Carlo 753\n",
      "Monte Carlo 754\n"
     ]
    },
    {
     "name": "stderr",
     "output_type": "stream",
     "text": [
      " 76%|███████████████████████████████████████████████████████████▊                   | 757/1000 [00:48<00:16, 14.88it/s]"
     ]
    },
    {
     "name": "stdout",
     "output_type": "stream",
     "text": [
      "Monte Carlo 755\n",
      "Monte Carlo 756\n",
      "Monte Carlo 757\n",
      "Monte Carlo 758\n"
     ]
    },
    {
     "name": "stderr",
     "output_type": "stream",
     "text": [
      " 76%|████████████████████████████████████████████████████████████                   | 761/1000 [00:48<00:14, 16.28it/s]"
     ]
    },
    {
     "name": "stdout",
     "output_type": "stream",
     "text": [
      "Monte Carlo 759\n",
      "Monte Carlo 760\n",
      "Monte Carlo 761\n",
      "Monte Carlo 762"
     ]
    },
    {
     "name": "stderr",
     "output_type": "stream",
     "text": [
      " 76%|████████████████████████████████████████████████████████████▍                  | 765/1000 [00:48<00:15, 15.60it/s]"
     ]
    },
    {
     "name": "stdout",
     "output_type": "stream",
     "text": [
      "\n",
      "Monte Carlo 763\n",
      "Monte Carlo 764\n",
      "Monte Carlo 765\n"
     ]
    },
    {
     "name": "stderr",
     "output_type": "stream",
     "text": [
      "\r",
      " 77%|████████████████████████████████████████████████████████████▌                  | 767/1000 [00:48<00:14, 16.10it/s]"
     ]
    },
    {
     "name": "stdout",
     "output_type": "stream",
     "text": [
      "Monte Carlo 766\n",
      "Monte Carlo 767\n",
      "Monte Carlo 768\n",
      "Monte Carlo 769\n"
     ]
    },
    {
     "name": "stderr",
     "output_type": "stream",
     "text": [
      " 77%|████████████████████████████████████████████████████████████▉                  | 772/1000 [00:49<00:14, 16.04it/s]"
     ]
    },
    {
     "name": "stdout",
     "output_type": "stream",
     "text": [
      "Monte Carlo 770\n",
      "Monte Carlo 771\n",
      "Monte Carlo 772\n",
      "Monte Carlo 773"
     ]
    },
    {
     "name": "stderr",
     "output_type": "stream",
     "text": [
      "\r",
      " 77%|█████████████████████████████████████████████████████████████▏                 | 774/1000 [00:49<00:14, 15.16it/s]"
     ]
    },
    {
     "name": "stdout",
     "output_type": "stream",
     "text": [
      "\n",
      "Monte Carlo 774\n",
      "Monte Carlo 775\n"
     ]
    },
    {
     "name": "stderr",
     "output_type": "stream",
     "text": [
      " 78%|█████████████████████████████████████████████████████████████▍                 | 778/1000 [00:49<00:14, 15.12it/s]"
     ]
    },
    {
     "name": "stdout",
     "output_type": "stream",
     "text": [
      "Monte Carlo 776\n",
      "Monte Carlo 777\n",
      "Monte Carlo 778\n",
      "Monte Carlo 779\n"
     ]
    },
    {
     "name": "stderr",
     "output_type": "stream",
     "text": [
      " 78%|█████████████████████████████████████████████████████████████▊                 | 782/1000 [00:49<00:14, 15.08it/s]"
     ]
    },
    {
     "name": "stdout",
     "output_type": "stream",
     "text": [
      "Monte Carlo 780\n",
      "Monte Carlo 781\n",
      "Monte Carlo 782\n"
     ]
    },
    {
     "name": "stderr",
     "output_type": "stream",
     "text": [
      " 79%|██████████████████████████████████████████████████████████████                 | 786/1000 [00:50<00:13, 15.43it/s]"
     ]
    },
    {
     "name": "stdout",
     "output_type": "stream",
     "text": [
      "Monte Carlo 783\n",
      "Monte Carlo 784\n",
      "Monte Carlo 785\n"
     ]
    },
    {
     "name": "stderr",
     "output_type": "stream",
     "text": [
      "\r",
      " 79%|██████████████████████████████████████████████████████████████▎                | 788/1000 [00:50<00:13, 16.21it/s]"
     ]
    },
    {
     "name": "stdout",
     "output_type": "stream",
     "text": [
      "Monte Carlo 786\n",
      "Monte Carlo 787\n",
      "Monte Carlo 788\n",
      "Monte Carlo 789\n"
     ]
    },
    {
     "name": "stderr",
     "output_type": "stream",
     "text": [
      " 79%|██████████████████████████████████████████████████████████████▌                | 792/1000 [00:50<00:12, 17.01it/s]"
     ]
    },
    {
     "name": "stdout",
     "output_type": "stream",
     "text": [
      "Monte Carlo 790\n",
      "Monte Carlo 791\n",
      "Monte Carlo 792\n",
      "Monte Carlo 793\n"
     ]
    },
    {
     "name": "stderr",
     "output_type": "stream",
     "text": [
      " 80%|██████████████████████████████████████████████████████████████▉                | 796/1000 [00:50<00:12, 16.22it/s]"
     ]
    },
    {
     "name": "stdout",
     "output_type": "stream",
     "text": [
      "Monte Carlo 794\n",
      "Monte Carlo 795\n",
      "Monte Carlo 796\n",
      "Monte Carlo 797\n"
     ]
    },
    {
     "name": "stderr",
     "output_type": "stream",
     "text": [
      " 80%|███████████████████████████████████████████████████████████████▏               | 800/1000 [00:51<00:13, 14.79it/s]"
     ]
    },
    {
     "name": "stdout",
     "output_type": "stream",
     "text": [
      "Monte Carlo 798\n",
      "Monte Carlo 799\n",
      "Monte Carlo 800\n"
     ]
    },
    {
     "name": "stderr",
     "output_type": "stream",
     "text": [
      " 80%|███████████████████████████████████████████████████████████████▌               | 804/1000 [00:51<00:12, 15.69it/s]"
     ]
    },
    {
     "name": "stdout",
     "output_type": "stream",
     "text": [
      "Monte Carlo 801\n",
      "Monte Carlo 802\n",
      "Monte Carlo 803\n",
      "Monte Carlo 804\n"
     ]
    },
    {
     "name": "stderr",
     "output_type": "stream",
     "text": [
      "\r",
      " 81%|███████████████████████████████████████████████████████████████▋               | 806/1000 [00:51<00:12, 15.98it/s]"
     ]
    },
    {
     "name": "stdout",
     "output_type": "stream",
     "text": [
      "Monte Carlo 805\n",
      "Monte Carlo 806\n",
      "Monte Carlo 807\n"
     ]
    },
    {
     "name": "stderr",
     "output_type": "stream",
     "text": [
      " 81%|████████████████████████████████████████████████████████████████               | 811/1000 [00:51<00:11, 16.99it/s]"
     ]
    },
    {
     "name": "stdout",
     "output_type": "stream",
     "text": [
      "Monte Carlo 808\n",
      "Monte Carlo 809\n",
      "Monte Carlo 810\n",
      "Monte Carlo 811\n",
      "Monte Carlo 812"
     ]
    },
    {
     "name": "stderr",
     "output_type": "stream",
     "text": [
      " 82%|████████████████████████████████████████████████████████████████▍              | 815/1000 [00:52<00:11, 16.38it/s]"
     ]
    },
    {
     "name": "stdout",
     "output_type": "stream",
     "text": [
      "\n",
      "Monte Carlo 813\n",
      "Monte Carlo 814\n"
     ]
    },
    {
     "name": "stderr",
     "output_type": "stream",
     "text": [
      "\r",
      " 82%|████████████████████████████████████████████████████████████████▌              | 817/1000 [00:52<00:11, 16.17it/s]"
     ]
    },
    {
     "name": "stdout",
     "output_type": "stream",
     "text": [
      "Monte Carlo 815\n",
      "Monte Carlo 816\n",
      "Monte Carlo 817\n"
     ]
    },
    {
     "name": "stderr",
     "output_type": "stream",
     "text": [
      "\r",
      " 82%|████████████████████████████████████████████████████████████████▋              | 819/1000 [00:52<00:11, 15.21it/s]"
     ]
    },
    {
     "name": "stdout",
     "output_type": "stream",
     "text": [
      "Monte Carlo 818\n",
      "Monte Carlo 819\n",
      "Monte Carlo 820\n"
     ]
    },
    {
     "name": "stderr",
     "output_type": "stream",
     "text": [
      " 82%|█████████████████████████████████████████████████████████████████              | 823/1000 [00:52<00:12, 14.57it/s]"
     ]
    },
    {
     "name": "stdout",
     "output_type": "stream",
     "text": [
      "Monte Carlo 821\n",
      "Monte Carlo 822\n",
      "Monte Carlo 823\n"
     ]
    },
    {
     "name": "stderr",
     "output_type": "stream",
     "text": [
      " 83%|█████████████████████████████████████████████████████████████████▎             | 827/1000 [00:52<00:11, 14.84it/s]"
     ]
    },
    {
     "name": "stdout",
     "output_type": "stream",
     "text": [
      "Monte Carlo 824\n",
      "Monte Carlo 825\n",
      "Monte Carlo 826\n",
      "Monte Carlo 827\n"
     ]
    },
    {
     "name": "stderr",
     "output_type": "stream",
     "text": [
      "\r",
      " 83%|█████████████████████████████████████████████████████████████████▍             | 829/1000 [00:52<00:10, 15.78it/s]"
     ]
    },
    {
     "name": "stdout",
     "output_type": "stream",
     "text": [
      "Monte Carlo 828\n",
      "Monte Carlo 829\n",
      "Monte Carlo 830\n"
     ]
    },
    {
     "name": "stderr",
     "output_type": "stream",
     "text": [
      " 83%|█████████████████████████████████████████████████████████████████▊             | 833/1000 [00:53<00:10, 15.79it/s]"
     ]
    },
    {
     "name": "stdout",
     "output_type": "stream",
     "text": [
      "Monte Carlo 831\n",
      "Monte Carlo 832\n",
      "Monte Carlo 833\n",
      "Monte Carlo 834\n"
     ]
    },
    {
     "name": "stderr",
     "output_type": "stream",
     "text": [
      " 84%|██████████████████████████████████████████████████████████████████             | 837/1000 [00:53<00:10, 16.27it/s]"
     ]
    },
    {
     "name": "stdout",
     "output_type": "stream",
     "text": [
      "Monte Carlo 835\n",
      "Monte Carlo 836\n",
      "Monte Carlo 837\n",
      "Monte Carlo 838"
     ]
    },
    {
     "name": "stderr",
     "output_type": "stream",
     "text": [
      " 84%|██████████████████████████████████████████████████████████████████▍            | 841/1000 [00:53<00:10, 15.25it/s]"
     ]
    },
    {
     "name": "stdout",
     "output_type": "stream",
     "text": [
      "\n",
      "Monte Carlo 839\n",
      "Monte Carlo 840\n"
     ]
    },
    {
     "name": "stderr",
     "output_type": "stream",
     "text": [
      "\r",
      " 84%|██████████████████████████████████████████████████████████████████▌            | 843/1000 [00:53<00:09, 15.70it/s]"
     ]
    },
    {
     "name": "stdout",
     "output_type": "stream",
     "text": [
      "Monte Carlo 841\n",
      "Monte Carlo 842\n",
      "Monte Carlo 843\n",
      "Monte Carlo 844\n"
     ]
    },
    {
     "name": "stderr",
     "output_type": "stream",
     "text": [
      " 85%|██████████████████████████████████████████████████████████████████▉            | 847/1000 [00:54<00:09, 15.86it/s]"
     ]
    },
    {
     "name": "stdout",
     "output_type": "stream",
     "text": [
      "Monte Carlo 845\n",
      "Monte Carlo 846\n",
      "Monte Carlo 847\n",
      "Monte Carlo 848\n"
     ]
    },
    {
     "name": "stderr",
     "output_type": "stream",
     "text": [
      " 85%|███████████████████████████████████████████████████████████████████▏           | 851/1000 [00:54<00:09, 16.21it/s]"
     ]
    },
    {
     "name": "stdout",
     "output_type": "stream",
     "text": [
      "Monte Carlo 849\n",
      "Monte Carlo 850\n",
      "Monte Carlo 851\n",
      "Monte Carlo 852\n"
     ]
    },
    {
     "name": "stderr",
     "output_type": "stream",
     "text": [
      " 86%|███████████████████████████████████████████████████████████████████▌           | 855/1000 [00:54<00:09, 14.54it/s]"
     ]
    },
    {
     "name": "stdout",
     "output_type": "stream",
     "text": [
      "Monte Carlo 853\n",
      "Monte Carlo 854\n",
      "Monte Carlo 855\n",
      "Monte Carlo 856\n"
     ]
    },
    {
     "name": "stderr",
     "output_type": "stream",
     "text": [
      " 86%|███████████████████████████████████████████████████████████████████▊           | 859/1000 [00:54<00:08, 16.06it/s]"
     ]
    },
    {
     "name": "stdout",
     "output_type": "stream",
     "text": [
      "Monte Carlo 857\n",
      "Monte Carlo 858\n",
      "Monte Carlo 859\n",
      "Monte Carlo 860\n"
     ]
    },
    {
     "name": "stderr",
     "output_type": "stream",
     "text": [
      " 86%|████████████████████████████████████████████████████████████████████▏          | 863/1000 [00:55<00:08, 16.03it/s]"
     ]
    },
    {
     "name": "stdout",
     "output_type": "stream",
     "text": [
      "Monte Carlo 861\n",
      "Monte Carlo 862\n",
      "Monte Carlo 863\n",
      "Monte Carlo 864\n"
     ]
    },
    {
     "name": "stderr",
     "output_type": "stream",
     "text": [
      " 87%|████████████████████████████████████████████████████████████████████▍          | 867/1000 [00:55<00:08, 15.02it/s]"
     ]
    },
    {
     "name": "stdout",
     "output_type": "stream",
     "text": [
      "Monte Carlo 865\n",
      "Monte Carlo 866\n",
      "Monte Carlo 867\n"
     ]
    },
    {
     "name": "stderr",
     "output_type": "stream",
     "text": [
      " 87%|████████████████████████████████████████████████████████████████████▊          | 871/1000 [00:55<00:08, 15.01it/s]"
     ]
    },
    {
     "name": "stdout",
     "output_type": "stream",
     "text": [
      "Monte Carlo 868\n",
      "Monte Carlo 869\n",
      "Monte Carlo 870\n"
     ]
    },
    {
     "name": "stderr",
     "output_type": "stream",
     "text": [
      "\r",
      " 87%|████████████████████████████████████████████████████████████████████▉          | 873/1000 [00:55<00:08, 15.63it/s]"
     ]
    },
    {
     "name": "stdout",
     "output_type": "stream",
     "text": [
      "Monte Carlo 871\n",
      "Monte Carlo 872\n",
      "Monte Carlo 873\n",
      "Monte Carlo 874\n",
      "Monte Carlo 875\n"
     ]
    },
    {
     "name": "stderr",
     "output_type": "stream",
     "text": [
      " 88%|█████████████████████████████████████████████████████████████████████▎         | 878/1000 [00:56<00:07, 17.24it/s]"
     ]
    },
    {
     "name": "stdout",
     "output_type": "stream",
     "text": [
      "Monte Carlo 876\n",
      "Monte Carlo 877\n",
      "Monte Carlo 878\n",
      "Monte Carlo 879\n"
     ]
    },
    {
     "name": "stderr",
     "output_type": "stream",
     "text": [
      " 88%|█████████████████████████████████████████████████████████████████████▋         | 882/1000 [00:56<00:07, 14.81it/s]"
     ]
    },
    {
     "name": "stdout",
     "output_type": "stream",
     "text": [
      "Monte Carlo 880\n",
      "Monte Carlo 881\n",
      "Monte Carlo 882\n",
      "Monte Carlo 883\n"
     ]
    },
    {
     "name": "stderr",
     "output_type": "stream",
     "text": [
      " 89%|█████████████████████████████████████████████████████████████████████▉         | 886/1000 [00:56<00:07, 15.02it/s]"
     ]
    },
    {
     "name": "stdout",
     "output_type": "stream",
     "text": [
      "Monte Carlo 884\n",
      "Monte Carlo 885\n",
      "Monte Carlo 886\n",
      "Monte Carlo 887"
     ]
    },
    {
     "name": "stderr",
     "output_type": "stream",
     "text": [
      "\r",
      " 89%|██████████████████████████████████████████████████████████████████████▏        | 888/1000 [00:56<00:07, 14.77it/s]"
     ]
    },
    {
     "name": "stdout",
     "output_type": "stream",
     "text": [
      "\n",
      "Monte Carlo 888\n",
      "Monte Carlo 889\n"
     ]
    },
    {
     "name": "stderr",
     "output_type": "stream",
     "text": [
      " 89%|██████████████████████████████████████████████████████████████████████▌        | 893/1000 [00:57<00:07, 15.14it/s]"
     ]
    },
    {
     "name": "stdout",
     "output_type": "stream",
     "text": [
      "Monte Carlo 890\n",
      "Monte Carlo 891\n",
      "Monte Carlo 892\n"
     ]
    },
    {
     "name": "stderr",
     "output_type": "stream",
     "text": [
      "\r",
      " 90%|██████████████████████████████████████████████████████████████████████▋        | 895/1000 [00:57<00:06, 15.47it/s]"
     ]
    },
    {
     "name": "stdout",
     "output_type": "stream",
     "text": [
      "Monte Carlo 893\n",
      "Monte Carlo 894\n",
      "Monte Carlo 895\n",
      "Monte Carlo 896\n"
     ]
    },
    {
     "name": "stderr",
     "output_type": "stream",
     "text": [
      " 90%|███████████████████████████████████████████████████████████████████████        | 899/1000 [00:57<00:06, 16.00it/s]"
     ]
    },
    {
     "name": "stdout",
     "output_type": "stream",
     "text": [
      "Monte Carlo 897\n",
      "Monte Carlo 898\n",
      "Monte Carlo 899\n",
      "Monte Carlo 900\n"
     ]
    },
    {
     "name": "stderr",
     "output_type": "stream",
     "text": [
      " 90%|███████████████████████████████████████████████████████████████████████▎       | 903/1000 [00:57<00:06, 14.55it/s]"
     ]
    },
    {
     "name": "stdout",
     "output_type": "stream",
     "text": [
      "Monte Carlo 901\n",
      "Monte Carlo 902\n",
      "Monte Carlo 903\n"
     ]
    },
    {
     "name": "stderr",
     "output_type": "stream",
     "text": [
      "\r",
      " 90%|███████████████████████████████████████████████████████████████████████▍       | 905/1000 [00:57<00:06, 14.18it/s]"
     ]
    },
    {
     "name": "stdout",
     "output_type": "stream",
     "text": [
      "Monte Carlo 904\n",
      "Monte Carlo 905\n",
      "Monte Carlo 906\n"
     ]
    },
    {
     "name": "stderr",
     "output_type": "stream",
     "text": [
      " 91%|███████████████████████████████████████████████████████████████████████▊       | 909/1000 [00:58<00:05, 15.55it/s]"
     ]
    },
    {
     "name": "stdout",
     "output_type": "stream",
     "text": [
      "Monte Carlo 907\n",
      "Monte Carlo 908\n",
      "Monte Carlo 909\n",
      "Monte Carlo 910\n"
     ]
    },
    {
     "name": "stderr",
     "output_type": "stream",
     "text": [
      " 91%|████████████████████████████████████████████████████████████████████████▏      | 913/1000 [00:58<00:05, 16.89it/s]"
     ]
    },
    {
     "name": "stdout",
     "output_type": "stream",
     "text": [
      "Monte Carlo 911\n",
      "Monte Carlo 912\n",
      "Monte Carlo 913\n",
      "Monte Carlo 914\n"
     ]
    },
    {
     "name": "stderr",
     "output_type": "stream",
     "text": [
      " 92%|████████████████████████████████████████████████████████████████████████▍      | 917/1000 [00:58<00:05, 16.01it/s]"
     ]
    },
    {
     "name": "stdout",
     "output_type": "stream",
     "text": [
      "Monte Carlo 915\n",
      "Monte Carlo 916\n",
      "Monte Carlo 917\n"
     ]
    },
    {
     "name": "stderr",
     "output_type": "stream",
     "text": [
      "\r",
      " 92%|████████████████████████████████████████████████████████████████████████▌      | 919/1000 [00:58<00:05, 14.88it/s]"
     ]
    },
    {
     "name": "stdout",
     "output_type": "stream",
     "text": [
      "Monte Carlo 918\n",
      "Monte Carlo 919\n",
      "Monte Carlo 920\n"
     ]
    },
    {
     "name": "stderr",
     "output_type": "stream",
     "text": [
      " 92%|████████████████████████████████████████████████████████████████████████▉      | 923/1000 [00:59<00:05, 14.72it/s]"
     ]
    },
    {
     "name": "stdout",
     "output_type": "stream",
     "text": [
      "Monte Carlo 921\n",
      "Monte Carlo 922\n",
      "Monte Carlo 923\n",
      "Monte Carlo 924\n"
     ]
    },
    {
     "name": "stderr",
     "output_type": "stream",
     "text": [
      " 93%|█████████████████████████████████████████████████████████████████████████▏     | 927/1000 [00:59<00:05, 13.71it/s]"
     ]
    },
    {
     "name": "stdout",
     "output_type": "stream",
     "text": [
      "Monte Carlo 925\n",
      "Monte Carlo 926\n",
      "Monte Carlo 927\n"
     ]
    },
    {
     "name": "stderr",
     "output_type": "stream",
     "text": [
      "\r",
      " 93%|█████████████████████████████████████████████████████████████████████████▍     | 929/1000 [00:59<00:05, 13.95it/s]"
     ]
    },
    {
     "name": "stdout",
     "output_type": "stream",
     "text": [
      "Monte Carlo 928\n",
      "Monte Carlo 929\n",
      "Monte Carlo 930\n"
     ]
    },
    {
     "name": "stderr",
     "output_type": "stream",
     "text": [
      " 93%|█████████████████████████████████████████████████████████████████████████▋     | 933/1000 [00:59<00:04, 14.23it/s]"
     ]
    },
    {
     "name": "stdout",
     "output_type": "stream",
     "text": [
      "Monte Carlo 931\n",
      "Monte Carlo 932\n",
      "Monte Carlo 933\n"
     ]
    },
    {
     "name": "stderr",
     "output_type": "stream",
     "text": [
      " 94%|██████████████████████████████████████████████████████████████████████████     | 937/1000 [01:00<00:04, 14.27it/s]"
     ]
    },
    {
     "name": "stdout",
     "output_type": "stream",
     "text": [
      "Monte Carlo 934\n",
      "Monte Carlo 935\n",
      "Monte Carlo 936\n"
     ]
    },
    {
     "name": "stderr",
     "output_type": "stream",
     "text": [
      "\r",
      " 94%|██████████████████████████████████████████████████████████████████████████▏    | 939/1000 [01:00<00:04, 14.07it/s]"
     ]
    },
    {
     "name": "stdout",
     "output_type": "stream",
     "text": [
      "Monte Carlo 937\n",
      "Monte Carlo 938\n",
      "Monte Carlo 939\n"
     ]
    },
    {
     "name": "stderr",
     "output_type": "stream",
     "text": [
      "\r",
      " 94%|██████████████████████████████████████████████████████████████████████████▎    | 941/1000 [01:00<00:04, 14.16it/s]"
     ]
    },
    {
     "name": "stdout",
     "output_type": "stream",
     "text": [
      "Monte Carlo 940\n",
      "Monte Carlo 941\n",
      "Monte Carlo 942\n"
     ]
    },
    {
     "name": "stderr",
     "output_type": "stream",
     "text": [
      " 94%|██████████████████████████████████████████████████████████████████████████▋    | 945/1000 [01:00<00:03, 14.34it/s]"
     ]
    },
    {
     "name": "stdout",
     "output_type": "stream",
     "text": [
      "Monte Carlo 943\n",
      "Monte Carlo 944\n",
      "Monte Carlo 945\n"
     ]
    },
    {
     "name": "stderr",
     "output_type": "stream",
     "text": [
      " 95%|██████████████████████████████████████████████████████████████████████████▉    | 949/1000 [01:00<00:03, 14.16it/s]"
     ]
    },
    {
     "name": "stdout",
     "output_type": "stream",
     "text": [
      "Monte Carlo 946\n",
      "Monte Carlo 947\n",
      "Monte Carlo 948\n"
     ]
    },
    {
     "name": "stderr",
     "output_type": "stream",
     "text": [
      "\r",
      " 95%|███████████████████████████████████████████████████████████████████████████▏   | 951/1000 [01:01<00:03, 14.64it/s]"
     ]
    },
    {
     "name": "stdout",
     "output_type": "stream",
     "text": [
      "Monte Carlo 949\n",
      "Monte Carlo 950\n",
      "Monte Carlo 951\n",
      "Monte Carlo 952"
     ]
    },
    {
     "name": "stderr",
     "output_type": "stream",
     "text": [
      "\r",
      " 95%|███████████████████████████████████████████████████████████████████████████▎   | 954/1000 [01:01<00:02, 15.77it/s]"
     ]
    },
    {
     "name": "stdout",
     "output_type": "stream",
     "text": [
      "\n",
      "Monte Carlo 953\n",
      "Monte Carlo 954\n"
     ]
    },
    {
     "name": "stderr",
     "output_type": "stream",
     "text": [
      "\r",
      " 96%|███████████████████████████████████████████████████████████████████████████▌   | 956/1000 [01:01<00:03, 14.31it/s]"
     ]
    },
    {
     "name": "stdout",
     "output_type": "stream",
     "text": [
      "Monte Carlo 955\n",
      "Monte Carlo 956\n",
      "Monte Carlo 957\n"
     ]
    },
    {
     "name": "stderr",
     "output_type": "stream",
     "text": [
      " 96%|███████████████████████████████████████████████████████████████████████████▊   | 960/1000 [01:01<00:02, 13.73it/s]"
     ]
    },
    {
     "name": "stdout",
     "output_type": "stream",
     "text": [
      "Monte Carlo 958\n",
      "Monte Carlo 959\n",
      "Monte Carlo 960\n"
     ]
    },
    {
     "name": "stderr",
     "output_type": "stream",
     "text": [
      "\r",
      " 96%|███████████████████████████████████████████████████████████████████████████▉   | 962/1000 [01:01<00:02, 13.21it/s]"
     ]
    },
    {
     "name": "stdout",
     "output_type": "stream",
     "text": [
      "Monte Carlo 961\n",
      "Monte Carlo 962\n",
      "Monte Carlo 963\n"
     ]
    },
    {
     "name": "stderr",
     "output_type": "stream",
     "text": [
      " 97%|████████████████████████████████████████████████████████████████████████████▍  | 968/1000 [01:02<00:02, 15.90it/s]"
     ]
    },
    {
     "name": "stdout",
     "output_type": "stream",
     "text": [
      "Monte Carlo 964\n",
      "Monte Carlo 965\n",
      "Monte Carlo 966\n",
      "Monte Carlo 967\n"
     ]
    },
    {
     "name": "stderr",
     "output_type": "stream",
     "text": [
      "\r",
      " 97%|████████████████████████████████████████████████████████████████████████████▋  | 970/1000 [01:02<00:02, 14.69it/s]"
     ]
    },
    {
     "name": "stdout",
     "output_type": "stream",
     "text": [
      "Monte Carlo 968\n",
      "Monte Carlo 969\n",
      "Monte Carlo 970\n"
     ]
    },
    {
     "name": "stderr",
     "output_type": "stream",
     "text": [
      " 97%|████████████████████████████████████████████████████████████████████████████▉  | 974/1000 [01:02<00:01, 15.16it/s]"
     ]
    },
    {
     "name": "stdout",
     "output_type": "stream",
     "text": [
      "Monte Carlo 971\n",
      "Monte Carlo 972\n",
      "Monte Carlo 973\n"
     ]
    },
    {
     "name": "stderr",
     "output_type": "stream",
     "text": [
      "\r",
      " 98%|█████████████████████████████████████████████████████████████████████████████▏ | 977/1000 [01:02<00:01, 16.54it/s]"
     ]
    },
    {
     "name": "stdout",
     "output_type": "stream",
     "text": [
      "Monte Carlo 974\n",
      "Monte Carlo 975\n",
      "Monte Carlo 976\n",
      "Monte Carlo 977\n"
     ]
    },
    {
     "name": "stderr",
     "output_type": "stream",
     "text": [
      "\r",
      " 98%|█████████████████████████████████████████████████████████████████████████████▎ | 979/1000 [01:02<00:01, 17.16it/s]"
     ]
    },
    {
     "name": "stdout",
     "output_type": "stream",
     "text": [
      "Monte Carlo 978\n",
      "Monte Carlo 979\n",
      "Monte Carlo 980\n"
     ]
    },
    {
     "name": "stderr",
     "output_type": "stream",
     "text": [
      " 98%|█████████████████████████████████████████████████████████████████████████████▋ | 983/1000 [01:03<00:01, 15.36it/s]"
     ]
    },
    {
     "name": "stdout",
     "output_type": "stream",
     "text": [
      "Monte Carlo 981\n",
      "Monte Carlo 982\n",
      "Monte Carlo 983\n",
      "Monte Carlo 984\n"
     ]
    },
    {
     "name": "stderr",
     "output_type": "stream",
     "text": [
      " 99%|██████████████████████████████████████████████████████████████████████████████▏| 989/1000 [01:03<00:00, 15.80it/s]"
     ]
    },
    {
     "name": "stdout",
     "output_type": "stream",
     "text": [
      "Monte Carlo 985\n",
      "Monte Carlo 986\n",
      "Monte Carlo 987\n",
      "Monte Carlo 988\n"
     ]
    },
    {
     "name": "stderr",
     "output_type": "stream",
     "text": [
      "\r",
      " 99%|██████████████████████████████████████████████████████████████████████████████▎| 991/1000 [01:03<00:00, 15.37it/s]"
     ]
    },
    {
     "name": "stdout",
     "output_type": "stream",
     "text": [
      "Monte Carlo 989\n",
      "Monte Carlo 990\n",
      "Monte Carlo 991\n",
      "Monte Carlo 992"
     ]
    },
    {
     "name": "stderr",
     "output_type": "stream",
     "text": [
      "100%|██████████████████████████████████████████████████████████████████████████████▌| 995/1000 [01:03<00:00, 16.39it/s]"
     ]
    },
    {
     "name": "stdout",
     "output_type": "stream",
     "text": [
      "\n",
      "Monte Carlo 993\n",
      "Monte Carlo 994\n",
      "Monte Carlo 995\n"
     ]
    },
    {
     "name": "stderr",
     "output_type": "stream",
     "text": [
      "\r",
      "100%|██████████████████████████████████████████████████████████████████████████████▊| 997/1000 [01:04<00:00, 15.46it/s]"
     ]
    },
    {
     "name": "stdout",
     "output_type": "stream",
     "text": [
      "Monte Carlo 996\n",
      "Monte Carlo 997\n",
      "Monte Carlo 998\n"
     ]
    },
    {
     "name": "stderr",
     "output_type": "stream",
     "text": [
      "100%|██████████████████████████████████████████████████████████████████████████████| 1000/1000 [01:04<00:00, 15.56it/s]"
     ]
    },
    {
     "name": "stdout",
     "output_type": "stream",
     "text": [
      "Monte Carlo 999\n"
     ]
    },
    {
     "name": "stderr",
     "output_type": "stream",
     "text": [
      "\n"
     ]
    }
   ],
   "source": [
    "model_param = PoissonCovariance.get_parameters()\n",
    "inference_param = PoissonCovariance.get_inference_parameters()\n",
    "inference_param.update({\"nmc\":1000})\n",
    "pc_s = PoissonCovariance(None,None,None,**model_param)\n",
    "data_loader = pc_s.sample()\n",
    "\n",
    "\n",
    "pprint(inference_param)\n",
    "pc = PoissonCovariance(None, data_loader, None, **model_param)\n",
    "monte_carlo_parameters = pc.inference(data_loader,**inference_param)"
   ]
  },
  {
   "cell_type": "code",
   "execution_count": 5,
   "id": "61f33359",
   "metadata": {},
   "outputs": [
    {
     "data": {
      "text/plain": [
       "torch.Size([1000, 4])"
      ]
     },
     "execution_count": 5,
     "metadata": {},
     "output_type": "execute_result"
    }
   ],
   "source": [
    "data_loader[\"realizations\"].shape"
   ]
  },
  {
   "cell_type": "code",
   "execution_count": 30,
   "id": "3c30b84c",
   "metadata": {},
   "outputs": [],
   "source": [
    "kernel = monte_carlo_parameters[\"kernel\"]"
   ]
  },
  {
   "cell_type": "code",
   "execution_count": 31,
   "id": "3adb6f8e",
   "metadata": {},
   "outputs": [
    {
     "data": {
      "text/plain": [
       "array([[0.2334    , 0.1018408 , 0.06151985, 0.08157628],\n",
       "       [0.1018408 , 0.2334    , 0.10068841, 0.04425092],\n",
       "       [0.06151985, 0.10068841, 0.2334    , 0.15829127],\n",
       "       [0.08157628, 0.04425092, 0.15829127, 0.2334    ]], dtype=float32)"
      ]
     },
     "execution_count": 31,
     "metadata": {},
     "output_type": "execute_result"
    }
   ],
   "source": [
    "monte_carlo_parameters[\"K\"]"
   ]
  },
  {
   "cell_type": "code",
   "execution_count": 32,
   "id": "63935656",
   "metadata": {},
   "outputs": [],
   "source": [
    "burning_time = 500\n",
    "average_locations = []\n",
    "for locations_sample in monte_carlo_parameters[\"locations\"]:\n",
    "    locations_sample = np.vstack(locations_sample)\n",
    "    average_locations.append(locations_sample[burning_time:,:].mean(axis=0))\n",
    "average_locations = torch.Tensor(np.vstack(average_locations))"
   ]
  },
  {
   "cell_type": "code",
   "execution_count": 33,
   "id": "c2725cf8",
   "metadata": {},
   "outputs": [
    {
     "data": {
      "text/plain": [
       "tensor([[0.2334, 0.1024, 0.0638, 0.0844],\n",
       "        [0.1024, 0.2334, 0.1045, 0.0458],\n",
       "        [0.0638, 0.1045, 0.2334, 0.1576],\n",
       "        [0.0844, 0.0458, 0.1576, 0.2334]], grad_fn=<AddBackward0>)"
      ]
     },
     "execution_count": 33,
     "metadata": {},
     "output_type": "execute_result"
    }
   ],
   "source": [
    "kernel(average_locations).evaluate()"
   ]
  },
  {
   "cell_type": "code",
   "execution_count": 28,
   "id": "b52bbd3c",
   "metadata": {},
   "outputs": [
    {
     "name": "stdout",
     "output_type": "stream",
     "text": [
      "(2, 1)\n"
     ]
    },
    {
     "ename": "IndexError",
     "evalue": "index 1 is out of bounds for axis 1 with size 1",
     "output_type": "error",
     "traceback": [
      "\u001b[1;31m---------------------------------------------------------------------------\u001b[0m",
      "\u001b[1;31mIndexError\u001b[0m                                Traceback (most recent call last)",
      "\u001b[1;32m<ipython-input-28-4038cfb66140>\u001b[0m in \u001b[0;36m<module>\u001b[1;34m\u001b[0m\n\u001b[0;32m      9\u001b[0m \u001b[1;33m\u001b[0m\u001b[0m\n\u001b[0;32m     10\u001b[0m \u001b[0max0\u001b[0m\u001b[1;33m.\u001b[0m\u001b[0mplot\u001b[0m\u001b[1;33m(\u001b[0m\u001b[0mlocation0\u001b[0m\u001b[1;33m[\u001b[0m\u001b[1;36m10\u001b[0m\u001b[1;33m:\u001b[0m\u001b[1;33m,\u001b[0m\u001b[1;36m0\u001b[0m\u001b[1;33m]\u001b[0m\u001b[1;33m,\u001b[0m\u001b[1;34m\"b-\"\u001b[0m\u001b[1;33m)\u001b[0m\u001b[1;33m\u001b[0m\u001b[1;33m\u001b[0m\u001b[0m\n\u001b[1;32m---> 11\u001b[1;33m \u001b[0max1\u001b[0m\u001b[1;33m.\u001b[0m\u001b[0mplot\u001b[0m\u001b[1;33m(\u001b[0m\u001b[0mlocation0\u001b[0m\u001b[1;33m[\u001b[0m\u001b[1;36m10\u001b[0m\u001b[1;33m:\u001b[0m\u001b[1;33m,\u001b[0m\u001b[1;36m1\u001b[0m\u001b[1;33m]\u001b[0m\u001b[1;33m,\u001b[0m\u001b[1;34m\"b-\"\u001b[0m\u001b[1;33m)\u001b[0m\u001b[1;33m\u001b[0m\u001b[1;33m\u001b[0m\u001b[0m\n\u001b[0m\u001b[0;32m     12\u001b[0m \u001b[1;33m\u001b[0m\u001b[0m\n\u001b[0;32m     13\u001b[0m \u001b[1;33m\u001b[0m\u001b[0m\n",
      "\u001b[1;31mIndexError\u001b[0m: index 1 is out of bounds for axis 1 with size 1"
     ]
    },
    {
     "data": {
      "image/png": "[encoded data removed]",
      "text/plain": [
       "<Figure size 864x216 with 2 Axes>"
      ]
     },
     "metadata": {
      "needs_background": "light"
     },
     "output_type": "display_data"
    }
   ],
   "source": [
    "location0 = np.vstack(locations_sample[0])\n",
    "print(location0.shape)\n",
    "fig, ax = plt.subplots(nrows=1,ncols=2,figsize=(12,3))\n",
    "ax0 = ax[0]\n",
    "ax1 = ax[1]\n",
    "ax0.set_xlabel(\"mc steps\")\n",
    "ax1.set_xlabel(\"mc steps\")\n",
    "number_of_steps = len(location0[10:,0])\n",
    "\n",
    "ax0.plot(location0[10:,0],\"b-\")\n",
    "ax1.plot(location0[10:,1],\"b-\")\n",
    "\n",
    "\n",
    "plt.show()"
   ]
  },
  {
   "cell_type": "code",
   "execution_count": 43,
   "id": "68fb21bc",
   "metadata": {},
   "outputs": [
    {
     "data": {
      "text/plain": [
       "tensor([[ 0.3660,  0.5420],\n",
       "        [ 0.6957, -0.4992],\n",
       "        [ 0.2456, -0.9163],\n",
       "        [ 0.5414,  0.3844]])"
      ]
     },
     "execution_count": 43,
     "metadata": {},
     "output_type": "execute_result"
    }
   ],
   "source": [
    "data_loader[\"locations\"]"
   ]
  },
  {
   "cell_type": "code",
   "execution_count": 44,
   "id": "02f28b81",
   "metadata": {},
   "outputs": [
    {
     "ename": "KeyError",
     "evalue": "'K'",
     "output_type": "error",
     "traceback": [
      "\u001b[1;31m---------------------------------------------------------------------------\u001b[0m",
      "\u001b[1;31mKeyError\u001b[0m                                  Traceback (most recent call last)",
      "\u001b[1;32m<ipython-input-44-059ef1f81abc>\u001b[0m in \u001b[0;36m<module>\u001b[1;34m\u001b[0m\n\u001b[1;32m----> 1\u001b[1;33m \u001b[0mdata_loader\u001b[0m\u001b[1;33m[\u001b[0m\u001b[1;34m\"K\"\u001b[0m\u001b[1;33m]\u001b[0m\u001b[1;33m\u001b[0m\u001b[1;33m\u001b[0m\u001b[0m\n\u001b[0m",
      "\u001b[1;31mKeyError\u001b[0m: 'K'"
     ]
    }
   ],
   "source": [
    "data_loader[\"K\"]"
   ]
  }
 ],
 "metadata": {
  "kernelspec": {
   "display_name": "Python 3",
   "language": "python",
   "name": "python3"
  },
  "language_info": {
   "codemirror_mode": {
    "name": "ipython",
    "version": 3
   },
   "file_extension": ".py",
   "mimetype": "text/x-python",
   "name": "python",
   "nbconvert_exporter": "python",
   "pygments_lexer": "ipython3",
   "version": "3.8.10"
  }
 },
 "nbformat": 4,
 "nbformat_minor": 5
}

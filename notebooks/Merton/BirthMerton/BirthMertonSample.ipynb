{
 "cells": [
  {
   "cell_type": "code",
   "execution_count": 3,
   "id": "144d2ca5",
   "metadata": {},
   "outputs": [],
   "source": [
    "import os\n",
    "import sys\n",
    "import torch\n",
    "import numpy as np\n",
    "import pandas as pd\n",
    "from matplotlib import pyplot as plt\n",
    "\n",
    "from torch.distributions import Normal, MultivariateNormal\n",
    "from torch.distributions import Bernoulli, Beta, Poisson\n",
    "from bdp.models.random_fields.poisson_covariance import MertonBirthPoissonCovariance\n",
    "\n",
    "%matplotlib inline"
   ]
  },
  {
   "cell_type": "code",
   "execution_count": 4,
   "id": "7235ca09",
   "metadata": {},
   "outputs": [
    {
     "name": "stdout",
     "output_type": "stream",
     "text": [
      "New Model Set For Inference\n"
     ]
    }
   ],
   "source": [
    "model_param = MertonBirthPoissonCovariance.get_parameters()\n",
    "inference_param = MertonBirthPoissonCovariance.get_inference_parameters()\n",
    "\n",
    "model_param.update({\"birth_intensity\":19})\n",
    "model_param.update({\"number_of_realizations\":5})\n",
    "\n",
    "inference_param.update({\"nmc\": 3000,\n",
    "                        \"burning\": 1500,\n",
    "                        \"metrics_logs\": 50})\n",
    "\n",
    "merton_birth = MertonBirthPoissonCovariance(None, None, None, **model_param)"
   ]
  },
  {
   "cell_type": "code",
   "execution_count": 5,
   "id": "40762a19",
   "metadata": {},
   "outputs": [
    {
     "data": {
      "text/plain": [
       "{'locations_dimension': 2,\n",
       " 'jump_size_scale_prior': 1.0,\n",
       " 'birth_intensity': 19,\n",
       " 'returns_mean_a': 1.0,\n",
       " 'returns_mean_b': 1.0,\n",
       " 'prior_locations_mean': 0.0,\n",
       " 'prior_locations_std': 1.0,\n",
       " 'prior_sigma_mean': 0.0,\n",
       " 'prior_sigma_std': 1.0,\n",
       " 'prior_length_mean': 0.0,\n",
       " 'prior_length_std': 1.0,\n",
       " 'kernel_parameters': {'kernel_sigma': 0.5,\n",
       "  'kernel_lenght_scales': [1.0, 2.0]},\n",
       " 'number_of_processes': 4,\n",
       " 'number_of_realizations': 5,\n",
       " 'model_path': 'c:\\\\users\\\\cesar\\\\desktop\\\\projects\\\\general\\\\deep_random_fields\\\\results'}"
      ]
     },
     "execution_count": 5,
     "metadata": {},
     "output_type": "execute_result"
    }
   ],
   "source": [
    "model_param"
   ]
  },
  {
   "cell_type": "code",
   "execution_count": 27,
   "id": "ef3570f7",
   "metadata": {},
   "outputs": [],
   "source": [
    "number_of_realizations = merton_birth.number_of_realizations\n",
    "\n",
    "#Births\n",
    "birth_distribution = Poisson(merton_birth.birth_intensity)\n",
    "birth_numbers = birth_distribution.sample((number_of_realizations,)).long()\n",
    "assets_in_the_market = birth_numbers.cumsum(dim=0)\n",
    "total_assets_in_history = assets_in_the_market[-1]\n",
    "\n",
    "#Locations\n",
    "locations_history = merton_birth.locations_prior.sample(sample_shape=(total_assets_in_history,))\n",
    "\n",
    "#Kernel\n",
    "kernel, kernel_eval = merton_birth.define_kernel(merton_birth.kernel_sigma, merton_birth.kernel_lenght_scales)\n",
    "covariance_diffusion = kernel_eval(locations_history)\n",
    "\n",
    "# expected returns -------------\n",
    "returns_mean_prior = torch.ones(total_assets_in_history) * merton_birth.returns_mean_a\n",
    "returns_covariance_prior = merton_birth.returns_mean_b*covariance_diffusion\n",
    "expected_returns_distribution = MultivariateNormal(returns_mean_prior,returns_covariance_prior)\n",
    "expected_returns_history = expected_returns_distribution.sample()"
   ]
  },
  {
   "cell_type": "code",
   "execution_count": 32,
   "id": "88e6158f",
   "metadata": {},
   "outputs": [],
   "source": [
    "#MARKET BIRTH PROCESS\n",
    "for time_index in range(merton_birth.number_of_realizations):\n",
    "    current_number_of_assets = assets_in_the_market[time_index]\n",
    "    current_expected_returns = expected_returns_history[:current_number_of_assets]\n",
    "    current_covariance = covariance_diffusion[:current_number_of_assets,:current_number_of_assets]\n",
    "    current_log_returns_distribution = MultivariateNormal(current_expected_returns,current_covariance)\n",
    "    current_log_returns = current_log_returns_distribution.sample()\n",
    "    \n",
    "    log_returns[time_index,:current_number_of_assets] = current_log_returns "
   ]
  },
  {
   "cell_type": "code",
   "execution_count": null,
   "id": "7bc697fd",
   "metadata": {},
   "outputs": [],
   "source": [
    "# Jumps -------------------------\n",
    "\n",
    "# sample from intensity prior\n",
    "arrivals_intensity = self.arrivals_intensity_prior.sample()\n",
    "self.arrivals_indicator_prior = Bernoulli(arrivals_intensity)\n",
    "arrivals_indicator = self.arrivals_indicator_prior.sample(sample_shape=(self.number_of_realizations,))\n",
    "\n",
    "# diffusion -------------\n",
    "\n",
    "# covariance -------------------\n",
    "locations = self.locations_prior.sample(sample_shape=(self.number_of_processes,))\n",
    "\n",
    "\n",
    "\n",
    "# are we missing time scale Delta t? Assumed == 1\n",
    "diffusive_log_returns = expected_return[None, :] + \\\n",
    "                        MultivariateNormal(torch.zeros(covariance_diffusion.shape[0]), covariance_diffusion).sample(\n",
    "                            sample_shape=(self.number_of_realizations,))\n",
    "\n",
    "log_returns = diffusive_log_returns + jumps_size * arrivals_indicator[:, None]\n"
   ]
  },
  {
   "cell_type": "code",
   "execution_count": null,
   "id": "d5081401",
   "metadata": {},
   "outputs": [],
   "source": []
  },
  {
   "cell_type": "code",
   "execution_count": null,
   "id": "78a94284",
   "metadata": {},
   "outputs": [],
   "source": []
  }
 ],
 "metadata": {
  "kernelspec": {
   "display_name": "Python 3",
   "language": "python",
   "name": "python3"
  },
  "language_info": {
   "codemirror_mode": {
    "name": "ipython",
    "version": 3
   },
   "file_extension": ".py",
   "mimetype": "text/x-python",
   "name": "python",
   "nbconvert_exporter": "python",
   "pygments_lexer": "ipython3",
   "version": "3.8.12"
  }
 },
 "nbformat": 4,
 "nbformat_minor": 5
}

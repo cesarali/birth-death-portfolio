{
 "cells": [
  {
   "cell_type": "code",
   "execution_count": 2,
   "id": "ffd4e614",
   "metadata": {},
   "outputs": [],
   "source": [
    "import os\n",
    "import sys\n",
    "import torch\n",
    "import numpy as np\n",
    "from torch.distributions import MultivariateNormal\n",
    "from scipy.stats import invwishart\n",
    "from numpy.linalg import inv, det\n",
    "\n",
    "from deep_fields.models.random_fields.blocks_utils import calculate_determinant_and_inverse_covariance_history\n",
    "from deep_fields.models.random_fields.blocks_utils import obtain_location_index_to_realization\n",
    "\n",
    "os.environ[\"KMP_DUPLICATE_LIB_OK\"]=\"TRUE\""
   ]
  },
  {
   "cell_type": "code",
   "execution_count": 3,
   "id": "ce70e712",
   "metadata": {},
   "outputs": [],
   "source": [
    "total_assets_in_history = 30\n",
    "birth_numbers = [5,1,2,2,2,4,2,2,5,5]\n",
    "birth_numbers = np.array(birth_numbers)\n",
    "assets_in_the_market = birth_numbers.cumsum()\n",
    "number_of_realizations = len(assets_in_the_market)\n",
    "location_index_to_realization = obtain_location_index_to_realization(birth_numbers)"
   ]
  },
  {
   "cell_type": "code",
   "execution_count": 5,
   "id": "3639ced3",
   "metadata": {},
   "outputs": [],
   "source": [
    "#generate covariance matrix prior\n",
    "nu = total_assets_in_history + 1.\n",
    "Psi = np.random.rand(total_assets_in_history, total_assets_in_history)\n",
    "Psi = np.dot(Psi, Psi.transpose())\n",
    "\n",
    "a_J = np.ones(total_assets_in_history)*10.\n",
    "b_J = 1.\n",
    "\n",
    "lambda_ = 1/b_J\n",
    "mu_0 = a_J\n",
    "\n",
    "IW = invwishart(nu,Psi)\n",
    "covariance_matrix = IW.rvs()\n",
    "mu = torch.Tensor(np.ones(total_assets_in_history)*0.01)"
   ]
  },
  {
   "cell_type": "code",
   "execution_count": 24,
   "id": "92a54a12",
   "metadata": {},
   "outputs": [
    {
     "data": {
      "text/plain": [
       "5.857191902099562"
      ]
     },
     "execution_count": 24,
     "metadata": {},
     "output_type": "execute_result"
    }
   ],
   "source": [
    "covariance_matrix.mean()"
   ]
  },
  {
   "cell_type": "code",
   "execution_count": 25,
   "id": "2d91eb1b",
   "metadata": {},
   "outputs": [
    {
     "data": {
      "text/plain": [
       "2.933792932774975"
      ]
     },
     "execution_count": 25,
     "metadata": {},
     "output_type": "execute_result"
    }
   ],
   "source": [
    "covariance_matrix.std()"
   ]
  },
  {
   "cell_type": "code",
   "execution_count": 26,
   "id": "2672beac",
   "metadata": {},
   "outputs": [
    {
     "data": {
      "text/plain": [
       "1.1156843384934176"
      ]
     },
     "execution_count": 26,
     "metadata": {},
     "output_type": "execute_result"
    }
   ],
   "source": [
    "covariance_matrix.min()"
   ]
  },
  {
   "cell_type": "code",
   "execution_count": 27,
   "id": "37f1767c",
   "metadata": {},
   "outputs": [
    {
     "data": {
      "text/plain": [
       "15.251514322061205"
      ]
     },
     "execution_count": 27,
     "metadata": {},
     "output_type": "execute_result"
    }
   ],
   "source": [
    "covariance_matrix.max()"
   ]
  },
  {
   "cell_type": "code",
   "execution_count": 55,
   "id": "b0c29b05",
   "metadata": {},
   "outputs": [],
   "source": [
    "block_size = 5\n",
    "blocks_extra_size = 2\n",
    "block_full_size = block_size + blocks_extra_size"
   ]
  },
  {
   "cell_type": "code",
   "execution_count": 56,
   "id": "c899c2c7",
   "metadata": {},
   "outputs": [],
   "source": [
    "block_00 = covariance_matrix[:block_size,:block_size]\n",
    "block_01 = covariance_matrix[:block_size,block_size:block_full_size]\n",
    "block_10 = covariance_matrix[block_size:block_full_size,:block_size]\n",
    "block_11 = covariance_matrix[block_size:block_full_size:,block_size:block_full_size]"
   ]
  },
  {
   "cell_type": "code",
   "execution_count": 57,
   "id": "b600aeb8",
   "metadata": {},
   "outputs": [],
   "source": [
    "block_0 = np.hstack([block_00,block_01])\n",
    "block_1 = np.hstack([block_10,block_11])\n",
    "complete_block = np.vstack([block_0,block_1])"
   ]
  },
  {
   "cell_type": "code",
   "execution_count": 58,
   "id": "7d3f39d4",
   "metadata": {},
   "outputs": [],
   "source": [
    "A = block_00\n",
    "B = block_01\n",
    "C = block_10\n",
    "D = block_11\n",
    "A_inv = inv(A)"
   ]
  },
  {
   "cell_type": "code",
   "execution_count": 59,
   "id": "77005fb1",
   "metadata": {},
   "outputs": [
    {
     "data": {
      "text/plain": [
       "0.04606934352748349"
      ]
     },
     "execution_count": 59,
     "metadata": {},
     "output_type": "execute_result"
    }
   ],
   "source": [
    "det(complete_block)"
   ]
  },
  {
   "cell_type": "code",
   "execution_count": 60,
   "id": "66ebbde0",
   "metadata": {},
   "outputs": [],
   "source": [
    "blocks_multiplications = D - np.dot(C, np.dot(A_inv, B))"
   ]
  },
  {
   "cell_type": "code",
   "execution_count": 61,
   "id": "a340b176",
   "metadata": {},
   "outputs": [
    {
     "data": {
      "text/plain": [
       "(5, 5)"
      ]
     },
     "execution_count": 61,
     "metadata": {},
     "output_type": "execute_result"
    }
   ],
   "source": [
    "A.shape"
   ]
  },
  {
   "cell_type": "code",
   "execution_count": 62,
   "id": "06c750e7",
   "metadata": {},
   "outputs": [
    {
     "data": {
      "text/plain": [
       "0.39134824668432294"
      ]
     },
     "execution_count": 62,
     "metadata": {},
     "output_type": "execute_result"
    }
   ],
   "source": [
    "det(A)"
   ]
  },
  {
   "cell_type": "code",
   "execution_count": 63,
   "id": "36df7c76",
   "metadata": {},
   "outputs": [
    {
     "data": {
      "text/plain": [
       "0.04606934352748422"
      ]
     },
     "execution_count": 63,
     "metadata": {},
     "output_type": "execute_result"
    }
   ],
   "source": [
    "determinant = det(A) * det(blocks_multiplications)\n",
    "determinant"
   ]
  },
  {
   "cell_type": "code",
   "execution_count": null,
   "id": "3ee4ba1d",
   "metadata": {},
   "outputs": [],
   "source": []
  },
  {
   "cell_type": "code",
   "execution_count": null,
   "id": "a0317539",
   "metadata": {},
   "outputs": [],
   "source": []
  }
 ],
 "metadata": {
  "kernelspec": {
   "display_name": "Python 3",
   "language": "python",
   "name": "python3"
  },
  "language_info": {
   "codemirror_mode": {
    "name": "ipython",
    "version": 3
   },
   "file_extension": ".py",
   "mimetype": "text/x-python",
   "name": "python",
   "nbconvert_exporter": "python",
   "pygments_lexer": "ipython3",
   "version": "3.8.12"
  }
 },
 "nbformat": 4,
 "nbformat_minor": 5
}

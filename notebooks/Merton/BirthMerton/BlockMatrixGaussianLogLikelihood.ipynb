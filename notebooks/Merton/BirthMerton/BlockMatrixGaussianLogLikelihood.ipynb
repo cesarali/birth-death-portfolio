{
 "cells": [
  {
   "cell_type": "code",
   "execution_count": 1,
   "id": "ffd4e614",
   "metadata": {},
   "outputs": [],
   "source": [
    "import os\n",
    "import sys\n",
    "import torch\n",
    "import numpy as np\n",
    "from torch.distributions import MultivariateNormal\n",
    "from scipy.stats import invwishart\n",
    "from numpy.linalg import inv, det\n",
    "from torch import matmul as m\n",
    "from torch import einsum\n",
    "\n",
    "from deep_fields.models.random_fields.blocks_utils_torch import calculate_determinant_and_inverse_covariance_history_torch\n",
    "from deep_fields.models.random_fields.blocks_utils_torch import obtain_location_index_to_realization, obtain_blocks\n",
    "from deep_fields.models.random_fields.blocks_utils_torch import log_probability_from_blocks\n",
    "\n",
    "os.environ[\"KMP_DUPLICATE_LIB_OK\"]=\"TRUE\""
   ]
  },
  {
   "cell_type": "code",
   "execution_count": 2,
   "id": "ce70e712",
   "metadata": {},
   "outputs": [],
   "source": [
    "total_assets_in_history = 30\n",
    "birth_numbers = [5,1,2,2,2,4,2,2,5,5]\n",
    "birth_numbers = np.array(birth_numbers)\n",
    "assets_in_the_market = birth_numbers.cumsum()\n",
    "number_of_realizations = len(assets_in_the_market)\n",
    "location_index_to_realization = obtain_location_index_to_realization(birth_numbers)"
   ]
  },
  {
   "cell_type": "code",
   "execution_count": 3,
   "id": "3639ced3",
   "metadata": {},
   "outputs": [],
   "source": [
    "#generate covariance matrix prior\n",
    "nu = total_assets_in_history + 1.\n",
    "Psi = np.random.rand(total_assets_in_history, total_assets_in_history)\n",
    "Psi = np.dot(Psi, Psi.transpose())\n",
    "\n",
    "a_J = np.ones(total_assets_in_history)*10.\n",
    "b_J = 1.\n",
    "\n",
    "lambda_ = 1/b_J\n",
    "mu_0 = a_J\n",
    "\n",
    "IW = invwishart(nu,Psi)\n",
    "covariance_matrix = torch.Tensor(IW.rvs())\n",
    "mu = torch.Tensor(np.ones(total_assets_in_history)*0.01)\n",
    "covariance_matrix = covariance_matrix.type(torch.float64)\n",
    "mu = mu.type(torch.float64)"
   ]
  },
  {
   "cell_type": "code",
   "execution_count": 4,
   "id": "bd151fbc",
   "metadata": {},
   "outputs": [
    {
     "data": {
      "text/plain": [
       "10"
      ]
     },
     "execution_count": 4,
     "metadata": {},
     "output_type": "execute_result"
    }
   ],
   "source": [
    "number_of_realizations"
   ]
  },
  {
   "cell_type": "code",
   "execution_count": 5,
   "id": "856bd9dc",
   "metadata": {},
   "outputs": [],
   "source": [
    "# generate data\n",
    "distribution = MultivariateNormal(mu,covariance_matrix)\n",
    "sample = distribution.sample(sample_shape=(number_of_realizations,))\n",
    "for i,current_number_of_assets in enumerate(assets_in_the_market):\n",
    "    sample[i,current_number_of_assets:] = torch.zeros_like(sample[i,current_number_of_assets:])\n",
    "log_returns = sample"
   ]
  },
  {
   "cell_type": "code",
   "execution_count": 6,
   "id": "9b4ad6a8",
   "metadata": {},
   "outputs": [],
   "source": [
    "# CALCULATES DETERMINANT AND COVARIANCE\n",
    "determinants_history, inverse_covariance_history = calculate_determinant_and_inverse_covariance_history_torch(\n",
    "    assets_in_the_market, covariance_matrix, False)"
   ]
  },
  {
   "cell_type": "code",
   "execution_count": 9,
   "id": "1f54a26f",
   "metadata": {},
   "outputs": [],
   "source": [
    "log_probability = log_probability_from_blocks(sample, mu, assets_in_the_market, determinants_history, inverse_covariance_history)"
   ]
  },
  {
   "cell_type": "code",
   "execution_count": 13,
   "id": "a0f9a0c9",
   "metadata": {},
   "outputs": [
    {
     "ename": "TypeError",
     "evalue": "expected Float (got Double)",
     "output_type": "error",
     "traceback": [
      "\u001b[1;31m---------------------------------------------------------------------------\u001b[0m",
      "\u001b[1;31mTypeError\u001b[0m                                 Traceback (most recent call last)",
      "\u001b[1;32m<ipython-input-13-f156c834de32>\u001b[0m in \u001b[0;36m<module>\u001b[1;34m\u001b[0m\n\u001b[0;32m     22\u001b[0m \u001b[1;33m\u001b[0m\u001b[0m\n\u001b[0;32m     23\u001b[0m     \u001b[0mcurrent_log_returns\u001b[0m \u001b[1;33m=\u001b[0m \u001b[0msample\u001b[0m\u001b[1;33m[\u001b[0m\u001b[0mtime_index\u001b[0m\u001b[1;33m,\u001b[0m \u001b[1;33m:\u001b[0m\u001b[0mcurrent_assets_in_the_market\u001b[0m\u001b[1;33m]\u001b[0m\u001b[1;33m\u001b[0m\u001b[1;33m\u001b[0m\u001b[0m\n\u001b[1;32m---> 24\u001b[1;33m     \u001b[0mcdd\u001b[0m \u001b[1;33m=\u001b[0m \u001b[0mcurrent_diffusion_distribution\u001b[0m\u001b[1;33m.\u001b[0m\u001b[0mlog_prob\u001b[0m\u001b[1;33m(\u001b[0m\u001b[0mtorch\u001b[0m\u001b[1;33m.\u001b[0m\u001b[0mTensor\u001b[0m\u001b[1;33m(\u001b[0m\u001b[0mcurrent_log_returns\u001b[0m\u001b[1;33m)\u001b[0m\u001b[1;33m)\u001b[0m\u001b[1;33m\u001b[0m\u001b[1;33m\u001b[0m\u001b[0m\n\u001b[0m\u001b[0;32m     25\u001b[0m \u001b[1;33m\u001b[0m\u001b[0m\n\u001b[0;32m     26\u001b[0m     \u001b[0mexact_probability\u001b[0m\u001b[1;33m.\u001b[0m\u001b[0mappend\u001b[0m\u001b[1;33m(\u001b[0m\u001b[0mcdd\u001b[0m\u001b[1;33m.\u001b[0m\u001b[0mitem\u001b[0m\u001b[1;33m(\u001b[0m\u001b[1;33m)\u001b[0m\u001b[1;33m)\u001b[0m\u001b[1;33m\u001b[0m\u001b[1;33m\u001b[0m\u001b[0m\n",
      "\u001b[1;31mTypeError\u001b[0m: expected Float (got Double)"
     ]
    }
   ],
   "source": [
    "# OLD CALCULATION (EXACT; LOG PROB CALCULATED AT EACH STEP)\n",
    "\n",
    "exact_determinants = []\n",
    "exact_probability = []\n",
    "exact_bilinear = []\n",
    "\n",
    "for time_index in range(number_of_realizations):\n",
    "    current_assets_in_the_market = assets_in_the_market[time_index]\n",
    "    current_interest_rate = mu[None, :current_assets_in_the_market]\n",
    "    current_diffusion_covariance = covariance_matrix[:current_assets_in_the_market, :current_assets_in_the_market]\n",
    "    \n",
    "    exact_determinants.append(torch.det(current_diffusion_covariance).type(torch.float64))\n",
    "    \n",
    "    current_inverse_covariance = torch.inverse(current_diffusion_covariance)\n",
    "    vector =  sample[time_index][:current_assets_in_the_market] - current_interest_rate\n",
    "    \n",
    "    exact_inverse_covariance = einsum(\"bi,bij,bj->b\",vector,current_inverse_covariance[None,:,:],vector).item()\n",
    "    exact_bilinear.append(exact_inverse_covariance)\n",
    "    \n",
    "    current_diffusion_distribution = MultivariateNormal(current_interest_rate,\n",
    "                                                        current_diffusion_covariance)\n",
    "    \n",
    "    current_log_returns = sample[time_index, :current_assets_in_the_market]\n",
    "    cdd = current_diffusion_distribution.log_prob(torch.Tensor(current_log_returns))\n",
    "    \n",
    "    exact_probability.append(cdd.item())"
   ]
  },
  {
   "cell_type": "code",
   "execution_count": 149,
   "id": "3c84a49d",
   "metadata": {},
   "outputs": [
    {
     "data": {
      "text/plain": [
       "[36214.56857289441,\n",
       " 5847.061102570047,\n",
       " 327.8112366336968,\n",
       " 8.468830052459685,\n",
       " 0.2563999758606705,\n",
       " 0.00012570311644313268,\n",
       " 2.051852188257407e-07,\n",
       " 6.174471064621544e-10,\n",
       " 8.110634670427716e-18,\n",
       " 6.6766975324361495e-28]"
      ]
     },
     "execution_count": 149,
     "metadata": {},
     "output_type": "execute_result"
    }
   ],
   "source": [
    "exact_determinants"
   ]
  },
  {
   "cell_type": "code",
   "execution_count": 150,
   "id": "f2cfd6cd",
   "metadata": {},
   "outputs": [
    {
     "data": {
      "text/plain": [
       "array([3.62145686e+04, 5.84706110e+03, 3.27811306e+02, 8.46882024e+00,\n",
       "       2.56392836e-01, 1.25694572e-04, 2.05114934e-07, 6.17761746e-10,\n",
       "       8.18235929e-18, 7.06196521e-28])"
      ]
     },
     "execution_count": 150,
     "metadata": {},
     "output_type": "execute_result"
    }
   ],
   "source": [
    "determinants_history"
   ]
  },
  {
   "cell_type": "code",
   "execution_count": 151,
   "id": "41489877",
   "metadata": {},
   "outputs": [
    {
     "data": {
      "text/plain": [
       "[5.182182312011719,\n",
       " 5.027256011962891,\n",
       " 3.903975486755371,\n",
       " 6.9319000244140625,\n",
       " 12.390270233154297,\n",
       " 8.763862609863281,\n",
       " 12.73712158203125,\n",
       " 14.716777801513672,\n",
       " 18.141910552978516,\n",
       " 39.0933837890625]"
      ]
     },
     "execution_count": 151,
     "metadata": {},
     "output_type": "execute_result"
    }
   ],
   "source": [
    "exact_bilinear"
   ]
  },
  {
   "cell_type": "code",
   "execution_count": 152,
   "id": "e9482f6d",
   "metadata": {},
   "outputs": [
    {
     "data": {
      "text/plain": [
       "array([19.6866021 , 19.70095684, 20.49545469, 20.51516188, 20.6934803 ,\n",
       "       20.42437744, 17.68209183, 15.55262307,  6.60237552, -7.38134724])"
      ]
     },
     "execution_count": 152,
     "metadata": {},
     "output_type": "execute_result"
    }
   ],
   "source": [
    "log_probability_determinant"
   ]
  },
  {
   "cell_type": "code",
   "execution_count": 153,
   "id": "11de74ac",
   "metadata": {},
   "outputs": [
    {
     "data": {
      "text/plain": [
       "array([19.6866021 , 19.70095684, 20.49545448, 20.51516303, 20.69350815,\n",
       "       20.42444541, 17.68243444, 15.55211362,  6.59357111, -7.43744713])"
      ]
     },
     "execution_count": 153,
     "metadata": {},
     "output_type": "execute_result"
    }
   ],
   "source": [
    "exact_log_probability_determinant = np.log(((2*np.pi)**assets_in_the_market)*np.asarray(exact_determinants))\n",
    "exact_log_probability_determinant"
   ]
  },
  {
   "cell_type": "code",
   "execution_count": 154,
   "id": "72eb9cd0",
   "metadata": {},
   "outputs": [
    {
     "data": {
      "text/plain": [
       "array([-12.4343922 , -12.36410642, -12.19971498, -13.72353153,\n",
       "       -16.54188919, -14.59415401, -15.20977801, -15.13444571,\n",
       "       -12.36774083, -15.82796833])"
      ]
     },
     "execution_count": 154,
     "metadata": {},
     "output_type": "execute_result"
    }
   ],
   "source": [
    "-.5*(exact_log_probability_determinant + np.asarray(exact_bilinear))"
   ]
  },
  {
   "cell_type": "code",
   "execution_count": 155,
   "id": "8c0eebe4",
   "metadata": {},
   "outputs": [
    {
     "data": {
      "text/plain": [
       "array([-12.43457912, -12.36411978, -12.19967885, -13.72443503,\n",
       "       -16.53726521, -14.59544516, -15.20591789, -15.13508954,\n",
       "       -12.34190774, -15.3843691 ])"
      ]
     },
     "execution_count": 155,
     "metadata": {},
     "output_type": "execute_result"
    }
   ],
   "source": [
    "log_probability"
   ]
  },
  {
   "cell_type": "code",
   "execution_count": 156,
   "id": "3459de36",
   "metadata": {},
   "outputs": [
    {
     "data": {
      "text/plain": [
       "array([-12.43465996, -12.36403084, -12.19915199, -13.72570133,\n",
       "       -16.54165268, -14.5979805 , -15.2044754 , -15.13560104,\n",
       "       -12.34396172, -15.64263916])"
      ]
     },
     "execution_count": 156,
     "metadata": {},
     "output_type": "execute_result"
    }
   ],
   "source": [
    "np.asarray(exact_probability)"
   ]
  },
  {
   "cell_type": "markdown",
   "id": "51ff3b09",
   "metadata": {},
   "source": [
    "# Blocks Inversion and Determinant"
   ]
  },
  {
   "cell_type": "code",
   "execution_count": 88,
   "id": "ec577acf",
   "metadata": {},
   "outputs": [],
   "source": [
    "def log_probability_of_growth(result,determinant):\n",
    "    \"\"\"\n",
    "    \"\"\"\n",
    "    log_probability = np.log(((2*np.pi)**total_assets_in_history)*determinant)+np.dot(vector,np.dot(result,vector))\n",
    "    log_probability = -.5*log_probability\n",
    "    return log_probability"
   ]
  }
 ],
 "metadata": {
  "kernelspec": {
   "display_name": "Python 3",
   "language": "python",
   "name": "python3"
  },
  "language_info": {
   "codemirror_mode": {
    "name": "ipython",
    "version": 3
   },
   "file_extension": ".py",
   "mimetype": "text/x-python",
   "name": "python",
   "nbconvert_exporter": "python",
   "pygments_lexer": "ipython3",
   "version": "3.8.12"
  }
 },
 "nbformat": 4,
 "nbformat_minor": 5
}

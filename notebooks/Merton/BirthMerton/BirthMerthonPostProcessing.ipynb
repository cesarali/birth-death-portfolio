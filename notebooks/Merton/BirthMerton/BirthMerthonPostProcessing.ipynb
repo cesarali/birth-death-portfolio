{
 "cells": [
  {
   "cell_type": "code",
   "execution_count": 1,
   "id": "f1177418",
   "metadata": {},
   "outputs": [],
   "source": [
    "import os\n",
    "import sys\n",
    "import json\n",
    "import torch\n",
    "import numpy as np\n",
    "import pandas as pd\n",
    "\n",
    "from torch.distributions import Poisson\n",
    "from torch.distributions import Normal, MultivariateNormal\n",
    "from torch.distributions import Bernoulli, Beta, Poisson\n",
    "from deep_fields.models.random_fields.poisson_covariance import MertonBirthPoissonCovariance\n",
    "\n",
    "os.environ[\"KMP_DUPLICATE_LIB_OK\"]=\"TRUE\"\n",
    "\n",
    "%matplotlib inline"
   ]
  },
  {
   "cell_type": "code",
   "execution_count": 2,
   "id": "14ba78ef",
   "metadata": {},
   "outputs": [],
   "source": [
    "data_dir = \"C:/Users/cesar/Desktop/Projects/General/deep_random_fields/data/raw/merton_birth_covariance/\"\n",
    "my_data_path = os.path.join(data_dir, \"merton_birth_simulation_9.tr\")\n",
    "data_ = torch.load(my_data_path)\n",
    "data_loader = data_[\"data_loader\"]\n",
    "model_param = data_[\"model_param\"]"
   ]
  },
  {
   "cell_type": "code",
   "execution_count": 3,
   "id": "302330eb",
   "metadata": {},
   "outputs": [
    {
     "data": {
      "text/plain": [
       "dict_keys(['birth_numbers', 'assets_in_the_market', 'total_assets_in_history', 'log_returns', 'locations_history', 'kernel_sigma', 'kernel_lenght_scales', 'covariance_diffusion_history', 'expected_returns_history', 'kernel'])"
      ]
     },
     "execution_count": 3,
     "metadata": {},
     "output_type": "execute_result"
    }
   ],
   "source": [
    "data_loader.keys()"
   ]
  },
  {
   "cell_type": "code",
   "execution_count": 54,
   "id": "7e536bf5",
   "metadata": {},
   "outputs": [],
   "source": [
    "birth_numbers = data_loader[\"birth_numbers\"]\n",
    "assets_in_the_market = data_loader[\"assets_in_the_market\"]\n",
    "log_returns = data_loader[\"log_returns\"]"
   ]
  },
  {
   "cell_type": "code",
   "execution_count": 4,
   "id": "80930188",
   "metadata": {},
   "outputs": [
    {
     "data": {
      "text/plain": [
       "tensor([[0.9751, 0.8565, 0.7483,  ..., 0.5492, 0.6042, 0.6153],\n",
       "        [0.8565, 0.9751, 0.9301,  ..., 0.8285, 0.4054, 0.5669],\n",
       "        [0.7483, 0.9301, 0.9751,  ..., 0.8979, 0.3953, 0.6379],\n",
       "        ...,\n",
       "        [0.5492, 0.8285, 0.8979,  ..., 0.9751, 0.2125, 0.4277],\n",
       "        [0.6042, 0.4054, 0.3953,  ..., 0.2125, 0.9751, 0.7938],\n",
       "        [0.6153, 0.5669, 0.6379,  ..., 0.4277, 0.7938, 0.9751]],\n",
       "       requires_grad=True)"
      ]
     },
     "execution_count": 4,
     "metadata": {},
     "output_type": "execute_result"
    }
   ],
   "source": [
    "data_loader[\"covariance_diffusion_history\"]"
   ]
  },
  {
   "cell_type": "code",
   "execution_count": 55,
   "id": "dd7898a9",
   "metadata": {},
   "outputs": [],
   "source": [
    "#assets_in_the_market"
   ]
  },
  {
   "cell_type": "code",
   "execution_count": 56,
   "id": "d91f9294",
   "metadata": {},
   "outputs": [],
   "source": [
    "#log_returns"
   ]
  },
  {
   "cell_type": "code",
   "execution_count": 57,
   "id": "2f536e68",
   "metadata": {},
   "outputs": [],
   "source": [
    "process_data_frame = pd.DataFrame(log_returns.numpy())"
   ]
  },
  {
   "cell_type": "code",
   "execution_count": 58,
   "id": "5161f332",
   "metadata": {},
   "outputs": [
    {
     "data": {
      "text/plain": [
       "<AxesSubplot:>"
      ]
     },
     "execution_count": 58,
     "metadata": {},
     "output_type": "execute_result"
    },
    {
     "data": {
      "image/png": "[encoded data removed]",
      "text/plain": [
       "<Figure size 432x288 with 1 Axes>"
      ]
     },
     "metadata": {
      "needs_background": "light"
     },
     "output_type": "display_data"
    }
   ],
   "source": [
    "process_data_frame[[0,1,2,3]].plot()"
   ]
  },
  {
   "cell_type": "code",
   "execution_count": 59,
   "id": "ac3dbd4d",
   "metadata": {},
   "outputs": [],
   "source": [
    "results_dir = \"C:/Users/cesar/Desktop/Projects/General/deep_random_fields/results/merton_birth_poisson_covariance/1653316307/\""
   ]
  },
  {
   "cell_type": "code",
   "execution_count": 60,
   "id": "f37de5dd",
   "metadata": {},
   "outputs": [
    {
     "data": {
      "text/plain": [
       "['best_model.p',\n",
       " 'inference_results.json',\n",
       " 'parameters.json',\n",
       " 'tensorboard_log']"
      ]
     },
     "execution_count": 60,
     "metadata": {},
     "output_type": "execute_result"
    }
   ],
   "source": [
    "os.listdir(results_dir)"
   ]
  },
  {
   "cell_type": "code",
   "execution_count": 61,
   "id": "d7d32522",
   "metadata": {},
   "outputs": [],
   "source": [
    "# INFERENCE RESULTS\n",
    "file = open(os.path.join(results_dir,\"inference_results.json\"),\"r\")\n",
    "RESULTS = []\n",
    "for line in file:\n",
    "    result = json.loads(line)\n",
    "    RESULTS.append(result)\n",
    "    \n",
    "monte_carlo_results = torch.load(os.path.join(results_dir,'best_model.p'))\n",
    "parameters = json.loads(open(os.path.join(results_dir,\"parameters.json\"),\"r\").readline())"
   ]
  },
  {
   "cell_type": "code",
   "execution_count": 62,
   "id": "98ac08a2",
   "metadata": {},
   "outputs": [
    {
     "data": {
      "text/plain": [
       "array([0.7000135 , 0.48270616, 0.5884666 , 0.45996514, 0.5771563 ,\n",
       "       0.25304013, 0.975077  , 0.58925974, 0.56688035], dtype=float32)"
      ]
     },
     "execution_count": 62,
     "metadata": {},
     "output_type": "execute_result"
    }
   ],
   "source": [
    "monte_carlo_results[\"K\"][6]"
   ]
  },
  {
   "cell_type": "code",
   "execution_count": 63,
   "id": "61c35baa",
   "metadata": {},
   "outputs": [
    {
     "data": {
      "text/plain": [
       "tensor([0.8845, 0.8648, 0.9043, 0.9257, 0.6267, 0.4705, 0.9751, 0.5627, 0.5857],\n",
       "       grad_fn=<SelectBackward>)"
      ]
     },
     "execution_count": 63,
     "metadata": {},
     "output_type": "execute_result"
    }
   ],
   "source": [
    "data_loader['covariance_diffusion_history'][6]"
   ]
  },
  {
   "cell_type": "code",
   "execution_count": null,
   "id": "7d66209f",
   "metadata": {},
   "outputs": [],
   "source": []
  }
 ],
 "metadata": {
  "kernelspec": {
   "display_name": "Python 3",
   "language": "python",
   "name": "python3"
  },
  "language_info": {
   "codemirror_mode": {
    "name": "ipython",
    "version": 3
   },
   "file_extension": ".py",
   "mimetype": "text/x-python",
   "name": "python",
   "nbconvert_exporter": "python",
   "pygments_lexer": "ipython3",
   "version": "3.8.12"
  }
 },
 "nbformat": 4,
 "nbformat_minor": 5
}

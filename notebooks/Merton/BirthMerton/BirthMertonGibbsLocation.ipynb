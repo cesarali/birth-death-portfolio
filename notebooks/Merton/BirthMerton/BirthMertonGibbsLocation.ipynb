{
 "cells": [
  {
   "cell_type": "code",
   "execution_count": 11,
   "id": "3d578dbb",
   "metadata": {},
   "outputs": [],
   "source": [
    "import os\n",
    "import sys\n",
    "import torch\n",
    "import pandas as pd\n",
    "import numpy as np\n",
    "from torch.distributions import Normal, MultivariateNormal\n",
    "\n",
    "os.environ[\"KMP_DUPLICATE_LIB_OK\"]=\"TRUE\"\n",
    "from deep_fields.models.random_fields.poisson_covariance import MertonBirthPoissonCovariance"
   ]
  },
  {
   "cell_type": "code",
   "execution_count": 12,
   "id": "34e12722",
   "metadata": {},
   "outputs": [],
   "source": [
    "data_dir = \"C:/Users/cesar/Desktop/Projects/General/deep_random_fields/data/raw/merton_birth_covariance/\"\n",
    "my_data_path = os.path.join(data_dir, \"merton_birth_simulation.tr\")\n",
    "data_ = torch.load(my_data_path)\n",
    "data_loader = data_[\"data_loader\"]\n",
    "model_param = data_[\"model_param\"]\n",
    "inference_param = MertonBirthPoissonCovariance.get_inference_parameters()\n",
    "inference_param.update({\"nmc\": 3000,\n",
    "                        \"burning\": 1500,\n",
    "                        \"metrics_logs\": 50})"
   ]
  },
  {
   "cell_type": "code",
   "execution_count": 13,
   "id": "563219b2",
   "metadata": {},
   "outputs": [
    {
     "name": "stdout",
     "output_type": "stream",
     "text": [
      "New Model Set For Inference\n",
      "Data Loader has No Parameters\n"
     ]
    }
   ],
   "source": [
    "mbpc = MertonBirthPoissonCovariance(None, data_loader, None, **model_param)\n",
    "monte_carlo_values = mbpc.initialize_inference(data_loader,**inference_param)"
   ]
  },
  {
   "cell_type": "code",
   "execution_count": 19,
   "id": "26f1f9a8",
   "metadata": {},
   "outputs": [],
   "source": [
    "location_index = 0\n",
    "locations_sample_now = monte_carlo_values[\"locations_history\"]#\n",
    "K = monte_carlo_values[\"K\"]#\n",
    "kernel = monte_carlo_values[\"kernel\"]#\n",
    "interest_rate = data_loader[\"expected_returns_history\"]\n",
    "log_returns = data_loader[\"log_returns\"]\n",
    "\n",
    "locations = mbpc.locations_sample_to_tensor(locations_sample_now)#\n",
    "location_now = locations_sample_now[location_index][-1]#\n",
    "location_proposal = mbpc.locations_prior.sample().detach().numpy()#"
   ]
  },
  {
   "cell_type": "code",
   "execution_count": 20,
   "id": "c6a959f6",
   "metadata": {},
   "outputs": [],
   "source": [
    "new_location = location_proposal"
   ]
  },
  {
   "cell_type": "code",
   "execution_count": 21,
   "id": "1b36d1cc",
   "metadata": {},
   "outputs": [
    {
     "data": {
      "text/plain": [
       "tensor(119)"
      ]
     },
     "execution_count": 21,
     "metadata": {},
     "output_type": "execute_result"
    }
   ],
   "source": [
    "mbpc.total_assets_in_history"
   ]
  },
  {
   "cell_type": "code",
   "execution_count": 22,
   "id": "1731ad5b",
   "metadata": {},
   "outputs": [],
   "source": [
    "if isinstance(locations, np.ndarray):\n",
    "    locations = torch.Tensor(locations)\n",
    "if isinstance(new_location,np.ndarray):\n",
    "    new_location = torch.Tensor(new_location)\n",
    "\n",
    "index_left = list(range(mbpc.total_assets_in_history.item()))\n",
    "index_left.remove(location_index)\n",
    "\n",
    "new_location = torch.Tensor(new_location).unsqueeze(0)\n",
    "K_new = new_kernel(locations, location_index, new_location, mbpc.total_assets_in_history.item(), K, kernel)"
   ]
  },
  {
   "cell_type": "code",
   "execution_count": 23,
   "id": "3b6c2b11",
   "metadata": {},
   "outputs": [],
   "source": [
    "likelihood_mean = interest_rate[None, :] \n",
    "realizations_pdf_new = "
   ]
  },
  {
   "cell_type": "code",
   "execution_count": 25,
   "id": "7fef7f53",
   "metadata": {},
   "outputs": [
    {
     "data": {
      "text/plain": [
       "torch.Size([1, 119])"
      ]
     },
     "execution_count": 25,
     "metadata": {},
     "output_type": "execute_result"
    }
   ],
   "source": [
    "likelihood_mean.shape"
   ]
  },
  {
   "cell_type": "code",
   "execution_count": 61,
   "id": "6dbcfdd1",
   "metadata": {},
   "outputs": [
    {
     "data": {
      "text/plain": [
       "dict_keys(['birth_numbers', 'assets_in_the_market', 'total_assets_in_history', 'log_returns', 'locations_history', 'kernel_sigma', 'kernel_lenght_scales', 'covariance_diffusion_history', 'expected_returns_history', 'kernel'])"
      ]
     },
     "execution_count": 61,
     "metadata": {},
     "output_type": "execute_result"
    }
   ],
   "source": [
    "data_loader.keys()"
   ]
  },
  {
   "cell_type": "code",
   "execution_count": 59,
   "id": "d9769bfd",
   "metadata": {},
   "outputs": [
    {
     "name": "stdout",
     "output_type": "stream",
     "text": [
      "tensor([-564.9484])\n",
      "tensor([-1353.0200])\n",
      "tensor([-1296.5092])\n",
      "tensor([-1292.9525])\n",
      "tensor([-1415.0032])\n"
     ]
    }
   ],
   "source": [
    "def birth_log_likelihood_realizations(new_location, locations, location_index, data_loader, monte_carlo_values):\n",
    "    \"\"\"\n",
    "    \n",
    "    \"\"\"\n",
    "    current_log_probability = 0.\n",
    "    number_of_realizations = log_returns.shape[0]\n",
    "    for time_index in range(number_of_realizations):\n",
    "        current_assets_in_the_market = mbpc.assets_in_the_market[time_index]\n",
    "        current_interest_rate = interest_rate[None, :current_assets_in_the_market]\n",
    "        current_diffusion_covariance = K_new[:current_assets_in_the_market,:current_assets_in_the_market]\n",
    "        current_diffusion_distribution = MultivariateNormal(current_interest_rate, torch.Tensor(current_diffusion_covariance))\n",
    "        current_log_returns = log_returns[time_index,:current_assets_in_the_market]\n",
    "\n",
    "        current_log_probability += current_diffusion_distribution.log_prob(current_log_returns[None,:])\n",
    "    return current_log_probability"
   ]
  },
  {
   "cell_type": "code",
   "execution_count": 41,
   "id": "934aca61",
   "metadata": {},
   "outputs": [
    {
     "data": {
      "text/plain": [
       "torch.Size([5, 119])"
      ]
     },
     "execution_count": 41,
     "metadata": {},
     "output_type": "execute_result"
    }
   ],
   "source": [
    "log_returns.shape"
   ]
  },
  {
   "cell_type": "code",
   "execution_count": 32,
   "id": "915d4c2d",
   "metadata": {},
   "outputs": [
    {
     "data": {
      "text/plain": [
       "tensor([-10736.1172, -49016.5469, -30262.4453,  -5772.4102,    -85.3053])"
      ]
     },
     "execution_count": 32,
     "metadata": {},
     "output_type": "execute_result"
    }
   ],
   "source": [
    "realizations_pdf_new.log_prob(log_returns)"
   ]
  },
  {
   "cell_type": "code",
   "execution_count": 18,
   "id": "8390f1e6",
   "metadata": {},
   "outputs": [],
   "source": [
    "def new_kernel(locations, location_index, new_location, number_of_arrivals, K, kernel):\n",
    "    if isinstance(locations, np.ndarray):\n",
    "        locations = torch.Tensor(locations)\n",
    "    if isinstance(new_location,np.ndarray):\n",
    "        new_location = torch.Tensor(new_location)\n",
    "\n",
    "    index_left = list(range(number_of_arrivals))\n",
    "    index_left.remove(location_index)\n",
    "\n",
    "    k_new = K[location_index, :].copy()\n",
    "    K_new = K.copy()\n",
    "\n",
    "    new_locations = torch.cat([locations[0:location_index], locations[location_index + 1:]])\n",
    "\n",
    "    k01 = kernel(new_location, new_locations).evaluate().detach().numpy()\n",
    "    k00 = kernel(new_location, new_location).evaluate().detach().numpy()\n",
    "    k_new[index_left] = k01\n",
    "    k_new[location_index] = k00\n",
    "\n",
    "    K_new[location_index, :] = k_new.copy()\n",
    "    K_new[:, location_index] = k_new.T.copy()\n",
    "\n",
    "    return K_new"
   ]
  },
  {
   "cell_type": "code",
   "execution_count": null,
   "id": "2a738c3c",
   "metadata": {},
   "outputs": [],
   "source": [
    "def log_likelihood_realizations(self, new_location, locations, location_index, data_loader, monte_carlo_values):\n",
    "    K = monte_carlo_values[\"K\"]\n",
    "    kernel = monte_carlo_values[\"kernel\"]\n",
    "\n",
    "    interest_rate = data_loader[\"expected_returns_history\"]\n",
    "    log_returns = data_loader[\"log_returns\"]\n",
    "\n",
    "    new_location = torch.Tensor(new_location).unsqueeze(0)\n",
    "    K_new = new_kernel(locations, location_index, new_location, self.number_of_processes, K, kernel)\n",
    "\n",
    "    likelihood_mean = interest_rate[None, :] \n",
    "    realizations_pdf_new = MultivariateNormal(likelihood_mean, torch.Tensor(K_new))\n",
    "\n",
    "    return realizations_pdf_new.log_prob(log_returns).item()"
   ]
  },
  {
   "cell_type": "code",
   "execution_count": null,
   "id": "83795919",
   "metadata": {},
   "outputs": [],
   "source": [
    "def gibbs_locations(self, data_loader, location_index, monte_carlo_values):\n",
    "    locations_sample_now = monte_carlo_values[\"locations\"]#\n",
    "    K = monte_carlo_values[\"K\"]#\n",
    "    kernel = monte_carlo_values[\"kernel\"]#\n",
    "\n",
    "    locations = self.locations_sample_to_tensor(locations_sample_now)#\n",
    "    location_now = locations_sample_now[location_index][-1]#\n",
    "    location_proposal = self.locations_prior.sample().detach().numpy()#\n",
    "\n",
    "    new_location, ll = elliptical_slice(initial_theta=location_now,\n",
    "                                        prior=location_proposal,\n",
    "                                        lnpdf=self.log_likelihood_realizations,\n",
    "                                        pdf_params=(locations, location_index, data_loader, monte_carlo_values))\n",
    "\n",
    "    K_new = new_kernel(locations, location_index, torch.Tensor(new_location).unsqueeze(0), self.number_of_processes,\n",
    "                       K, kernel)\n",
    "    \n",
    "    monte_carlo_values[\"locations\"][location_index].append(new_location)\n",
    "    monte_carlo_values[\"K\"] = K_new\n",
    "\n",
    "    return monte_carlo_values"
   ]
  },
  {
   "cell_type": "code",
   "execution_count": null,
   "id": "512b0779",
   "metadata": {},
   "outputs": [],
   "source": [
    "covariance_diffusion_history"
   ]
  }
 ],
 "metadata": {
  "kernelspec": {
   "display_name": "Python 3",
   "language": "python",
   "name": "python3"
  },
  "language_info": {
   "codemirror_mode": {
    "name": "ipython",
    "version": 3
   },
   "file_extension": ".py",
   "mimetype": "text/x-python",
   "name": "python",
   "nbconvert_exporter": "python",
   "pygments_lexer": "ipython3",
   "version": "3.8.12"
  }
 },
 "nbformat": 4,
 "nbformat_minor": 5
}

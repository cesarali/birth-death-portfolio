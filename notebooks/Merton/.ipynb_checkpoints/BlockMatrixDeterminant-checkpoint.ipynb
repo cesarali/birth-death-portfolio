{
 "cells": [
  {
   "cell_type": "code",
   "execution_count": 32,
   "id": "ffd4e614",
   "metadata": {},
   "outputs": [],
   "source": [
    "import os\n",
    "import sys\n",
    "import torch\n",
    "import numpy as np\n",
    "from torch.distributions import MultivariateNormal\n",
    "from scipy.stats import invwishart\n",
    "from numpy.linalg import inv, det\n",
    "\n",
    "from deep_fields.models.random_fields.blocks_utils import calculate_determinant_and_inverse_covariance_history\n",
    "from deep_fields.models.random_fields.blocks_utils import obtain_location_index_to_realization\n",
    "\n",
    "os.environ[\"KMP_DUPLICATE_LIB_OK\"]=\"TRUE\""
   ]
  },
  {
   "cell_type": "code",
   "execution_count": 33,
   "id": "ce70e712",
   "metadata": {},
   "outputs": [],
   "source": [
    "total_assets_in_history = 30\n",
    "birth_numbers = [5,1,2,2,2,4,2,2,5,5]\n",
    "birth_numbers = np.array(birth_numbers)\n",
    "assets_in_the_market = birth_numbers.cumsum()\n",
    "number_of_realizations = len(assets_in_the_market)\n",
    "location_index_to_realization = obtain_location_index_to_realization(birth_numbers)"
   ]
  },
  {
   "cell_type": "code",
   "execution_count": 34,
   "id": "3639ced3",
   "metadata": {},
   "outputs": [],
   "source": [
    "#generate covariance matrix prior\n",
    "nu = total_assets_in_history + 1.\n",
    "Psi = np.random.rand(total_assets_in_history, total_assets_in_history)\n",
    "Psi = np.dot(Psi, Psi.transpose())\n",
    "\n",
    "a_J = np.ones(total_assets_in_history)*10.\n",
    "b_J = 1.\n",
    "\n",
    "lambda_ = 1/b_J\n",
    "mu_0 = a_J\n",
    "\n",
    "IW = invwishart(nu,Psi)\n",
    "covariance_matrix = IW.rvs()\n",
    "mu = torch.Tensor(np.ones(total_assets_in_history)*0.01)"
   ]
  },
  {
   "cell_type": "code",
   "execution_count": 39,
   "id": "856bd9dc",
   "metadata": {},
   "outputs": [],
   "source": [
    "# generate data\n",
    "distribution = MultivariateNormal(torch.Tensor(mu),torch.Tensor(covariance_matrix))\n",
    "sample = distribution.sample(sample_shape=(number_of_realizations,)).numpy()\n",
    "for i,current_number_of_assets in enumerate(assets_in_the_market):\n",
    "    sample[i,current_number_of_assets:] = np.zeros_like(sample[i,current_number_of_assets:])"
   ]
  },
  {
   "cell_type": "code",
   "execution_count": 36,
   "id": "e903fa04",
   "metadata": {},
   "outputs": [],
   "source": [
    "determinants_history, inverse_covariance_history = calculate_determinant_and_inverse_covariance_history(assets_in_the_market, covariance_matrix)"
   ]
  },
  {
   "cell_type": "code",
   "execution_count": 43,
   "id": "36b58c6e",
   "metadata": {},
   "outputs": [],
   "source": [
    "current_log_returns =  torch.Tensor(sample[-1])\n",
    "distribution = MultivariateNormal(torch.Tensor(mu),torch.Tensor(covariance_matrix))"
   ]
  },
  {
   "cell_type": "code",
   "execution_count": 44,
   "id": "33a46af2",
   "metadata": {},
   "outputs": [
    {
     "data": {
      "text/plain": [
       "tensor(1.5593)"
      ]
     },
     "execution_count": 44,
     "metadata": {},
     "output_type": "execute_result"
    }
   ],
   "source": [
    "distribution.log_prob(current_log_returns)"
   ]
  },
  {
   "cell_type": "code",
   "execution_count": 48,
   "id": "63bc075f",
   "metadata": {},
   "outputs": [
    {
     "data": {
      "text/plain": [
       "8.50200250932045e-32"
      ]
     },
     "execution_count": 48,
     "metadata": {},
     "output_type": "execute_result"
    }
   ],
   "source": [
    "det(covariance_matrix)"
   ]
  },
  {
   "cell_type": "code",
   "execution_count": 49,
   "id": "5b1d4017",
   "metadata": {},
   "outputs": [
    {
     "data": {
      "text/plain": [
       "1096932734.4647884"
      ]
     },
     "execution_count": 49,
     "metadata": {},
     "output_type": "execute_result"
    }
   ],
   "source": [
    "determinant"
   ]
  },
  {
   "cell_type": "code",
   "execution_count": 46,
   "id": "fa6c302a",
   "metadata": {},
   "outputs": [],
   "source": [
    "vector = current_log_returns - mu\n",
    "result = inverse_covariance_history[-1]\n",
    "determinant = determinants_history[-1]\n",
    "\n",
    "log_probability = np.log(((2*np.pi)**total_assets_in_history)*determinant)+np.dot(vector,np.dot(result,vector))"
   ]
  },
  {
   "cell_type": "code",
   "execution_count": 47,
   "id": "9fa23f3c",
   "metadata": {},
   "outputs": [
    {
     "data": {
      "text/plain": [
       "89.21951678677434"
      ]
     },
     "execution_count": 47,
     "metadata": {},
     "output_type": "execute_result"
    }
   ],
   "source": [
    "log_probability"
   ]
  },
  {
   "cell_type": "markdown",
   "id": "51ff3b09",
   "metadata": {},
   "source": [
    "# Blocks Inversion and Determinant"
   ]
  },
  {
   "cell_type": "code",
   "execution_count": 88,
   "id": "ec577acf",
   "metadata": {},
   "outputs": [],
   "source": [
    "def log_probability_of_growth(result,determinant):\n",
    "    \"\"\"\n",
    "    \"\"\"\n",
    "    log_probability = np.log(((2*np.pi)**total_assets_in_history)*determinant)+np.dot(vector,np.dot(result,vector))\n",
    "    log_probability = -.5*log_probability\n",
    "    return log_probability"
   ]
  }
 ],
 "metadata": {
  "kernelspec": {
   "display_name": "Python 3",
   "language": "python",
   "name": "python3"
  },
  "language_info": {
   "codemirror_mode": {
    "name": "ipython",
    "version": 3
   },
   "file_extension": ".py",
   "mimetype": "text/x-python",
   "name": "python",
   "nbconvert_exporter": "python",
   "pygments_lexer": "ipython3",
   "version": "3.8.12"
  }
 },
 "nbformat": 4,
 "nbformat_minor": 5
}

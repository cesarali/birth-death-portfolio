{
 "cells": [
  {
   "cell_type": "code",
   "execution_count": 1,
   "id": "272788d7",
   "metadata": {},
   "outputs": [],
   "source": [
    "import os\n",
    "import torch\n",
    "import numpy as np\n",
    "import pandas as pd\n",
    "from pprint import pprint\n",
    "from matplotlib import pyplot as plt\n",
    "\n",
    "from deep_fields.models.random_fields.poisson_covariance import PoissonCovariance, MertonJumpsPoissonCovariance\n",
    "from torch.distributions import Normal, MultivariateNormal\n",
    "from torch.distributions import Beta, Bernoulli\n",
    "from sklearn import metrics\n",
    "\n",
    "\n",
    "from scipy.stats import invwishart as Invwishart\n",
    "from scipy.stats import wishart as Wishart"
   ]
  },
  {
   "cell_type": "code",
   "execution_count": 2,
   "id": "401f0afa",
   "metadata": {},
   "outputs": [
    {
     "name": "stdout",
     "output_type": "stream",
     "text": [
      "New Model Set For Inference\n",
      "(<class 'AttributeError'>, AttributeError(\"'NoneType' object has no attribute 'get'\"), <traceback object at 0x00000250CA8B56C0>)\n"
     ]
    }
   ],
   "source": [
    "new_sample = True\n",
    "data_dir = \"C:/Users/cesar/Desktop/Projects/General/deep_random_fields/data/raw/merton_poisson_covariance/\"\n",
    "my_data_path = os.path.join(data_dir, \"merton_simulation.tr\")\n",
    "if new_sample:\n",
    "    model_param = MertonJumpsPoissonCovariance.get_parameters()\n",
    "    model_param.update({\"jump_size_a\": 5.})\n",
    "    model_param.update({\"jump_size_b\": 1.})\n",
    "    model_param.update({\"jump_arrival_alpha\": .5,})\n",
    "    model_param.update({\"jump_arrival_beta\": .5,})\n",
    "    model_param.update({\"returns_mean_a\": 1.,})\n",
    "    model_param.update({\"returns_mean_b\": 1.,})\n",
    "    model_param.update({\"diffusion_covariance_normalization\": 1.})\n",
    "\n",
    "    mjpc_s = MertonJumpsPoissonCovariance(None, None, None, **model_param)\n",
    "    data_loader = mjpc_s.sample()\n",
    "    data_ = {\"data_loader\":data_loader,\"model_param\":model_param}\n",
    "    torch.save(data_,my_data_path)"
   ]
  },
  {
   "cell_type": "code",
   "execution_count": 3,
   "id": "e2a68adb",
   "metadata": {},
   "outputs": [
    {
     "name": "stdout",
     "output_type": "stream",
     "text": [
      "New Model Set For Inference\n",
      "Data Loader has No Parameters\n"
     ]
    }
   ],
   "source": [
    "inference_param = MertonJumpsPoissonCovariance.get_inference_parameters()\n",
    "mjpc = MertonJumpsPoissonCovariance(None, data_loader, None, **model_param)\n",
    "monte_carlo_parameters = mjpc.initialize_inference(data_loader, None, **inference_param)"
   ]
  },
  {
   "cell_type": "code",
   "execution_count": 5,
   "id": "6d2a65a7",
   "metadata": {},
   "outputs": [
    {
     "data": {
      "text/plain": [
       "{'nmc': 1000,\n",
       " 'burning': 200,\n",
       " 'metrics_logs': 200,\n",
       " 'train_diffusion_covariance': False,\n",
       " 'train_expected_returns': False,\n",
       " 'train_jumps_arrival': False,\n",
       " 'train_jumps_size': False,\n",
       " 'train_jumps_intensity': False,\n",
       " 'train_jumps_mean': False,\n",
       " 'train_jumps_covariance': False}"
      ]
     },
     "execution_count": 5,
     "metadata": {},
     "output_type": "execute_result"
    }
   ],
   "source": [
    "inference_param"
   ]
  },
  {
   "cell_type": "code",
   "execution_count": 6,
   "id": "f96f2ad6",
   "metadata": {},
   "outputs": [
    {
     "data": {
      "text/plain": [
       "[array([[1.8378966 , 1.6238575 , 1.692905  , 0.6119352 ],\n",
       "        [1.6238575 , 1.5547155 , 1.5495377 , 0.52732325],\n",
       "        [1.692905  , 1.5495377 , 2.7870789 , 0.84775287],\n",
       "        [0.6119352 , 0.52732325, 0.84775287, 0.32744008]], dtype=float32)]"
      ]
     },
     "execution_count": 6,
     "metadata": {},
     "output_type": "execute_result"
    }
   ],
   "source": [
    "monte_carlo_parameters[\"diffusion_covariance\"]"
   ]
  },
  {
   "cell_type": "code",
   "execution_count": 7,
   "id": "75dc1eb1",
   "metadata": {},
   "outputs": [
    {
     "data": {
      "text/plain": [
       "tensor([[1.8379, 1.6239, 1.6929, 0.6119],\n",
       "        [1.6239, 1.5547, 1.5495, 0.5273],\n",
       "        [1.6929, 1.5495, 2.7871, 0.8478],\n",
       "        [0.6119, 0.5273, 0.8478, 0.3274]])"
      ]
     },
     "execution_count": 7,
     "metadata": {},
     "output_type": "execute_result"
    }
   ],
   "source": [
    "data_loader[\"diffusion_covariance\"]"
   ]
  },
  {
   "cell_type": "code",
   "execution_count": 8,
   "id": "94598186",
   "metadata": {},
   "outputs": [
    {
     "data": {
      "text/plain": [
       "{'nmc': 1000,\n",
       " 'burning': 200,\n",
       " 'metrics_logs': 200,\n",
       " 'train_diffusion_covariance': False,\n",
       " 'train_expected_returns': False,\n",
       " 'train_jumps_arrival': False,\n",
       " 'train_jumps_size': False,\n",
       " 'train_jumps_intensity': False,\n",
       " 'train_jumps_mean': False,\n",
       " 'train_jumps_covariance': False}"
      ]
     },
     "execution_count": 8,
     "metadata": {},
     "output_type": "execute_result"
    }
   ],
   "source": [
    "inference_param"
   ]
  },
  {
   "cell_type": "markdown",
   "id": "87add0dd",
   "metadata": {},
   "source": [
    "# Gibbs Sampler"
   ]
  },
  {
   "cell_type": "code",
   "execution_count": 6,
   "id": "faf8ce37",
   "metadata": {},
   "outputs": [
    {
     "ename": "NameError",
     "evalue": "name 'monte_carlo_values' is not defined",
     "output_type": "error",
     "traceback": [
      "\u001b[1;31m---------------------------------------------------------------------------\u001b[0m",
      "\u001b[1;31mNameError\u001b[0m                                 Traceback (most recent call last)",
      "\u001b[1;32m<ipython-input-6-4995c7e38864>\u001b[0m in \u001b[0;36m<module>\u001b[1;34m\u001b[0m\n\u001b[1;32m----> 1\u001b[1;33m \u001b[0mjumps_size\u001b[0m \u001b[1;33m=\u001b[0m \u001b[0mtorch\u001b[0m\u001b[1;33m.\u001b[0m\u001b[0mTensor\u001b[0m\u001b[1;33m(\u001b[0m\u001b[0mmonte_carlo_values\u001b[0m\u001b[1;33m[\u001b[0m\u001b[1;34m\"jumps_size\"\u001b[0m\u001b[1;33m]\u001b[0m\u001b[1;33m[\u001b[0m\u001b[1;33m-\u001b[0m\u001b[1;36m1\u001b[0m\u001b[1;33m]\u001b[0m\u001b[1;33m)\u001b[0m  \u001b[1;31m# H\u001b[0m\u001b[1;33m\u001b[0m\u001b[1;33m\u001b[0m\u001b[0m\n\u001b[0m\u001b[0;32m      2\u001b[0m \u001b[0msigma\u001b[0m \u001b[1;33m=\u001b[0m \u001b[0mtorch\u001b[0m\u001b[1;33m.\u001b[0m\u001b[0mTensor\u001b[0m\u001b[1;33m(\u001b[0m\u001b[0mmonte_carlo_values\u001b[0m\u001b[1;33m[\u001b[0m\u001b[1;34m\"diffusion_covariance\"\u001b[0m\u001b[1;33m]\u001b[0m\u001b[1;33m)\u001b[0m\u001b[1;33m\u001b[0m\u001b[1;33m\u001b[0m\u001b[0m\n\u001b[0;32m      3\u001b[0m \u001b[0marrivals_intensity\u001b[0m \u001b[1;33m=\u001b[0m \u001b[0mmonte_carlo_values\u001b[0m\u001b[1;33m[\u001b[0m\u001b[1;34m\"arrivals_intensity\"\u001b[0m\u001b[1;33m]\u001b[0m\u001b[1;33m[\u001b[0m\u001b[1;33m-\u001b[0m\u001b[1;36m1\u001b[0m\u001b[1;33m]\u001b[0m\u001b[1;33m\u001b[0m\u001b[1;33m\u001b[0m\u001b[0m\n\u001b[0;32m      4\u001b[0m \u001b[1;33m\u001b[0m\u001b[0m\n\u001b[0;32m      5\u001b[0m \u001b[0msigma_inverse\u001b[0m \u001b[1;33m=\u001b[0m \u001b[0mtorch\u001b[0m\u001b[1;33m.\u001b[0m\u001b[0minverse\u001b[0m\u001b[1;33m(\u001b[0m\u001b[0msigma\u001b[0m\u001b[1;33m)\u001b[0m\u001b[1;33m\u001b[0m\u001b[1;33m\u001b[0m\u001b[0m\n",
      "\u001b[1;31mNameError\u001b[0m: name 'monte_carlo_values' is not defined"
     ]
    }
   ],
   "source": [
    "jumps_size = torch.Tensor(monte_carlo_values[\"jumps_size\"][-1])  # H\n",
    "sigma = torch.Tensor(monte_carlo_values[\"diffusion_covariance\"])\n",
    "arrivals_intensity = monte_carlo_values[\"arrivals_intensity\"][-1]\n",
    "\n",
    "sigma_inverse = torch.inverse(sigma)\n",
    "\n",
    "log_returns = data_loader[\"log_returns\"]\n",
    "interest_rate = data_loader[\"expected_returns\"]"
   ]
  },
  {
   "cell_type": "code",
   "execution_count": null,
   "id": "299dfcef",
   "metadata": {},
   "outputs": [],
   "source": [
    "\n",
    "# probability of arriving\n",
    "indicator_mean = log_returns - interest_rate[None, :] - jumps_size\n",
    "indicator_mean = indicator_mean.unsqueeze(-1)\n",
    "indicator_mean_ = torch.matmul(indicator_mean.transpose(2, 1), sigma_inverse[None, :, :])\n",
    "indicator_mean = torch.matmul(indicator_mean_, indicator_mean)\n",
    "indicator_mean.squeeze()\n",
    "bernoulli_probability_1 = arrivals_intensity * torch.exp(-.5 * indicator_mean).squeeze()\n",
    "\n",
    "#probability of not arriving\n",
    "indicator_mean = (log_returns - interest_rate[None, :]).unsqueeze(1)\n",
    "indicator_mean_ = m(indicator_mean, sigma_inverse[None, :, :])\n",
    "indicator_mean = -.5*m(indicator_mean_,indicator_mean.permute(0,2,1)).squeeze()\n",
    "indicator_mean = torch.exp(indicator_mean)\n",
    "bernoulli_probability_0 = (1. - arrivals_intensity)*indicator_mean\n",
    "\n",
    "bernoulli_probability = bernoulli_probability_1/(bernoulli_probability_0 + bernoulli_probability_1+EPSILON)\n",
    "\n",
    "indicator_posterior = Bernoulli(bernoulli_probability)\n",
    "indicator = indicator_posterior.sample()\n",
    "\n",
    "monte_carlo_values[\"arrivals_indicator\"].append(indicator.numpy())"
   ]
  }
 ],
 "metadata": {
  "kernelspec": {
   "display_name": "Python 3",
   "language": "python",
   "name": "python3"
  },
  "language_info": {
   "codemirror_mode": {
    "name": "ipython",
    "version": 3
   },
   "file_extension": ".py",
   "mimetype": "text/x-python",
   "name": "python",
   "nbconvert_exporter": "python",
   "pygments_lexer": "ipython3",
   "version": "3.8.12"
  }
 },
 "nbformat": 4,
 "nbformat_minor": 5
}

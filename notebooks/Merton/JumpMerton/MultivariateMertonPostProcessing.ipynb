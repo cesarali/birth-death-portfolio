{
 "cells": [
  {
   "cell_type": "code",
   "execution_count": 7,
   "id": "3867a52e",
   "metadata": {},
   "outputs": [],
   "source": [
    "import os\n",
    "import json\n",
    "import torch\n",
    "import numpy as np\n",
    "import pandas as pd\n",
    "from matplotlib import pyplot as plt\n",
    "from pprint import pprint\n",
    "from deep_fields import data_path\n",
    "\n",
    "from deep_fields.models.random_fields.mcmc_postprocessing import obtain_pandas_from_numeric_metrics\n",
    "from deep_fields.models.random_fields.mcmc_postprocessing import read_results, obtain_time_series_from_metric_timeseries\n",
    "from deep_fields.models.random_fields.poisson_covariance import PoissonCovariance, MertonJumpsPoissonCovariance\n",
    "from torch.distributions import Normal, MultivariateNormal\n",
    "from torch.distributions import Beta, Bernoulli\n",
    "from sklearn import metrics\n",
    "\n",
    "from pprint import pprint\n",
    "from scipy.stats import invwishart as Invwishart\n",
    "from scipy.stats import wishart as Wishart\n",
    "\n",
    "# ORIGINAL SIMULATION DATA \n",
    "#data_dir = \"C:/Users/cesar/Desktop/Projects/General/deep_random_fields/data/raw/merton_poisson_covariance/\"\n",
    "#my_data_path = os.path.join(data_dir, \"merton_simulation.tr\")\n",
    "#data_ = torch.load(my_data_path)\n",
    "#data_loader = data_[\"data_loader\"]\n",
    "#model_param = data_[\"model_param\"]\n",
    "\n",
    "%matplotlib inline "
   ]
  },
  {
   "cell_type": "code",
   "execution_count": 3,
   "id": "878c2f78",
   "metadata": {},
   "outputs": [],
   "source": [
    "results_dir = \"C:/Users/cesar/Desktop/Projects/General/deep_random_fields/results/merton_jumps_poisson_covariance/\""
   ]
  },
  {
   "cell_type": "code",
   "execution_count": 4,
   "id": "ad68aa85",
   "metadata": {},
   "outputs": [
    {
     "data": {
      "text/plain": [
       "['1654343259',\n",
       " '1654343351',\n",
       " '1654343373',\n",
       " '1654343394',\n",
       " '1654343616',\n",
       " '1654343715',\n",
       " '1654343741',\n",
       " '1654343832',\n",
       " '1654344050']"
      ]
     },
     "execution_count": 4,
     "metadata": {},
     "output_type": "execute_result"
    }
   ],
   "source": [
    "os.listdir(results_dir)"
   ]
  },
  {
   "cell_type": "code",
   "execution_count": 5,
   "id": "2c4b01cf",
   "metadata": {},
   "outputs": [],
   "source": [
    "results_dir_model = os.path.join(results_dir,\"1654344050\")"
   ]
  },
  {
   "cell_type": "code",
   "execution_count": 9,
   "id": "7da91a2a",
   "metadata": {},
   "outputs": [],
   "source": [
    "parameters,metrics_timeseries,monte_carlo_results = read_results(results_dir_model)\n",
    "results_pandas = obtain_pandas_from_numeric_metrics(metrics_timeseries)"
   ]
  },
  {
   "cell_type": "code",
   "execution_count": 27,
   "id": "9966a170",
   "metadata": {},
   "outputs": [
    {
     "data": {
      "text/plain": [
       "{'locations_dimension': 2,\n",
       " 'jump_size_scale_prior': 1.0,\n",
       " 'jump_size_a': 0.5,\n",
       " 'jump_size_b': 1.0,\n",
       " 'jump_arrival_alpha': 1.0,\n",
       " 'jump_arrival_beta': 1.0,\n",
       " 'returns_mean_a': 0.008057693019509315,\n",
       " 'returns_mean_b': 2.1268208026885986,\n",
       " 'kernel_parameters': {'kernel_sigma': 0.005365048069506884,\n",
       "  'kernel_lenght_scales': [1.0, 2.0]},\n",
       " 'number_of_processes': 4,\n",
       " 'number_of_realizations': 1366,\n",
       " 'model_path': 'c:\\\\users\\\\cesar\\\\desktop\\\\projects\\\\general\\\\deep_random_fields\\\\results'}"
      ]
     },
     "execution_count": 27,
     "metadata": {},
     "output_type": "execute_result"
    }
   ],
   "source": [
    "parameters"
   ]
  },
  {
   "cell_type": "code",
   "execution_count": 10,
   "id": "470e9c89",
   "metadata": {},
   "outputs": [
    {
     "data": {
      "text/plain": [
       "Index(['mean_number_of_arrivals', 'arrivals_intensity_mean',\n",
       "       'arrivals_intensity_std', 'log_likelihood', 'montecarlo_index'],\n",
       "      dtype='object')"
      ]
     },
     "execution_count": 10,
     "metadata": {},
     "output_type": "execute_result"
    }
   ],
   "source": [
    "results_pandas.columns"
   ]
  },
  {
   "cell_type": "code",
   "execution_count": 13,
   "id": "e3bc7e16",
   "metadata": {},
   "outputs": [],
   "source": [
    "log_likelihood_series = results_pandas[\"log_likelihood\"]\n",
    "autocorr_time_series = [log_likelihood_series.autocorr(lag_index) for lag_index in range(30)]"
   ]
  },
  {
   "cell_type": "code",
   "execution_count": 29,
   "id": "61342588",
   "metadata": {},
   "outputs": [
    {
     "data": {
      "text/plain": [
       "<AxesSubplot:>"
      ]
     },
     "execution_count": 29,
     "metadata": {},
     "output_type": "execute_result"
    },
    {
     "data": {
      "image/png": "[encoded data removed]",
      "text/plain": [
       "<Figure size 432x288 with 1 Axes>"
      ]
     },
     "metadata": {
      "needs_background": "light"
     },
     "output_type": "display_data"
    }
   ],
   "source": [
    "results_pandas['arrivals_intensity_mean'].plot()"
   ]
  },
  {
   "cell_type": "code",
   "execution_count": 26,
   "id": "53cfa468",
   "metadata": {},
   "outputs": [
    {
     "data": {
      "text/plain": [
       "array([-0.21425898,  1.6769809 , -0.03955909, -0.41512114], dtype=float32)"
      ]
     },
     "execution_count": 26,
     "metadata": {},
     "output_type": "execute_result"
    }
   ],
   "source": [
    "monte_carlo_results[\"expected_returns\"][0]"
   ]
  },
  {
   "cell_type": "code",
   "execution_count": 25,
   "id": "b122d188",
   "metadata": {},
   "outputs": [
    {
     "data": {
      "text/plain": [
       "array([0.0017245 , 0.00284784, 0.00011504, 0.01644409])"
      ]
     },
     "execution_count": 25,
     "metadata": {},
     "output_type": "execute_result"
    }
   ],
   "source": [
    "np.stack(monte_carlo_results[\"expected_returns\"])[500:,:].mean(axis=0)"
   ]
  }
 ],
 "metadata": {
  "kernelspec": {
   "display_name": "Python 3",
   "language": "python",
   "name": "python3"
  },
  "language_info": {
   "codemirror_mode": {
    "name": "ipython",
    "version": 3
   },
   "file_extension": ".py",
   "mimetype": "text/x-python",
   "name": "python",
   "nbconvert_exporter": "python",
   "pygments_lexer": "ipython3",
   "version": "3.8.12"
  }
 },
 "nbformat": 4,
 "nbformat_minor": 5
}

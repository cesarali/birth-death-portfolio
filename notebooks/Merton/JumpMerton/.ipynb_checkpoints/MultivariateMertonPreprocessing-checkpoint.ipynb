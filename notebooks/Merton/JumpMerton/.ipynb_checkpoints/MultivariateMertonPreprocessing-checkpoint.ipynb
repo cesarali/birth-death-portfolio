{
 "cells": [
  {
   "cell_type": "code",
   "execution_count": 1,
   "id": "2357541c",
   "metadata": {},
   "outputs": [],
   "source": [
    "from deep_fields.models.random_fields.poisson_covariance_utils import estimate_mcmc_dataloader_and_parameters\n",
    "from deep_fields.data.crypto.dataloaders import CryptoDataLoader\n",
    "from deep_fields import data_path\n",
    "from datetime import datetime\n",
    "import os"
   ]
  },
  {
   "cell_type": "code",
   "execution_count": 2,
   "id": "5d547216",
   "metadata": {},
   "outputs": [],
   "source": [
    "#===================================================================\n",
    "# obtains real data\n",
    "#===================================================================\n",
    "\n",
    "date_string = \"2021-06-14\"\n",
    "crypto_folder = os.path.join(data_path, \"raw\", \"crypto\")\n",
    "data_folder = os.path.join(crypto_folder,date_string)\n",
    "\n",
    "kwargs = {\"path_to_data\": data_folder,\n",
    "          \"date_string\":date_string,\n",
    "          \"batch_size\": 29,\n",
    "          \"steps_ahead\": 10,\n",
    "          \"span\": \"full\"}\n",
    "crypto_data_loader = CryptoDataLoader('cpu', **kwargs)\n",
    "data_batch = next(crypto_data_loader.train.__iter__())"
   ]
  },
  {
   "cell_type": "code",
   "execution_count": 8,
   "id": "85c29dd7",
   "metadata": {
    "collapsed": true
   },
   "outputs": [
    {
     "name": "stdout",
     "output_type": "stream",
     "text": [
      "Current Coin 1 ethereum\n",
      "Current Coin 2 tether\n",
      "Current Coin 3 binancecoin\n",
      "Current Coin 4 cardano\n",
      "Current Coin 5 dogecoin\n",
      "Current Coin 6 ripple\n",
      "Current Coin 7 bitcoin-cash\n",
      "Current Coin 8 litecoin\n",
      "Current Coin 9 chainlink\n",
      "Current Coin 10 matryx\n",
      "Current Coin 11 storm\n",
      "Current Coin 12 cryptopay\n",
      "Current Coin 13 appcoins\n",
      "Current Coin 14 time-new-bank\n",
      "Current Coin 15 pylon-network\n",
      "Current Coin 16 inflationcoin\n",
      "Current Coin 17 aelf\n",
      "Current Coin 18 wax\n"
     ]
    }
   ],
   "source": [
    "# defines portfolio to study\n",
    "date0 = datetime(2018, 1, 1)\n",
    "datef = datetime(2019, 1, 1)\n",
    "crypto_data_loader.set_portfolio_assets(\"2021-06-14\",\n",
    "                                        \"full\",\n",
    "                                        predictor=None,\n",
    "                                        top=10,\n",
    "                                        date0=date0,\n",
    "                                        datef=datef,\n",
    "                                        max_size=20)"
   ]
  },
  {
   "cell_type": "code",
   "execution_count": 9,
   "id": "d32324b5",
   "metadata": {},
   "outputs": [
    {
     "name": "stdout",
     "output_type": "stream",
     "text": [
      "Sigma\n",
      "tensor(0.0645)\n"
     ]
    }
   ],
   "source": [
    "model_param_real, data_loader_real = estimate_mcmc_dataloader_and_parameters(crypto_data_loader,show_plot=False)"
   ]
  },
  {
   "cell_type": "code",
   "execution_count": 10,
   "id": "75a4a15e",
   "metadata": {},
   "outputs": [
    {
     "data": {
      "text/plain": [
       "{'locations_dimension': 2,\n",
       " 'jump_size_scale_prior': 1.0,\n",
       " 'jump_size_a': 0.5,\n",
       " 'jump_size_b': 1.0,\n",
       " 'jump_arrival_alpha': 1.0,\n",
       " 'jump_arrival_beta': 1.0,\n",
       " 'returns_mean_a': 0.04034905880689621,\n",
       " 'returns_mean_b': 3.5976779460906982,\n",
       " 'kernel_parameters': {'kernel_sigma': 0.026894381269812584,\n",
       "  'kernel_lenght_scales': [1.0, 2.0]},\n",
       " 'number_of_processes': 19,\n",
       " 'number_of_realizations': 2358,\n",
       " 'model_path': 'c:\\\\users\\\\cesar\\\\desktop\\\\projects\\\\general\\\\deep_random_fields\\\\results'}"
      ]
     },
     "execution_count": 10,
     "metadata": {},
     "output_type": "execute_result"
    }
   ],
   "source": [
    "model_param_real"
   ]
  },
  {
   "cell_type": "code",
   "execution_count": 11,
   "id": "78042d6e",
   "metadata": {},
   "outputs": [
    {
     "data": {
      "text/plain": [
       "{'arrivals_intensity': None,\n",
       " 'arrivals_indicator': None,\n",
       " 'jump_mean': None,\n",
       " 'jump_covariance': None,\n",
       " 'jump_size': None,\n",
       " 'diffusive_log_returns': tensor([[2.0875e-06, 0.0000e+00, 0.0000e+00,  ..., 0.0000e+00, 0.0000e+00,\n",
       "          0.0000e+00],\n",
       "         [8.6160e-03, 0.0000e+00, 0.0000e+00,  ..., 0.0000e+00, 0.0000e+00,\n",
       "          0.0000e+00],\n",
       "         [8.7824e-03, 0.0000e+00, 0.0000e+00,  ..., 0.0000e+00, 0.0000e+00,\n",
       "          0.0000e+00],\n",
       "         ...,\n",
       "         [1.9810e-03, 9.7267e-05, 1.2794e-05,  ..., 2.2279e-02, 4.5919e-03,\n",
       "          8.4223e-04],\n",
       "         [8.6750e-03, 3.1671e-03, 2.3375e-05,  ..., 4.9341e-02, 8.8854e-04,\n",
       "          5.3052e-09],\n",
       "         [0.0000e+00, 0.0000e+00, 0.0000e+00,  ..., 0.0000e+00, 0.0000e+00,\n",
       "          0.0000e+00]]),\n",
       " 'log_returns': tensor([[2.0875e-06, 0.0000e+00, 0.0000e+00,  ..., 0.0000e+00, 0.0000e+00,\n",
       "          0.0000e+00],\n",
       "         [8.6160e-03, 0.0000e+00, 0.0000e+00,  ..., 0.0000e+00, 0.0000e+00,\n",
       "          0.0000e+00],\n",
       "         [8.7824e-03, 0.0000e+00, 0.0000e+00,  ..., 0.0000e+00, 0.0000e+00,\n",
       "          0.0000e+00],\n",
       "         ...,\n",
       "         [1.9810e-03, 9.7267e-05, 1.2794e-05,  ..., 2.2279e-02, 4.5919e-03,\n",
       "          8.4223e-04],\n",
       "         [8.6750e-03, 3.1671e-03, 2.3375e-05,  ..., 4.9341e-02, 8.8854e-04,\n",
       "          5.3052e-09],\n",
       "         [0.0000e+00, 0.0000e+00, 0.0000e+00,  ..., 0.0000e+00, 0.0000e+00,\n",
       "          0.0000e+00]]),\n",
       " 'locations': None,\n",
       " 'kernel_sigma': 0.026894381269812584,\n",
       " 'kernel_lenght_scales': [1.0, 2.0],\n",
       " 'K': None,\n",
       " 'interest_rate': tensor([2.3869e-03, 6.2273e-03, 1.5486e-04, 2.5092e-02, 8.0395e-03, 8.5412e-03,\n",
       "         6.7877e-03, 9.4139e-03, 5.1946e-03, 9.0336e-03, 6.2477e-02, 1.1375e-02,\n",
       "         2.7804e-02, 9.8934e-03, 1.0904e-02, 1.2021e-01, 4.2274e-01, 8.9306e-03,\n",
       "         1.1423e-02]),\n",
       " 'kernel': None}"
      ]
     },
     "execution_count": 11,
     "metadata": {},
     "output_type": "execute_result"
    }
   ],
   "source": [
    "data_loader_real"
   ]
  }
 ],
 "metadata": {
  "kernelspec": {
   "display_name": "Python 3",
   "language": "python",
   "name": "python3"
  },
  "language_info": {
   "codemirror_mode": {
    "name": "ipython",
    "version": 3
   },
   "file_extension": ".py",
   "mimetype": "text/x-python",
   "name": "python",
   "nbconvert_exporter": "python",
   "pygments_lexer": "ipython3",
   "version": "3.8.12"
  }
 },
 "nbformat": 4,
 "nbformat_minor": 5
}

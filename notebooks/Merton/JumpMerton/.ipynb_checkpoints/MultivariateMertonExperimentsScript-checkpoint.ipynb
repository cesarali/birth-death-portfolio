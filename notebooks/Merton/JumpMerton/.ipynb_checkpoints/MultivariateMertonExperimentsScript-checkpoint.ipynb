{
 "cells": [
  {
   "cell_type": "code",
   "execution_count": 82,
   "id": "2a49d1be",
   "metadata": {},
   "outputs": [],
   "source": [
    "import os\n",
    "import json\n",
    "import numpy as np\n",
    "import pandas as pd\n",
    "from time import sleep\n",
    "\n",
    "from deep_fields import data_path\n",
    "\n",
    "from deep_fields.data.crypto.dataloaders import CryptoDataLoader\n",
    "from deep_fields.models.random_fields.poisson_covariance import MertonJumpsPoissonCovariance\n",
    "from deep_fields.models.random_fields.mcmc_preprocessing import estimate_mcmc_dataloader_and_parameters_mertonjump\n",
    "from deep_fields.models.random_fields.mcmc_preprocessing import preprocess_cryptoportfolio_for_mertonjump\n",
    "\n",
    "\n",
    "%matplotlib inline"
   ]
  },
  {
   "cell_type": "code",
   "execution_count": 3,
   "id": "1a3fcd92",
   "metadata": {},
   "outputs": [
    {
     "name": "stdout",
     "output_type": "stream",
     "text": [
      "Current Coin 1 ethereum\n",
      "Current Coin 2 tether\n",
      "Current Coin 3 binancecoin\n"
     ]
    }
   ],
   "source": [
    "date_string = \"2021-06-14\"\n",
    "crypto_folder = os.path.join(data_path, \"raw\", \"crypto\")\n",
    "data_folder = os.path.join(crypto_folder,date_string)\n",
    "\n",
    "kwargs = {\"path_to_data\": data_folder,\n",
    "          \"date_string\":date_string,\n",
    "          \"batch_size\": 29,\n",
    "          \"steps_ahead\": 10,\n",
    "          \"span\": \"full\"}\n",
    "\n",
    "crypto_data_loader = CryptoDataLoader('cpu', **kwargs)\n",
    "data_batch = next(crypto_data_loader.train.__iter__())\n",
    "\n",
    "# defines portfolio to study\n",
    "crypto_data_loader.set_portfolio_assets(date_string,\n",
    "                                        \"full\",\n",
    "                                        predictor=None,\n",
    "                                        top=4,\n",
    "                                        date0=None,\n",
    "                                        datef=None,\n",
    "                                        max_size=4)"
   ]
  },
  {
   "cell_type": "code",
   "execution_count": 5,
   "id": "38f64cc7",
   "metadata": {},
   "outputs": [
    {
     "name": "stdout",
     "output_type": "stream",
     "text": [
      "Sigma\n",
      "tensor(0.0076)\n"
     ]
    }
   ],
   "source": [
    "corrected_prices_data = preprocess_cryptoportfolio_for_mertonjump(crypto_data_loader)\n",
    "model_param,data_loader = estimate_mcmc_dataloader_and_parameters_mertonjump(corrected_prices_data,False)"
   ]
  },
  {
   "cell_type": "code",
   "execution_count": 107,
   "id": "3352e063",
   "metadata": {},
   "outputs": [],
   "source": [
    "inference_param = MertonJumpsPoissonCovariance.get_inference_parameters()\n",
    "inference_param.update({\"nmc\": 1000,\n",
    "                        \"burning\": 1,\n",
    "                        \"metrics_logs\": 1})"
   ]
  },
  {
   "cell_type": "code",
   "execution_count": 108,
   "id": "9fafe505",
   "metadata": {},
   "outputs": [
    {
     "data": {
      "text/plain": [
       "{'nmc': 1000,\n",
       " 'burning': 1,\n",
       " 'metrics_logs': 1,\n",
       " 'train_diffusion_covariance': True,\n",
       " 'train_expected_returns': True,\n",
       " 'train_jumps_arrival': True,\n",
       " 'train_jumps_size': True,\n",
       " 'train_jumps_intensity': True,\n",
       " 'train_jumps_mean': True,\n",
       " 'train_jumps_covariance': True}"
      ]
     },
     "execution_count": 108,
     "metadata": {},
     "output_type": "execute_result"
    }
   ],
   "source": [
    "inference_param"
   ]
  },
  {
   "cell_type": "code",
   "execution_count": 109,
   "id": "9a7f44d6",
   "metadata": {},
   "outputs": [
    {
     "data": {
      "text/plain": [
       "{'locations_dimension': 2,\n",
       " 'jump_size_scale_prior': 1.0,\n",
       " 'jump_size_a': 10.0,\n",
       " 'jump_size_b': 10.0,\n",
       " 'jump_arrival_alpha': 10.0,\n",
       " 'jump_arrival_beta': 10.0,\n",
       " 'returns_mean_a': 0.008057693019509315,\n",
       " 'returns_mean_b': 2.1268208026885986,\n",
       " 'kernel_parameters': {'kernel_sigma': 0.005365048069506884,\n",
       "  'kernel_lenght_scales': [1.0, 2.0]},\n",
       " 'number_of_processes': 4,\n",
       " 'number_of_realizations': 1367,\n",
       " 'model_path': 'c:\\\\users\\\\cesar\\\\desktop\\\\projects\\\\general\\\\deep_random_fields\\\\results'}"
      ]
     },
     "execution_count": 109,
     "metadata": {},
     "output_type": "execute_result"
    }
   ],
   "source": [
    "model_param"
   ]
  },
  {
   "cell_type": "code",
   "execution_count": 106,
   "id": "33240741",
   "metadata": {},
   "outputs": [],
   "source": [
    "experiments = {\"jump_arrival_alpha\":[0.1,1.,10.],\n",
    "               \"jump_arrival_beta\":[0.1,1.,10.],\n",
    "               \"jump_size_a\":[0.1,1.,10.],\n",
    "               \"jump_size_b\":[0.1,1.,10.]}\n",
    "all_experiments = define_experiments_from_lists(experiments)"
   ]
  },
  {
   "cell_type": "code",
   "execution_count": 90,
   "id": "aa9e83d2",
   "metadata": {},
   "outputs": [
    {
     "name": "stderr",
     "output_type": "stream",
     "text": [
      " 20%|████████████████▌                                                                  | 2/10 [00:00<00:00, 19.66it/s]"
     ]
    },
    {
     "name": "stdout",
     "output_type": "stream",
     "text": [
      "New Model Set For Inference\n",
      "Data Loader has No Parameters\n",
      "Starting Inference for Model\n",
      "c:\\users\\cesar\\desktop\\projects\\general\\deep_random_fields\\results\\merton_jumps_poisson_covariance\\1654364220\n",
      "#      ---------------- \n",
      "#      Start of MCMC    \n",
      "#      ---------------- \n",
      "Monte Carlo 0\n",
      "Monte Carlo 1\n",
      "Monte Carlo 2\n",
      "Monte Carlo 3\n",
      "Monte Carlo 4"
     ]
    },
    {
     "name": "stderr",
     "output_type": "stream",
     "text": [
      "\r",
      " 50%|█████████████████████████████████████████▌                                         | 5/10 [00:00<00:00, 19.93it/s]"
     ]
    },
    {
     "name": "stdout",
     "output_type": "stream",
     "text": [
      "\n",
      "Monte Carlo 5\n"
     ]
    },
    {
     "name": "stderr",
     "output_type": "stream",
     "text": [
      "\r",
      " 70%|██████████████████████████████████████████████████████████                         | 7/10 [00:00<00:00, 11.40it/s]"
     ]
    },
    {
     "name": "stdout",
     "output_type": "stream",
     "text": [
      "Monte Carlo 6\n",
      "Monte Carlo 7\n",
      "Monte Carlo 8"
     ]
    },
    {
     "name": "stderr",
     "output_type": "stream",
     "text": [
      "\r",
      " 90%|██████████████████████████████████████████████████████████████████████████▋        | 9/10 [00:00<00:00, 10.65it/s]"
     ]
    },
    {
     "name": "stdout",
     "output_type": "stream",
     "text": [
      "\n",
      "Monte Carlo 9\n"
     ]
    },
    {
     "name": "stderr",
     "output_type": "stream",
     "text": [
      "100%|██████████████████████████████████████████████████████████████████████████████████| 10/10 [00:00<00:00, 11.34it/s]\n"
     ]
    },
    {
     "data": {
      "image/png": "[encoded data removed]",
      "text/plain": [
       "<Figure size 432x288 with 1 Axes>"
      ]
     },
     "metadata": {
      "needs_background": "light"
     },
     "output_type": "display_data"
    },
    {
     "name": "stderr",
     "output_type": "stream",
     "text": [
      " 30%|████████████████████████▉                                                          | 3/10 [00:00<00:00, 19.28it/s]"
     ]
    },
    {
     "name": "stdout",
     "output_type": "stream",
     "text": [
      "New Model Set For Inference\n",
      "Data Loader has No Parameters\n",
      "Starting Inference for Model\n",
      "c:\\users\\cesar\\desktop\\projects\\general\\deep_random_fields\\results\\merton_jumps_poisson_covariance\\1654364222\n",
      "#      ---------------- \n",
      "#      Start of MCMC    \n",
      "#      ---------------- \n",
      "Monte Carlo 0\n",
      "Monte Carlo 1\n",
      "Monte Carlo 2\n",
      "Monte Carlo 3\n"
     ]
    },
    {
     "name": "stderr",
     "output_type": "stream",
     "text": [
      "\r",
      " 50%|█████████████████████████████████████████▌                                         | 5/10 [00:00<00:00, 17.26it/s]"
     ]
    },
    {
     "name": "stdout",
     "output_type": "stream",
     "text": [
      "Monte Carlo 4\n",
      "Monte Carlo 5\n",
      "Monte Carlo 6\n"
     ]
    },
    {
     "name": "stderr",
     "output_type": "stream",
     "text": [
      " 90%|██████████████████████████████████████████████████████████████████████████▋        | 9/10 [00:00<00:00, 13.46it/s]"
     ]
    },
    {
     "name": "stdout",
     "output_type": "stream",
     "text": [
      "Monte Carlo 7\n",
      "Monte Carlo 8\n",
      "Monte Carlo 9\n"
     ]
    },
    {
     "name": "stderr",
     "output_type": "stream",
     "text": [
      "100%|██████████████████████████████████████████████████████████████████████████████████| 10/10 [00:00<00:00, 13.91it/s]\n"
     ]
    },
    {
     "data": {
      "image/png": "[encoded data removed]",
      "text/plain": [
       "<Figure size 432x288 with 1 Axes>"
      ]
     },
     "metadata": {
      "needs_background": "light"
     },
     "output_type": "display_data"
    },
    {
     "name": "stderr",
     "output_type": "stream",
     "text": [
      " 30%|████████████████████████▉                                                          | 3/10 [00:00<00:00, 23.87it/s]"
     ]
    },
    {
     "name": "stdout",
     "output_type": "stream",
     "text": [
      "New Model Set For Inference\n",
      "Data Loader has No Parameters\n",
      "Starting Inference for Model\n",
      "c:\\users\\cesar\\desktop\\projects\\general\\deep_random_fields\\results\\merton_jumps_poisson_covariance\\1654364223\n",
      "#      ---------------- \n",
      "#      Start of MCMC    \n",
      "#      ---------------- \n",
      "Monte Carlo 0\n",
      "Monte Carlo 1\n",
      "Monte Carlo 2\n",
      "Monte Carlo 3\n",
      "Monte Carlo 4"
     ]
    },
    {
     "name": "stderr",
     "output_type": "stream",
     "text": [
      "\r",
      " 60%|█████████████████████████████████████████████████▊                                 | 6/10 [00:00<00:00, 19.28it/s]"
     ]
    },
    {
     "name": "stdout",
     "output_type": "stream",
     "text": [
      "\n",
      "Monte Carlo 5\n",
      "Monte Carlo 6\n"
     ]
    },
    {
     "name": "stderr",
     "output_type": "stream",
     "text": [
      "\r",
      " 80%|██████████████████████████████████████████████████████████████████▍                | 8/10 [00:00<00:00, 13.77it/s]"
     ]
    },
    {
     "name": "stdout",
     "output_type": "stream",
     "text": [
      "Monte Carlo 7\n",
      "Monte Carlo 8\n",
      "Monte Carlo 9"
     ]
    },
    {
     "name": "stderr",
     "output_type": "stream",
     "text": [
      "100%|██████████████████████████████████████████████████████████████████████████████████| 10/10 [00:00<00:00, 13.77it/s]"
     ]
    },
    {
     "name": "stdout",
     "output_type": "stream",
     "text": [
      "\n"
     ]
    },
    {
     "name": "stderr",
     "output_type": "stream",
     "text": [
      "\n"
     ]
    },
    {
     "data": {
      "image/png": "[encoded data removed]",
      "text/plain": [
       "<Figure size 432x288 with 1 Axes>"
      ]
     },
     "metadata": {
      "needs_background": "light"
     },
     "output_type": "display_data"
    },
    {
     "name": "stderr",
     "output_type": "stream",
     "text": [
      " 20%|████████████████▌                                                                  | 2/10 [00:00<00:00, 16.99it/s]"
     ]
    },
    {
     "name": "stdout",
     "output_type": "stream",
     "text": [
      "New Model Set For Inference\n",
      "Data Loader has No Parameters\n",
      "Starting Inference for Model\n",
      "c:\\users\\cesar\\desktop\\projects\\general\\deep_random_fields\\results\\merton_jumps_poisson_covariance\\1654364224\n",
      "#      ---------------- \n",
      "#      Start of MCMC    \n",
      "#      ---------------- \n",
      "Monte Carlo 0\n",
      "Monte Carlo 1\n",
      "Monte Carlo 2\n"
     ]
    },
    {
     "name": "stderr",
     "output_type": "stream",
     "text": [
      "\r",
      " 40%|█████████████████████████████████▏                                                 | 4/10 [00:00<00:00, 16.66it/s]"
     ]
    },
    {
     "name": "stdout",
     "output_type": "stream",
     "text": [
      "Monte Carlo 3\n",
      "Monte Carlo 4\n",
      "Monte Carlo 5\n",
      "Monte Carlo 6\n"
     ]
    },
    {
     "name": "stderr",
     "output_type": "stream",
     "text": [
      " 90%|██████████████████████████████████████████████████████████████████████████▋        | 9/10 [00:00<00:00, 13.82it/s]"
     ]
    },
    {
     "name": "stdout",
     "output_type": "stream",
     "text": [
      "Monte Carlo 7\n",
      "Monte Carlo 8\n"
     ]
    },
    {
     "name": "stderr",
     "output_type": "stream",
     "text": [
      "100%|██████████████████████████████████████████████████████████████████████████████████| 10/10 [00:00<00:00, 13.98it/s]\n"
     ]
    },
    {
     "name": "stdout",
     "output_type": "stream",
     "text": [
      "Monte Carlo 9\n"
     ]
    },
    {
     "data": {
      "image/png": "[encoded data removed]",
      "text/plain": [
       "<Figure size 432x288 with 1 Axes>"
      ]
     },
     "metadata": {
      "needs_background": "light"
     },
     "output_type": "display_data"
    },
    {
     "name": "stderr",
     "output_type": "stream",
     "text": [
      " 30%|████████████████████████▉                                                          | 3/10 [00:00<00:00, 19.16it/s]"
     ]
    },
    {
     "name": "stdout",
     "output_type": "stream",
     "text": [
      "New Model Set For Inference\n",
      "Data Loader has No Parameters\n",
      "Starting Inference for Model\n",
      "c:\\users\\cesar\\desktop\\projects\\general\\deep_random_fields\\results\\merton_jumps_poisson_covariance\\1654364225\n",
      "#      ---------------- \n",
      "#      Start of MCMC    \n",
      "#      ---------------- \n",
      "Monte Carlo 0\n",
      "Monte Carlo 1\n",
      "Monte Carlo 2\n",
      "Monte Carlo 3\n"
     ]
    },
    {
     "name": "stderr",
     "output_type": "stream",
     "text": [
      "\r",
      " 50%|█████████████████████████████████████████▌                                         | 5/10 [00:00<00:00, 18.12it/s]"
     ]
    },
    {
     "name": "stdout",
     "output_type": "stream",
     "text": [
      "Monte Carlo 4\n",
      "Monte Carlo 5\n",
      "Monte Carlo 6\n"
     ]
    },
    {
     "name": "stderr",
     "output_type": "stream",
     "text": [
      "\r",
      " 70%|██████████████████████████████████████████████████████████                         | 7/10 [00:00<00:00, 16.73it/s]"
     ]
    },
    {
     "name": "stdout",
     "output_type": "stream",
     "text": [
      "Monte Carlo 7\n",
      "Monte Carlo 8\n"
     ]
    },
    {
     "name": "stderr",
     "output_type": "stream",
     "text": [
      "100%|██████████████████████████████████████████████████████████████████████████████████| 10/10 [00:00<00:00, 13.09it/s]\n"
     ]
    },
    {
     "name": "stdout",
     "output_type": "stream",
     "text": [
      "Monte Carlo 9\n"
     ]
    },
    {
     "data": {
      "image/png": "[encoded data removed]",
      "text/plain": [
       "<Figure size 432x288 with 1 Axes>"
      ]
     },
     "metadata": {
      "needs_background": "light"
     },
     "output_type": "display_data"
    },
    {
     "name": "stderr",
     "output_type": "stream",
     "text": [
      " 20%|████████████████▌                                                                  | 2/10 [00:00<00:00, 19.47it/s]"
     ]
    },
    {
     "name": "stdout",
     "output_type": "stream",
     "text": [
      "New Model Set For Inference\n",
      "Data Loader has No Parameters\n",
      "Starting Inference for Model\n",
      "c:\\users\\cesar\\desktop\\projects\\general\\deep_random_fields\\results\\merton_jumps_poisson_covariance\\1654364226\n",
      "#      ---------------- \n",
      "#      Start of MCMC    \n",
      "#      ---------------- \n",
      "Monte Carlo 0\n",
      "Monte Carlo 1\n",
      "Monte Carlo 2\n",
      "Monte Carlo 3\n"
     ]
    },
    {
     "name": "stderr",
     "output_type": "stream",
     "text": [
      " 60%|█████████████████████████████████████████████████▊                                 | 6/10 [00:00<00:00, 18.75it/s]"
     ]
    },
    {
     "name": "stdout",
     "output_type": "stream",
     "text": [
      "Monte Carlo 4\n",
      "Monte Carlo 5\n",
      "Monte Carlo 6\n",
      "Monte Carlo 7"
     ]
    },
    {
     "name": "stderr",
     "output_type": "stream",
     "text": [
      "\r",
      " 80%|██████████████████████████████████████████████████████████████████▍                | 8/10 [00:00<00:00, 14.51it/s]"
     ]
    },
    {
     "name": "stdout",
     "output_type": "stream",
     "text": [
      "\n",
      "Monte Carlo 8\n",
      "Monte Carlo 9"
     ]
    },
    {
     "name": "stderr",
     "output_type": "stream",
     "text": [
      "100%|██████████████████████████████████████████████████████████████████████████████████| 10/10 [00:00<00:00, 14.08it/s]"
     ]
    },
    {
     "name": "stdout",
     "output_type": "stream",
     "text": [
      "\n"
     ]
    },
    {
     "name": "stderr",
     "output_type": "stream",
     "text": [
      "\n"
     ]
    },
    {
     "data": {
      "image/png": "[encoded data removed]",
      "text/plain": [
       "<Figure size 432x288 with 1 Axes>"
      ]
     },
     "metadata": {
      "needs_background": "light"
     },
     "output_type": "display_data"
    },
    {
     "name": "stderr",
     "output_type": "stream",
     "text": [
      " 30%|████████████████████████▉                                                          | 3/10 [00:00<00:00, 22.45it/s]"
     ]
    },
    {
     "name": "stdout",
     "output_type": "stream",
     "text": [
      "New Model Set For Inference\n",
      "Data Loader has No Parameters\n",
      "Starting Inference for Model\n",
      "c:\\users\\cesar\\desktop\\projects\\general\\deep_random_fields\\results\\merton_jumps_poisson_covariance\\1654364228\n",
      "#      ---------------- \n",
      "#      Start of MCMC    \n",
      "#      ---------------- \n",
      "Monte Carlo 0\n",
      "Monte Carlo 1\n",
      "Monte Carlo 2\n",
      "Monte Carlo 3\n",
      "Monte Carlo 4\n"
     ]
    },
    {
     "name": "stderr",
     "output_type": "stream",
     "text": [
      "\r",
      " 60%|█████████████████████████████████████████████████▊                                 | 6/10 [00:00<00:00, 22.95it/s]"
     ]
    },
    {
     "name": "stdout",
     "output_type": "stream",
     "text": [
      "Monte Carlo 5\n",
      "Monte Carlo 6\n",
      "Monte Carlo 7\n",
      "Monte Carlo 8"
     ]
    },
    {
     "name": "stderr",
     "output_type": "stream",
     "text": [
      "\r",
      " 90%|██████████████████████████████████████████████████████████████████████████▋        | 9/10 [00:00<00:00, 16.27it/s]"
     ]
    },
    {
     "name": "stdout",
     "output_type": "stream",
     "text": [
      "\n",
      "Monte Carlo 9\n"
     ]
    },
    {
     "name": "stderr",
     "output_type": "stream",
     "text": [
      "100%|██████████████████████████████████████████████████████████████████████████████████| 10/10 [00:00<00:00, 16.25it/s]\n"
     ]
    },
    {
     "data": {
      "image/png": "[encoded data removed]",
      "text/plain": [
       "<Figure size 432x288 with 1 Axes>"
      ]
     },
     "metadata": {
      "needs_background": "light"
     },
     "output_type": "display_data"
    },
    {
     "name": "stderr",
     "output_type": "stream",
     "text": [
      " 20%|████████████████▌                                                                  | 2/10 [00:00<00:00, 16.57it/s]"
     ]
    },
    {
     "name": "stdout",
     "output_type": "stream",
     "text": [
      "New Model Set For Inference\n",
      "Data Loader has No Parameters\n",
      "Starting Inference for Model\n",
      "c:\\users\\cesar\\desktop\\projects\\general\\deep_random_fields\\results\\merton_jumps_poisson_covariance\\1654364229\n",
      "#      ---------------- \n",
      "#      Start of MCMC    \n",
      "#      ---------------- \n",
      "Monte Carlo 0\n",
      "Monte Carlo 1\n",
      "Monte Carlo 2\n",
      "Monte Carlo 3\n"
     ]
    },
    {
     "name": "stderr",
     "output_type": "stream",
     "text": [
      " 70%|██████████████████████████████████████████████████████████                         | 7/10 [00:00<00:00, 16.71it/s]"
     ]
    },
    {
     "name": "stdout",
     "output_type": "stream",
     "text": [
      "Monte Carlo 4\n",
      "Monte Carlo 5\n",
      "Monte Carlo 6\n",
      "Monte Carlo 7\n",
      "Monte Carlo 8\n"
     ]
    },
    {
     "name": "stderr",
     "output_type": "stream",
     "text": [
      "100%|██████████████████████████████████████████████████████████████████████████████████| 10/10 [00:00<00:00, 11.61it/s]\n"
     ]
    },
    {
     "name": "stdout",
     "output_type": "stream",
     "text": [
      "Monte Carlo 9\n"
     ]
    },
    {
     "data": {
      "image/png": "[encoded data removed]",
      "text/plain": [
       "<Figure size 432x288 with 1 Axes>"
      ]
     },
     "metadata": {
      "needs_background": "light"
     },
     "output_type": "display_data"
    },
    {
     "name": "stderr",
     "output_type": "stream",
     "text": [
      " 30%|████████████████████████▉                                                          | 3/10 [00:00<00:00, 23.68it/s]"
     ]
    },
    {
     "name": "stdout",
     "output_type": "stream",
     "text": [
      "New Model Set For Inference\n",
      "Data Loader has No Parameters\n",
      "Starting Inference for Model\n",
      "c:\\users\\cesar\\desktop\\projects\\general\\deep_random_fields\\results\\merton_jumps_poisson_covariance\\1654364230\n",
      "#      ---------------- \n",
      "#      Start of MCMC    \n",
      "#      ---------------- \n",
      "Monte Carlo 0\n",
      "Monte Carlo 1\n",
      "Monte Carlo 2\n",
      "Monte Carlo 3\n",
      "Monte Carlo 4\n"
     ]
    },
    {
     "name": "stderr",
     "output_type": "stream",
     "text": [
      "\r",
      " 60%|█████████████████████████████████████████████████▊                                 | 6/10 [00:00<00:00, 22.15it/s]"
     ]
    },
    {
     "name": "stdout",
     "output_type": "stream",
     "text": [
      "Monte Carlo 5\n",
      "Monte Carlo 6\n",
      "Monte Carlo 7\n"
     ]
    },
    {
     "name": "stderr",
     "output_type": "stream",
     "text": [
      "100%|██████████████████████████████████████████████████████████████████████████████████| 10/10 [00:00<00:00, 15.19it/s]"
     ]
    },
    {
     "name": "stdout",
     "output_type": "stream",
     "text": [
      "Monte Carlo 8\n",
      "Monte Carlo 9\n"
     ]
    },
    {
     "name": "stderr",
     "output_type": "stream",
     "text": [
      "\n"
     ]
    },
    {
     "data": {
      "image/png": "[encoded data removed]",
      "text/plain": [
       "<Figure size 432x288 with 1 Axes>"
      ]
     },
     "metadata": {
      "needs_background": "light"
     },
     "output_type": "display_data"
    },
    {
     "name": "stderr",
     "output_type": "stream",
     "text": [
      " 30%|████████████████████████▉                                                          | 3/10 [00:00<00:00, 21.03it/s]"
     ]
    },
    {
     "name": "stdout",
     "output_type": "stream",
     "text": [
      "New Model Set For Inference\n",
      "Data Loader has No Parameters\n",
      "Starting Inference for Model\n",
      "c:\\users\\cesar\\desktop\\projects\\general\\deep_random_fields\\results\\merton_jumps_poisson_covariance\\1654364231\n",
      "#      ---------------- \n",
      "#      Start of MCMC    \n",
      "#      ---------------- \n",
      "Monte Carlo 0\n",
      "Monte Carlo 1\n",
      "Monte Carlo 2\n",
      "Monte Carlo 3\n"
     ]
    },
    {
     "name": "stderr",
     "output_type": "stream",
     "text": [
      "\r",
      " 60%|█████████████████████████████████████████████████▊                                 | 6/10 [00:00<00:00, 19.44it/s]"
     ]
    },
    {
     "name": "stdout",
     "output_type": "stream",
     "text": [
      "Monte Carlo 4\n",
      "Monte Carlo 5\n",
      "Monte Carlo 6\n"
     ]
    },
    {
     "name": "stderr",
     "output_type": "stream",
     "text": [
      "\r",
      " 80%|██████████████████████████████████████████████████████████████████▍                | 8/10 [00:00<00:00, 14.50it/s]"
     ]
    },
    {
     "name": "stdout",
     "output_type": "stream",
     "text": [
      "Monte Carlo 7\n",
      "Monte Carlo 8\n",
      "Monte Carlo 9"
     ]
    },
    {
     "name": "stderr",
     "output_type": "stream",
     "text": [
      "100%|██████████████████████████████████████████████████████████████████████████████████| 10/10 [00:00<00:00, 14.04it/s]"
     ]
    },
    {
     "name": "stdout",
     "output_type": "stream",
     "text": [
      "\n"
     ]
    },
    {
     "name": "stderr",
     "output_type": "stream",
     "text": [
      "\n"
     ]
    },
    {
     "data": {
      "image/png": "[encoded data removed]",
      "text/plain": [
       "<Figure size 432x288 with 1 Axes>"
      ]
     },
     "metadata": {
      "needs_background": "light"
     },
     "output_type": "display_data"
    },
    {
     "name": "stderr",
     "output_type": "stream",
     "text": [
      " 20%|████████████████▌                                                                  | 2/10 [00:00<00:00, 17.14it/s]"
     ]
    },
    {
     "name": "stdout",
     "output_type": "stream",
     "text": [
      "New Model Set For Inference\n",
      "Data Loader has No Parameters\n",
      "Starting Inference for Model\n",
      "c:\\users\\cesar\\desktop\\projects\\general\\deep_random_fields\\results\\merton_jumps_poisson_covariance\\1654364232\n",
      "#      ---------------- \n",
      "#      Start of MCMC    \n",
      "#      ---------------- \n",
      "Monte Carlo 0\n",
      "Monte Carlo 1\n",
      "Monte Carlo 2\n",
      "Monte Carlo 3\n"
     ]
    },
    {
     "name": "stderr",
     "output_type": "stream",
     "text": [
      " 70%|██████████████████████████████████████████████████████████                         | 7/10 [00:00<00:00, 16.42it/s]"
     ]
    },
    {
     "name": "stdout",
     "output_type": "stream",
     "text": [
      "Monte Carlo 4\n",
      "Monte Carlo 5\n",
      "Monte Carlo 6\n",
      "Monte Carlo 7\n",
      "Monte Carlo 8\n"
     ]
    },
    {
     "name": "stderr",
     "output_type": "stream",
     "text": [
      "100%|██████████████████████████████████████████████████████████████████████████████████| 10/10 [00:00<00:00, 13.02it/s]\n"
     ]
    },
    {
     "name": "stdout",
     "output_type": "stream",
     "text": [
      "Monte Carlo 9\n"
     ]
    },
    {
     "data": {
      "image/png": "[encoded data removed]",
      "text/plain": [
       "<Figure size 432x288 with 1 Axes>"
      ]
     },
     "metadata": {
      "needs_background": "light"
     },
     "output_type": "display_data"
    },
    {
     "name": "stderr",
     "output_type": "stream",
     "text": [
      " 30%|████████████████████████▉                                                          | 3/10 [00:00<00:00, 19.41it/s]"
     ]
    },
    {
     "name": "stdout",
     "output_type": "stream",
     "text": [
      "New Model Set For Inference\n",
      "Data Loader has No Parameters\n",
      "Starting Inference for Model\n",
      "c:\\users\\cesar\\desktop\\projects\\general\\deep_random_fields\\results\\merton_jumps_poisson_covariance\\1654364234\n",
      "#      ---------------- \n",
      "#      Start of MCMC    \n",
      "#      ---------------- \n",
      "Monte Carlo 0\n",
      "Monte Carlo 1\n",
      "Monte Carlo 2\n",
      "Monte Carlo 3\n"
     ]
    },
    {
     "name": "stderr",
     "output_type": "stream",
     "text": [
      "\r",
      " 50%|█████████████████████████████████████████▌                                         | 5/10 [00:00<00:00, 19.17it/s]"
     ]
    },
    {
     "name": "stdout",
     "output_type": "stream",
     "text": [
      "Monte Carlo 4\n",
      "Monte Carlo 5\n",
      "Monte Carlo 6\n"
     ]
    },
    {
     "name": "stderr",
     "output_type": "stream",
     "text": [
      "\r",
      " 70%|██████████████████████████████████████████████████████████                         | 7/10 [00:00<00:00, 15.74it/s]"
     ]
    },
    {
     "name": "stdout",
     "output_type": "stream",
     "text": [
      "Monte Carlo 7\n",
      "Monte Carlo 8\n"
     ]
    },
    {
     "name": "stderr",
     "output_type": "stream",
     "text": [
      "100%|██████████████████████████████████████████████████████████████████████████████████| 10/10 [00:00<00:00, 13.46it/s]\n"
     ]
    },
    {
     "name": "stdout",
     "output_type": "stream",
     "text": [
      "Monte Carlo 9\n"
     ]
    },
    {
     "data": {
      "image/png": "[encoded data removed]",
      "text/plain": [
       "<Figure size 432x288 with 1 Axes>"
      ]
     },
     "metadata": {
      "needs_background": "light"
     },
     "output_type": "display_data"
    },
    {
     "name": "stderr",
     "output_type": "stream",
     "text": [
      " 30%|████████████████████████▉                                                          | 3/10 [00:00<00:00, 21.96it/s]"
     ]
    },
    {
     "name": "stdout",
     "output_type": "stream",
     "text": [
      "New Model Set For Inference\n",
      "Data Loader has No Parameters\n",
      "Starting Inference for Model\n",
      "c:\\users\\cesar\\desktop\\projects\\general\\deep_random_fields\\results\\merton_jumps_poisson_covariance\\1654364235\n",
      "#      ---------------- \n",
      "#      Start of MCMC    \n",
      "#      ---------------- \n",
      "Monte Carlo 0\n",
      "Monte Carlo 1\n",
      "Monte Carlo 2\n",
      "Monte Carlo 3\n",
      "Monte Carlo 4"
     ]
    },
    {
     "name": "stderr",
     "output_type": "stream",
     "text": [
      "\r",
      " 60%|█████████████████████████████████████████████████▊                                 | 6/10 [00:00<00:00, 21.59it/s]"
     ]
    },
    {
     "name": "stdout",
     "output_type": "stream",
     "text": [
      "\n",
      "Monte Carlo 5\n",
      "Monte Carlo 6\n",
      "Monte Carlo 7\n"
     ]
    },
    {
     "name": "stderr",
     "output_type": "stream",
     "text": [
      "100%|██████████████████████████████████████████████████████████████████████████████████| 10/10 [00:00<00:00, 14.92it/s]"
     ]
    },
    {
     "name": "stdout",
     "output_type": "stream",
     "text": [
      "Monte Carlo 8\n",
      "Monte Carlo 9\n"
     ]
    },
    {
     "name": "stderr",
     "output_type": "stream",
     "text": [
      "\n"
     ]
    },
    {
     "data": {
      "image/png": "[encoded data removed]",
      "text/plain": [
       "<Figure size 432x288 with 1 Axes>"
      ]
     },
     "metadata": {
      "needs_background": "light"
     },
     "output_type": "display_data"
    },
    {
     "name": "stderr",
     "output_type": "stream",
     "text": [
      " 20%|████████████████▌                                                                  | 2/10 [00:00<00:00, 19.28it/s]"
     ]
    },
    {
     "name": "stdout",
     "output_type": "stream",
     "text": [
      "New Model Set For Inference\n",
      "Data Loader has No Parameters\n",
      "Starting Inference for Model\n",
      "c:\\users\\cesar\\desktop\\projects\\general\\deep_random_fields\\results\\merton_jumps_poisson_covariance\\1654364236\n",
      "#      ---------------- \n",
      "#      Start of MCMC    \n",
      "#      ---------------- \n",
      "Monte Carlo 0\n",
      "Monte Carlo 1\n",
      "Monte Carlo 2\n",
      "Monte Carlo 3\n"
     ]
    },
    {
     "name": "stderr",
     "output_type": "stream",
     "text": [
      " 60%|█████████████████████████████████████████████████▊                                 | 6/10 [00:00<00:00, 16.27it/s]"
     ]
    },
    {
     "name": "stdout",
     "output_type": "stream",
     "text": [
      "Monte Carlo 4\n",
      "Monte Carlo 5\n",
      "Monte Carlo 6\n"
     ]
    },
    {
     "name": "stderr",
     "output_type": "stream",
     "text": [
      "\r",
      " 80%|██████████████████████████████████████████████████████████████████▍                | 8/10 [00:00<00:00, 11.95it/s]"
     ]
    },
    {
     "name": "stdout",
     "output_type": "stream",
     "text": [
      "Monte Carlo 7\n",
      "Monte Carlo 8\n",
      "Monte Carlo 9"
     ]
    },
    {
     "name": "stderr",
     "output_type": "stream",
     "text": [
      "100%|██████████████████████████████████████████████████████████████████████████████████| 10/10 [00:00<00:00, 12.23it/s]"
     ]
    },
    {
     "name": "stdout",
     "output_type": "stream",
     "text": [
      "\n"
     ]
    },
    {
     "name": "stderr",
     "output_type": "stream",
     "text": [
      "\n"
     ]
    },
    {
     "data": {
      "image/png": "[encoded data removed]",
      "text/plain": [
       "<Figure size 432x288 with 1 Axes>"
      ]
     },
     "metadata": {
      "needs_background": "light"
     },
     "output_type": "display_data"
    },
    {
     "name": "stderr",
     "output_type": "stream",
     "text": [
      " 20%|████████████████▌                                                                  | 2/10 [00:00<00:00, 18.23it/s]"
     ]
    },
    {
     "name": "stdout",
     "output_type": "stream",
     "text": [
      "New Model Set For Inference\n",
      "Data Loader has No Parameters\n",
      "Starting Inference for Model\n",
      "c:\\users\\cesar\\desktop\\projects\\general\\deep_random_fields\\results\\merton_jumps_poisson_covariance\\1654364237\n",
      "#      ---------------- \n",
      "#      Start of MCMC    \n",
      "#      ---------------- \n",
      "Monte Carlo 0\n",
      "Monte Carlo 1\n",
      "Monte Carlo 2\n",
      "Monte Carlo 3"
     ]
    },
    {
     "name": "stderr",
     "output_type": "stream",
     "text": [
      " 60%|█████████████████████████████████████████████████▊                                 | 6/10 [00:00<00:00, 17.60it/s]"
     ]
    },
    {
     "name": "stdout",
     "output_type": "stream",
     "text": [
      "\n",
      "Monte Carlo 4\n",
      "Monte Carlo 5\n",
      "Monte Carlo 6\n"
     ]
    },
    {
     "name": "stderr",
     "output_type": "stream",
     "text": [
      "\r",
      " 80%|██████████████████████████████████████████████████████████████████▍                | 8/10 [00:00<00:00, 12.64it/s]"
     ]
    },
    {
     "name": "stdout",
     "output_type": "stream",
     "text": [
      "Monte Carlo 7\n",
      "Monte Carlo 8\n",
      "Monte Carlo 9"
     ]
    },
    {
     "name": "stderr",
     "output_type": "stream",
     "text": [
      "100%|██████████████████████████████████████████████████████████████████████████████████| 10/10 [00:00<00:00, 12.97it/s]"
     ]
    },
    {
     "name": "stdout",
     "output_type": "stream",
     "text": [
      "\n"
     ]
    },
    {
     "name": "stderr",
     "output_type": "stream",
     "text": [
      "\n"
     ]
    },
    {
     "data": {
      "image/png": "[encoded data removed]",
      "text/plain": [
       "<Figure size 432x288 with 1 Axes>"
      ]
     },
     "metadata": {
      "needs_background": "light"
     },
     "output_type": "display_data"
    },
    {
     "name": "stderr",
     "output_type": "stream",
     "text": [
      " 20%|████████████████▌                                                                  | 2/10 [00:00<00:00, 18.74it/s]"
     ]
    },
    {
     "name": "stdout",
     "output_type": "stream",
     "text": [
      "New Model Set For Inference\n",
      "Data Loader has No Parameters\n",
      "Starting Inference for Model\n",
      "c:\\users\\cesar\\desktop\\projects\\general\\deep_random_fields\\results\\merton_jumps_poisson_covariance\\1654364239\n",
      "#      ---------------- \n",
      "#      Start of MCMC    \n",
      "#      ---------------- \n",
      "Monte Carlo 0\n",
      "Monte Carlo 1\n",
      "Monte Carlo 2\n",
      "Monte Carlo 3\n"
     ]
    },
    {
     "name": "stderr",
     "output_type": "stream",
     "text": [
      " 70%|██████████████████████████████████████████████████████████                         | 7/10 [00:00<00:00, 17.46it/s]"
     ]
    },
    {
     "name": "stdout",
     "output_type": "stream",
     "text": [
      "Monte Carlo 4\n",
      "Monte Carlo 5\n",
      "Monte Carlo 6\n",
      "Monte Carlo 7\n"
     ]
    },
    {
     "name": "stderr",
     "output_type": "stream",
     "text": [
      "\r",
      " 90%|██████████████████████████████████████████████████████████████████████████▋        | 9/10 [00:00<00:00, 14.30it/s]"
     ]
    },
    {
     "name": "stdout",
     "output_type": "stream",
     "text": [
      "Monte Carlo 8\n",
      "Monte Carlo 9\n"
     ]
    },
    {
     "name": "stderr",
     "output_type": "stream",
     "text": [
      "100%|██████████████████████████████████████████████████████████████████████████████████| 10/10 [00:00<00:00, 14.62it/s]\n"
     ]
    },
    {
     "data": {
      "image/png": "[encoded data removed]",
      "text/plain": [
       "<Figure size 432x288 with 1 Axes>"
      ]
     },
     "metadata": {
      "needs_background": "light"
     },
     "output_type": "display_data"
    }
   ],
   "source": [
    "model_dir_in_experiments = []\n",
    "for experiment_index, experiment_values in all_experiments.items():\n",
    "    try:\n",
    "        model_param.update(experiment_values)\n",
    "        mjpc = MertonJumpsPoissonCovariance(None, data_loader, None, **model_param)\n",
    "        model_dir = mjpc.model_dir\n",
    "\n",
    "        print(\"Starting Inference for Model\")\n",
    "        print(model_dir)\n",
    "        print(experiment_values)\n",
    "        print(\"\\n\")\n",
    "        model_dir_in_experiments.append(model_dir)\n",
    "        experiment_dir = os.path.join(model_dir,\"experiment_file.json\")\n",
    "\n",
    "        json.dump(experiment_values,open(experiment_dir,\"w\"))\n",
    "        mjpc.inference(data_loader, **inference_param)\n",
    "    except:\n",
    "        print(\"Problem\")\n",
    "        print(experiment_values)\n",
    "        pass"
   ]
  },
  {
   "cell_type": "code",
   "execution_count": 91,
   "id": "ab6397fd",
   "metadata": {},
   "outputs": [
    {
     "data": {
      "text/plain": [
       "['c:\\\\users\\\\cesar\\\\desktop\\\\projects\\\\general\\\\deep_random_fields\\\\results\\\\merton_jumps_poisson_covariance\\\\1654364220',\n",
       " 'c:\\\\users\\\\cesar\\\\desktop\\\\projects\\\\general\\\\deep_random_fields\\\\results\\\\merton_jumps_poisson_covariance\\\\1654364222',\n",
       " 'c:\\\\users\\\\cesar\\\\desktop\\\\projects\\\\general\\\\deep_random_fields\\\\results\\\\merton_jumps_poisson_covariance\\\\1654364223',\n",
       " 'c:\\\\users\\\\cesar\\\\desktop\\\\projects\\\\general\\\\deep_random_fields\\\\results\\\\merton_jumps_poisson_covariance\\\\1654364224',\n",
       " 'c:\\\\users\\\\cesar\\\\desktop\\\\projects\\\\general\\\\deep_random_fields\\\\results\\\\merton_jumps_poisson_covariance\\\\1654364225',\n",
       " 'c:\\\\users\\\\cesar\\\\desktop\\\\projects\\\\general\\\\deep_random_fields\\\\results\\\\merton_jumps_poisson_covariance\\\\1654364226',\n",
       " 'c:\\\\users\\\\cesar\\\\desktop\\\\projects\\\\general\\\\deep_random_fields\\\\results\\\\merton_jumps_poisson_covariance\\\\1654364228',\n",
       " 'c:\\\\users\\\\cesar\\\\desktop\\\\projects\\\\general\\\\deep_random_fields\\\\results\\\\merton_jumps_poisson_covariance\\\\1654364229',\n",
       " 'c:\\\\users\\\\cesar\\\\desktop\\\\projects\\\\general\\\\deep_random_fields\\\\results\\\\merton_jumps_poisson_covariance\\\\1654364230',\n",
       " 'c:\\\\users\\\\cesar\\\\desktop\\\\projects\\\\general\\\\deep_random_fields\\\\results\\\\merton_jumps_poisson_covariance\\\\1654364231',\n",
       " 'c:\\\\users\\\\cesar\\\\desktop\\\\projects\\\\general\\\\deep_random_fields\\\\results\\\\merton_jumps_poisson_covariance\\\\1654364232',\n",
       " 'c:\\\\users\\\\cesar\\\\desktop\\\\projects\\\\general\\\\deep_random_fields\\\\results\\\\merton_jumps_poisson_covariance\\\\1654364234',\n",
       " 'c:\\\\users\\\\cesar\\\\desktop\\\\projects\\\\general\\\\deep_random_fields\\\\results\\\\merton_jumps_poisson_covariance\\\\1654364235',\n",
       " 'c:\\\\users\\\\cesar\\\\desktop\\\\projects\\\\general\\\\deep_random_fields\\\\results\\\\merton_jumps_poisson_covariance\\\\1654364236',\n",
       " 'c:\\\\users\\\\cesar\\\\desktop\\\\projects\\\\general\\\\deep_random_fields\\\\results\\\\merton_jumps_poisson_covariance\\\\1654364237',\n",
       " 'c:\\\\users\\\\cesar\\\\desktop\\\\projects\\\\general\\\\deep_random_fields\\\\results\\\\merton_jumps_poisson_covariance\\\\1654364239']"
      ]
     },
     "execution_count": 91,
     "metadata": {},
     "output_type": "execute_result"
    }
   ],
   "source": [
    "model_dir_in_experiments"
   ]
  }
 ],
 "metadata": {
  "kernelspec": {
   "display_name": "Python 3",
   "language": "python",
   "name": "python3"
  },
  "language_info": {
   "codemirror_mode": {
    "name": "ipython",
    "version": 3
   },
   "file_extension": ".py",
   "mimetype": "text/x-python",
   "name": "python",
   "nbconvert_exporter": "python",
   "pygments_lexer": "ipython3",
   "version": "3.8.12"
  }
 },
 "nbformat": 4,
 "nbformat_minor": 5
}

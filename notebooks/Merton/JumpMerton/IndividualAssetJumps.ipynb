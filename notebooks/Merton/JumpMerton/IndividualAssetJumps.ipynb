{
 "cells": [
  {
   "cell_type": "code",
   "execution_count": 30,
   "id": "47df77bc",
   "metadata": {},
   "outputs": [],
   "source": [
    "import os\n",
    "import torch\n",
    "import numpy as np\n",
    "import pandas as pd\n",
    "from matplotlib import pyplot as plt\n",
    "\n",
    "from deep_fields import data_path\n",
    "from torch.distributions import Normal, MultivariateNormal\n",
    "from torch.distributions import Bernoulli, Beta, Poisson\n",
    "from scipy.stats import invwishart, bernoulli\n",
    "\n",
    "os.environ[\"KMP_DUPLICATE_LIB_OK\"]=\"TRUE\"\n",
    "\n",
    "%matplotlib inline"
   ]
  },
  {
   "cell_type": "code",
   "execution_count": 46,
   "id": "646d05f2",
   "metadata": {},
   "outputs": [
    {
     "data": {
      "text/plain": [
       "'c:\\\\users\\\\cesar\\\\desktop\\\\projects\\\\general\\\\deep_random_fields\\\\data\\\\raw\\\\merton_poisson_covariance'"
      ]
     },
     "execution_count": 46,
     "metadata": {},
     "output_type": "execute_result"
    }
   ],
   "source": [
    "from deep_fields import data_path\n",
    "\n",
    "data_dir = os.path.join(data_path,\"raw\\merton_poisson_covariance\")\n",
    "data_dir"
   ]
  },
  {
   "cell_type": "code",
   "execution_count": 40,
   "id": "e43ca7e4",
   "metadata": {},
   "outputs": [
    {
     "data": {
      "text/plain": [
       "'c:\\\\users\\\\cesar\\\\desktop\\\\projects\\\\general\\\\deep_random_fields\\\\data'"
      ]
     },
     "execution_count": 40,
     "metadata": {},
     "output_type": "execute_result"
    }
   ],
   "source": [
    "data_path"
   ]
  },
  {
   "cell_type": "code",
   "execution_count": null,
   "id": "e94c4b42",
   "metadata": {},
   "outputs": [],
   "source": []
  },
  {
   "cell_type": "code",
   "execution_count": 16,
   "id": "ce378633",
   "metadata": {},
   "outputs": [],
   "source": [
    "number_of_processes = 4\n",
    "number_of_realizations = 100\n",
    "jump_arrival_alpha = 1.\n",
    "jump_arrival_beta = 1.\n",
    "\n",
    "jump_size_a = 1.\n",
    "jump_size_b = 1.\n",
    "\n",
    "# JUMPS\n",
    "arrivals_intensity_prior = Beta(jump_arrival_alpha, jump_arrival_beta)\n",
    "arrivals_indicator_prior = Bernoulli(arrivals_intensity_prior.sample())\n",
    "\n",
    "nu = number_of_processes + 1.\n",
    "Psi = np.random.rand(number_of_processes, number_of_processes)\n",
    "Psi = np.dot(Psi, Psi.transpose())\n",
    "covariance_jump_prior = invwishart(nu,Psi)"
   ]
  },
  {
   "cell_type": "code",
   "execution_count": 17,
   "id": "e03c3b9d",
   "metadata": {},
   "outputs": [],
   "source": [
    "# sample from intensity prior\n",
    "arrivals_intensity = arrivals_intensity_prior.sample(sample_shape=(number_of_processes,))\n",
    "arrivals_indicator_prior = Bernoulli(arrivals_intensity)\n",
    "arrivals_indicator = arrivals_indicator_prior.sample(sample_shape=(number_of_realizations,))"
   ]
  },
  {
   "cell_type": "code",
   "execution_count": 19,
   "id": "d4d6ebea",
   "metadata": {},
   "outputs": [],
   "source": [
    "# sample from jump size prior\n",
    "jump_covariance = covariance_jump_prior.rvs()\n",
    "jump_covariance =  torch.Tensor(jump_covariance)\n",
    "jump_mean_prior = torch.ones(number_of_processes) * jump_size_a\n",
    "jump_mean_prior = MultivariateNormal(jump_mean_prior, jump_size_b *jump_covariance)\n",
    "jump_mean =jump_mean_prior.sample()"
   ]
  },
  {
   "cell_type": "code",
   "execution_count": 21,
   "id": "7bc091c9",
   "metadata": {},
   "outputs": [],
   "source": [
    "jump_distribution = MultivariateNormal(jump_mean, jump_covariance)\n",
    "jumps_size = jump_distribution.sample(sample_shape=(number_of_realizations,))"
   ]
  },
  {
   "cell_type": "code",
   "execution_count": 26,
   "id": "d9db305c",
   "metadata": {},
   "outputs": [
    {
     "data": {
      "text/plain": [
       "tensor([[0.0000, 1.7876, 1.4282, 1.6375],\n",
       "        [0.0000, 0.0000, 0.0000, 0.0000],\n",
       "        [1.2495, 0.0000, 1.0690, 1.7523],\n",
       "        [0.0000, 0.0000, 1.3190, 0.4499],\n",
       "        [0.0000, 0.0000, 1.9418, 0.0000],\n",
       "        [0.0000, 0.0000, 0.8718, 1.7254],\n",
       "        [0.5733, 0.0000, 1.4003, 0.0680],\n",
       "        [0.5968, 0.0000, 0.0000, 0.1783],\n",
       "        [0.0000, 0.0000, 0.0000, 0.3185],\n",
       "        [1.3335, 0.0000, 0.0000, 0.0000]])"
      ]
     },
     "execution_count": 26,
     "metadata": {},
     "output_type": "execute_result"
    }
   ],
   "source": [
    "(jumps_size*arrivals_indicator)[:10,:]"
   ]
  },
  {
   "cell_type": "code",
   "execution_count": 28,
   "id": "7b51e3ea",
   "metadata": {},
   "outputs": [
    {
     "data": {
      "text/plain": [
       "tensor([[0., 1., 1., 1.],\n",
       "        [0., 0., 0., 0.],\n",
       "        [1., 0., 1., 1.],\n",
       "        [0., 0., 1., 1.],\n",
       "        [0., 0., 1., 0.],\n",
       "        [0., 0., 1., 1.],\n",
       "        [1., 0., 1., 1.],\n",
       "        [1., 0., 0., 1.],\n",
       "        [0., 0., 0., 1.],\n",
       "        [1., 0., 0., 0.]])"
      ]
     },
     "execution_count": 28,
     "metadata": {},
     "output_type": "execute_result"
    }
   ],
   "source": [
    "arrivals_indicator[:10,:]"
   ]
  },
  {
   "cell_type": "code",
   "execution_count": null,
   "id": "9dbeac67",
   "metadata": {},
   "outputs": [],
   "source": [
    "# sample from jump size prior\n",
    "jump_covariance = covariance_jump_prior.rvs()\n",
    "jump_covariance =  torch.Tensor(jump_covariance)\n",
    "jump_mean_prior = torch.ones(self.number_of_processes) * self.jump_size_a\n",
    "self.jump_mean_prior = MultivariateNormal(jump_mean_prior, self.jump_size_b *jump_covariance)\n",
    "jump_mean = self.jump_mean_prior.sample()\n",
    "\n",
    "self.jump_distribution = MultivariateNormal(jump_mean, jump_covariance)\n",
    "jumps_size = self.jump_distribution.sample(sample_shape=(self.number_of_realizations,))\n",
    "\n",
    "# covariance -------------------\n",
    "diffusion_covariance = self.diffusion_covariance_normalization*self.covariance_diffusion_prior.rvs()\n",
    "\n",
    "diffusion_covariance = torch.Tensor(diffusion_covariance)\n",
    "diffusion_mean_prior = torch.ones(self.number_of_processes) * self.returns_mean_a\n",
    "self.diffusion_mean_prior = MultivariateNormal(diffusion_mean_prior, self.returns_mean_b * diffusion_covariance)\n",
    "expected_return = self.diffusion_mean_prior.sample()\n",
    "\n",
    "# are we missing time scale Delta t? Assumed == 1\n",
    "diffusive_log_returns = expected_return[None, :] + \\\n",
    "                        MultivariateNormal(torch.zeros(diffusion_covariance.shape[0]), diffusion_covariance).sample(\n",
    "                            sample_shape=(self.number_of_realizations,))\n",
    "\n",
    "log_returns = diffusive_log_returns + jumps_size * arrivals_indicator[:, None]\n",
    "\n",
    "data_loader = {\"arrivals_intensity\": arrivals_intensity.item(),\n",
    "               \"arrivals_indicator\": arrivals_indicator,\n",
    "               \"jump_mean\": jump_mean,\n",
    "               \"jump_covariance\": jump_covariance,\n",
    "               \"jump_size\": jumps_size,\n",
    "               \"diffusive_log_returns\": diffusive_log_returns,\n",
    "               \"log_returns\": log_returns,\n",
    "               \"diffusion_covariance\":diffusion_covariance,\n",
    "               \"expected_returns\": expected_return}"
   ]
  },
  {
   "cell_type": "code",
   "execution_count": null,
   "id": "71f8df21",
   "metadata": {},
   "outputs": [],
   "source": []
  }
 ],
 "metadata": {
  "kernelspec": {
   "display_name": "Python 3",
   "language": "python",
   "name": "python3"
  },
  "language_info": {
   "codemirror_mode": {
    "name": "ipython",
    "version": 3
   },
   "file_extension": ".py",
   "mimetype": "text/x-python",
   "name": "python",
   "nbconvert_exporter": "python",
   "pygments_lexer": "ipython3",
   "version": "3.8.12"
  }
 },
 "nbformat": 4,
 "nbformat_minor": 5
}

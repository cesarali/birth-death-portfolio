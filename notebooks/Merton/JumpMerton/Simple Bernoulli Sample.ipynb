{
 "cells": [
  {
   "cell_type": "code",
   "execution_count": 1,
   "id": "1997c418",
   "metadata": {},
   "outputs": [],
   "source": [
    "import torch\n",
    "import numpy as np\n",
    "from torch.distributions import Bernoulli, Normal\n",
    "from scipy.stats import invwishart as Invwishart\n",
    "from scipy.stats import wishart as Wishart\n",
    "\n",
    "import os\n",
    "os.environ[\"KMP_DUPLICATE_LIB_OK\"]=\"TRUE\""
   ]
  },
  {
   "cell_type": "code",
   "execution_count": 2,
   "id": "f34def4c",
   "metadata": {},
   "outputs": [],
   "source": [
    "nu = 1.\n",
    "p = 4\n",
    "nu = p + 1.\n",
    "Psi = np.random.rand(p, p)\n",
    "Psi = np.dot(Psi, Psi.transpose())"
   ]
  },
  {
   "cell_type": "code",
   "execution_count": 16,
   "id": "8b0d0982",
   "metadata": {},
   "outputs": [],
   "source": [
    "mu_J = np.asarray([8.])\n",
    "mu = np.asarray([1.])\n",
    "sigma = np.asarray([0.1])\n",
    "lambda_arrival = 0.5"
   ]
  },
  {
   "cell_type": "code",
   "execution_count": 17,
   "id": "93a838e8",
   "metadata": {},
   "outputs": [],
   "source": [
    "J = Bernoulli(lambda_arrival).sample(sample_shape=(100,)).squeeze().numpy()"
   ]
  },
  {
   "cell_type": "code",
   "execution_count": 19,
   "id": "0a075ad6",
   "metadata": {},
   "outputs": [],
   "source": [
    "MU = mu_J*J + mu"
   ]
  },
  {
   "cell_type": "code",
   "execution_count": 23,
   "id": "38d236ab",
   "metadata": {},
   "outputs": [],
   "source": [
    "Y = Normal(torch.Tensor(MU),torch.Tensor(sigma)).sample()"
   ]
  },
  {
   "cell_type": "code",
   "execution_count": 27,
   "id": "2e73db63",
   "metadata": {},
   "outputs": [],
   "source": [
    "Normal?"
   ]
  },
  {
   "cell_type": "code",
   "execution_count": 31,
   "id": "b76b9078",
   "metadata": {},
   "outputs": [],
   "source": [
    "p0 = Y - mu - mu_J\n",
    "p1 = -.5*((p0**2)/(sigma**2))\n",
    "p2 = np.exp(p1)\n",
    "p3 = lambda_arrival*p2"
   ]
  },
  {
   "cell_type": "code",
   "execution_count": 38,
   "id": "82bad05e",
   "metadata": {},
   "outputs": [
    {
     "data": {
      "text/plain": [
       "(tensor([9.1671, 8.9335, 9.0640, 8.9031, 9.0593, 8.9994, 9.0359, 9.1522, 9.1297,\n",
       "         9.0193, 8.8480, 8.9636, 8.9656, 8.9855, 9.0231, 9.1337, 9.0439, 9.0096,\n",
       "         8.9367, 8.9843, 8.9246, 9.0274, 9.1640, 9.0421, 9.0348, 9.0139, 9.0549,\n",
       "         8.8228, 9.0402, 9.1252, 8.9450, 9.0546, 8.9109, 9.0598, 8.9504, 9.0052,\n",
       "         8.9754, 8.8630, 9.0830, 9.0142, 8.9989, 8.9799, 8.9282, 9.0460, 9.0263,\n",
       "         9.1223, 8.8748, 9.1570]),\n",
       " tensor([1.0823, 1.1144, 1.0409, 1.0479, 0.9276, 1.0965, 1.0388, 1.1450, 1.0026,\n",
       "         1.1715, 0.9894, 1.1803, 1.1133, 1.3804, 0.9905, 1.1046, 1.1515, 1.0181,\n",
       "         0.8916, 1.0553, 1.2295, 1.0521, 1.0045, 0.9423, 0.8878, 1.0093, 0.8695,\n",
       "         0.8888, 1.0769, 1.0012, 0.9725, 1.0276, 1.0133, 1.0170, 0.9407, 0.9718,\n",
       "         1.0833, 0.9014, 1.0576, 1.0572, 1.0999, 1.1032, 0.9264, 0.8609, 1.0213,\n",
       "         1.2356, 1.1445, 0.9338, 0.9204, 1.1003, 1.0574, 0.9863]))"
      ]
     },
     "execution_count": 38,
     "metadata": {},
     "output_type": "execute_result"
    }
   ],
   "source": [
    "Y[np.where(J == 1)[0]],Y[np.where(J == 0)[0]],"
   ]
  },
  {
   "cell_type": "code",
   "execution_count": 35,
   "id": "6bfdf8fe",
   "metadata": {},
   "outputs": [
    {
     "name": "stdout",
     "output_type": "stream",
     "text": [
      "tensor([0.2474, 0.8014, 0.8150, 0.6254, 0.8387, 1.0000, 0.9375, 0.3141, 0.4310,\n",
      "        0.9816, 0.3150, 0.9358, 0.9424, 0.9895, 0.9737, 0.4089, 0.9080, 0.9954,\n",
      "        0.8185, 0.9877, 0.7523, 0.9633, 0.2608, 0.9151, 0.9413, 0.9904, 0.8601,\n",
      "        0.2082, 0.9223, 0.4569, 0.8599, 0.8617, 0.6723, 0.8365, 0.8842, 0.9986,\n",
      "        0.9703, 0.3913, 0.7087, 0.9899, 0.9999, 0.9800, 0.7730, 0.8995, 0.9659,\n",
      "        0.4731, 0.4566, 0.2915], dtype=torch.float64) tensor([0., 0., 0., 0., 0., 0., 0., 0., 0., 0., 0., 0., 0., 0., 0., 0., 0., 0., 0., 0., 0., 0., 0., 0.,\n",
      "        0., 0., 0., 0., 0., 0., 0., 0., 0., 0., 0., 0., 0., 0., 0., 0., 0., 0., 0., 0., 0., 0., 0., 0.,\n",
      "        0., 0., 0., 0.], dtype=torch.float64)\n"
     ]
    }
   ],
   "source": [
    "print(p2[np.where(J == 1)[0]],p2[np.where(J == 0)[0]])"
   ]
  },
  {
   "cell_type": "code",
   "execution_count": 42,
   "id": "bcb8e041",
   "metadata": {},
   "outputs": [
    {
     "data": {
      "text/plain": [
       "tensor(13., dtype=torch.float64)"
      ]
     },
     "execution_count": 42,
     "metadata": {},
     "output_type": "execute_result"
    }
   ],
   "source": [
    "Bernoulli(p3).sample().sum()"
   ]
  },
  {
   "cell_type": "code",
   "execution_count": 47,
   "id": "ca9150d2",
   "metadata": {},
   "outputs": [
    {
     "data": {
      "text/plain": [
       "48.0"
      ]
     },
     "execution_count": 47,
     "metadata": {},
     "output_type": "execute_result"
    }
   ],
   "source": [
    "J.sum()"
   ]
  }
 ],
 "metadata": {
  "kernelspec": {
   "display_name": "Python 3",
   "language": "python",
   "name": "python3"
  },
  "language_info": {
   "codemirror_mode": {
    "name": "ipython",
    "version": 3
   },
   "file_extension": ".py",
   "mimetype": "text/x-python",
   "name": "python",
   "nbconvert_exporter": "python",
   "pygments_lexer": "ipython3",
   "version": "3.8.12"
  }
 },
 "nbformat": 4,
 "nbformat_minor": 5
}

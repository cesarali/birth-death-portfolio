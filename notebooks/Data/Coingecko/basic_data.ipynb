{
 "cells": [
  {
   "cell_type": "code",
   "execution_count": 64,
   "metadata": {},
   "outputs": [],
   "source": [
    "import os\n",
    "import sys\n",
    "import pandas\n",
    "import numpy as np\n",
    "import torch\n",
    "import requests\n",
    "from pprint import pprint"
   ]
  },
  {
   "cell_type": "code",
   "execution_count": 55,
   "metadata": {},
   "outputs": [
    {
     "data": {
      "text/plain": [
       "{'a': 3}"
      ]
     },
     "execution_count": 55,
     "metadata": {},
     "output_type": "execute_result"
    }
   ],
   "source": [
    "A = {}\n",
    "A.update({\"a\":3})\n",
    "A"
   ]
  },
  {
   "cell_type": "code",
   "execution_count": 56,
   "metadata": {},
   "outputs": [],
   "source": [
    "def get_coin_data(coin_id=\"archangel-token\",contract=\"0x36e43065e977bc72cb86dbd8405fae7057cdc7fd\"):\n",
    "    # URL of the CoinGecko API for the Archangel Token contract details\n",
    "    url = f\"https://api.coingecko.com/api/v3/coins/{coin_id}/contract/{contract}\"\n",
    "\n",
    "    # Sending a GET request to the URL\n",
    "    response = requests.get(url)\n",
    "\n",
    "    # Checking if the request was successful\n",
    "    if response.status_code == 200:\n",
    "        # Convert the JSON response into a Python dictionary\n",
    "        data = response.json()\n",
    "        data.update({\"response\":True,\"gecko_id\":coin_id,\"contract\":contract})\n",
    "    else:\n",
    "        data = {\"response\":False,\"gecko_id\":coin_id,\"contract\":contract}\n",
    "\n",
    "    return data"
   ]
  },
  {
   "cell_type": "code",
   "execution_count": 95,
   "metadata": {},
   "outputs": [],
   "source": [
    "from dataclasses import dataclass, fields,asdict\n",
    "from typing import Optional\n",
    "\n",
    "@dataclass\n",
    "class PriceChangeData:\n",
    "    #SENTIMENT\n",
    "    sentiment_votes_up_percentage:Optional[int] = None\n",
    "    watchlist_portfolio_users:Optional[int] = None\n",
    "    market_cap_rank:Optional[int] = None\n",
    "    #MARKET VALUES\n",
    "    price_change_percentage_24h: Optional[float] = None\n",
    "    price_change_percentage_7d: Optional[float] = None\n",
    "    price_change_percentage_14d: Optional[float] = None\n",
    "    price_change_percentage_30d: Optional[float] = None\n",
    "    price_change_percentage_60d: Optional[float] = None\n",
    "    price_change_percentage_200d: Optional[float] = None\n",
    "    price_change_percentage_1y: Optional[float] = None\n",
    "    price_change_percentage_1h_in_currency: Optional[float] = None\n",
    "    price_change_percentage_24h_in_currency: Optional[float] = None\n",
    "    price_change_percentage_7d_in_currency: Optional[float] = None\n",
    "    price_change_percentage_14d_in_currency: Optional[float] = None\n",
    "    price_change_percentage_30d_in_currency: Optional[float] = None\n",
    "    price_change_percentage_60d_in_currency: Optional[float] = None\n",
    "    price_change_percentage_200d_in_currency: Optional[float] = None\n",
    "    price_change_percentage_1y_in_currency: Optional[float] = None\n",
    "    current_price: Optional[float] = None\n",
    "    total_value_locked: Optional[float] = None\n",
    "    mcap_to_tvl_ratio: Optional[float] = None\n",
    "    market_cap: Optional[float] = None\n",
    "    market_cap_rank: Optional[int] = None\n",
    "    uniswap:Optional[bool] = False\n",
    "\n",
    "def obtain_tickers(data_tickers):\n",
    "    bid_ask_spread_percentage = None\n",
    "    uniswap = False\n",
    "    if isinstance(data_tickers,list):\n",
    "        for ticker in data_tickers:\n",
    "            if isinstance(ticker,dict):\n",
    "                if \"market\" in ticker.keys():\n",
    "                    if 'uniswap' in ticker[\"market\"][\"identifier\"]:\n",
    "                        uniswap = True\n",
    "                bid_ask_spread_percentage = ticker['bid_ask_spread_percentage']\n",
    "\n",
    "    return {\"uniswap\":uniswap,\n",
    "            \"bid_ask_spread_percentage\":bid_ask_spread_percentage}\n",
    "                    \n",
    "def prepare_dict_for_dataclasss(data):\n",
    "    data_dict = {}\n",
    "    if \"market_data\"in data.keys():\n",
    "        data_dict.update(data[\"market_data\"])\n",
    "    if \"tickers\" in data.keys():\n",
    "        tickers_data = obtain_tickers(data[\"tickers\"])\n",
    "        data_dict.update(tickers_data)\n",
    "    return data_dict\n",
    "\n",
    "def filter_dict_for_dataclass(input_dict, dataclass_type,currency=\"usd\"):\n",
    "    dataclass_fields = {f.name for f in fields(dataclass_type)}\n",
    "    filtered_dict = {}\n",
    "    for k, v in input_dict.items():\n",
    "        if k in dataclass_fields:\n",
    "            if not isinstance(v,dict):\n",
    "                filtered_dict[k] = v\n",
    "            else:\n",
    "                if currency in v.keys():\n",
    "                    filtered_dict[k] = v[currency] \n",
    "    return filtered_dict"
   ]
  },
  {
   "cell_type": "code",
   "execution_count": 96,
   "metadata": {},
   "outputs": [],
   "source": [
    "import bdp"
   ]
  },
  {
   "cell_type": "code",
   "execution_count": 94,
   "metadata": {},
   "outputs": [
    {
     "name": "stdout",
     "output_type": "stream",
     "text": [
      "{'current_price': 1.75e-12,\n",
      " 'market_cap': 74056,\n",
      " 'market_cap_rank': 3780,\n",
      " 'mcap_to_tvl_ratio': None,\n",
      " 'price_change_percentage_14d': 25.61798,\n",
      " 'price_change_percentage_14d_in_currency': 25.61798,\n",
      " 'price_change_percentage_1h_in_currency': None,\n",
      " 'price_change_percentage_1y': -84.1055,\n",
      " 'price_change_percentage_1y_in_currency': -84.1055,\n",
      " 'price_change_percentage_200d': -87.36323,\n",
      " 'price_change_percentage_200d_in_currency': -87.36323,\n",
      " 'price_change_percentage_24h': None,\n",
      " 'price_change_percentage_24h_in_currency': None,\n",
      " 'price_change_percentage_30d': 58.0193,\n",
      " 'price_change_percentage_30d_in_currency': 58.0193,\n",
      " 'price_change_percentage_60d': 73.08124,\n",
      " 'price_change_percentage_60d_in_currency': 73.08124,\n",
      " 'price_change_percentage_7d': 8.71889,\n",
      " 'price_change_percentage_7d_in_currency': 8.71889,\n",
      " 'sentiment_votes_up_percentage': None,\n",
      " 'total_value_locked': None,\n",
      " 'uniswap': True,\n",
      " 'watchlist_portfolio_users': None}\n"
     ]
    }
   ],
   "source": [
    "data_dict = prepare_dict_for_dataclasss(data)\n",
    "filter_data_dict = filter_dict_for_dataclass(data_dict, PriceChangeData)\n",
    "\n",
    "pprint(asdict(PriceChangeData(**filter_data_dict)))"
   ]
  },
  {
   "cell_type": "code",
   "execution_count": 69,
   "metadata": {},
   "outputs": [],
   "source": [
    "\n",
    "\n"
   ]
  },
  {
   "cell_type": "code",
   "execution_count": 53,
   "metadata": {},
   "outputs": [],
   "source": [
    "data = get_coin_data(coin_id=\"archangel-token\",contract=\"0x36e43065e977bc72cb86dbd8405fae7057cdc7fd\")"
   ]
  },
  {
   "cell_type": "code",
   "execution_count": 49,
   "metadata": {},
   "outputs": [],
   "source": [
    "price_percentage_keys = ['price_change_percentage_24h',\n",
    " 'price_change_percentage_7d',\n",
    " 'price_change_percentage_14d',\n",
    " 'price_change_percentage_30d',\n",
    " 'price_change_percentage_60d',\n",
    " 'price_change_percentage_200d',\n",
    " 'price_change_percentage_1y',\n",
    " 'price_change_percentage_1h_in_currency',\n",
    " 'price_change_percentage_24h_in_currency',\n",
    " 'price_change_percentage_7d_in_currency',\n",
    " 'price_change_percentage_14d_in_currency',\n",
    " 'price_change_percentage_30d_in_currency',\n",
    " 'price_change_percentage_60d_in_currency',\n",
    " 'price_change_percentage_200d_in_currency',\n",
    " 'price_change_percentage_1y_in_currency']"
   ]
  },
  {
   "cell_type": "code",
   "execution_count": 88,
   "metadata": {},
   "outputs": [
    {
     "data": {
      "text/plain": [
       "'uniswap_v2'"
      ]
     },
     "execution_count": 88,
     "metadata": {},
     "output_type": "execute_result"
    }
   ],
   "source": [
    "data[\"market_data\"]['price_change_percentage_14d_in_currency'][\"usd\"]\n",
    "data[\"market_data\"]['current_price'][\"usd\"]\n",
    "data[\"market_data\"]['total_value_locked']\n",
    "data[\"market_data\"]['mcap_to_tvl_ratio']\n",
    "data[\"market_data\"]['market_cap'][\"usd\"]\n",
    "data[\"market_data\"]['market_cap_rank']\n",
    "\n",
    "data[\"sentiment_votes_up_percentage\"]\n",
    "data[\"watchlist_portfolio_users\"]\n",
    "data[\"market_cap_rank\"]\n",
    "\n",
    "data[\"tickers\"][0][\"market\"][\"identifier\"]"
   ]
  },
  {
   "cell_type": "code",
   "execution_count": 90,
   "metadata": {},
   "outputs": [
    {
     "data": {
      "text/plain": [
       "0.617689"
      ]
     },
     "execution_count": 90,
     "metadata": {},
     "output_type": "execute_result"
    }
   ],
   "source": [
    "data[\"tickers\"][0]['bid_ask_spread_percentage']"
   ]
  },
  {
   "cell_type": "code",
   "execution_count": 41,
   "metadata": {},
   "outputs": [
    {
     "data": {
      "text/plain": [
       "3781"
      ]
     },
     "execution_count": 41,
     "metadata": {},
     "output_type": "execute_result"
    }
   ],
   "source": []
  },
  {
   "cell_type": "code",
   "execution_count": 42,
   "metadata": {},
   "outputs": [
    {
     "data": {
      "text/plain": [
       "'uniswap_v2'"
      ]
     },
     "execution_count": 42,
     "metadata": {},
     "output_type": "execute_result"
    }
   ],
   "source": []
  },
  {
   "cell_type": "code",
   "execution_count": 43,
   "metadata": {},
   "outputs": [
    {
     "data": {
      "text/plain": [
       "0.617689"
      ]
     },
     "execution_count": 43,
     "metadata": {},
     "output_type": "execute_result"
    }
   ],
   "source": []
  },
  {
   "cell_type": "code",
   "execution_count": 44,
   "metadata": {},
   "outputs": [
    {
     "data": {
      "text/plain": [
       "dict_keys(['base', 'target', 'market', 'last', 'volume', 'converted_last', 'converted_volume', 'trust_score', 'bid_ask_spread_percentage', 'timestamp', 'last_traded_at', 'last_fetch_at', 'is_anomaly', 'is_stale', 'trade_url', 'token_info_url', 'coin_id', 'target_coin_id'])"
      ]
     },
     "execution_count": 44,
     "metadata": {},
     "output_type": "execute_result"
    }
   ],
   "source": [
    "data[\"tickers\"][0].keys()"
   ]
  },
  {
   "cell_type": "code",
   "execution_count": 45,
   "metadata": {},
   "outputs": [
    {
     "data": {
      "text/plain": [
       "dict_keys(['current_price', 'total_value_locked', 'mcap_to_tvl_ratio', 'fdv_to_tvl_ratio', 'roi', 'ath', 'ath_change_percentage', 'ath_date', 'atl', 'atl_change_percentage', 'atl_date', 'market_cap', 'market_cap_rank', 'fully_diluted_valuation', 'market_cap_fdv_ratio', 'total_volume', 'high_24h', 'low_24h', 'price_change_24h', 'price_change_percentage_24h', 'price_change_percentage_7d', 'price_change_percentage_14d', 'price_change_percentage_30d', 'price_change_percentage_60d', 'price_change_percentage_200d', 'price_change_percentage_1y', 'market_cap_change_24h', 'market_cap_change_percentage_24h', 'price_change_24h_in_currency', 'price_change_percentage_1h_in_currency', 'price_change_percentage_24h_in_currency', 'price_change_percentage_7d_in_currency', 'price_change_percentage_14d_in_currency', 'price_change_percentage_30d_in_currency', 'price_change_percentage_60d_in_currency', 'price_change_percentage_200d_in_currency', 'price_change_percentage_1y_in_currency', 'market_cap_change_24h_in_currency', 'market_cap_change_percentage_24h_in_currency', 'total_supply', 'max_supply', 'circulating_supply', 'last_updated'])"
      ]
     },
     "execution_count": 45,
     "metadata": {},
     "output_type": "execute_result"
    }
   ],
   "source": [
    "data[\"market_data\"].keys()"
   ]
  },
  {
   "cell_type": "code",
   "execution_count": 46,
   "metadata": {},
   "outputs": [
    {
     "name": "stdout",
     "output_type": "stream",
     "text": [
      "1.75e-12 None None 74056 3781\n"
     ]
    }
   ],
   "source": []
  },
  {
   "cell_type": "code",
   "execution_count": 28,
   "metadata": {},
   "outputs": [],
   "source": []
  },
  {
   "cell_type": "code",
   "execution_count": 29,
   "metadata": {},
   "outputs": [
    {
     "data": {
      "text/plain": [
       "3398"
      ]
     },
     "execution_count": 29,
     "metadata": {},
     "output_type": "execute_result"
    }
   ],
   "source": []
  },
  {
   "cell_type": "code",
   "execution_count": 30,
   "metadata": {},
   "outputs": [
    {
     "data": {
      "text/plain": [
       "3781"
      ]
     },
     "execution_count": 30,
     "metadata": {},
     "output_type": "execute_result"
    }
   ],
   "source": []
  },
  {
   "cell_type": "code",
   "execution_count": null,
   "metadata": {},
   "outputs": [],
   "source": []
  }
 ],
 "metadata": {
  "kernelspec": {
   "display_name": "neural_spectral_sde",
   "language": "python",
   "name": "python3"
  },
  "language_info": {
   "codemirror_mode": {
    "name": "ipython",
    "version": 3
   },
   "file_extension": ".py",
   "mimetype": "text/x-python",
   "name": "python",
   "nbconvert_exporter": "python",
   "pygments_lexer": "ipython3",
   "version": "3.10.9"
  }
 },
 "nbformat": 4,
 "nbformat_minor": 2
}

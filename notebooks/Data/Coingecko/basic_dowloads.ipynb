{
 "cells": [
  {
   "cell_type": "code",
   "execution_count": 1,
   "metadata": {},
   "outputs": [],
   "source": [
    "# MY KEY \n",
    "import os\n",
    "import sys\n",
    "import json\n",
    "import random\n",
    "import pandas as pd\n",
    "import requests\n",
    "from pathlib import Path\n",
    "import pickle\n",
    "from matplotlib import pyplot as plt\n",
    "from typing import List\n",
    "\n",
    "from bdp.data.crypto.coingecko.downloads import (\n",
    "    get_all_coins_and_contracts_data,\n",
    "    get_all_coins_and_markets,\n",
    "    get_request,\n",
    "    get_tor_request,\n",
    "    get_coin_data,\n",
    "    get_coin_time_series_raw,\n",
    "    get_df_timeserieses,\n",
    "    download_all_uniswap_coins_metadata,\n",
    "    metadataLists\n",
    ")\n",
    "\n",
    "from bdp.data.crypto.coingecko.utils import (\n",
    "    get_current_and_past_timestamps,\n",
    "    parse_raw_prices_to_dataframe\n",
    ")\n",
    "\n",
    "from bdp.data.crypto.coingecko.coingecko_dataclasses import (\n",
    "    PriceChangeData,\n",
    "    prepare_dict_for_dataclasss,\n",
    "    filter_dict_for_dataclass\n",
    ")\n",
    "\n",
    "from bdp.data.crypto.coingecko.metadata_postprocessing import price_change_data_to_dataframe"
   ]
  },
  {
   "cell_type": "code",
   "execution_count": 2,
   "metadata": {},
   "outputs": [],
   "source": [
    "metadata_lists:metadataLists = metadataLists()\n",
    "metadata_lists.num_total_downloads\n",
    "metadata_pd = price_change_data_to_dataframe(metadata_lists.uniswap_coins)"
   ]
  },
  {
   "cell_type": "code",
   "execution_count": 3,
   "metadata": {},
   "outputs": [
    {
     "data": {
      "text/plain": [
       "821"
      ]
     },
     "execution_count": 3,
     "metadata": {},
     "output_type": "execute_result"
    }
   ],
   "source": [
    "metadata_lists.num_uniswap_ids_ready"
   ]
  },
  {
   "cell_type": "code",
   "execution_count": 1,
   "metadata": {},
   "outputs": [],
   "source": [
    "a = {\"a\":3,\"b\":1}"
   ]
  },
  {
   "cell_type": "code",
   "execution_count": 3,
   "metadata": {},
   "outputs": [
    {
     "name": "stdout",
     "output_type": "stream",
     "text": [
      "('a', 3)\n",
      "('b', 1)\n"
     ]
    }
   ],
   "source": [
    "for k,v in a.items():\n",
    "    print((k,v))"
   ]
  },
  {
   "cell_type": "code",
   "execution_count": null,
   "metadata": {},
   "outputs": [],
   "source": [
    "from bdp.data.crypto.coingecko.downloads import get_coin_time_series_raw"
   ]
  },
  {
   "cell_type": "code",
   "execution_count": 4,
   "metadata": {},
   "outputs": [],
   "source": [
    "raw_data = get_coin_time_series_raw(\"shiba-inu\")"
   ]
  },
  {
   "cell_type": "code",
   "execution_count": 24,
   "metadata": {},
   "outputs": [
    {
     "name": "stdout",
     "output_type": "stream",
     "text": [
      "                          prices   market_caps  total_volumes\n",
      "2023-12-14 20:01:08.751  0.00001  5.918816e+09   2.622263e+08\n",
      "2023-12-14 21:00:44.025  0.00001  5.913041e+09   2.527040e+08\n",
      "2023-12-14 22:00:31.328  0.00001  5.964829e+09   2.526751e+08\n",
      "2023-12-14 23:01:12.325  0.00001  5.953687e+09   2.481550e+08\n",
      "2023-12-15 00:00:38.592  0.00001  5.930586e+09   2.484255e+08\n"
     ]
    }
   ],
   "source": [
    "dfs = []\n",
    "for key in raw_data.keys():\n",
    "    # Extract timestamps and values\n",
    "    timestamps, values = zip(*raw_data[key])\n",
    "    \n",
    "    # Convert timestamps from milliseconds to datetime\n",
    "    timestamps = pd.to_datetime(timestamps, unit='ms')\n",
    "    \n",
    "    # Create a DataFrame for the current series\n",
    "    df = pd.DataFrame(data=values, index=timestamps, columns=[key])\n",
    "    dfs.append(df)\n",
    "\n",
    "# Combine all DataFrames into a single DataFrame, aligning by index (timestamp)\n",
    "final_df = pd.concat(dfs, axis=1)\n",
    "\n",
    "print(final_df.head())"
   ]
  },
  {
   "cell_type": "code",
   "execution_count": 25,
   "metadata": {},
   "outputs": [],
   "source": [
    "# Save the DataFrame to a CSV file\n",
    "final_df.to_csv('time_series_data.csv', index=True)  # Make sure to keep the index since it's your datetime\n"
   ]
  },
  {
   "cell_type": "code",
   "execution_count": 26,
   "metadata": {},
   "outputs": [],
   "source": [
    "# Read the DataFrame back from the CSV file\n",
    "read_df = pd.read_csv('time_series_data.csv', index_col=0)  # Use the first column as the index\n",
    "\n",
    "# Convert the index back to datetime format since it's read as a string by default\n",
    "read_df.index = pd.to_datetime(read_df.index)"
   ]
  },
  {
   "cell_type": "code",
   "execution_count": 29,
   "metadata": {},
   "outputs": [
    {
     "data": {
      "text/plain": [
       "DatetimeIndex(['2023-12-14 20:01:08.751000', '2023-12-14 21:00:44.025000',\n",
       "               '2023-12-14 22:00:31.328000', '2023-12-14 23:01:12.325000',\n",
       "               '2023-12-15 00:00:38.592000', '2023-12-15 01:01:00.334000',\n",
       "                      '2023-12-15 02:00:24', '2023-12-15 03:00:26.255000',\n",
       "               '2023-12-15 04:00:36.287000', '2023-12-15 05:00:50.144000',\n",
       "               ...\n",
       "               '2024-03-13 11:02:41.745000', '2024-03-13 12:09:38.587000',\n",
       "               '2024-03-13 13:04:41.202000', '2024-03-13 14:02:46.580000',\n",
       "               '2024-03-13 15:02:41.616000', '2024-03-13 16:04:26.221000',\n",
       "               '2024-03-13 17:04:59.732000', '2024-03-13 18:00:45.086000',\n",
       "                      '2024-03-13 19:03:51', '2024-03-13 19:03:59.756000'],\n",
       "              dtype='datetime64[ns]', length=2160, freq=None)"
      ]
     },
     "execution_count": 29,
     "metadata": {},
     "output_type": "execute_result"
    }
   ],
   "source": [
    "read_df.index"
   ]
  },
  {
   "cell_type": "code",
   "execution_count": 6,
   "metadata": {},
   "outputs": [
    {
     "name": "stdout",
     "output_type": "stream",
     "text": [
      "arcona\n",
      "fideum\n",
      "icy\n",
      "masq\n",
      "decentramind\n",
      "dogebonk-eth\n",
      "dogeai\n",
      "musd\n",
      "signata\n",
      "wozx\n",
      "alpha-bot-calls\n",
      "wrapped-fio\n",
      "harambe\n",
      "medifakt\n",
      "corgiai\n",
      "interns\n",
      "ethernity-chain\n",
      "litentry\n",
      "staked-ether\n",
      "shiba-inu\n",
      "matic-network\n",
      "wrapped-bitcoin\n",
      "uniswap\n",
      "leo-token\n",
      "immutable-x\n",
      "dai\n",
      "render-token\n",
      "injective-protocol\n",
      "the-graph\n",
      "okb\n",
      "pepe\n",
      "Rate limit reached. Sleeping for 20.92 seconds.\n",
      "lido-dao\n",
      "fetch-ai\n",
      "gala\n",
      "floki\n",
      "maker\n",
      "Rate limit reached. Sleeping for 1.28 seconds.\n",
      "rocket-pool-eth\n",
      "beam-2\n",
      "quant-network\n",
      "the-sandbox\n",
      "Rate limit reached. Sleeping for 1.39 seconds.\n",
      "ribbon-finance\n",
      "havven\n",
      "apecoin\n",
      "singularitynet\n",
      "worldcoin-wld\n",
      "decentraland\n",
      "axelar\n",
      "dydx\n",
      "frax-ether\n",
      "Rate limit reached. Sleeping for 1.42 seconds.\n",
      "gnosis\n",
      "woo-network\n",
      "blur\n",
      "jasmycoin\n",
      "curve-dao-token\n",
      "ethena-usde\n",
      "sweth\n",
      "illuvium\n",
      "nexo\n",
      "holotoken\n",
      "aioz-network\n",
      "ondo-finance\n",
      "Rate limit reached. Sleeping for 20.54 seconds.\n",
      "ethereum-name-service\n",
      "coinbase-wrapped-staked-eth\n",
      "Rate limit reached. Sleeping for 1.12 seconds.\n",
      "rocket-pool\n",
      "frax-share\n",
      "ocean-protocol\n",
      "amp-token\n",
      "Rate limit reached. Sleeping for 1.03 seconds.\n",
      "metis-token\n",
      "echelon-prime\n",
      "altlayer\n",
      "frax\n",
      "golem\n",
      "livepeer\n",
      "compound-governance-token\n",
      "Rate limit reached. Sleeping for 1.09 seconds.\n",
      "superfarm\n",
      "arkham\n",
      "space-id\n",
      "dexe\n",
      "basic-attention-token\n",
      "ankr\n",
      "memecoin-2\n",
      "Rate limit reached. Sleeping for 1.27 seconds.\n",
      "paal-ai\n",
      "Obtained 141 timesrieses Missing 0\n"
     ]
    }
   ],
   "source": [
    "uniswap_time_series,missing_time_series = get_df_timeserieses(metadata_lists)"
   ]
  }
 ],
 "metadata": {
  "kernelspec": {
   "display_name": "neural_spectral_sde",
   "language": "python",
   "name": "python3"
  },
  "language_info": {
   "codemirror_mode": {
    "name": "ipython",
    "version": 3
   },
   "file_extension": ".py",
   "mimetype": "text/x-python",
   "name": "python",
   "nbconvert_exporter": "python",
   "pygments_lexer": "ipython3",
   "version": "3.10.9"
  }
 },
 "nbformat": 4,
 "nbformat_minor": 2
}

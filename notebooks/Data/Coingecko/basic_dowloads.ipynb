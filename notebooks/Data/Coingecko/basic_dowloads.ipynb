{
 "cells": [
  {
   "cell_type": "code",
   "execution_count": 1,
   "metadata": {},
   "outputs": [],
   "source": [
    "# MY KEY \n",
    "import os\n",
    "import sys\n",
    "import json\n",
    "import random\n",
    "import pandas as pd\n",
    "import requests\n",
    "from pathlib import Path\n",
    "import pickle\n",
    "from matplotlib import pyplot as plt\n",
    "from typing import List\n",
    "\n",
    "from bdp.data.crypto.coingecko.downloads import (\n",
    "    get_all_coins_and_contracts_data,\n",
    "    get_all_coins_and_markets,\n",
    "    get_request,\n",
    "    get_tor_request,\n",
    "    get_coin_data,\n",
    "    get_coin_time_series_raw,\n",
    "    get_df_timeserieses,\n",
    "    download_all_uniswap_coins_metadata,\n",
    "    metadataLists\n",
    ")\n",
    "\n",
    "from bdp.data.crypto.coingecko.utils import (\n",
    "    get_current_and_past_timestamps,\n",
    "    parse_raw_prices_to_dataframe\n",
    ")\n",
    "\n",
    "from bdp.data.crypto.coingecko.coingecko_dataclasses import (\n",
    "    PriceChangeData,\n",
    "    prepare_dict_for_dataclasss,\n",
    "    filter_dict_for_dataclass\n",
    ")\n",
    "\n",
    "from bdp.data.crypto.coingecko.metadata_postprocessing import price_change_data_to_dataframe"
   ]
  },
  {
   "cell_type": "code",
   "execution_count": 2,
   "metadata": {},
   "outputs": [],
   "source": [
    "metadata_lists:metadataLists = metadataLists()\n",
    "metadata_lists.num_total_downloads\n",
    "metadata_pd = price_change_data_to_dataframe(metadata_lists.uniswap_coins)"
   ]
  },
  {
   "cell_type": "code",
   "execution_count": 3,
   "metadata": {},
   "outputs": [
    {
     "data": {
      "text/plain": [
       "821"
      ]
     },
     "execution_count": 3,
     "metadata": {},
     "output_type": "execute_result"
    }
   ],
   "source": [
    "metadata_lists.num_uniswap_ids_ready"
   ]
  }
 ],
 "metadata": {
  "kernelspec": {
   "display_name": "neural_spectral_sde",
   "language": "python",
   "name": "python3"
  },
  "language_info": {
   "codemirror_mode": {
    "name": "ipython",
    "version": 3
   },
   "file_extension": ".py",
   "mimetype": "text/x-python",
   "name": "python",
   "nbconvert_exporter": "python",
   "pygments_lexer": "ipython3",
   "version": "3.10.9"
  }
 },
 "nbformat": 4,
 "nbformat_minor": 2
}

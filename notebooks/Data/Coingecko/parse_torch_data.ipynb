{
 "cells": [
  {
   "cell_type": "code",
   "execution_count": 1,
   "metadata": {},
   "outputs": [],
   "source": [
    "import os\n",
    "import sys\n",
    "import torch\n",
    "from pathlib import Path\n",
    "import yaml\n",
    "\n",
    "from bdp.models.crypto.prediction.prediction_experiment import  SummaryPredictionExperiment\n",
    "\n",
    "\n",
    "from bdp.data.crypto.coingecko.dataloaders import (\n",
    "    TimeSeriesTorchForTraining,\n",
    "    read_data\n",
    ")\n",
    "\n",
    "from bdp.utils.config_file_operations import dynamic_load_config_from_yaml\n",
    "from bdp.data.crypto.coingecko.dataloaders import read_data\n",
    "\n",
    "from bdp import config_path"
   ]
  },
  {
   "cell_type": "code",
   "execution_count": 2,
   "metadata": {},
   "outputs": [
    {
     "data": {
      "text/plain": [
       "'C:\\\\Users\\\\cesar\\\\Desktop\\\\Projects\\\\BirthDeathPortafolioChoice\\\\Codes\\\\birth-death-portfolio\\\\data\\\\raw\\\\uniswap\\\\2024-03-19\\\\'"
      ]
     },
     "execution_count": 2,
     "metadata": {},
     "output_type": "execute_result"
    }
   ],
   "source": [
    "config_file = config_path / \"crypto\" / \"prediction\" / \"basic_summary_prediction_config.yaml\"\n",
    "summary_config = dynamic_load_config_from_yaml(config_file)\n",
    "summary_config.DataLoaderParameters.data_dir"
   ]
  },
  {
   "cell_type": "code",
   "execution_count": 3,
   "metadata": {},
   "outputs": [],
   "source": [
    "torch_data = read_data(summary_config.DataLoaderParameters.data_dir)\n"
   ]
  },
  {
   "cell_type": "code",
   "execution_count": 4,
   "metadata": {},
   "outputs": [],
   "source": [
    "input_where_nan = torch.isnan(torch_data.past_padded_sequences[:,:,:3])\n",
    "input_where_inf = torch.isinf(torch_data.past_padded_sequences[:,:,:3])\n",
    "input_where_number = torch.logical_and(~input_where_nan , ~input_where_inf)"
   ]
  },
  {
   "cell_type": "code",
   "execution_count": 5,
   "metadata": {},
   "outputs": [
    {
     "data": {
      "text/plain": [
       "tensor(1., dtype=torch.float64)"
      ]
     },
     "execution_count": 5,
     "metadata": {},
     "output_type": "execute_result"
    }
   ],
   "source": [
    "torch_data.past_padded_sequences[:,:,:3][input_where_number].max()"
   ]
  },
  {
   "cell_type": "code",
   "execution_count": 9,
   "metadata": {},
   "outputs": [
    {
     "data": {
      "text/plain": [
       "tensor(0)"
      ]
     },
     "execution_count": 9,
     "metadata": {},
     "output_type": "execute_result"
    }
   ],
   "source": [
    "torch.isnan(torch_data.past_padded_sequences).sum()"
   ]
  },
  {
   "cell_type": "code",
   "execution_count": 13,
   "metadata": {},
   "outputs": [],
   "source": [
    "where_nan = torch.isnan(torch_data.prediction_summary)\n",
    "where_inf = torch.isinf(torch_data.prediction_summary)\n",
    "where_number = torch.logical_and(~where_nan , ~where_inf)"
   ]
  },
  {
   "cell_type": "code",
   "execution_count": null,
   "metadata": {},
   "outputs": [],
   "source": []
  },
  {
   "cell_type": "code",
   "execution_count": null,
   "metadata": {},
   "outputs": [],
   "source": []
  },
  {
   "cell_type": "code",
   "execution_count": null,
   "metadata": {},
   "outputs": [],
   "source": []
  }
 ],
 "metadata": {
  "kernelspec": {
   "display_name": "neural_spectral_sde",
   "language": "python",
   "name": "python3"
  },
  "language_info": {
   "codemirror_mode": {
    "name": "ipython",
    "version": 3
   },
   "file_extension": ".py",
   "mimetype": "text/x-python",
   "name": "python",
   "nbconvert_exporter": "python",
   "pygments_lexer": "ipython3",
   "version": "3.10.9"
  }
 },
 "nbformat": 4,
 "nbformat_minor": 2
}

{
 "cells": [
  {
   "cell_type": "code",
   "execution_count": 1,
   "metadata": {},
   "outputs": [],
   "source": [
    "import os\n",
    "import sys\n",
    "import json\n",
    "import pickle\n",
    "import requests\n",
    "import random\n",
    "import pandas as pd\n",
    "import numpy as np\n",
    "from pathlib import Path\n",
    "from matplotlib import pyplot as plt\n",
    "from pprint import pprint\n",
    "from datetime import datetime, timedelta\n",
    "import time\n",
    "from tqdm import tqdm\n",
    "\n",
    "from bdp.data.crypto.coingecko.downloads import (\n",
    "    get_df_timeserieses,\n",
    "    metadataLists\n",
    ")\n",
    "\n",
    "from bdp.data.crypto.coingecko.utils import (\n",
    "    get_current_and_past_timestamps,\n",
    ")\n",
    "\n",
    "from bdp.data.crypto.coingecko.coingecko_dataclasses import (\n",
    "    PriceChangeData,\n",
    "    prepare_dict_for_dataclasss,\n",
    "    filter_dict_for_dataclass\n",
    ")\n",
    "\n",
    "from bdp.data.crypto.coingecko.metadata_postprocessing import price_change_data_to_dataframe\n",
    "from bdp.data.crypto.coingecko.timeseries_postprocessing import preprocess_dataframe\n",
    "\n",
    "from matplotlib import pyplot as plt"
   ]
  },
  {
   "cell_type": "code",
   "execution_count": 2,
   "metadata": {},
   "outputs": [
    {
     "name": "stderr",
     "output_type": "stream",
     "text": [
      "100%|██████████| 1042/1042 [00:05<00:00, 180.05it/s]"
     ]
    },
    {
     "name": "stdout",
     "output_type": "stream",
     "text": [
      "Obtained 1042 timeserieses Missing 0\n"
     ]
    },
    {
     "name": "stderr",
     "output_type": "stream",
     "text": [
      "\n"
     ]
    }
   ],
   "source": [
    "date_string = \"2024-03-13\"\n",
    "metadata_lists:metadataLists = metadataLists(date_string=date_string) # all metadata objects from files\n",
    "metadata_lists.list_into_dicts()\n",
    "uniswap_metadata_df = price_change_data_to_dataframe(metadata_lists.uniswap_coins) # all pd time seriese\n",
    "uniswap_time_series,missing_time_series = get_df_timeserieses(metadata_lists) # get time serieses df"
   ]
  },
  {
   "cell_type": "code",
   "execution_count": 3,
   "metadata": {},
   "outputs": [
    {
     "data": {
      "text/plain": [
       "Index(['sentiment_votes_up_percentage', 'watchlist_portfolio_users',\n",
       "       'market_cap_rank', 'price_change_percentage_24h',\n",
       "       'price_change_percentage_7d', 'price_change_percentage_14d',\n",
       "       'price_change_percentage_30d', 'price_change_percentage_60d',\n",
       "       'price_change_percentage_200d', 'price_change_percentage_1y',\n",
       "       'price_change_percentage_1h_in_currency',\n",
       "       'price_change_percentage_24h_in_currency',\n",
       "       'price_change_percentage_7d_in_currency',\n",
       "       'price_change_percentage_14d_in_currency',\n",
       "       'price_change_percentage_30d_in_currency',\n",
       "       'price_change_percentage_60d_in_currency',\n",
       "       'price_change_percentage_200d_in_currency',\n",
       "       'price_change_percentage_1y_in_currency', 'current_price',\n",
       "       'total_value_locked', 'mcap_to_tvl_ratio', 'market_cap', 'uniswap',\n",
       "       'id', 'contract', 'name', 'symbol'],\n",
       "      dtype='object')"
      ]
     },
     "execution_count": 3,
     "metadata": {},
     "output_type": "execute_result"
    }
   ],
   "source": [
    "uniswap_metadata_df.columns"
   ]
  },
  {
   "cell_type": "code",
   "execution_count": 4,
   "metadata": {},
   "outputs": [
    {
     "data": {
      "text/html": [
       "<div>\n",
       "<style scoped>\n",
       "    .dataframe tbody tr th:only-of-type {\n",
       "        vertical-align: middle;\n",
       "    }\n",
       "\n",
       "    .dataframe tbody tr th {\n",
       "        vertical-align: top;\n",
       "    }\n",
       "\n",
       "    .dataframe thead th {\n",
       "        text-align: right;\n",
       "    }\n",
       "</style>\n",
       "<table border=\"1\" class=\"dataframe\">\n",
       "  <thead>\n",
       "    <tr style=\"text-align: right;\">\n",
       "      <th></th>\n",
       "      <th>market_cap_rank</th>\n",
       "      <th>current_price</th>\n",
       "      <th>market_cap</th>\n",
       "      <th>id</th>\n",
       "      <th>symbol</th>\n",
       "    </tr>\n",
       "  </thead>\n",
       "  <tbody>\n",
       "    <tr>\n",
       "      <th>68</th>\n",
       "      <td>6.0</td>\n",
       "      <td>4047.280000</td>\n",
       "      <td>3.991446e+10</td>\n",
       "      <td>staked-ether</td>\n",
       "      <td>steth</td>\n",
       "    </tr>\n",
       "    <tr>\n",
       "      <th>69</th>\n",
       "      <td>12.0</td>\n",
       "      <td>0.000032</td>\n",
       "      <td>1.910369e+10</td>\n",
       "      <td>shiba-inu</td>\n",
       "      <td>shib</td>\n",
       "    </tr>\n",
       "    <tr>\n",
       "      <th>132</th>\n",
       "      <td>13.0</td>\n",
       "      <td>4.520000</td>\n",
       "      <td>1.558096e+10</td>\n",
       "      <td>the-open-network</td>\n",
       "      <td>ton</td>\n",
       "    </tr>\n",
       "    <tr>\n",
       "      <th>70</th>\n",
       "      <td>16.0</td>\n",
       "      <td>1.250000</td>\n",
       "      <td>1.157421e+10</td>\n",
       "      <td>matic-network</td>\n",
       "      <td>matic</td>\n",
       "    </tr>\n",
       "    <tr>\n",
       "      <th>71</th>\n",
       "      <td>18.0</td>\n",
       "      <td>73041.000000</td>\n",
       "      <td>1.139798e+10</td>\n",
       "      <td>wrapped-bitcoin</td>\n",
       "      <td>wbtc</td>\n",
       "    </tr>\n",
       "  </tbody>\n",
       "</table>\n",
       "</div>"
      ],
      "text/plain": [
       "     market_cap_rank  current_price    market_cap                id symbol\n",
       "68               6.0    4047.280000  3.991446e+10      staked-ether  steth\n",
       "69              12.0       0.000032  1.910369e+10         shiba-inu   shib\n",
       "132             13.0       4.520000  1.558096e+10  the-open-network    ton\n",
       "70              16.0       1.250000  1.157421e+10     matic-network  matic\n",
       "71              18.0   73041.000000  1.139798e+10   wrapped-bitcoin   wbtc"
      ]
     },
     "execution_count": 4,
     "metadata": {},
     "output_type": "execute_result"
    }
   ],
   "source": [
    "uniswap_metadata_df[[\"market_cap_rank\",\"current_price\",\"market_cap\",\"id\",\"symbol\"]].sort_values(by=\"market_cap\",ascending=False).head()"
   ]
  },
  {
   "cell_type": "code",
   "execution_count": 5,
   "metadata": {},
   "outputs": [
    {
     "data": {
      "text/plain": [
       "<Axes: >"
      ]
     },
     "execution_count": 5,
     "metadata": {},
     "output_type": "execute_result"
    },
    {
     "data": {
      "image/png": "[encoded data removed]",
      "text/plain": [
       "<Figure size 640x480 with 1 Axes>"
      ]
     },
     "metadata": {},
     "output_type": "display_data"
    }
   ],
   "source": [
    "coin_id = \"shiba-inu\"\n",
    "coin_metadata = metadata_lists.uniswap_coins[coin_id]\n",
    "coin_df = uniswap_time_series[coin_id]\n",
    "coin_df[\"prices\"].plot()"
   ]
  },
  {
   "cell_type": "code",
   "execution_count": 6,
   "metadata": {},
   "outputs": [
    {
     "name": "stderr",
     "output_type": "stream",
     "text": [
      "c:\\users\\cesar\\desktop\\projects\\birthdeathportafoliochoice\\codes\\birth-death-portfolio\\src\\bdp\\data\\crypto\\coingecko\\timeseries_postprocessing.py:110: FutureWarning: Series.__getitem__ treating keys as positions is deprecated. In a future version, integer keys will always be treated as labels (consistent with DataFrame behavior). To access a value by position, use `ser.iloc[pos]`\n",
      "  elapsed_time = time_series - time_series[0]\n"
     ]
    },
    {
     "data": {
      "text/html": [
       "<div>\n",
       "<style scoped>\n",
       "    .dataframe tbody tr th:only-of-type {\n",
       "        vertical-align: middle;\n",
       "    }\n",
       "\n",
       "    .dataframe tbody tr th {\n",
       "        vertical-align: top;\n",
       "    }\n",
       "\n",
       "    .dataframe thead th {\n",
       "        text-align: right;\n",
       "    }\n",
       "</style>\n",
       "<table border=\"1\" class=\"dataframe\">\n",
       "  <thead>\n",
       "    <tr style=\"text-align: right;\">\n",
       "      <th></th>\n",
       "      <th>prices</th>\n",
       "      <th>market_caps</th>\n",
       "      <th>total_volumes</th>\n",
       "      <th>elapsed_hours</th>\n",
       "    </tr>\n",
       "  </thead>\n",
       "  <tbody>\n",
       "    <tr>\n",
       "      <th>2023-12-14 20:01:08.751</th>\n",
       "      <td>0.00001</td>\n",
       "      <td>5.918816e+09</td>\n",
       "      <td>2.622263e+08</td>\n",
       "      <td>0</td>\n",
       "    </tr>\n",
       "    <tr>\n",
       "      <th>2023-12-14 21:00:44.025</th>\n",
       "      <td>0.00001</td>\n",
       "      <td>5.913041e+09</td>\n",
       "      <td>2.527040e+08</td>\n",
       "      <td>1</td>\n",
       "    </tr>\n",
       "    <tr>\n",
       "      <th>2023-12-14 22:00:31.328</th>\n",
       "      <td>0.00001</td>\n",
       "      <td>5.964829e+09</td>\n",
       "      <td>2.526751e+08</td>\n",
       "      <td>2</td>\n",
       "    </tr>\n",
       "    <tr>\n",
       "      <th>2023-12-14 23:01:12.325</th>\n",
       "      <td>0.00001</td>\n",
       "      <td>5.953687e+09</td>\n",
       "      <td>2.481550e+08</td>\n",
       "      <td>4</td>\n",
       "    </tr>\n",
       "    <tr>\n",
       "      <th>2023-12-15 00:00:38.592</th>\n",
       "      <td>0.00001</td>\n",
       "      <td>5.930586e+09</td>\n",
       "      <td>2.484255e+08</td>\n",
       "      <td>4</td>\n",
       "    </tr>\n",
       "  </tbody>\n",
       "</table>\n",
       "</div>"
      ],
      "text/plain": [
       "                          prices   market_caps  total_volumes  elapsed_hours\n",
       "2023-12-14 20:01:08.751  0.00001  5.918816e+09   2.622263e+08              0\n",
       "2023-12-14 21:00:44.025  0.00001  5.913041e+09   2.527040e+08              1\n",
       "2023-12-14 22:00:31.328  0.00001  5.964829e+09   2.526751e+08              2\n",
       "2023-12-14 23:01:12.325  0.00001  5.953687e+09   2.481550e+08              4\n",
       "2023-12-15 00:00:38.592  0.00001  5.930586e+09   2.484255e+08              4"
      ]
     },
     "execution_count": 6,
     "metadata": {},
     "output_type": "execute_result"
    }
   ],
   "source": [
    "tsmd  = preprocess_dataframe(coin_df,coin_metadata)\n",
    "tsmd.ts.head()"
   ]
  },
  {
   "cell_type": "code",
   "execution_count": 8,
   "metadata": {},
   "outputs": [
    {
     "data": {
      "text/plain": [
       "<Axes: >"
      ]
     },
     "execution_count": 8,
     "metadata": {},
     "output_type": "execute_result"
    },
    {
     "data": {
      "image/png": "[encoded data removed]",
      "text/plain": [
       "<Figure size 640x480 with 1 Axes>"
      ]
     },
     "metadata": {},
     "output_type": "display_data"
    }
   ],
   "source": [
    "tsmd.past_body[\"prices\"].plot()\n",
    "tsmd.prediction_head[\"prices\"].plot()"
   ]
  },
  {
   "cell_type": "code",
   "execution_count": null,
   "metadata": {},
   "outputs": [],
   "source": []
  },
  {
   "cell_type": "code",
   "execution_count": null,
   "metadata": {},
   "outputs": [],
   "source": []
  },
  {
   "cell_type": "code",
   "execution_count": null,
   "metadata": {},
   "outputs": [],
   "source": []
  }
 ],
 "metadata": {
  "kernelspec": {
   "display_name": "neural_spectral_sde",
   "language": "python",
   "name": "python3"
  },
  "language_info": {
   "codemirror_mode": {
    "name": "ipython",
    "version": 3
   },
   "file_extension": ".py",
   "mimetype": "text/x-python",
   "name": "python",
   "nbconvert_exporter": "python",
   "pygments_lexer": "ipython3",
   "version": "3.10.9"
  }
 },
 "nbformat": 4,
 "nbformat_minor": 2
}
